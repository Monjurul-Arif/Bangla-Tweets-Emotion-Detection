{
 "cells": [
  {
   "cell_type": "markdown",
   "metadata": {},
   "source": [
    "# Project: Sentiment Analysis on Bengali Book Reviews\n",
    "\n",
    "In this project we will classify the sentiment of a review either it is positive or negative. To do this, we have created a dataset of $1000$ bengali book reviews. In this dataset  $528$ reviews are annotated as Positive Sentiment and another $472$ reviews as negative sentiment. All the Reviews are collected from different online book shops and then manually annotated by two native bengali speaker.  \n",
    "Here, Negative Reviews are labled as 0 and Positive reviews as 1.\n",
    "\n",
    "**Project Includes:**\n",
    "\n",
    "-   Preprocessing \n",
    "-   Exploratory Analysis\n",
    "-   Feature Extraction using TF-IDF for N-gram\n",
    "-   Machine Learning Model Development\n",
    "-   Evaluation Measure \n",
    "-   Saved the Final Model\n",
    "-   Model Deployment"
   ]
  },
  {
   "cell_type": "markdown",
   "metadata": {},
   "source": [
    "## Import Libraries"
   ]
  },
  {
   "cell_type": "code",
   "execution_count": 424,
   "metadata": {},
   "outputs": [],
   "source": [
    "import numpy as np\n",
    "import pandas as pd\n",
    "import matplotlib.pyplot as plt\n",
    "%matplotlib inline\n",
    "import seaborn as sns\n",
    "import re,json,nltk\n",
    "from sklearn.preprocessing import LabelEncoder\n",
    "from sklearn.feature_extraction.text import TfidfVectorizer\n",
    "from sklearn.feature_extraction.text import TfidfTransformer\n",
    "from sklearn.model_selection import train_test_split\n",
    "from sklearn.metrics import classification_report,accuracy_score,precision_score,recall_score,f1_score\n",
    "stopwords_list ='D:\\\\CSE 497\\\\Bengali-Book-Reviews-master\\\\Dataset and Notebook\\\\book_stopwords.txt'"
   ]
  },
  {
   "cell_type": "markdown",
   "metadata": {},
   "source": [
    "## Importing the Dataset"
   ]
  },
  {
   "cell_type": "code",
   "execution_count": 425,
   "metadata": {},
   "outputs": [],
   "source": [
    "# Read the data and take only 1000 Reviews\n",
    "#data = pd.read_excel('D:\\\\CSE 497\\\\Bengali-Book-Reviews-master\\\\Dataset and Notebook\\\\bookReviews_2000.xlsx', 'rU', encoding='windows-1252')\n",
    "#data = pd.read_excel('D:\\\\CSE 497\\\\Bengali-Book-Reviews-master\\\\Dataset and Notebook\\\\bookReviews_2000.xlsx', 'rU', encoding='iso-8859-1')\n",
    "data = pd.read_excel('D:\\\\CSE 497\\\\Bengali-Book-Reviews-master\\\\Dataset and Notebook\\\\bookReviews_2000.xlsx', )#,encoding='iso-8859-1')\n",
    "\n",
    "#data = pd.read_csv('D:\\CSE 497\\Bengali-Book-Reviews-master\\Dataset and Notebook\\bookReviews_2000.csv')\n",
    "#data = pd.read_csv('D:\\\\CSE 497\\Bengali-Book-Reviews-master\\\\Dataset and Notebook\\\\bookReviews_2000.csv')\n"
   ]
  },
  {
   "cell_type": "code",
   "execution_count": null,
   "metadata": {},
   "outputs": [],
   "source": []
  },
  {
   "cell_type": "code",
   "execution_count": 426,
   "metadata": {},
   "outputs": [
    {
     "data": {
      "text/html": [
       "<div>\n",
       "<style scoped>\n",
       "    .dataframe tbody tr th:only-of-type {\n",
       "        vertical-align: middle;\n",
       "    }\n",
       "\n",
       "    .dataframe tbody tr th {\n",
       "        vertical-align: top;\n",
       "    }\n",
       "\n",
       "    .dataframe thead th {\n",
       "        text-align: right;\n",
       "    }\n",
       "</style>\n",
       "<table border=\"1\" class=\"dataframe\">\n",
       "  <thead>\n",
       "    <tr style=\"text-align: right;\">\n",
       "      <th></th>\n",
       "      <th>Unnamed: 0</th>\n",
       "      <th>Review</th>\n",
       "      <th>Sentiment</th>\n",
       "    </tr>\n",
       "  </thead>\n",
       "  <tbody>\n",
       "    <tr>\n",
       "      <th>0</th>\n",
       "      <td>0.0</td>\n",
       "      <td>বই টি আমার সংগ্রহে আছে এবং তা আমি পড়েছি। বই টি...</td>\n",
       "      <td>0.0</td>\n",
       "    </tr>\n",
       "    <tr>\n",
       "      <th>1</th>\n",
       "      <td>1.0</td>\n",
       "      <td>ফালতু বই। শুধু শুধু টাকা নষ্ট।</td>\n",
       "      <td>0.0</td>\n",
       "    </tr>\n",
       "    <tr>\n",
       "      <th>2</th>\n",
       "      <td>2.0</td>\n",
       "      <td>একটু পড়ে দেখতে বলসিলো, একটু পড়লাম। তারপর হড়হড় ...</td>\n",
       "      <td>0.0</td>\n",
       "    </tr>\n",
       "    <tr>\n",
       "      <th>3</th>\n",
       "      <td>3.0</td>\n",
       "      <td>এটা কোন বই? ছিঃ ধিকার জানায়। প্রশাসনের নজর দেয়...</td>\n",
       "      <td>0.0</td>\n",
       "    </tr>\n",
       "    <tr>\n",
       "      <th>4</th>\n",
       "      <td>4.0</td>\n",
       "      <td>প্রিয় রকমারি.কম, দয়া করে বইটি আপনাদের ওয়েবসাইট...</td>\n",
       "      <td>0.0</td>\n",
       "    </tr>\n",
       "    <tr>\n",
       "      <th>...</th>\n",
       "      <td>...</td>\n",
       "      <td>...</td>\n",
       "      <td>...</td>\n",
       "    </tr>\n",
       "    <tr>\n",
       "      <th>2006</th>\n",
       "      <td>2006.0</td>\n",
       "      <td>1 স্টার দেওয়াও বৃথা। মানে ভিডিও বানাইয়া আজকে ...</td>\n",
       "      <td>0.0</td>\n",
       "    </tr>\n",
       "    <tr>\n",
       "      <th>2007</th>\n",
       "      <td>2007.0</td>\n",
       "      <td>তাদের কথা শুনলে মনে হয় তারা এই মনে হয় আশে পাশে...</td>\n",
       "      <td>0.0</td>\n",
       "    </tr>\n",
       "    <tr>\n",
       "      <th>2008</th>\n",
       "      <td>2008.0</td>\n",
       "      <td>এইরকম বই পড়ার চাইতে মুড়ি কিন্না খাওয়াও ভালো। ...</td>\n",
       "      <td>0.0</td>\n",
       "    </tr>\n",
       "    <tr>\n",
       "      <th>2009</th>\n",
       "      <td>2009.0</td>\n",
       "      <td>বোগাস বই। টাকা নষ্ট।\\n                       ...</td>\n",
       "      <td>0.0</td>\n",
       "    </tr>\n",
       "    <tr>\n",
       "      <th>2010</th>\n",
       "      <td>2010.0</td>\n",
       "      <td>বইটি ভালো না। শুধু কিনে টাকা নষ্ট করা ছাড়া আর ...</td>\n",
       "      <td>0.0</td>\n",
       "    </tr>\n",
       "  </tbody>\n",
       "</table>\n",
       "<p>2011 rows × 3 columns</p>\n",
       "</div>"
      ],
      "text/plain": [
       "      Unnamed: 0                                             Review  Sentiment\n",
       "0            0.0  বই টি আমার সংগ্রহে আছে এবং তা আমি পড়েছি। বই টি...        0.0\n",
       "1            1.0                     ফালতু বই। শুধু শুধু টাকা নষ্ট।        0.0\n",
       "2            2.0  একটু পড়ে দেখতে বলসিলো, একটু পড়লাম। তারপর হড়হড় ...        0.0\n",
       "3            3.0  এটা কোন বই? ছিঃ ধিকার জানায়। প্রশাসনের নজর দেয়...        0.0\n",
       "4            4.0  প্রিয় রকমারি.কম, দয়া করে বইটি আপনাদের ওয়েবসাইট...        0.0\n",
       "...          ...                                                ...        ...\n",
       "2006      2006.0   1 স্টার দেওয়াও বৃথা। মানে ভিডিও বানাইয়া আজকে ...        0.0\n",
       "2007      2007.0  তাদের কথা শুনলে মনে হয় তারা এই মনে হয় আশে পাশে...        0.0\n",
       "2008      2008.0   এইরকম বই পড়ার চাইতে মুড়ি কিন্না খাওয়াও ভালো। ...        0.0\n",
       "2009      2009.0   বোগাস বই। টাকা নষ্ট।\\n                       ...        0.0\n",
       "2010      2010.0  বইটি ভালো না। শুধু কিনে টাকা নষ্ট করা ছাড়া আর ...        0.0\n",
       "\n",
       "[2011 rows x 3 columns]"
      ]
     },
     "execution_count": 426,
     "metadata": {},
     "output_type": "execute_result"
    }
   ],
   "source": [
    "data"
   ]
  },
  {
   "cell_type": "code",
   "execution_count": 427,
   "metadata": {},
   "outputs": [],
   "source": [
    "del data['Unnamed: 0']"
   ]
  },
  {
   "cell_type": "code",
   "execution_count": 428,
   "metadata": {},
   "outputs": [
    {
     "data": {
      "text/html": [
       "<div>\n",
       "<style scoped>\n",
       "    .dataframe tbody tr th:only-of-type {\n",
       "        vertical-align: middle;\n",
       "    }\n",
       "\n",
       "    .dataframe tbody tr th {\n",
       "        vertical-align: top;\n",
       "    }\n",
       "\n",
       "    .dataframe thead th {\n",
       "        text-align: right;\n",
       "    }\n",
       "</style>\n",
       "<table border=\"1\" class=\"dataframe\">\n",
       "  <thead>\n",
       "    <tr style=\"text-align: right;\">\n",
       "      <th></th>\n",
       "      <th>Review</th>\n",
       "      <th>Sentiment</th>\n",
       "    </tr>\n",
       "  </thead>\n",
       "  <tbody>\n",
       "    <tr>\n",
       "      <th>1380</th>\n",
       "      <td>অনেক জানার একটি বই।</td>\n",
       "      <td>1.0</td>\n",
       "    </tr>\n",
       "    <tr>\n",
       "      <th>711</th>\n",
       "      <td>ছোট ছোট গল্প দিয়ে যে জাপানকে এত সুন্দর করে উপস...</td>\n",
       "      <td>1.0</td>\n",
       "    </tr>\n",
       "    <tr>\n",
       "      <th>659</th>\n",
       "      <td>এটা খুব চমৎকার বই</td>\n",
       "      <td>1.0</td>\n",
       "    </tr>\n",
       "    <tr>\n",
       "      <th>929</th>\n",
       "      <td>বইটি মোটিভেশনাল প্লাস বাস্তববাদী বই হিসেবে আমা...</td>\n",
       "      <td>1.0</td>\n",
       "    </tr>\n",
       "    <tr>\n",
       "      <th>321</th>\n",
       "      <td>হতাশ হইলাম! গল্পের নামের সাথে অমিল বেশি চোখে পড়ে!</td>\n",
       "      <td>0.0</td>\n",
       "    </tr>\n",
       "    <tr>\n",
       "      <th>977</th>\n",
       "      <td>সত্যিই অসাধারণ!!! এই ধরনের কাজ প্রিয় লেখকের কা...</td>\n",
       "      <td>1.0</td>\n",
       "    </tr>\n",
       "    <tr>\n",
       "      <th>1027</th>\n",
       "      <td>হলিউড মুভির কল্যাণে 'সায়েন্স ফিকশন' শুনলেই চোখ...</td>\n",
       "      <td>1.0</td>\n",
       "    </tr>\n",
       "    <tr>\n",
       "      <th>963</th>\n",
       "      <td>অসাধারণ এবং আলাদা টাইপ এর বই ।</td>\n",
       "      <td>1.0</td>\n",
       "    </tr>\n",
       "    <tr>\n",
       "      <th>557</th>\n",
       "      <td>উপন্যাসটির শুরু এবং শেষটা ছিল এক কথায় অসাধারণ!...</td>\n",
       "      <td>1.0</td>\n",
       "    </tr>\n",
       "    <tr>\n",
       "      <th>1379</th>\n",
       "      <td>বরাবরের মতোই ভালো লেগেছে শাহরিয়ার সাহেবের এই বইটি</td>\n",
       "      <td>1.0</td>\n",
       "    </tr>\n",
       "  </tbody>\n",
       "</table>\n",
       "</div>"
      ],
      "text/plain": [
       "                                                 Review  Sentiment\n",
       "1380                                অনেক জানার একটি বই।        1.0\n",
       "711   ছোট ছোট গল্প দিয়ে যে জাপানকে এত সুন্দর করে উপস...        1.0\n",
       "659                                   এটা খুব চমৎকার বই        1.0\n",
       "929   বইটি মোটিভেশনাল প্লাস বাস্তববাদী বই হিসেবে আমা...        1.0\n",
       "321   হতাশ হইলাম! গল্পের নামের সাথে অমিল বেশি চোখে পড়ে!        0.0\n",
       "977   সত্যিই অসাধারণ!!! এই ধরনের কাজ প্রিয় লেখকের কা...        1.0\n",
       "1027  হলিউড মুভির কল্যাণে 'সায়েন্স ফিকশন' শুনলেই চোখ...        1.0\n",
       "963                      অসাধারণ এবং আলাদা টাইপ এর বই ।        1.0\n",
       "557   উপন্যাসটির শুরু এবং শেষটা ছিল এক কথায় অসাধারণ!...        1.0\n",
       "1379  বরাবরের মতোই ভালো লেগেছে শাহরিয়ার সাহেবের এই বইটি        1.0"
      ]
     },
     "execution_count": 428,
     "metadata": {},
     "output_type": "execute_result"
    }
   ],
   "source": [
    "data.sample(10)"
   ]
  },
  {
   "cell_type": "code",
   "execution_count": 429,
   "metadata": {},
   "outputs": [
    {
     "name": "stdout",
     "output_type": "stream",
     "text": [
      "Total Reviews: 2011 \n",
      "Total Positive Reviews: 982 \n",
      "Total Negative Reviews: 1029\n"
     ]
    }
   ],
   "source": [
    "data.Sentiment = data.Sentiment.replace({1:'Positive',0:'Negative'})\n",
    "print(\"Total Reviews:\",len(data),\n",
    "      \"\\nTotal Positive Reviews:\",len(data[data.Sentiment =='Positive']),\n",
    "      \"\\nTotal Negative Reviews:\",len(data[data.Sentiment=='Negative']))"
   ]
  },
  {
   "cell_type": "code",
   "execution_count": 430,
   "metadata": {},
   "outputs": [
    {
     "name": "stdout",
     "output_type": "stream",
     "text": [
      "Review       object\n",
      "Sentiment    object\n",
      "dtype: object\n"
     ]
    }
   ],
   "source": [
    "print(data.dtypes)"
   ]
  },
  {
   "cell_type": "code",
   "execution_count": 431,
   "metadata": {},
   "outputs": [
    {
     "data": {
      "text/html": [
       "<div>\n",
       "<style scoped>\n",
       "    .dataframe tbody tr th:only-of-type {\n",
       "        vertical-align: middle;\n",
       "    }\n",
       "\n",
       "    .dataframe tbody tr th {\n",
       "        vertical-align: top;\n",
       "    }\n",
       "\n",
       "    .dataframe thead th {\n",
       "        text-align: right;\n",
       "    }\n",
       "</style>\n",
       "<table border=\"1\" class=\"dataframe\">\n",
       "  <thead>\n",
       "    <tr style=\"text-align: right;\">\n",
       "      <th></th>\n",
       "      <th>Review</th>\n",
       "      <th>Sentiment</th>\n",
       "    </tr>\n",
       "  </thead>\n",
       "  <tbody>\n",
       "    <tr>\n",
       "      <th>0</th>\n",
       "      <td>বই টি আমার সংগ্রহে আছে এবং তা আমি পড়েছি। বই টি...</td>\n",
       "      <td>Negative</td>\n",
       "    </tr>\n",
       "    <tr>\n",
       "      <th>1</th>\n",
       "      <td>ফালতু বই। শুধু শুধু টাকা নষ্ট।</td>\n",
       "      <td>Negative</td>\n",
       "    </tr>\n",
       "    <tr>\n",
       "      <th>2</th>\n",
       "      <td>একটু পড়ে দেখতে বলসিলো, একটু পড়লাম। তারপর হড়হড় ...</td>\n",
       "      <td>Negative</td>\n",
       "    </tr>\n",
       "    <tr>\n",
       "      <th>3</th>\n",
       "      <td>এটা কোন বই? ছিঃ ধিকার জানায়। প্রশাসনের নজর দেয়...</td>\n",
       "      <td>Negative</td>\n",
       "    </tr>\n",
       "    <tr>\n",
       "      <th>4</th>\n",
       "      <td>প্রিয় রকমারি.কম, দয়া করে বইটি আপনাদের ওয়েবসাইট...</td>\n",
       "      <td>Negative</td>\n",
       "    </tr>\n",
       "    <tr>\n",
       "      <th>...</th>\n",
       "      <td>...</td>\n",
       "      <td>...</td>\n",
       "    </tr>\n",
       "    <tr>\n",
       "      <th>2006</th>\n",
       "      <td>1 স্টার দেওয়াও বৃথা। মানে ভিডিও বানাইয়া আজকে ...</td>\n",
       "      <td>Negative</td>\n",
       "    </tr>\n",
       "    <tr>\n",
       "      <th>2007</th>\n",
       "      <td>তাদের কথা শুনলে মনে হয় তারা এই মনে হয় আশে পাশে...</td>\n",
       "      <td>Negative</td>\n",
       "    </tr>\n",
       "    <tr>\n",
       "      <th>2008</th>\n",
       "      <td>এইরকম বই পড়ার চাইতে মুড়ি কিন্না খাওয়াও ভালো। ...</td>\n",
       "      <td>Negative</td>\n",
       "    </tr>\n",
       "    <tr>\n",
       "      <th>2009</th>\n",
       "      <td>বোগাস বই। টাকা নষ্ট।\\n                       ...</td>\n",
       "      <td>Negative</td>\n",
       "    </tr>\n",
       "    <tr>\n",
       "      <th>2010</th>\n",
       "      <td>বইটি ভালো না। শুধু কিনে টাকা নষ্ট করা ছাড়া আর ...</td>\n",
       "      <td>Negative</td>\n",
       "    </tr>\n",
       "  </tbody>\n",
       "</table>\n",
       "<p>2011 rows × 2 columns</p>\n",
       "</div>"
      ],
      "text/plain": [
       "                                                 Review Sentiment\n",
       "0     বই টি আমার সংগ্রহে আছে এবং তা আমি পড়েছি। বই টি...  Negative\n",
       "1                        ফালতু বই। শুধু শুধু টাকা নষ্ট।  Negative\n",
       "2     একটু পড়ে দেখতে বলসিলো, একটু পড়লাম। তারপর হড়হড় ...  Negative\n",
       "3     এটা কোন বই? ছিঃ ধিকার জানায়। প্রশাসনের নজর দেয়...  Negative\n",
       "4     প্রিয় রকমারি.কম, দয়া করে বইটি আপনাদের ওয়েবসাইট...  Negative\n",
       "...                                                 ...       ...\n",
       "2006   1 স্টার দেওয়াও বৃথা। মানে ভিডিও বানাইয়া আজকে ...  Negative\n",
       "2007  তাদের কথা শুনলে মনে হয় তারা এই মনে হয় আশে পাশে...  Negative\n",
       "2008   এইরকম বই পড়ার চাইতে মুড়ি কিন্না খাওয়াও ভালো। ...  Negative\n",
       "2009   বোগাস বই। টাকা নষ্ট।\\n                       ...  Negative\n",
       "2010  বইটি ভালো না। শুধু কিনে টাকা নষ্ট করা ছাড়া আর ...  Negative\n",
       "\n",
       "[2011 rows x 2 columns]"
      ]
     },
     "execution_count": 431,
     "metadata": {},
     "output_type": "execute_result"
    }
   ],
   "source": [
    "data"
   ]
  },
  {
   "cell_type": "code",
   "execution_count": null,
   "metadata": {},
   "outputs": [],
   "source": []
  },
  {
   "cell_type": "code",
   "execution_count": 432,
   "metadata": {},
   "outputs": [
    {
     "name": "stdout",
     "output_type": "stream",
     "text": [
      "দয়া করে কোনো বাঙালি বইটি কিনবেন না। দেশকে ভালবাসলে ভাষাকে ভালবাসলে বইটিকে বর্জন করুন। \n",
      " Sentiment:--  Negative \n",
      "\n",
      "অনুবাদ এর মান আরো ভালো করা উচিত ছিল।😔 \n",
      " Sentiment:--  Negative \n",
      "\n",
      "ফালতু লুতুপুতু প্রেমকাহিনী \n",
      " Sentiment:--  Negative \n",
      "\n",
      "পড়তেই কষ্ট হয় \n",
      " Sentiment:--  Negative \n",
      "\n",
      "শংকরের বিখ্যাত এই বইটা অবশেষে শেষ করলাম । বেশ দীর্ঘ সময় নিয়ে পড়ে শেষ করতে হয়েছে এটা । আমার কাছে মনে হয়েছে উপন্যাসের শুরুতে লেখক যেরকম আগ্রহ ধরে রাখতে পেরেছেন পরবর্তীতে আর তেমনটা পারেন নি। পুরো বই জুড়ে লেখক সেই একই শাহজাহান হোটেলের বর্ননা দিয়ে যাচ্ছেন তো যাচ্ছেন ই । মাঝে মাঝে মনে হয়েছে বইটা একটা আবাসিক শান শওকত ওয়ালা হোটেলে কর্মরত কোন এক কর্মচারীর ডায়রী। পুরো বইতে লেখক শাহজাহান হোটেলের নাম নিয়েই গেছেন অথচ এই \"শাহজাহান\" বানানটাই ইচ্ছে করে বার বার শাজাহান লেখেছেন, যেটা কলকাতা কেন্দ্রীক বুদ্ধিজীবী দের স্বভাব বলুন আর নষ্টামি ই বলুন, এছাড়া আর কিছু নয় ।  \n",
      " Sentiment:--  Negative \n",
      "\n",
      "এটা কোনো সাইন্স ফিকশন না, পুরাই হতাশ। \n",
      " Sentiment:--  Negative \n",
      "\n",
      "সত্য মিথ্যার বেড়াজালে এক চমৎকার কাজ। অনেকাংশেই তথ্য বিকৃতিতে ভরপুর, উপন্যাসের শেষ দিকে একজন সামরিক স্বৈরশাসকের গুণগান যা তাদের রাজনৈতিক দলের স্লোগানে ব্যবহৃত হয়, তাকেই হুবুহু তুলে দেওয়া হয়েছে। এই উপন্যাসকে যদি ইতিহাসের দালিলিক প্রমাণ হিসেবে উপস্থাপন করা হয়, তবে ইতিহাসকেই অপমান করা হবে। \n",
      " Sentiment:--  Negative \n",
      "\n",
      "বিরক্তিকর থ্রিলার \n",
      " Sentiment:--  Negative \n",
      "\n",
      "মনে যা আসে তাই টাইপ লেখা। অতি নিম্ন শ্রেণির বুদ্ধিমত্তার পাঠকদের জন্য বেশ চমৎকার একটি বই। তবু গল্পের লেখক যেহেতু হুমায়ূন আহমেদ, তাই এক বৈঠকেই পড়ে ফেলা যায়। আর গল্পে তেমন কোন অ্যাডাল্ট কনটেন্ট নেই, তাই বাচ্চাদের পড়ে শোনানো যেতে পারে। একটা নির্দিষ্ট সময় পর লেখার মান ধরে রাখা সম্ভব হয় না, এটা ইদানিং বেশ ভালোভাবেই বুঝতে পারছি। কারণ নক্ষত্রেরও মরে যেতে হয়। বইয়ের একটা জায়গায় বলা হয়েছে, পদার্থের মোট অবস্থার সংখ্যা ছয়। ইন্টারনেট ঘেটে জানতে পারলাম, মৌলিক অবস্থা চারটি-- কঠিন, তরল, বায়বীয় এবং প্লাজমা। বোস-আইনস্টাইন কনডেনসেশন এবং ফারমিওন ফিউশন নামে যে দুটি অবস্থার কথা এখানে বলা হয়েছে সেগুলো পদার্থের অন্যান্য কমপ্লেক্স স্টেট। এই দুইটি কমপ্লেক্স স্টেট ছাড়াও আরো বেশ কয়েকটি কমপ্লেক্স স্টেট আছে। \n",
      " Sentiment:--  Negative \n",
      "\n",
      "👌👌👌👌 প্যারাসিটামল। জাস্ট লাভ ইট \n",
      " Sentiment:--  Positive \n",
      "\n",
      "বইটা অনেক ভাল \n",
      " Sentiment:--  Positive \n",
      "\n",
      "বেস্ট জাভা শিখার বই। সিরিয়াসলি!! প্রত্যেকটি বিষয় ছোট থেকে বড় সবকিছুই পানির মত সোজা করে বুঝানো হয়েছে । সত্যি বলতে জাভা যে এতো আনন্দের মধ্যে শিখব তা ভাবতেও পারি নাই । আগে অনেকবার জাভা শিখার কথা ভাবলেও উলোট পালোট করে আগোছালো বই পড়ে কঠিন মনে করে সরে এসেছি। এই বইটা কিনে আলহামদুলিল্লাহ্‌ সম্পূর্ণ টাকা উসুল হইসে। ধন্যবাদ ভাই এমন একটি বই লিখার জন্য। \n",
      " Sentiment:--  Positive \n",
      "\n",
      "বাংলা লেখার নিয়মনীতির উপর অত্যন্ত প্রাঞ্জল উপাস্থাপনায় লেখা একটি বই। সুখপাঠ্যও বটে। \n",
      " Sentiment:--  Positive \n",
      "\n",
      "এটি বেশ ভালো বই,সব পরিবারে এই বইটি থাকা প্রয়োজনীয় \n",
      " Sentiment:--  Positive \n",
      "\n",
      "অসাধারন একটা বই। আমার জীবনে পড়া বেস্ট বই। এই একটা মাত্র বই পড়ে আমি ড্যান ব্রেউনের ভক্ত হয়ে গেছি \n",
      " Sentiment:--  Positive \n",
      "\n"
     ]
    }
   ],
   "source": [
    "# print some unprocessed reviews\n",
    "sample_data = [10,100,150,200,250,300,350,400,450,500,600,650,700,750,800]\n",
    "for i in sample_data:\n",
    "      print(data.Review[i],'\\n','Sentiment:-- ',data.Sentiment[i],'\\n')  "
   ]
  },
  {
   "cell_type": "markdown",
   "metadata": {},
   "source": [
    "## Data Processing \n",
    "This step includes removal of punctuation mark, numbers, emoji and stopwords from the reviews. We have used a helper functions for cleaning the corpus.\n",
    " "
   ]
  },
  {
   "cell_type": "code",
   "execution_count": 433,
   "metadata": {},
   "outputs": [],
   "source": [
    "from utils import cleaned_reviews,stopwords_info,stopword_removal,process_reviews"
   ]
  },
  {
   "cell_type": "code",
   "execution_count": 434,
   "metadata": {},
   "outputs": [
    {
     "name": "stdout",
     "output_type": "stream",
     "text": [
      "Original:\n",
      " দয়া করে কোনো বাঙালি বইটি কিনবেন না। দেশকে ভালবাসলে ভাষাকে ভালবাসলে বইটিকে বর্জন করুন। \n",
      "Cleaned:\n",
      " দয়া কোনো বাঙালি বইটি কিনবেন না দেশকে ভালবাসলে ভাষাকে ভালবাসলে বইটিকে বর্জন করুন \n",
      " Sentiment:--  Negative \n",
      "\n",
      "Original:\n",
      " অনুবাদ এর মান আরো ভালো করা উচিত ছিল।😔 \n",
      "Cleaned:\n",
      " অনুবাদ মান আরো ভালো করা উচিত ছিল \n",
      " Sentiment:--  Negative \n",
      "\n",
      "Original:\n",
      " ফালতু লুতুপুতু প্রেমকাহিনী \n",
      "Cleaned:\n",
      " ফালতু লুতুপুতু প্রেমকাহিনী \n",
      " Sentiment:--  Negative \n",
      "\n",
      "Original:\n",
      " পড়তেই কষ্ট হয় \n",
      "Cleaned:\n",
      " পড়তেই কষ্ট হয় \n",
      " Sentiment:--  Negative \n",
      "\n",
      "Original:\n",
      " শংকরের বিখ্যাত এই বইটা অবশেষে শেষ করলাম । বেশ দীর্ঘ সময় নিয়ে পড়ে শেষ করতে হয়েছে এটা । আমার কাছে মনে হয়েছে উপন্যাসের শুরুতে লেখক যেরকম আগ্রহ ধরে রাখতে পেরেছেন পরবর্তীতে আর তেমনটা পারেন নি। পুরো বই জুড়ে লেখক সেই একই শাহজাহান হোটেলের বর্ননা দিয়ে যাচ্ছেন তো যাচ্ছেন ই । মাঝে মাঝে মনে হয়েছে বইটা একটা আবাসিক শান শওকত ওয়ালা হোটেলে কর্মরত কোন এক কর্মচারীর ডায়রী। পুরো বইতে লেখক শাহজাহান হোটেলের নাম নিয়েই গেছেন অথচ এই \"শাহজাহান\" বানানটাই ইচ্ছে করে বার বার শাজাহান লেখেছেন, যেটা কলকাতা কেন্দ্রীক বুদ্ধিজীবী দের স্বভাব বলুন আর নষ্টামি ই বলুন, এছাড়া আর কিছু নয় ।  \n",
      "Cleaned:\n",
      " শংকরের বিখ্যাত বইটা অবশেষে শেষ করলাম বেশ দীর্ঘ সময় নিয়ে পড়ে শেষ করতে হয়েছে এটা কাছে মনে হয়েছে উপন্যাসের শুরুতে লেখক যেরকম আগ্রহ ধরে রাখতে পেরেছেন পরবর্তীতে তেমনটা পারেন নি পুরো বই জুড়ে লেখক সেই একই শাহজাহান হোটেলের বর্ননা দিয়ে যাচ্ছেন তো যাচ্ছেন ই মাঝে মাঝে মনে হয়েছে বইটা আবাসিক শান শওকত ওয়ালা হোটেলে কর্মরত এক কর্মচারীর ডায়রী পুরো বইতে লেখক শাহজাহান হোটেলের নাম নিয়েই গেছেন অথচ শাহজাহান বানানটাই ইচ্ছে বার বার শাজাহান লেখেছেন যেটা কলকাতা কেন্দ্রীক বুদ্ধিজীবী দের স্বভাব বলুন নষ্টামি ই বলুন এছাড়া কিছু নয় \n",
      " Sentiment:--  Negative \n",
      "\n",
      "Original:\n",
      " এটা কোনো সাইন্স ফিকশন না, পুরাই হতাশ। \n",
      "Cleaned:\n",
      " এটা কোনো সাইন্স ফিকশন না পুরাই হতাশ \n",
      " Sentiment:--  Negative \n",
      "\n",
      "Original:\n",
      " সত্য মিথ্যার বেড়াজালে এক চমৎকার কাজ। অনেকাংশেই তথ্য বিকৃতিতে ভরপুর, উপন্যাসের শেষ দিকে একজন সামরিক স্বৈরশাসকের গুণগান যা তাদের রাজনৈতিক দলের স্লোগানে ব্যবহৃত হয়, তাকেই হুবুহু তুলে দেওয়া হয়েছে। এই উপন্যাসকে যদি ইতিহাসের দালিলিক প্রমাণ হিসেবে উপস্থাপন করা হয়, তবে ইতিহাসকেই অপমান করা হবে। \n",
      "Cleaned:\n",
      " সত্য মিথ্যার বেড়াজালে এক চমৎকার কাজ অনেকাংশেই তথ্য বিকৃতিতে ভরপুর উপন্যাসের শেষ দিকে একজন সামরিক স্বৈরশাসকের গুণগান যা তাদের রাজনৈতিক দলের স্লোগানে ব্যবহৃত হয় তাকেই হুবুহু তুলে দেওয়া হয়েছে উপন্যাসকে যদি ইতিহাসের দালিলিক প্রমাণ হিসেবে উপস্থাপন করা হয় তবে ইতিহাসকেই অপমান করা হবে \n",
      " Sentiment:--  Negative \n",
      "\n",
      "Original:\n",
      " বিরক্তিকর থ্রিলার \n",
      "Cleaned:\n",
      " বিরক্তিকর থ্রিলার \n",
      " Sentiment:--  Negative \n",
      "\n",
      "Original:\n",
      " মনে যা আসে তাই টাইপ লেখা। অতি নিম্ন শ্রেণির বুদ্ধিমত্তার পাঠকদের জন্য বেশ চমৎকার একটি বই। তবু গল্পের লেখক যেহেতু হুমায়ূন আহমেদ, তাই এক বৈঠকেই পড়ে ফেলা যায়। আর গল্পে তেমন কোন অ্যাডাল্ট কনটেন্ট নেই, তাই বাচ্চাদের পড়ে শোনানো যেতে পারে। একটা নির্দিষ্ট সময় পর লেখার মান ধরে রাখা সম্ভব হয় না, এটা ইদানিং বেশ ভালোভাবেই বুঝতে পারছি। কারণ নক্ষত্রেরও মরে যেতে হয়। বইয়ের একটা জায়গায় বলা হয়েছে, পদার্থের মোট অবস্থার সংখ্যা ছয়। ইন্টারনেট ঘেটে জানতে পারলাম, মৌলিক অবস্থা চারটি-- কঠিন, তরল, বায়বীয় এবং প্লাজমা। বোস-আইনস্টাইন কনডেনসেশন এবং ফারমিওন ফিউশন নামে যে দুটি অবস্থার কথা এখানে বলা হয়েছে সেগুলো পদার্থের অন্যান্য কমপ্লেক্স স্টেট। এই দুইটি কমপ্লেক্স স্টেট ছাড়াও আরো বেশ কয়েকটি কমপ্লেক্স স্টেট আছে। \n",
      "Cleaned:\n",
      " মনে যা আসে তাই টাইপ লেখা অতি নিম্ন শ্রেণির বুদ্ধিমত্তার পাঠকদের বেশ চমৎকার বই তবু গল্পের লেখক যেহেতু হুমায়ূন আহমেদ তাই এক বৈঠকেই পড়ে ফেলা যায় গল্পে তেমন অ্যাডাল্ট কনটেন্ট নেই তাই বাচ্চাদের পড়ে শোনানো যেতে পারে নির্দিষ্ট সময় পর লেখার মান ধরে রাখা সম্ভব হয় না এটা ইদানিং বেশ ভালোভাবেই বুঝতে পারছি কারণ নক্ষত্রেরও মরে যেতে হয় বইয়ের জায়গায় বলা হয়েছে পদার্থের মোট অবস্থার সংখ্যা ছয় ইন্টারনেট ঘেটে জানতে পারলাম মৌলিক অবস্থা চারটি কঠিন তরল বায়বীয় প্লাজমা বোস আইনস্টাইন কনডেনসেশন ফারমিওন ফিউশন নামে দুটি অবস্থার কথা এখানে বলা হয়েছে সেগুলো পদার্থের অন্যান্য কমপ্লেক্স স্টেট দুইটি কমপ্লেক্স স্টেট ছাড়াও আরো বেশ কয়েকটি কমপ্লেক্স স্টেট আছে \n",
      " Sentiment:--  Negative \n",
      "\n",
      "Original:\n",
      " 👌👌👌👌 প্যারাসিটামল। জাস্ট লাভ ইট \n",
      "Cleaned:\n",
      " প্যারাসিটামল জাস্ট লাভ ইট \n",
      " Sentiment:--  Positive \n",
      "\n",
      "Original:\n",
      " বইটা অনেক ভাল \n",
      "Cleaned:\n",
      " বইটা অনেক ভাল \n",
      " Sentiment:--  Positive \n",
      "\n",
      "Original:\n",
      " বেস্ট জাভা শিখার বই। সিরিয়াসলি!! প্রত্যেকটি বিষয় ছোট থেকে বড় সবকিছুই পানির মত সোজা করে বুঝানো হয়েছে । সত্যি বলতে জাভা যে এতো আনন্দের মধ্যে শিখব তা ভাবতেও পারি নাই । আগে অনেকবার জাভা শিখার কথা ভাবলেও উলোট পালোট করে আগোছালো বই পড়ে কঠিন মনে করে সরে এসেছি। এই বইটা কিনে আলহামদুলিল্লাহ্‌ সম্পূর্ণ টাকা উসুল হইসে। ধন্যবাদ ভাই এমন একটি বই লিখার জন্য। \n",
      "Cleaned:\n",
      " বেস্ট জাভা শিখার বই সিরিয়াসলি প্রত্যেকটি বিষয় ছোট বড় সবকিছুই পানির মত সোজা বুঝানো হয়েছে সত্যি বলতে জাভা এতো আনন্দের মধ্যে শিখব তা ভাবতেও পারি নাই আগে অনেকবার জাভা শিখার কথা ভাবলেও উলোট পালোট আগোছালো বই পড়ে কঠিন মনে সরে এসেছি বইটা কিনে আলহামদুলিল্লাহ্ সম্পূর্ণ টাকা উসুল হইসে ধন্যবাদ ভাই এমন বই লিখার \n",
      " Sentiment:--  Positive \n",
      "\n",
      "Original:\n",
      " বাংলা লেখার নিয়মনীতির উপর অত্যন্ত প্রাঞ্জল উপাস্থাপনায় লেখা একটি বই। সুখপাঠ্যও বটে। \n",
      "Cleaned:\n",
      " বাংলা লেখার নিয়মনীতির উপর অত্যন্ত প্রাঞ্জল উপাস্থাপনায় লেখা বই সুখপাঠ্যও বটে \n",
      " Sentiment:--  Positive \n",
      "\n",
      "Original:\n",
      " এটি বেশ ভালো বই,সব পরিবারে এই বইটি থাকা প্রয়োজনীয় \n",
      "Cleaned:\n",
      " এটি বেশ ভালো বই সব পরিবারে বইটি থাকা প্রয়োজনীয় \n",
      " Sentiment:--  Positive \n",
      "\n",
      "Original:\n",
      " অসাধারন একটা বই। আমার জীবনে পড়া বেস্ট বই। এই একটা মাত্র বই পড়ে আমি ড্যান ব্রেউনের ভক্ত হয়ে গেছি \n",
      "Cleaned:\n",
      " অসাধারন বই জীবনে পড়া বেস্ট বই মাত্র বই পড়ে ড্যান ব্রেউনের ভক্ত হয়ে গেছি \n",
      " Sentiment:--  Positive \n",
      "\n"
     ]
    }
   ],
   "source": [
    "# Apply the function into the dataframe\n",
    "data['cleaned'] = data['Review'].apply(process_reviews,stopwords = stopwords_list,removing_stopwords = True)  \n",
    "\n",
    "# print some cleaned reviews from the dataset\n",
    "sample_data = [10,100,150,200,250,300,350,400,450,500,600,650,700,750,800]\n",
    "for i in sample_data:\n",
    "      print('Original:\\n',data.Review[i],'\\nCleaned:\\n',data.cleaned[i],'\\n','Sentiment:-- ',data.Sentiment[i],'\\n')   "
   ]
  },
  {
   "cell_type": "code",
   "execution_count": 435,
   "metadata": {},
   "outputs": [
    {
     "data": {
      "text/html": [
       "<div>\n",
       "<style scoped>\n",
       "    .dataframe tbody tr th:only-of-type {\n",
       "        vertical-align: middle;\n",
       "    }\n",
       "\n",
       "    .dataframe tbody tr th {\n",
       "        vertical-align: top;\n",
       "    }\n",
       "\n",
       "    .dataframe thead th {\n",
       "        text-align: right;\n",
       "    }\n",
       "</style>\n",
       "<table border=\"1\" class=\"dataframe\">\n",
       "  <thead>\n",
       "    <tr style=\"text-align: right;\">\n",
       "      <th></th>\n",
       "      <th>Review</th>\n",
       "      <th>Sentiment</th>\n",
       "      <th>cleaned</th>\n",
       "    </tr>\n",
       "  </thead>\n",
       "  <tbody>\n",
       "    <tr>\n",
       "      <th>0</th>\n",
       "      <td>বই টি আমার সংগ্রহে আছে এবং তা আমি পড়েছি। বই টি...</td>\n",
       "      <td>Negative</td>\n",
       "      <td>বই টি সংগ্রহে আছে তা পড়েছি বই টি সম্পর্কে যদি ...</td>\n",
       "    </tr>\n",
       "    <tr>\n",
       "      <th>1</th>\n",
       "      <td>ফালতু বই। শুধু শুধু টাকা নষ্ট।</td>\n",
       "      <td>Negative</td>\n",
       "      <td>ফালতু বই শুধু শুধু টাকা নষ্ট</td>\n",
       "    </tr>\n",
       "    <tr>\n",
       "      <th>2</th>\n",
       "      <td>একটু পড়ে দেখতে বলসিলো, একটু পড়লাম। তারপর হড়হড় ...</td>\n",
       "      <td>Negative</td>\n",
       "      <td>একটু পড়ে দেখতে বলসিলো একটু পড়লাম তারপর হড়হড় বম...</td>\n",
       "    </tr>\n",
       "    <tr>\n",
       "      <th>3</th>\n",
       "      <td>এটা কোন বই? ছিঃ ধিকার জানায়। প্রশাসনের নজর দেয়...</td>\n",
       "      <td>Negative</td>\n",
       "      <td>এটা বই ছিঃ ধিকার জানায় প্রশাসনের নজর দেয়া উচিৎ...</td>\n",
       "    </tr>\n",
       "    <tr>\n",
       "      <th>4</th>\n",
       "      <td>প্রিয় রকমারি.কম, দয়া করে বইটি আপনাদের ওয়েবসাইট...</td>\n",
       "      <td>Negative</td>\n",
       "      <td>প্রিয় রকমারি কম দয়া বইটি আপনাদের ওয়েবসাইট সরিয়...</td>\n",
       "    </tr>\n",
       "    <tr>\n",
       "      <th>...</th>\n",
       "      <td>...</td>\n",
       "      <td>...</td>\n",
       "      <td>...</td>\n",
       "    </tr>\n",
       "    <tr>\n",
       "      <th>2006</th>\n",
       "      <td>1 স্টার দেওয়াও বৃথা। মানে ভিডিও বানাইয়া আজকে ...</td>\n",
       "      <td>Negative</td>\n",
       "      <td>স্টার দেওয়াও বৃথা মানে ভিডিও বানাইয়া আজকে লেখক...</td>\n",
       "    </tr>\n",
       "    <tr>\n",
       "      <th>2007</th>\n",
       "      <td>তাদের কথা শুনলে মনে হয় তারা এই মনে হয় আশে পাশে...</td>\n",
       "      <td>Negative</td>\n",
       "      <td>তাদের কথা শুনলে মনে হয় তারা মনে হয় আশে পাশে তা...</td>\n",
       "    </tr>\n",
       "    <tr>\n",
       "      <th>2008</th>\n",
       "      <td>এইরকম বই পড়ার চাইতে মুড়ি কিন্না খাওয়াও ভালো। ...</td>\n",
       "      <td>Negative</td>\n",
       "      <td>এইরকম বই পড়ার চাইতে মুড়ি কিন্না খাওয়াও ভালো</td>\n",
       "    </tr>\n",
       "    <tr>\n",
       "      <th>2009</th>\n",
       "      <td>বোগাস বই। টাকা নষ্ট।\\n                       ...</td>\n",
       "      <td>Negative</td>\n",
       "      <td>বোগাস বই টাকা নষ্ট</td>\n",
       "    </tr>\n",
       "    <tr>\n",
       "      <th>2010</th>\n",
       "      <td>বইটি ভালো না। শুধু কিনে টাকা নষ্ট করা ছাড়া আর ...</td>\n",
       "      <td>Negative</td>\n",
       "      <td>বইটি ভালো না শুধু কিনে টাকা নষ্ট করা ছাড়া কিছু...</td>\n",
       "    </tr>\n",
       "  </tbody>\n",
       "</table>\n",
       "<p>2011 rows × 3 columns</p>\n",
       "</div>"
      ],
      "text/plain": [
       "                                                 Review Sentiment  \\\n",
       "0     বই টি আমার সংগ্রহে আছে এবং তা আমি পড়েছি। বই টি...  Negative   \n",
       "1                        ফালতু বই। শুধু শুধু টাকা নষ্ট।  Negative   \n",
       "2     একটু পড়ে দেখতে বলসিলো, একটু পড়লাম। তারপর হড়হড় ...  Negative   \n",
       "3     এটা কোন বই? ছিঃ ধিকার জানায়। প্রশাসনের নজর দেয়...  Negative   \n",
       "4     প্রিয় রকমারি.কম, দয়া করে বইটি আপনাদের ওয়েবসাইট...  Negative   \n",
       "...                                                 ...       ...   \n",
       "2006   1 স্টার দেওয়াও বৃথা। মানে ভিডিও বানাইয়া আজকে ...  Negative   \n",
       "2007  তাদের কথা শুনলে মনে হয় তারা এই মনে হয় আশে পাশে...  Negative   \n",
       "2008   এইরকম বই পড়ার চাইতে মুড়ি কিন্না খাওয়াও ভালো। ...  Negative   \n",
       "2009   বোগাস বই। টাকা নষ্ট।\\n                       ...  Negative   \n",
       "2010  বইটি ভালো না। শুধু কিনে টাকা নষ্ট করা ছাড়া আর ...  Negative   \n",
       "\n",
       "                                                cleaned  \n",
       "0     বই টি সংগ্রহে আছে তা পড়েছি বই টি সম্পর্কে যদি ...  \n",
       "1                          ফালতু বই শুধু শুধু টাকা নষ্ট  \n",
       "2     একটু পড়ে দেখতে বলসিলো একটু পড়লাম তারপর হড়হড় বম...  \n",
       "3     এটা বই ছিঃ ধিকার জানায় প্রশাসনের নজর দেয়া উচিৎ...  \n",
       "4     প্রিয় রকমারি কম দয়া বইটি আপনাদের ওয়েবসাইট সরিয়...  \n",
       "...                                                 ...  \n",
       "2006  স্টার দেওয়াও বৃথা মানে ভিডিও বানাইয়া আজকে লেখক...  \n",
       "2007  তাদের কথা শুনলে মনে হয় তারা মনে হয় আশে পাশে তা...  \n",
       "2008        এইরকম বই পড়ার চাইতে মুড়ি কিন্না খাওয়াও ভালো  \n",
       "2009                                 বোগাস বই টাকা নষ্ট  \n",
       "2010  বইটি ভালো না শুধু কিনে টাকা নষ্ট করা ছাড়া কিছু...  \n",
       "\n",
       "[2011 rows x 3 columns]"
      ]
     },
     "execution_count": 435,
     "metadata": {},
     "output_type": "execute_result"
    }
   ],
   "source": [
    "data"
   ]
  },
  {
   "cell_type": "code",
   "execution_count": 436,
   "metadata": {},
   "outputs": [],
   "source": [
    "data.cleaned.to_excel('clean_reviews.xlsx')"
   ]
  },
  {
   "cell_type": "markdown",
   "metadata": {},
   "source": [
    "##### Processing of a sample review"
   ]
  },
  {
   "cell_type": "code",
   "execution_count": 437,
   "metadata": {},
   "outputs": [
    {
     "data": {
      "text/plain": [
       "'অনুবাদ মান আরো ভালো করা উচিত ছিল'"
      ]
     },
     "execution_count": 437,
     "metadata": {},
     "output_type": "execute_result"
    }
   ],
   "source": [
    "tweet = 'অনুবাদ এর মান আরো ভালো করা উচিত ছিল।😔'\n",
    "stopwords_list ='D:\\\\CSE 497\\\\Bengali-Book-Reviews-master\\\\Dataset and Notebook\\\\book_stopwords.txt'\n",
    "process_reviews(review = tweet, stopwords =stopwords_list,removing_stopwords=True)"
   ]
  },
  {
   "cell_type": "markdown",
   "metadata": {},
   "source": [
    "## Dataset Summary"
   ]
  },
  {
   "cell_type": "code",
   "execution_count": 438,
   "metadata": {},
   "outputs": [
    {
     "name": "stdout",
     "output_type": "stream",
     "text": [
      "\n",
      "Class Name :  Negative\n",
      "Number of Documents:1029\n",
      "Number of Words:22369\n",
      "Number of Unique Words:6054\n",
      "Most Frequent Words:\n",
      "\n",
      "না\t501\n",
      "বই\t410\n",
      "এটি\t343\n",
      "বইটি\t228\n",
      "ছিল\t203\n",
      "খুব\t163\n",
      "মনে\t145\n",
      "তবে\t142\n",
      "শেষ\t133\n",
      "কিছু\t132\n",
      "\n",
      "Class Name :  Positive\n",
      "Number of Documents:982\n",
      "Number of Words:19867\n",
      "Number of Unique Words:5153\n",
      "Most Frequent Words:\n",
      "\n",
      "বই\t792\n",
      "বইটি\t408\n",
      "অনেক\t291\n",
      "ভালো\t271\n",
      "অসাধারণ\t215\n",
      "না\t174\n",
      "খুব\t153\n",
      "বইটা\t141\n",
      "এক\t134\n",
      "পড়ে\t130\n"
     ]
    }
   ],
   "source": [
    "from utils import data_summary\n",
    "documents,words,u_words,class_names = data_summary(data)"
   ]
  },
  {
   "cell_type": "markdown",
   "metadata": {},
   "source": [
    "### Dataset Summary Visualization"
   ]
  },
  {
   "cell_type": "code",
   "execution_count": 439,
   "metadata": {},
   "outputs": [
    {
     "name": "stdout",
     "output_type": "stream",
     "text": [
      "  Class Names         Category  Values\n",
      "0    Negative  Total Documents    1029\n",
      "1    Positive  Total Documents     982\n",
      "2    Negative      Total Words   22369\n",
      "3    Positive      Total Words   19867\n",
      "4    Negative     Unique Words    6054\n",
      "5    Positive     Unique Words    5153\n"
     ]
    }
   ],
   "source": [
    "data_matrix = pd.DataFrame({'Total Documents':documents,\n",
    "                            'Total Words':words,\n",
    "                            'Unique Words':u_words,\n",
    "                            'Class Names':class_names})\n",
    "df = pd.melt(data_matrix, id_vars=\"Class Names\", var_name=\"Category\", value_name=\"Values\")\n",
    "print(df)"
   ]
  },
  {
   "cell_type": "code",
   "execution_count": 440,
   "metadata": {},
   "outputs": [
    {
     "data": {
      "text/html": [
       "<div>\n",
       "<style scoped>\n",
       "    .dataframe tbody tr th:only-of-type {\n",
       "        vertical-align: middle;\n",
       "    }\n",
       "\n",
       "    .dataframe tbody tr th {\n",
       "        vertical-align: top;\n",
       "    }\n",
       "\n",
       "    .dataframe thead th {\n",
       "        text-align: right;\n",
       "    }\n",
       "</style>\n",
       "<table border=\"1\" class=\"dataframe\">\n",
       "  <thead>\n",
       "    <tr style=\"text-align: right;\">\n",
       "      <th></th>\n",
       "      <th>Review</th>\n",
       "      <th>Sentiment</th>\n",
       "      <th>cleaned</th>\n",
       "    </tr>\n",
       "  </thead>\n",
       "  <tbody>\n",
       "    <tr>\n",
       "      <th>0</th>\n",
       "      <td>বই টি আমার সংগ্রহে আছে এবং তা আমি পড়েছি। বই টি...</td>\n",
       "      <td>Negative</td>\n",
       "      <td>বই টি সংগ্রহে আছে তা পড়েছি বই টি সম্পর্কে যদি ...</td>\n",
       "    </tr>\n",
       "    <tr>\n",
       "      <th>1</th>\n",
       "      <td>ফালতু বই। শুধু শুধু টাকা নষ্ট।</td>\n",
       "      <td>Negative</td>\n",
       "      <td>ফালতু বই শুধু শুধু টাকা নষ্ট</td>\n",
       "    </tr>\n",
       "    <tr>\n",
       "      <th>2</th>\n",
       "      <td>একটু পড়ে দেখতে বলসিলো, একটু পড়লাম। তারপর হড়হড় ...</td>\n",
       "      <td>Negative</td>\n",
       "      <td>একটু পড়ে দেখতে বলসিলো একটু পড়লাম তারপর হড়হড় বম...</td>\n",
       "    </tr>\n",
       "    <tr>\n",
       "      <th>3</th>\n",
       "      <td>এটা কোন বই? ছিঃ ধিকার জানায়। প্রশাসনের নজর দেয়...</td>\n",
       "      <td>Negative</td>\n",
       "      <td>এটা বই ছিঃ ধিকার জানায় প্রশাসনের নজর দেয়া উচিৎ...</td>\n",
       "    </tr>\n",
       "    <tr>\n",
       "      <th>4</th>\n",
       "      <td>প্রিয় রকমারি.কম, দয়া করে বইটি আপনাদের ওয়েবসাইট...</td>\n",
       "      <td>Negative</td>\n",
       "      <td>প্রিয় রকমারি কম দয়া বইটি আপনাদের ওয়েবসাইট সরিয়...</td>\n",
       "    </tr>\n",
       "    <tr>\n",
       "      <th>...</th>\n",
       "      <td>...</td>\n",
       "      <td>...</td>\n",
       "      <td>...</td>\n",
       "    </tr>\n",
       "    <tr>\n",
       "      <th>2006</th>\n",
       "      <td>1 স্টার দেওয়াও বৃথা। মানে ভিডিও বানাইয়া আজকে ...</td>\n",
       "      <td>Negative</td>\n",
       "      <td>স্টার দেওয়াও বৃথা মানে ভিডিও বানাইয়া আজকে লেখক...</td>\n",
       "    </tr>\n",
       "    <tr>\n",
       "      <th>2007</th>\n",
       "      <td>তাদের কথা শুনলে মনে হয় তারা এই মনে হয় আশে পাশে...</td>\n",
       "      <td>Negative</td>\n",
       "      <td>তাদের কথা শুনলে মনে হয় তারা মনে হয় আশে পাশে তা...</td>\n",
       "    </tr>\n",
       "    <tr>\n",
       "      <th>2008</th>\n",
       "      <td>এইরকম বই পড়ার চাইতে মুড়ি কিন্না খাওয়াও ভালো। ...</td>\n",
       "      <td>Negative</td>\n",
       "      <td>এইরকম বই পড়ার চাইতে মুড়ি কিন্না খাওয়াও ভালো</td>\n",
       "    </tr>\n",
       "    <tr>\n",
       "      <th>2009</th>\n",
       "      <td>বোগাস বই। টাকা নষ্ট।\\n                       ...</td>\n",
       "      <td>Negative</td>\n",
       "      <td>বোগাস বই টাকা নষ্ট</td>\n",
       "    </tr>\n",
       "    <tr>\n",
       "      <th>2010</th>\n",
       "      <td>বইটি ভালো না। শুধু কিনে টাকা নষ্ট করা ছাড়া আর ...</td>\n",
       "      <td>Negative</td>\n",
       "      <td>বইটি ভালো না শুধু কিনে টাকা নষ্ট করা ছাড়া কিছু...</td>\n",
       "    </tr>\n",
       "  </tbody>\n",
       "</table>\n",
       "<p>2011 rows × 3 columns</p>\n",
       "</div>"
      ],
      "text/plain": [
       "                                                 Review Sentiment  \\\n",
       "0     বই টি আমার সংগ্রহে আছে এবং তা আমি পড়েছি। বই টি...  Negative   \n",
       "1                        ফালতু বই। শুধু শুধু টাকা নষ্ট।  Negative   \n",
       "2     একটু পড়ে দেখতে বলসিলো, একটু পড়লাম। তারপর হড়হড় ...  Negative   \n",
       "3     এটা কোন বই? ছিঃ ধিকার জানায়। প্রশাসনের নজর দেয়...  Negative   \n",
       "4     প্রিয় রকমারি.কম, দয়া করে বইটি আপনাদের ওয়েবসাইট...  Negative   \n",
       "...                                                 ...       ...   \n",
       "2006   1 স্টার দেওয়াও বৃথা। মানে ভিডিও বানাইয়া আজকে ...  Negative   \n",
       "2007  তাদের কথা শুনলে মনে হয় তারা এই মনে হয় আশে পাশে...  Negative   \n",
       "2008   এইরকম বই পড়ার চাইতে মুড়ি কিন্না খাওয়াও ভালো। ...  Negative   \n",
       "2009   বোগাস বই। টাকা নষ্ট।\\n                       ...  Negative   \n",
       "2010  বইটি ভালো না। শুধু কিনে টাকা নষ্ট করা ছাড়া আর ...  Negative   \n",
       "\n",
       "                                                cleaned  \n",
       "0     বই টি সংগ্রহে আছে তা পড়েছি বই টি সম্পর্কে যদি ...  \n",
       "1                          ফালতু বই শুধু শুধু টাকা নষ্ট  \n",
       "2     একটু পড়ে দেখতে বলসিলো একটু পড়লাম তারপর হড়হড় বম...  \n",
       "3     এটা বই ছিঃ ধিকার জানায় প্রশাসনের নজর দেয়া উচিৎ...  \n",
       "4     প্রিয় রকমারি কম দয়া বইটি আপনাদের ওয়েবসাইট সরিয়...  \n",
       "...                                                 ...  \n",
       "2006  স্টার দেওয়াও বৃথা মানে ভিডিও বানাইয়া আজকে লেখক...  \n",
       "2007  তাদের কথা শুনলে মনে হয় তারা মনে হয় আশে পাশে তা...  \n",
       "2008        এইরকম বই পড়ার চাইতে মুড়ি কিন্না খাওয়াও ভালো  \n",
       "2009                                 বোগাস বই টাকা নষ্ট  \n",
       "2010  বইটি ভালো না শুধু কিনে টাকা নষ্ট করা ছাড়া কিছু...  \n",
       "\n",
       "[2011 rows x 3 columns]"
      ]
     },
     "execution_count": 440,
     "metadata": {},
     "output_type": "execute_result"
    }
   ],
   "source": [
    "data"
   ]
  },
  {
   "cell_type": "code",
   "execution_count": 441,
   "metadata": {},
   "outputs": [
    {
     "data": {
      "image/png": "[encoded data removed]",
      "text/plain": [
       "<Figure size 432x288 with 1 Axes>"
      ]
     },
     "metadata": {
      "needs_background": "light"
     },
     "output_type": "display_data"
    }
   ],
   "source": [
    "plt.figure(figsize=(6, 4))\n",
    "ax = plt.subplot()\n",
    "\n",
    "sns.barplot(data=df,x='Class Names', y='Values' ,hue='Category')\n",
    "ax.set_xlabel('Class Names') \n",
    "ax.set_title('Data Statistics')\n",
    "\n",
    "ax.xaxis.set_ticklabels(class_names, rotation=45);\n",
    "plt.savefig('data_statistics.png',dpi = 600,bbox_inches = 'tight')"
   ]
  },
  {
   "cell_type": "markdown",
   "metadata": {},
   "source": [
    "### Review Length Distribution"
   ]
  },
  {
   "cell_type": "code",
   "execution_count": 442,
   "metadata": {},
   "outputs": [
    {
     "data": {
      "image/png": "[encoded data removed]",
      "text/plain": [
       "<Figure size 432x288 with 1 Axes>"
      ]
     },
     "metadata": {
      "needs_background": "light"
     },
     "output_type": "display_data"
    },
    {
     "name": "stdout",
     "output_type": "stream",
     "text": [
      "Maximum Length of a review: 523\n",
      "Average Length of a reviews: 21.0\n"
     ]
    }
   ],
   "source": [
    "# Calculate the Review of each of the Review\n",
    "data['ReviewLength'] = data.cleaned.apply(lambda x:len(x.split()))\n",
    "frequency = dict()\n",
    "for i in data.ReviewLength:\n",
    "    frequency[i] = frequency.get(i, 0)+1\n",
    "\n",
    "plt.bar(frequency.keys(), frequency.values(), color =\"b\")\n",
    "plt.xlim(1, 100)\n",
    "# in this notbook color is not working but it should work.\n",
    "plt.xlabel('Lenght of the Texts')\n",
    "plt.ylabel('Frequency')\n",
    "plt.title('Length-Frequency Distribution')\n",
    "plt.savefig('length_dist.png',dpi = 600,bbox_inches = 'tight')\n",
    "plt.show()  \n",
    "print(f\"Maximum Length of a review: {max(data.ReviewLength)}\")\n",
    "print(f\"Average Length of a reviews: {round(np.mean(data.ReviewLength),0)}\")\n"
   ]
  },
  {
   "cell_type": "markdown",
   "metadata": {},
   "source": [
    "### Save the cleaned data and stopwords into a pickle file"
   ]
  },
  {
   "cell_type": "code",
   "execution_count": 443,
   "metadata": {},
   "outputs": [],
   "source": [
    "cleaned_data = pd.read_excel('clean_reviews.xlsx')\n",
    "import pickle\n",
    "# open a file, where you ant to store the data\n",
    "file = open('D:\\\\CSE 497\\\\Bengali-Book-Reviews-master\\\\book_review_data.pkl', 'wb')\n",
    "\n",
    "# dump information to that file\n",
    "pickle.dump(cleaned_data, file)"
   ]
  },
  {
   "cell_type": "code",
   "execution_count": 444,
   "metadata": {},
   "outputs": [
    {
     "data": {
      "text/html": [
       "<div>\n",
       "<style scoped>\n",
       "    .dataframe tbody tr th:only-of-type {\n",
       "        vertical-align: middle;\n",
       "    }\n",
       "\n",
       "    .dataframe tbody tr th {\n",
       "        vertical-align: top;\n",
       "    }\n",
       "\n",
       "    .dataframe thead th {\n",
       "        text-align: right;\n",
       "    }\n",
       "</style>\n",
       "<table border=\"1\" class=\"dataframe\">\n",
       "  <thead>\n",
       "    <tr style=\"text-align: right;\">\n",
       "      <th></th>\n",
       "      <th>Review</th>\n",
       "      <th>Sentiment</th>\n",
       "      <th>cleaned</th>\n",
       "      <th>ReviewLength</th>\n",
       "    </tr>\n",
       "  </thead>\n",
       "  <tbody>\n",
       "    <tr>\n",
       "      <th>0</th>\n",
       "      <td>বই টি আমার সংগ্রহে আছে এবং তা আমি পড়েছি। বই টি...</td>\n",
       "      <td>Negative</td>\n",
       "      <td>বই টি সংগ্রহে আছে তা পড়েছি বই টি সম্পর্কে যদি ...</td>\n",
       "      <td>127</td>\n",
       "    </tr>\n",
       "    <tr>\n",
       "      <th>1</th>\n",
       "      <td>ফালতু বই। শুধু শুধু টাকা নষ্ট।</td>\n",
       "      <td>Negative</td>\n",
       "      <td>ফালতু বই শুধু শুধু টাকা নষ্ট</td>\n",
       "      <td>6</td>\n",
       "    </tr>\n",
       "    <tr>\n",
       "      <th>2</th>\n",
       "      <td>একটু পড়ে দেখতে বলসিলো, একটু পড়লাম। তারপর হড়হড় ...</td>\n",
       "      <td>Negative</td>\n",
       "      <td>একটু পড়ে দেখতে বলসিলো একটু পড়লাম তারপর হড়হড় বম...</td>\n",
       "      <td>35</td>\n",
       "    </tr>\n",
       "    <tr>\n",
       "      <th>3</th>\n",
       "      <td>এটা কোন বই? ছিঃ ধিকার জানায়। প্রশাসনের নজর দেয়...</td>\n",
       "      <td>Negative</td>\n",
       "      <td>এটা বই ছিঃ ধিকার জানায় প্রশাসনের নজর দেয়া উচিৎ...</td>\n",
       "      <td>30</td>\n",
       "    </tr>\n",
       "    <tr>\n",
       "      <th>4</th>\n",
       "      <td>প্রিয় রকমারি.কম, দয়া করে বইটি আপনাদের ওয়েবসাইট...</td>\n",
       "      <td>Negative</td>\n",
       "      <td>প্রিয় রকমারি কম দয়া বইটি আপনাদের ওয়েবসাইট সরিয়...</td>\n",
       "      <td>14</td>\n",
       "    </tr>\n",
       "    <tr>\n",
       "      <th>...</th>\n",
       "      <td>...</td>\n",
       "      <td>...</td>\n",
       "      <td>...</td>\n",
       "      <td>...</td>\n",
       "    </tr>\n",
       "    <tr>\n",
       "      <th>2006</th>\n",
       "      <td>1 স্টার দেওয়াও বৃথা। মানে ভিডিও বানাইয়া আজকে ...</td>\n",
       "      <td>Negative</td>\n",
       "      <td>স্টার দেওয়াও বৃথা মানে ভিডিও বানাইয়া আজকে লেখক...</td>\n",
       "      <td>65</td>\n",
       "    </tr>\n",
       "    <tr>\n",
       "      <th>2007</th>\n",
       "      <td>তাদের কথা শুনলে মনে হয় তারা এই মনে হয় আশে পাশে...</td>\n",
       "      <td>Negative</td>\n",
       "      <td>তাদের কথা শুনলে মনে হয় তারা মনে হয় আশে পাশে তা...</td>\n",
       "      <td>68</td>\n",
       "    </tr>\n",
       "    <tr>\n",
       "      <th>2008</th>\n",
       "      <td>এইরকম বই পড়ার চাইতে মুড়ি কিন্না খাওয়াও ভালো। ...</td>\n",
       "      <td>Negative</td>\n",
       "      <td>এইরকম বই পড়ার চাইতে মুড়ি কিন্না খাওয়াও ভালো</td>\n",
       "      <td>8</td>\n",
       "    </tr>\n",
       "    <tr>\n",
       "      <th>2009</th>\n",
       "      <td>বোগাস বই। টাকা নষ্ট।\\n                       ...</td>\n",
       "      <td>Negative</td>\n",
       "      <td>বোগাস বই টাকা নষ্ট</td>\n",
       "      <td>4</td>\n",
       "    </tr>\n",
       "    <tr>\n",
       "      <th>2010</th>\n",
       "      <td>বইটি ভালো না। শুধু কিনে টাকা নষ্ট করা ছাড়া আর ...</td>\n",
       "      <td>Negative</td>\n",
       "      <td>বইটি ভালো না শুধু কিনে টাকা নষ্ট করা ছাড়া কিছু...</td>\n",
       "      <td>11</td>\n",
       "    </tr>\n",
       "  </tbody>\n",
       "</table>\n",
       "<p>2011 rows × 4 columns</p>\n",
       "</div>"
      ],
      "text/plain": [
       "                                                 Review Sentiment  \\\n",
       "0     বই টি আমার সংগ্রহে আছে এবং তা আমি পড়েছি। বই টি...  Negative   \n",
       "1                        ফালতু বই। শুধু শুধু টাকা নষ্ট।  Negative   \n",
       "2     একটু পড়ে দেখতে বলসিলো, একটু পড়লাম। তারপর হড়হড় ...  Negative   \n",
       "3     এটা কোন বই? ছিঃ ধিকার জানায়। প্রশাসনের নজর দেয়...  Negative   \n",
       "4     প্রিয় রকমারি.কম, দয়া করে বইটি আপনাদের ওয়েবসাইট...  Negative   \n",
       "...                                                 ...       ...   \n",
       "2006   1 স্টার দেওয়াও বৃথা। মানে ভিডিও বানাইয়া আজকে ...  Negative   \n",
       "2007  তাদের কথা শুনলে মনে হয় তারা এই মনে হয় আশে পাশে...  Negative   \n",
       "2008   এইরকম বই পড়ার চাইতে মুড়ি কিন্না খাওয়াও ভালো। ...  Negative   \n",
       "2009   বোগাস বই। টাকা নষ্ট।\\n                       ...  Negative   \n",
       "2010  বইটি ভালো না। শুধু কিনে টাকা নষ্ট করা ছাড়া আর ...  Negative   \n",
       "\n",
       "                                                cleaned  ReviewLength  \n",
       "0     বই টি সংগ্রহে আছে তা পড়েছি বই টি সম্পর্কে যদি ...           127  \n",
       "1                          ফালতু বই শুধু শুধু টাকা নষ্ট             6  \n",
       "2     একটু পড়ে দেখতে বলসিলো একটু পড়লাম তারপর হড়হড় বম...            35  \n",
       "3     এটা বই ছিঃ ধিকার জানায় প্রশাসনের নজর দেয়া উচিৎ...            30  \n",
       "4     প্রিয় রকমারি কম দয়া বইটি আপনাদের ওয়েবসাইট সরিয়...            14  \n",
       "...                                                 ...           ...  \n",
       "2006  স্টার দেওয়াও বৃথা মানে ভিডিও বানাইয়া আজকে লেখক...            65  \n",
       "2007  তাদের কথা শুনলে মনে হয় তারা মনে হয় আশে পাশে তা...            68  \n",
       "2008        এইরকম বই পড়ার চাইতে মুড়ি কিন্না খাওয়াও ভালো             8  \n",
       "2009                                 বোগাস বই টাকা নষ্ট             4  \n",
       "2010  বইটি ভালো না শুধু কিনে টাকা নষ্ট করা ছাড়া কিছু...            11  \n",
       "\n",
       "[2011 rows x 4 columns]"
      ]
     },
     "execution_count": 444,
     "metadata": {},
     "output_type": "execute_result"
    }
   ],
   "source": [
    "data"
   ]
  },
  {
   "cell_type": "code",
   "execution_count": 445,
   "metadata": {},
   "outputs": [],
   "source": [
    "#data = open('D:\\\\CSE 497\\\\Bengali-Book-Reviews-master\\\\book_review_data.pkl','rb')\n",
    "#data = pickle.load(data)\n"
   ]
  },
  {
   "cell_type": "code",
   "execution_count": 446,
   "metadata": {},
   "outputs": [
    {
     "data": {
      "text/html": [
       "<div>\n",
       "<style scoped>\n",
       "    .dataframe tbody tr th:only-of-type {\n",
       "        vertical-align: middle;\n",
       "    }\n",
       "\n",
       "    .dataframe tbody tr th {\n",
       "        vertical-align: top;\n",
       "    }\n",
       "\n",
       "    .dataframe thead th {\n",
       "        text-align: right;\n",
       "    }\n",
       "</style>\n",
       "<table border=\"1\" class=\"dataframe\">\n",
       "  <thead>\n",
       "    <tr style=\"text-align: right;\">\n",
       "      <th></th>\n",
       "      <th>Review</th>\n",
       "      <th>Sentiment</th>\n",
       "      <th>cleaned</th>\n",
       "      <th>ReviewLength</th>\n",
       "    </tr>\n",
       "  </thead>\n",
       "  <tbody>\n",
       "    <tr>\n",
       "      <th>0</th>\n",
       "      <td>বই টি আমার সংগ্রহে আছে এবং তা আমি পড়েছি। বই টি...</td>\n",
       "      <td>Negative</td>\n",
       "      <td>বই টি সংগ্রহে আছে তা পড়েছি বই টি সম্পর্কে যদি ...</td>\n",
       "      <td>127</td>\n",
       "    </tr>\n",
       "    <tr>\n",
       "      <th>1</th>\n",
       "      <td>ফালতু বই। শুধু শুধু টাকা নষ্ট।</td>\n",
       "      <td>Negative</td>\n",
       "      <td>ফালতু বই শুধু শুধু টাকা নষ্ট</td>\n",
       "      <td>6</td>\n",
       "    </tr>\n",
       "    <tr>\n",
       "      <th>2</th>\n",
       "      <td>একটু পড়ে দেখতে বলসিলো, একটু পড়লাম। তারপর হড়হড় ...</td>\n",
       "      <td>Negative</td>\n",
       "      <td>একটু পড়ে দেখতে বলসিলো একটু পড়লাম তারপর হড়হড় বম...</td>\n",
       "      <td>35</td>\n",
       "    </tr>\n",
       "    <tr>\n",
       "      <th>3</th>\n",
       "      <td>এটা কোন বই? ছিঃ ধিকার জানায়। প্রশাসনের নজর দেয়...</td>\n",
       "      <td>Negative</td>\n",
       "      <td>এটা বই ছিঃ ধিকার জানায় প্রশাসনের নজর দেয়া উচিৎ...</td>\n",
       "      <td>30</td>\n",
       "    </tr>\n",
       "    <tr>\n",
       "      <th>4</th>\n",
       "      <td>প্রিয় রকমারি.কম, দয়া করে বইটি আপনাদের ওয়েবসাইট...</td>\n",
       "      <td>Negative</td>\n",
       "      <td>প্রিয় রকমারি কম দয়া বইটি আপনাদের ওয়েবসাইট সরিয়...</td>\n",
       "      <td>14</td>\n",
       "    </tr>\n",
       "    <tr>\n",
       "      <th>...</th>\n",
       "      <td>...</td>\n",
       "      <td>...</td>\n",
       "      <td>...</td>\n",
       "      <td>...</td>\n",
       "    </tr>\n",
       "    <tr>\n",
       "      <th>2006</th>\n",
       "      <td>1 স্টার দেওয়াও বৃথা। মানে ভিডিও বানাইয়া আজকে ...</td>\n",
       "      <td>Negative</td>\n",
       "      <td>স্টার দেওয়াও বৃথা মানে ভিডিও বানাইয়া আজকে লেখক...</td>\n",
       "      <td>65</td>\n",
       "    </tr>\n",
       "    <tr>\n",
       "      <th>2007</th>\n",
       "      <td>তাদের কথা শুনলে মনে হয় তারা এই মনে হয় আশে পাশে...</td>\n",
       "      <td>Negative</td>\n",
       "      <td>তাদের কথা শুনলে মনে হয় তারা মনে হয় আশে পাশে তা...</td>\n",
       "      <td>68</td>\n",
       "    </tr>\n",
       "    <tr>\n",
       "      <th>2008</th>\n",
       "      <td>এইরকম বই পড়ার চাইতে মুড়ি কিন্না খাওয়াও ভালো। ...</td>\n",
       "      <td>Negative</td>\n",
       "      <td>এইরকম বই পড়ার চাইতে মুড়ি কিন্না খাওয়াও ভালো</td>\n",
       "      <td>8</td>\n",
       "    </tr>\n",
       "    <tr>\n",
       "      <th>2009</th>\n",
       "      <td>বোগাস বই। টাকা নষ্ট।\\n                       ...</td>\n",
       "      <td>Negative</td>\n",
       "      <td>বোগাস বই টাকা নষ্ট</td>\n",
       "      <td>4</td>\n",
       "    </tr>\n",
       "    <tr>\n",
       "      <th>2010</th>\n",
       "      <td>বইটি ভালো না। শুধু কিনে টাকা নষ্ট করা ছাড়া আর ...</td>\n",
       "      <td>Negative</td>\n",
       "      <td>বইটি ভালো না শুধু কিনে টাকা নষ্ট করা ছাড়া কিছু...</td>\n",
       "      <td>11</td>\n",
       "    </tr>\n",
       "  </tbody>\n",
       "</table>\n",
       "<p>2011 rows × 4 columns</p>\n",
       "</div>"
      ],
      "text/plain": [
       "                                                 Review Sentiment  \\\n",
       "0     বই টি আমার সংগ্রহে আছে এবং তা আমি পড়েছি। বই টি...  Negative   \n",
       "1                        ফালতু বই। শুধু শুধু টাকা নষ্ট।  Negative   \n",
       "2     একটু পড়ে দেখতে বলসিলো, একটু পড়লাম। তারপর হড়হড় ...  Negative   \n",
       "3     এটা কোন বই? ছিঃ ধিকার জানায়। প্রশাসনের নজর দেয়...  Negative   \n",
       "4     প্রিয় রকমারি.কম, দয়া করে বইটি আপনাদের ওয়েবসাইট...  Negative   \n",
       "...                                                 ...       ...   \n",
       "2006   1 স্টার দেওয়াও বৃথা। মানে ভিডিও বানাইয়া আজকে ...  Negative   \n",
       "2007  তাদের কথা শুনলে মনে হয় তারা এই মনে হয় আশে পাশে...  Negative   \n",
       "2008   এইরকম বই পড়ার চাইতে মুড়ি কিন্না খাওয়াও ভালো। ...  Negative   \n",
       "2009   বোগাস বই। টাকা নষ্ট।\\n                       ...  Negative   \n",
       "2010  বইটি ভালো না। শুধু কিনে টাকা নষ্ট করা ছাড়া আর ...  Negative   \n",
       "\n",
       "                                                cleaned  ReviewLength  \n",
       "0     বই টি সংগ্রহে আছে তা পড়েছি বই টি সম্পর্কে যদি ...           127  \n",
       "1                          ফালতু বই শুধু শুধু টাকা নষ্ট             6  \n",
       "2     একটু পড়ে দেখতে বলসিলো একটু পড়লাম তারপর হড়হড় বম...            35  \n",
       "3     এটা বই ছিঃ ধিকার জানায় প্রশাসনের নজর দেয়া উচিৎ...            30  \n",
       "4     প্রিয় রকমারি কম দয়া বইটি আপনাদের ওয়েবসাইট সরিয়...            14  \n",
       "...                                                 ...           ...  \n",
       "2006  স্টার দেওয়াও বৃথা মানে ভিডিও বানাইয়া আজকে লেখক...            65  \n",
       "2007  তাদের কথা শুনলে মনে হয় তারা মনে হয় আশে পাশে তা...            68  \n",
       "2008        এইরকম বই পড়ার চাইতে মুড়ি কিন্না খাওয়াও ভালো             8  \n",
       "2009                                 বোগাস বই টাকা নষ্ট             4  \n",
       "2010  বইটি ভালো না শুধু কিনে টাকা নষ্ট করা ছাড়া কিছু...            11  \n",
       "\n",
       "[2011 rows x 4 columns]"
      ]
     },
     "execution_count": 446,
     "metadata": {},
     "output_type": "execute_result"
    }
   ],
   "source": [
    "data"
   ]
  },
  {
   "cell_type": "code",
   "execution_count": 451,
   "metadata": {},
   "outputs": [],
   "source": [
    "stp = open(stopwords_list,'r', encoding='iso-8859-1').read().split()#encoding='utf-8').read().split()\n",
    "# pickle stopwords\n",
    "import pickle\n",
    "# open a file, where you ant to store the data\n",
    "file = open('D:\\\\CSE 497\\\\Bengali-Book-Reviews-master\\\\book_stopwords.pkl', 'wb')\n",
    "\n",
    "# dump information to that file\n",
    "pickle.dump(stp, file)"
   ]
  },
  {
   "cell_type": "code",
   "execution_count": 452,
   "metadata": {},
   "outputs": [
    {
     "data": {
      "text/html": [
       "<div>\n",
       "<style scoped>\n",
       "    .dataframe tbody tr th:only-of-type {\n",
       "        vertical-align: middle;\n",
       "    }\n",
       "\n",
       "    .dataframe tbody tr th {\n",
       "        vertical-align: top;\n",
       "    }\n",
       "\n",
       "    .dataframe thead th {\n",
       "        text-align: right;\n",
       "    }\n",
       "</style>\n",
       "<table border=\"1\" class=\"dataframe\">\n",
       "  <thead>\n",
       "    <tr style=\"text-align: right;\">\n",
       "      <th></th>\n",
       "      <th>Review</th>\n",
       "      <th>Sentiment</th>\n",
       "      <th>cleaned</th>\n",
       "      <th>ReviewLength</th>\n",
       "    </tr>\n",
       "  </thead>\n",
       "  <tbody>\n",
       "    <tr>\n",
       "      <th>0</th>\n",
       "      <td>বই টি আমার সংগ্রহে আছে এবং তা আমি পড়েছি। বই টি...</td>\n",
       "      <td>Negative</td>\n",
       "      <td>বই টি সংগ্রহে আছে তা পড়েছি বই টি সম্পর্কে যদি ...</td>\n",
       "      <td>127</td>\n",
       "    </tr>\n",
       "    <tr>\n",
       "      <th>1</th>\n",
       "      <td>ফালতু বই। শুধু শুধু টাকা নষ্ট।</td>\n",
       "      <td>Negative</td>\n",
       "      <td>ফালতু বই শুধু শুধু টাকা নষ্ট</td>\n",
       "      <td>6</td>\n",
       "    </tr>\n",
       "    <tr>\n",
       "      <th>2</th>\n",
       "      <td>একটু পড়ে দেখতে বলসিলো, একটু পড়লাম। তারপর হড়হড় ...</td>\n",
       "      <td>Negative</td>\n",
       "      <td>একটু পড়ে দেখতে বলসিলো একটু পড়লাম তারপর হড়হড় বম...</td>\n",
       "      <td>35</td>\n",
       "    </tr>\n",
       "    <tr>\n",
       "      <th>3</th>\n",
       "      <td>এটা কোন বই? ছিঃ ধিকার জানায়। প্রশাসনের নজর দেয়...</td>\n",
       "      <td>Negative</td>\n",
       "      <td>এটা বই ছিঃ ধিকার জানায় প্রশাসনের নজর দেয়া উচিৎ...</td>\n",
       "      <td>30</td>\n",
       "    </tr>\n",
       "    <tr>\n",
       "      <th>4</th>\n",
       "      <td>প্রিয় রকমারি.কম, দয়া করে বইটি আপনাদের ওয়েবসাইট...</td>\n",
       "      <td>Negative</td>\n",
       "      <td>প্রিয় রকমারি কম দয়া বইটি আপনাদের ওয়েবসাইট সরিয়...</td>\n",
       "      <td>14</td>\n",
       "    </tr>\n",
       "    <tr>\n",
       "      <th>...</th>\n",
       "      <td>...</td>\n",
       "      <td>...</td>\n",
       "      <td>...</td>\n",
       "      <td>...</td>\n",
       "    </tr>\n",
       "    <tr>\n",
       "      <th>2006</th>\n",
       "      <td>1 স্টার দেওয়াও বৃথা। মানে ভিডিও বানাইয়া আজকে ...</td>\n",
       "      <td>Negative</td>\n",
       "      <td>স্টার দেওয়াও বৃথা মানে ভিডিও বানাইয়া আজকে লেখক...</td>\n",
       "      <td>65</td>\n",
       "    </tr>\n",
       "    <tr>\n",
       "      <th>2007</th>\n",
       "      <td>তাদের কথা শুনলে মনে হয় তারা এই মনে হয় আশে পাশে...</td>\n",
       "      <td>Negative</td>\n",
       "      <td>তাদের কথা শুনলে মনে হয় তারা মনে হয় আশে পাশে তা...</td>\n",
       "      <td>68</td>\n",
       "    </tr>\n",
       "    <tr>\n",
       "      <th>2008</th>\n",
       "      <td>এইরকম বই পড়ার চাইতে মুড়ি কিন্না খাওয়াও ভালো। ...</td>\n",
       "      <td>Negative</td>\n",
       "      <td>এইরকম বই পড়ার চাইতে মুড়ি কিন্না খাওয়াও ভালো</td>\n",
       "      <td>8</td>\n",
       "    </tr>\n",
       "    <tr>\n",
       "      <th>2009</th>\n",
       "      <td>বোগাস বই। টাকা নষ্ট।\\n                       ...</td>\n",
       "      <td>Negative</td>\n",
       "      <td>বোগাস বই টাকা নষ্ট</td>\n",
       "      <td>4</td>\n",
       "    </tr>\n",
       "    <tr>\n",
       "      <th>2010</th>\n",
       "      <td>বইটি ভালো না। শুধু কিনে টাকা নষ্ট করা ছাড়া আর ...</td>\n",
       "      <td>Negative</td>\n",
       "      <td>বইটি ভালো না শুধু কিনে টাকা নষ্ট করা ছাড়া কিছু...</td>\n",
       "      <td>11</td>\n",
       "    </tr>\n",
       "  </tbody>\n",
       "</table>\n",
       "<p>2011 rows × 4 columns</p>\n",
       "</div>"
      ],
      "text/plain": [
       "                                                 Review Sentiment  \\\n",
       "0     বই টি আমার সংগ্রহে আছে এবং তা আমি পড়েছি। বই টি...  Negative   \n",
       "1                        ফালতু বই। শুধু শুধু টাকা নষ্ট।  Negative   \n",
       "2     একটু পড়ে দেখতে বলসিলো, একটু পড়লাম। তারপর হড়হড় ...  Negative   \n",
       "3     এটা কোন বই? ছিঃ ধিকার জানায়। প্রশাসনের নজর দেয়...  Negative   \n",
       "4     প্রিয় রকমারি.কম, দয়া করে বইটি আপনাদের ওয়েবসাইট...  Negative   \n",
       "...                                                 ...       ...   \n",
       "2006   1 স্টার দেওয়াও বৃথা। মানে ভিডিও বানাইয়া আজকে ...  Negative   \n",
       "2007  তাদের কথা শুনলে মনে হয় তারা এই মনে হয় আশে পাশে...  Negative   \n",
       "2008   এইরকম বই পড়ার চাইতে মুড়ি কিন্না খাওয়াও ভালো। ...  Negative   \n",
       "2009   বোগাস বই। টাকা নষ্ট।\\n                       ...  Negative   \n",
       "2010  বইটি ভালো না। শুধু কিনে টাকা নষ্ট করা ছাড়া আর ...  Negative   \n",
       "\n",
       "                                                cleaned  ReviewLength  \n",
       "0     বই টি সংগ্রহে আছে তা পড়েছি বই টি সম্পর্কে যদি ...           127  \n",
       "1                          ফালতু বই শুধু শুধু টাকা নষ্ট             6  \n",
       "2     একটু পড়ে দেখতে বলসিলো একটু পড়লাম তারপর হড়হড় বম...            35  \n",
       "3     এটা বই ছিঃ ধিকার জানায় প্রশাসনের নজর দেয়া উচিৎ...            30  \n",
       "4     প্রিয় রকমারি কম দয়া বইটি আপনাদের ওয়েবসাইট সরিয়...            14  \n",
       "...                                                 ...           ...  \n",
       "2006  স্টার দেওয়াও বৃথা মানে ভিডিও বানাইয়া আজকে লেখক...            65  \n",
       "2007  তাদের কথা শুনলে মনে হয় তারা মনে হয় আশে পাশে তা...            68  \n",
       "2008        এইরকম বই পড়ার চাইতে মুড়ি কিন্না খাওয়াও ভালো             8  \n",
       "2009                                 বোগাস বই টাকা নষ্ট             4  \n",
       "2010  বইটি ভালো না শুধু কিনে টাকা নষ্ট করা ছাড়া কিছু...            11  \n",
       "\n",
       "[2011 rows x 4 columns]"
      ]
     },
     "execution_count": 452,
     "metadata": {},
     "output_type": "execute_result"
    }
   ],
   "source": [
    "data"
   ]
  },
  {
   "cell_type": "code",
   "execution_count": 453,
   "metadata": {},
   "outputs": [],
   "source": [
    "data1 = open('D:\\\\CSE 497\\\\Bengali-Book-Reviews-master\\\\book_stopwords.pkl','rb')\n",
    "#data1 = pickle.load(data1)\n",
    "data1 = pickle.load(data1)\n",
    "\n",
    "#while True: #check for end of file\n",
    "    #try:\n",
    "       # data1.append(pickle.load(data1)) # append record from file to end of list\n",
    "    #except EOFError:\n",
    "     #   break\n",
    "#data1.close()\n"
   ]
  },
  {
   "cell_type": "code",
   "execution_count": 454,
   "metadata": {},
   "outputs": [
    {
     "data": {
      "text/html": [
       "<div>\n",
       "<style scoped>\n",
       "    .dataframe tbody tr th:only-of-type {\n",
       "        vertical-align: middle;\n",
       "    }\n",
       "\n",
       "    .dataframe tbody tr th {\n",
       "        vertical-align: top;\n",
       "    }\n",
       "\n",
       "    .dataframe thead th {\n",
       "        text-align: right;\n",
       "    }\n",
       "</style>\n",
       "<table border=\"1\" class=\"dataframe\">\n",
       "  <thead>\n",
       "    <tr style=\"text-align: right;\">\n",
       "      <th></th>\n",
       "      <th>Review</th>\n",
       "      <th>Sentiment</th>\n",
       "      <th>cleaned</th>\n",
       "      <th>ReviewLength</th>\n",
       "    </tr>\n",
       "  </thead>\n",
       "  <tbody>\n",
       "    <tr>\n",
       "      <th>0</th>\n",
       "      <td>বই টি আমার সংগ্রহে আছে এবং তা আমি পড়েছি। বই টি...</td>\n",
       "      <td>Negative</td>\n",
       "      <td>বই টি সংগ্রহে আছে তা পড়েছি বই টি সম্পর্কে যদি ...</td>\n",
       "      <td>127</td>\n",
       "    </tr>\n",
       "    <tr>\n",
       "      <th>1</th>\n",
       "      <td>ফালতু বই। শুধু শুধু টাকা নষ্ট।</td>\n",
       "      <td>Negative</td>\n",
       "      <td>ফালতু বই শুধু শুধু টাকা নষ্ট</td>\n",
       "      <td>6</td>\n",
       "    </tr>\n",
       "    <tr>\n",
       "      <th>2</th>\n",
       "      <td>একটু পড়ে দেখতে বলসিলো, একটু পড়লাম। তারপর হড়হড় ...</td>\n",
       "      <td>Negative</td>\n",
       "      <td>একটু পড়ে দেখতে বলসিলো একটু পড়লাম তারপর হড়হড় বম...</td>\n",
       "      <td>35</td>\n",
       "    </tr>\n",
       "    <tr>\n",
       "      <th>3</th>\n",
       "      <td>এটা কোন বই? ছিঃ ধিকার জানায়। প্রশাসনের নজর দেয়...</td>\n",
       "      <td>Negative</td>\n",
       "      <td>এটা বই ছিঃ ধিকার জানায় প্রশাসনের নজর দেয়া উচিৎ...</td>\n",
       "      <td>30</td>\n",
       "    </tr>\n",
       "    <tr>\n",
       "      <th>4</th>\n",
       "      <td>প্রিয় রকমারি.কম, দয়া করে বইটি আপনাদের ওয়েবসাইট...</td>\n",
       "      <td>Negative</td>\n",
       "      <td>প্রিয় রকমারি কম দয়া বইটি আপনাদের ওয়েবসাইট সরিয়...</td>\n",
       "      <td>14</td>\n",
       "    </tr>\n",
       "    <tr>\n",
       "      <th>...</th>\n",
       "      <td>...</td>\n",
       "      <td>...</td>\n",
       "      <td>...</td>\n",
       "      <td>...</td>\n",
       "    </tr>\n",
       "    <tr>\n",
       "      <th>2006</th>\n",
       "      <td>1 স্টার দেওয়াও বৃথা। মানে ভিডিও বানাইয়া আজকে ...</td>\n",
       "      <td>Negative</td>\n",
       "      <td>স্টার দেওয়াও বৃথা মানে ভিডিও বানাইয়া আজকে লেখক...</td>\n",
       "      <td>65</td>\n",
       "    </tr>\n",
       "    <tr>\n",
       "      <th>2007</th>\n",
       "      <td>তাদের কথা শুনলে মনে হয় তারা এই মনে হয় আশে পাশে...</td>\n",
       "      <td>Negative</td>\n",
       "      <td>তাদের কথা শুনলে মনে হয় তারা মনে হয় আশে পাশে তা...</td>\n",
       "      <td>68</td>\n",
       "    </tr>\n",
       "    <tr>\n",
       "      <th>2008</th>\n",
       "      <td>এইরকম বই পড়ার চাইতে মুড়ি কিন্না খাওয়াও ভালো। ...</td>\n",
       "      <td>Negative</td>\n",
       "      <td>এইরকম বই পড়ার চাইতে মুড়ি কিন্না খাওয়াও ভালো</td>\n",
       "      <td>8</td>\n",
       "    </tr>\n",
       "    <tr>\n",
       "      <th>2009</th>\n",
       "      <td>বোগাস বই। টাকা নষ্ট।\\n                       ...</td>\n",
       "      <td>Negative</td>\n",
       "      <td>বোগাস বই টাকা নষ্ট</td>\n",
       "      <td>4</td>\n",
       "    </tr>\n",
       "    <tr>\n",
       "      <th>2010</th>\n",
       "      <td>বইটি ভালো না। শুধু কিনে টাকা নষ্ট করা ছাড়া আর ...</td>\n",
       "      <td>Negative</td>\n",
       "      <td>বইটি ভালো না শুধু কিনে টাকা নষ্ট করা ছাড়া কিছু...</td>\n",
       "      <td>11</td>\n",
       "    </tr>\n",
       "  </tbody>\n",
       "</table>\n",
       "<p>2011 rows × 4 columns</p>\n",
       "</div>"
      ],
      "text/plain": [
       "                                                 Review Sentiment  \\\n",
       "0     বই টি আমার সংগ্রহে আছে এবং তা আমি পড়েছি। বই টি...  Negative   \n",
       "1                        ফালতু বই। শুধু শুধু টাকা নষ্ট।  Negative   \n",
       "2     একটু পড়ে দেখতে বলসিলো, একটু পড়লাম। তারপর হড়হড় ...  Negative   \n",
       "3     এটা কোন বই? ছিঃ ধিকার জানায়। প্রশাসনের নজর দেয়...  Negative   \n",
       "4     প্রিয় রকমারি.কম, দয়া করে বইটি আপনাদের ওয়েবসাইট...  Negative   \n",
       "...                                                 ...       ...   \n",
       "2006   1 স্টার দেওয়াও বৃথা। মানে ভিডিও বানাইয়া আজকে ...  Negative   \n",
       "2007  তাদের কথা শুনলে মনে হয় তারা এই মনে হয় আশে পাশে...  Negative   \n",
       "2008   এইরকম বই পড়ার চাইতে মুড়ি কিন্না খাওয়াও ভালো। ...  Negative   \n",
       "2009   বোগাস বই। টাকা নষ্ট।\\n                       ...  Negative   \n",
       "2010  বইটি ভালো না। শুধু কিনে টাকা নষ্ট করা ছাড়া আর ...  Negative   \n",
       "\n",
       "                                                cleaned  ReviewLength  \n",
       "0     বই টি সংগ্রহে আছে তা পড়েছি বই টি সম্পর্কে যদি ...           127  \n",
       "1                          ফালতু বই শুধু শুধু টাকা নষ্ট             6  \n",
       "2     একটু পড়ে দেখতে বলসিলো একটু পড়লাম তারপর হড়হড় বম...            35  \n",
       "3     এটা বই ছিঃ ধিকার জানায় প্রশাসনের নজর দেয়া উচিৎ...            30  \n",
       "4     প্রিয় রকমারি কম দয়া বইটি আপনাদের ওয়েবসাইট সরিয়...            14  \n",
       "...                                                 ...           ...  \n",
       "2006  স্টার দেওয়াও বৃথা মানে ভিডিও বানাইয়া আজকে লেখক...            65  \n",
       "2007  তাদের কথা শুনলে মনে হয় তারা মনে হয় আশে পাশে তা...            68  \n",
       "2008        এইরকম বই পড়ার চাইতে মুড়ি কিন্না খাওয়াও ভালো             8  \n",
       "2009                                 বোগাস বই টাকা নষ্ট             4  \n",
       "2010  বইটি ভালো না শুধু কিনে টাকা নষ্ট করা ছাড়া কিছু...            11  \n",
       "\n",
       "[2011 rows x 4 columns]"
      ]
     },
     "execution_count": 454,
     "metadata": {},
     "output_type": "execute_result"
    }
   ],
   "source": [
    "data"
   ]
  },
  {
   "cell_type": "markdown",
   "metadata": {},
   "source": [
    "## Feature Extraction Using TF-IDF"
   ]
  },
  {
   "cell_type": "code",
   "execution_count": 455,
   "metadata": {},
   "outputs": [],
   "source": [
    "from utils import calc_unigram_tfidf,calc_bigram_tfidf,calc_trigram_tfidf,show_tfidf"
   ]
  },
  {
   "cell_type": "code",
   "execution_count": 456,
   "metadata": {},
   "outputs": [
    {
     "name": "stdout",
     "output_type": "stream",
     "text": [
      "Review          object\n",
      "Sentiment       object\n",
      "cleaned         object\n",
      "ReviewLength     int64\n",
      "dtype: object\n"
     ]
    }
   ],
   "source": [
    "print(data.dtypes)"
   ]
  },
  {
   "cell_type": "code",
   "execution_count": 457,
   "metadata": {},
   "outputs": [
    {
     "data": {
      "text/html": [
       "<div>\n",
       "<style scoped>\n",
       "    .dataframe tbody tr th:only-of-type {\n",
       "        vertical-align: middle;\n",
       "    }\n",
       "\n",
       "    .dataframe tbody tr th {\n",
       "        vertical-align: top;\n",
       "    }\n",
       "\n",
       "    .dataframe thead th {\n",
       "        text-align: right;\n",
       "    }\n",
       "</style>\n",
       "<table border=\"1\" class=\"dataframe\">\n",
       "  <thead>\n",
       "    <tr style=\"text-align: right;\">\n",
       "      <th></th>\n",
       "      <th>Review</th>\n",
       "      <th>Sentiment</th>\n",
       "      <th>cleaned</th>\n",
       "      <th>ReviewLength</th>\n",
       "    </tr>\n",
       "  </thead>\n",
       "  <tbody>\n",
       "    <tr>\n",
       "      <th>0</th>\n",
       "      <td>বই টি আমার সংগ্রহে আছে এবং তা আমি পড়েছি। বই টি...</td>\n",
       "      <td>Negative</td>\n",
       "      <td>বই টি সংগ্রহে আছে তা পড়েছি বই টি সম্পর্কে যদি ...</td>\n",
       "      <td>127</td>\n",
       "    </tr>\n",
       "    <tr>\n",
       "      <th>1</th>\n",
       "      <td>ফালতু বই। শুধু শুধু টাকা নষ্ট।</td>\n",
       "      <td>Negative</td>\n",
       "      <td>ফালতু বই শুধু শুধু টাকা নষ্ট</td>\n",
       "      <td>6</td>\n",
       "    </tr>\n",
       "    <tr>\n",
       "      <th>2</th>\n",
       "      <td>একটু পড়ে দেখতে বলসিলো, একটু পড়লাম। তারপর হড়হড় ...</td>\n",
       "      <td>Negative</td>\n",
       "      <td>একটু পড়ে দেখতে বলসিলো একটু পড়লাম তারপর হড়হড় বম...</td>\n",
       "      <td>35</td>\n",
       "    </tr>\n",
       "    <tr>\n",
       "      <th>3</th>\n",
       "      <td>এটা কোন বই? ছিঃ ধিকার জানায়। প্রশাসনের নজর দেয়...</td>\n",
       "      <td>Negative</td>\n",
       "      <td>এটা বই ছিঃ ধিকার জানায় প্রশাসনের নজর দেয়া উচিৎ...</td>\n",
       "      <td>30</td>\n",
       "    </tr>\n",
       "    <tr>\n",
       "      <th>4</th>\n",
       "      <td>প্রিয় রকমারি.কম, দয়া করে বইটি আপনাদের ওয়েবসাইট...</td>\n",
       "      <td>Negative</td>\n",
       "      <td>প্রিয় রকমারি কম দয়া বইটি আপনাদের ওয়েবসাইট সরিয়...</td>\n",
       "      <td>14</td>\n",
       "    </tr>\n",
       "    <tr>\n",
       "      <th>...</th>\n",
       "      <td>...</td>\n",
       "      <td>...</td>\n",
       "      <td>...</td>\n",
       "      <td>...</td>\n",
       "    </tr>\n",
       "    <tr>\n",
       "      <th>2006</th>\n",
       "      <td>1 স্টার দেওয়াও বৃথা। মানে ভিডিও বানাইয়া আজকে ...</td>\n",
       "      <td>Negative</td>\n",
       "      <td>স্টার দেওয়াও বৃথা মানে ভিডিও বানাইয়া আজকে লেখক...</td>\n",
       "      <td>65</td>\n",
       "    </tr>\n",
       "    <tr>\n",
       "      <th>2007</th>\n",
       "      <td>তাদের কথা শুনলে মনে হয় তারা এই মনে হয় আশে পাশে...</td>\n",
       "      <td>Negative</td>\n",
       "      <td>তাদের কথা শুনলে মনে হয় তারা মনে হয় আশে পাশে তা...</td>\n",
       "      <td>68</td>\n",
       "    </tr>\n",
       "    <tr>\n",
       "      <th>2008</th>\n",
       "      <td>এইরকম বই পড়ার চাইতে মুড়ি কিন্না খাওয়াও ভালো। ...</td>\n",
       "      <td>Negative</td>\n",
       "      <td>এইরকম বই পড়ার চাইতে মুড়ি কিন্না খাওয়াও ভালো</td>\n",
       "      <td>8</td>\n",
       "    </tr>\n",
       "    <tr>\n",
       "      <th>2009</th>\n",
       "      <td>বোগাস বই। টাকা নষ্ট।\\n                       ...</td>\n",
       "      <td>Negative</td>\n",
       "      <td>বোগাস বই টাকা নষ্ট</td>\n",
       "      <td>4</td>\n",
       "    </tr>\n",
       "    <tr>\n",
       "      <th>2010</th>\n",
       "      <td>বইটি ভালো না। শুধু কিনে টাকা নষ্ট করা ছাড়া আর ...</td>\n",
       "      <td>Negative</td>\n",
       "      <td>বইটি ভালো না শুধু কিনে টাকা নষ্ট করা ছাড়া কিছু...</td>\n",
       "      <td>11</td>\n",
       "    </tr>\n",
       "  </tbody>\n",
       "</table>\n",
       "<p>2011 rows × 4 columns</p>\n",
       "</div>"
      ],
      "text/plain": [
       "                                                 Review Sentiment  \\\n",
       "0     বই টি আমার সংগ্রহে আছে এবং তা আমি পড়েছি। বই টি...  Negative   \n",
       "1                        ফালতু বই। শুধু শুধু টাকা নষ্ট।  Negative   \n",
       "2     একটু পড়ে দেখতে বলসিলো, একটু পড়লাম। তারপর হড়হড় ...  Negative   \n",
       "3     এটা কোন বই? ছিঃ ধিকার জানায়। প্রশাসনের নজর দেয়...  Negative   \n",
       "4     প্রিয় রকমারি.কম, দয়া করে বইটি আপনাদের ওয়েবসাইট...  Negative   \n",
       "...                                                 ...       ...   \n",
       "2006   1 স্টার দেওয়াও বৃথা। মানে ভিডিও বানাইয়া আজকে ...  Negative   \n",
       "2007  তাদের কথা শুনলে মনে হয় তারা এই মনে হয় আশে পাশে...  Negative   \n",
       "2008   এইরকম বই পড়ার চাইতে মুড়ি কিন্না খাওয়াও ভালো। ...  Negative   \n",
       "2009   বোগাস বই। টাকা নষ্ট।\\n                       ...  Negative   \n",
       "2010  বইটি ভালো না। শুধু কিনে টাকা নষ্ট করা ছাড়া আর ...  Negative   \n",
       "\n",
       "                                                cleaned  ReviewLength  \n",
       "0     বই টি সংগ্রহে আছে তা পড়েছি বই টি সম্পর্কে যদি ...           127  \n",
       "1                          ফালতু বই শুধু শুধু টাকা নষ্ট             6  \n",
       "2     একটু পড়ে দেখতে বলসিলো একটু পড়লাম তারপর হড়হড় বম...            35  \n",
       "3     এটা বই ছিঃ ধিকার জানায় প্রশাসনের নজর দেয়া উচিৎ...            30  \n",
       "4     প্রিয় রকমারি কম দয়া বইটি আপনাদের ওয়েবসাইট সরিয়...            14  \n",
       "...                                                 ...           ...  \n",
       "2006  স্টার দেওয়াও বৃথা মানে ভিডিও বানাইয়া আজকে লেখক...            65  \n",
       "2007  তাদের কথা শুনলে মনে হয় তারা মনে হয় আশে পাশে তা...            68  \n",
       "2008        এইরকম বই পড়ার চাইতে মুড়ি কিন্না খাওয়াও ভালো             8  \n",
       "2009                                 বোগাস বই টাকা নষ্ট             4  \n",
       "2010  বইটি ভালো না শুধু কিনে টাকা নষ্ট করা ছাড়া কিছু...            11  \n",
       "\n",
       "[2011 rows x 4 columns]"
      ]
     },
     "execution_count": 457,
     "metadata": {},
     "output_type": "execute_result"
    }
   ],
   "source": [
    "data"
   ]
  },
  {
   "cell_type": "markdown",
   "metadata": {},
   "source": [
    "del data['Unnamed: 0']"
   ]
  },
  {
   "cell_type": "code",
   "execution_count": 460,
   "metadata": {},
   "outputs": [],
   "source": [
    "data.cleaned=data.cleaned.astype(str)"
   ]
  },
  {
   "cell_type": "code",
   "execution_count": 461,
   "metadata": {},
   "outputs": [
    {
     "name": "stdout",
     "output_type": "stream",
     "text": [
      "Review          object\n",
      "Sentiment       object\n",
      "cleaned         object\n",
      "ReviewLength     int64\n",
      "dtype: object\n"
     ]
    }
   ],
   "source": [
    "print(data.dtypes)"
   ]
  },
  {
   "cell_type": "code",
   "execution_count": 462,
   "metadata": {},
   "outputs": [
    {
     "name": "stdout",
     "output_type": "stream",
     "text": [
      "Shape of TF-IDF Corpus =====> (2011, 9224) \n",
      "\n",
      "Sample Review:  বইটা ফালতু\n",
      "          tfidf\n",
      "ফালতু  0.818806\n",
      "বইটা   0.574070\n"
     ]
    }
   ],
   "source": [
    "tweet= 'বইটা ফালতু'\n",
    "cv,feature_vector = calc_unigram_tfidf(data.cleaned)  \n",
    "print(\"Shape of TF-IDF Corpus =====>\",feature_vector.shape,'\\n')\n",
    "show_tfidf(cv,tweet)\n",
    "#first_vector = tfidf.transform([samp_review]).toarray()"
   ]
  },
  {
   "cell_type": "code",
   "execution_count": 463,
   "metadata": {},
   "outputs": [],
   "source": [
    "#help(calc_unigram_tfidf)"
   ]
  },
  {
   "cell_type": "code",
   "execution_count": 464,
   "metadata": {},
   "outputs": [
    {
     "data": {
      "text/html": [
       "<div>\n",
       "<style scoped>\n",
       "    .dataframe tbody tr th:only-of-type {\n",
       "        vertical-align: middle;\n",
       "    }\n",
       "\n",
       "    .dataframe tbody tr th {\n",
       "        vertical-align: top;\n",
       "    }\n",
       "\n",
       "    .dataframe thead th {\n",
       "        text-align: right;\n",
       "    }\n",
       "</style>\n",
       "<table border=\"1\" class=\"dataframe\">\n",
       "  <thead>\n",
       "    <tr style=\"text-align: right;\">\n",
       "      <th></th>\n",
       "      <th>Review</th>\n",
       "      <th>Sentiment</th>\n",
       "      <th>cleaned</th>\n",
       "      <th>ReviewLength</th>\n",
       "    </tr>\n",
       "  </thead>\n",
       "  <tbody>\n",
       "    <tr>\n",
       "      <th>0</th>\n",
       "      <td>বই টি আমার সংগ্রহে আছে এবং তা আমি পড়েছি। বই টি...</td>\n",
       "      <td>Negative</td>\n",
       "      <td>বই টি সংগ্রহে আছে তা পড়েছি বই টি সম্পর্কে যদি ...</td>\n",
       "      <td>127</td>\n",
       "    </tr>\n",
       "    <tr>\n",
       "      <th>1</th>\n",
       "      <td>ফালতু বই। শুধু শুধু টাকা নষ্ট।</td>\n",
       "      <td>Negative</td>\n",
       "      <td>ফালতু বই শুধু শুধু টাকা নষ্ট</td>\n",
       "      <td>6</td>\n",
       "    </tr>\n",
       "    <tr>\n",
       "      <th>2</th>\n",
       "      <td>একটু পড়ে দেখতে বলসিলো, একটু পড়লাম। তারপর হড়হড় ...</td>\n",
       "      <td>Negative</td>\n",
       "      <td>একটু পড়ে দেখতে বলসিলো একটু পড়লাম তারপর হড়হড় বম...</td>\n",
       "      <td>35</td>\n",
       "    </tr>\n",
       "    <tr>\n",
       "      <th>3</th>\n",
       "      <td>এটা কোন বই? ছিঃ ধিকার জানায়। প্রশাসনের নজর দেয়...</td>\n",
       "      <td>Negative</td>\n",
       "      <td>এটা বই ছিঃ ধিকার জানায় প্রশাসনের নজর দেয়া উচিৎ...</td>\n",
       "      <td>30</td>\n",
       "    </tr>\n",
       "    <tr>\n",
       "      <th>4</th>\n",
       "      <td>প্রিয় রকমারি.কম, দয়া করে বইটি আপনাদের ওয়েবসাইট...</td>\n",
       "      <td>Negative</td>\n",
       "      <td>প্রিয় রকমারি কম দয়া বইটি আপনাদের ওয়েবসাইট সরিয়...</td>\n",
       "      <td>14</td>\n",
       "    </tr>\n",
       "    <tr>\n",
       "      <th>...</th>\n",
       "      <td>...</td>\n",
       "      <td>...</td>\n",
       "      <td>...</td>\n",
       "      <td>...</td>\n",
       "    </tr>\n",
       "    <tr>\n",
       "      <th>2006</th>\n",
       "      <td>1 স্টার দেওয়াও বৃথা। মানে ভিডিও বানাইয়া আজকে ...</td>\n",
       "      <td>Negative</td>\n",
       "      <td>স্টার দেওয়াও বৃথা মানে ভিডিও বানাইয়া আজকে লেখক...</td>\n",
       "      <td>65</td>\n",
       "    </tr>\n",
       "    <tr>\n",
       "      <th>2007</th>\n",
       "      <td>তাদের কথা শুনলে মনে হয় তারা এই মনে হয় আশে পাশে...</td>\n",
       "      <td>Negative</td>\n",
       "      <td>তাদের কথা শুনলে মনে হয় তারা মনে হয় আশে পাশে তা...</td>\n",
       "      <td>68</td>\n",
       "    </tr>\n",
       "    <tr>\n",
       "      <th>2008</th>\n",
       "      <td>এইরকম বই পড়ার চাইতে মুড়ি কিন্না খাওয়াও ভালো। ...</td>\n",
       "      <td>Negative</td>\n",
       "      <td>এইরকম বই পড়ার চাইতে মুড়ি কিন্না খাওয়াও ভালো</td>\n",
       "      <td>8</td>\n",
       "    </tr>\n",
       "    <tr>\n",
       "      <th>2009</th>\n",
       "      <td>বোগাস বই। টাকা নষ্ট।\\n                       ...</td>\n",
       "      <td>Negative</td>\n",
       "      <td>বোগাস বই টাকা নষ্ট</td>\n",
       "      <td>4</td>\n",
       "    </tr>\n",
       "    <tr>\n",
       "      <th>2010</th>\n",
       "      <td>বইটি ভালো না। শুধু কিনে টাকা নষ্ট করা ছাড়া আর ...</td>\n",
       "      <td>Negative</td>\n",
       "      <td>বইটি ভালো না শুধু কিনে টাকা নষ্ট করা ছাড়া কিছু...</td>\n",
       "      <td>11</td>\n",
       "    </tr>\n",
       "  </tbody>\n",
       "</table>\n",
       "<p>2011 rows × 4 columns</p>\n",
       "</div>"
      ],
      "text/plain": [
       "                                                 Review Sentiment  \\\n",
       "0     বই টি আমার সংগ্রহে আছে এবং তা আমি পড়েছি। বই টি...  Negative   \n",
       "1                        ফালতু বই। শুধু শুধু টাকা নষ্ট।  Negative   \n",
       "2     একটু পড়ে দেখতে বলসিলো, একটু পড়লাম। তারপর হড়হড় ...  Negative   \n",
       "3     এটা কোন বই? ছিঃ ধিকার জানায়। প্রশাসনের নজর দেয়...  Negative   \n",
       "4     প্রিয় রকমারি.কম, দয়া করে বইটি আপনাদের ওয়েবসাইট...  Negative   \n",
       "...                                                 ...       ...   \n",
       "2006   1 স্টার দেওয়াও বৃথা। মানে ভিডিও বানাইয়া আজকে ...  Negative   \n",
       "2007  তাদের কথা শুনলে মনে হয় তারা এই মনে হয় আশে পাশে...  Negative   \n",
       "2008   এইরকম বই পড়ার চাইতে মুড়ি কিন্না খাওয়াও ভালো। ...  Negative   \n",
       "2009   বোগাস বই। টাকা নষ্ট।\\n                       ...  Negative   \n",
       "2010  বইটি ভালো না। শুধু কিনে টাকা নষ্ট করা ছাড়া আর ...  Negative   \n",
       "\n",
       "                                                cleaned  ReviewLength  \n",
       "0     বই টি সংগ্রহে আছে তা পড়েছি বই টি সম্পর্কে যদি ...           127  \n",
       "1                          ফালতু বই শুধু শুধু টাকা নষ্ট             6  \n",
       "2     একটু পড়ে দেখতে বলসিলো একটু পড়লাম তারপর হড়হড় বম...            35  \n",
       "3     এটা বই ছিঃ ধিকার জানায় প্রশাসনের নজর দেয়া উচিৎ...            30  \n",
       "4     প্রিয় রকমারি কম দয়া বইটি আপনাদের ওয়েবসাইট সরিয়...            14  \n",
       "...                                                 ...           ...  \n",
       "2006  স্টার দেওয়াও বৃথা মানে ভিডিও বানাইয়া আজকে লেখক...            65  \n",
       "2007  তাদের কথা শুনলে মনে হয় তারা মনে হয় আশে পাশে তা...            68  \n",
       "2008        এইরকম বই পড়ার চাইতে মুড়ি কিন্না খাওয়াও ভালো             8  \n",
       "2009                                 বোগাস বই টাকা নষ্ট             4  \n",
       "2010  বইটি ভালো না শুধু কিনে টাকা নষ্ট করা ছাড়া কিছু...            11  \n",
       "\n",
       "[2011 rows x 4 columns]"
      ]
     },
     "execution_count": 464,
     "metadata": {},
     "output_type": "execute_result"
    }
   ],
   "source": [
    "data"
   ]
  },
  {
   "cell_type": "markdown",
   "metadata": {},
   "source": [
    "## ML Model Development Using Unigram Feature"
   ]
  },
  {
   "cell_type": "markdown",
   "metadata": {},
   "source": [
    "### Unigram Tf-idf Feature Extraction, Label Encoding and Splitting"
   ]
  },
  {
   "cell_type": "code",
   "execution_count": 465,
   "metadata": {},
   "outputs": [
    {
     "name": "stdout",
     "output_type": "stream",
     "text": [
      "Feature Size :======> 9224\n",
      "\n",
      "Dataset Distribution:\n",
      "\n",
      "\tSet Name \t\tSize\n",
      "\t========\t\t======\n",
      "\tFull\t\t\t 2011 \n",
      "\tTraining\t\t 1608 \n",
      "\tTest\t\t\t 403\n"
     ]
    }
   ],
   "source": [
    "from utils import label_encoding,dataset_split\n",
    "from utils import calc_unigram_tfidf\n",
    "\n",
    "# calculate the Unigram Tf-idf feature\n",
    "cv,feature_vector = calc_unigram_tfidf(data.cleaned) \n",
    "# Encode the labels\n",
    "lables = label_encoding(data.Sentiment,False)\n",
    "# Split the Feature into train and test set\n",
    "X_train,X_test,y_train,y_test = dataset_split(feature_space=feature_vector,sentiment=lables)"
   ]
  },
  {
   "cell_type": "markdown",
   "metadata": {},
   "source": [
    "### Model Defination"
   ]
  },
  {
   "cell_type": "code",
   "execution_count": 466,
   "metadata": {},
   "outputs": [
    {
     "name": "stderr",
     "output_type": "stream",
     "text": [
      "C:\\Users\\user\\anaconda3\\lib\\site-packages\\sklearn\\linear_model\\_stochastic_gradient.py:574: ConvergenceWarning: Maximum number of iteration reached before convergence. Consider increasing max_iter to improve the fit.\n",
      "  warnings.warn(\"Maximum number of iteration reached before \"\n"
     ]
    }
   ],
   "source": [
    "from utils import model_performace,ml_models_for_unigram_tfidf\n",
    "\n",
    "## classifiers defination\n",
    "ml_models,model_names = ml_models_for_unigram_tfidf() \n",
    "\n",
    "# call model accuracy function and save the metrices into a dictionary\n",
    "accuracy = {f'{model_names[i]}':model_performace(model,X_train,X_test,y_train,y_test) for i,model in enumerate(ml_models)}\n",
    "# Save the performance parameter into json file\n",
    "with open('ml_performance_unigram.json', 'w') as f:\n",
    "    json.dump(accuracy, f)\n"
   ]
  },
  {
   "cell_type": "markdown",
   "metadata": {},
   "source": [
    "### Performance Table  "
   ]
  },
  {
   "cell_type": "code",
   "execution_count": 467,
   "metadata": {},
   "outputs": [
    {
     "data": {
      "text/html": [
       "<div>\n",
       "<style scoped>\n",
       "    .dataframe tbody tr th:only-of-type {\n",
       "        vertical-align: middle;\n",
       "    }\n",
       "\n",
       "    .dataframe tbody tr th {\n",
       "        vertical-align: top;\n",
       "    }\n",
       "\n",
       "    .dataframe thead th {\n",
       "        text-align: right;\n",
       "    }\n",
       "</style>\n",
       "<table border=\"1\" class=\"dataframe\">\n",
       "  <thead>\n",
       "    <tr style=\"text-align: right;\">\n",
       "      <th></th>\n",
       "      <th>Accuracy</th>\n",
       "      <th>Precision</th>\n",
       "      <th>Recall</th>\n",
       "      <th>F1 Score</th>\n",
       "    </tr>\n",
       "  </thead>\n",
       "  <tbody>\n",
       "    <tr>\n",
       "      <th>LR</th>\n",
       "      <td>90.82</td>\n",
       "      <td>94.38</td>\n",
       "      <td>86.15</td>\n",
       "      <td>90.08</td>\n",
       "    </tr>\n",
       "    <tr>\n",
       "      <th>DT</th>\n",
       "      <td>81.64</td>\n",
       "      <td>81.03</td>\n",
       "      <td>81.03</td>\n",
       "      <td>81.03</td>\n",
       "    </tr>\n",
       "    <tr>\n",
       "      <th>RF</th>\n",
       "      <td>89.83</td>\n",
       "      <td>93.26</td>\n",
       "      <td>85.13</td>\n",
       "      <td>89.01</td>\n",
       "    </tr>\n",
       "    <tr>\n",
       "      <th>MNB</th>\n",
       "      <td>94.04</td>\n",
       "      <td>91.30</td>\n",
       "      <td>96.92</td>\n",
       "      <td>94.03</td>\n",
       "    </tr>\n",
       "    <tr>\n",
       "      <th>KNN</th>\n",
       "      <td>59.55</td>\n",
       "      <td>100.00</td>\n",
       "      <td>16.41</td>\n",
       "      <td>28.19</td>\n",
       "    </tr>\n",
       "    <tr>\n",
       "      <th>Linear SVM</th>\n",
       "      <td>90.32</td>\n",
       "      <td>95.88</td>\n",
       "      <td>83.59</td>\n",
       "      <td>89.32</td>\n",
       "    </tr>\n",
       "    <tr>\n",
       "      <th>RBF SVM</th>\n",
       "      <td>90.82</td>\n",
       "      <td>94.38</td>\n",
       "      <td>86.15</td>\n",
       "      <td>90.08</td>\n",
       "    </tr>\n",
       "    <tr>\n",
       "      <th>SGD</th>\n",
       "      <td>92.56</td>\n",
       "      <td>94.59</td>\n",
       "      <td>89.74</td>\n",
       "      <td>92.11</td>\n",
       "    </tr>\n",
       "  </tbody>\n",
       "</table>\n",
       "</div>"
      ],
      "text/plain": [
       "            Accuracy  Precision  Recall  F1 Score\n",
       "LR             90.82      94.38   86.15     90.08\n",
       "DT             81.64      81.03   81.03     81.03\n",
       "RF             89.83      93.26   85.13     89.01\n",
       "MNB            94.04      91.30   96.92     94.03\n",
       "KNN            59.55     100.00   16.41     28.19\n",
       "Linear SVM     90.32      95.88   83.59     89.32\n",
       "RBF SVM        90.82      94.38   86.15     90.08\n",
       "SGD            92.56      94.59   89.74     92.11"
      ]
     },
     "execution_count": 467,
     "metadata": {},
     "output_type": "execute_result"
    }
   ],
   "source": [
    "from utils import performance_table\n",
    "\n",
    "# Load the json file\n",
    "accuracy = json.load(open('ml_performance_unigram.json'))\n",
    "table = performance_table(accuracy)\n",
    "table"
   ]
  },
  {
   "cell_type": "code",
   "execution_count": 468,
   "metadata": {},
   "outputs": [
    {
     "name": "stdout",
     "output_type": "stream",
     "text": [
      "Highest Accuracy achieved by MNB at = 94.04\n",
      "Highest F1-Score achieved by MNB at = 94.03\n",
      "Highest Precision Score achieved by KNN at = 100.0\n",
      "Highest Recall Score achieved by MNB at = 96.92\n"
     ]
    }
   ],
   "source": [
    "print(f\"Highest Accuracy achieved by {table.Accuracy.idxmax(axis = 0)} at = {max(table.Accuracy)}\")\n",
    "print(f\"Highest F1-Score achieved by {table['F1 Score'].idxmax(axis = 0)} at = {max(table['F1 Score'] )}\")\n",
    "print(f\"Highest Precision Score achieved by {table['Precision'].idxmax(axis = 0)} at = {max(table['Precision'] )}\")\n",
    "print(f\"Highest Recall Score achieved by {table['Recall'].idxmax(axis = 0)} at = {max(table['Recall'] )}\")\n"
   ]
  },
  {
   "cell_type": "markdown",
   "metadata": {},
   "source": [
    "### ROC Curve"
   ]
  },
  {
   "cell_type": "code",
   "execution_count": 469,
   "metadata": {},
   "outputs": [
    {
     "name": "stderr",
     "output_type": "stream",
     "text": [
      "C:\\Users\\user\\anaconda3\\lib\\site-packages\\sklearn\\linear_model\\_stochastic_gradient.py:574: ConvergenceWarning: Maximum number of iteration reached before convergence. Consider increasing max_iter to improve the fit.\n",
      "  warnings.warn(\"Maximum number of iteration reached before \"\n"
     ]
    },
    {
     "data": {
      "image/png": "[encoded data removed]",
      "text/plain": [
       "<Figure size 576x432 with 1 Axes>"
      ]
     },
     "metadata": {
      "needs_background": "light"
     },
     "output_type": "display_data"
    }
   ],
   "source": [
    "from utils import plot_roc_curve,ml_models_for_unigram_tfidf\n",
    "## classifiers defination\n",
    "gram_models = ml_models_for_unigram_tfidf() \n",
    "\n",
    "plot_roc_curve(gram_models,X_train,X_test,y_train,y_test,'Unigram')"
   ]
  },
  {
   "cell_type": "markdown",
   "metadata": {},
   "source": [
    "### Precision-Recall Curve"
   ]
  },
  {
   "cell_type": "code",
   "execution_count": 470,
   "metadata": {},
   "outputs": [
    {
     "name": "stderr",
     "output_type": "stream",
     "text": [
      "C:\\Users\\user\\anaconda3\\lib\\site-packages\\sklearn\\linear_model\\_stochastic_gradient.py:574: ConvergenceWarning: Maximum number of iteration reached before convergence. Consider increasing max_iter to improve the fit.\n",
      "  warnings.warn(\"Maximum number of iteration reached before \"\n"
     ]
    },
    {
     "data": {
      "image/png": "[encoded data removed]",
      "text/plain": [
       "<Figure size 576x432 with 1 Axes>"
      ]
     },
     "metadata": {
      "needs_background": "light"
     },
     "output_type": "display_data"
    }
   ],
   "source": [
    "from utils import plot_PR_curve,ml_models_for_unigram_tfidf\n",
    "\n",
    "gram_models = ml_models_for_unigram_tfidf()\n",
    "\n",
    "plot_PR_curve(gram_models,X_train,X_test,y_train,y_test,'Unigram')"
   ]
  },
  {
   "cell_type": "markdown",
   "metadata": {},
   "source": [
    "## Model Development Using Bigram Feature"
   ]
  },
  {
   "cell_type": "markdown",
   "metadata": {},
   "source": [
    "### Bi-gram Tf-idf Feature Extraction, Label Encoding and Splitting"
   ]
  },
  {
   "cell_type": "code",
   "execution_count": 471,
   "metadata": {},
   "outputs": [
    {
     "name": "stdout",
     "output_type": "stream",
     "text": [
      "Feature Size :======> 40845\n",
      "\n",
      "Dataset Distribution:\n",
      "\n",
      "\tSet Name \t\tSize\n",
      "\t========\t\t======\n",
      "\tFull\t\t\t 2011 \n",
      "\tTraining\t\t 1608 \n",
      "\tTest\t\t\t 403\n"
     ]
    }
   ],
   "source": [
    "from utils import label_encoding,dataset_split\n",
    "from utils import calc_bigram_tfidf\n",
    "\n",
    "# calculate the Bigram Tf-idf feature\n",
    "cv,feature_vector = calc_bigram_tfidf(data.cleaned) \n",
    "# Encode the labels\n",
    "lables = label_encoding(data.Sentiment,False)\n",
    "# Split the Feature into train and test set\n",
    "X_train,X_test,y_train,y_test = dataset_split(feature_space=feature_vector,sentiment=lables)"
   ]
  },
  {
   "cell_type": "markdown",
   "metadata": {},
   "source": [
    "### Model Defination"
   ]
  },
  {
   "cell_type": "code",
   "execution_count": 472,
   "metadata": {},
   "outputs": [
    {
     "name": "stderr",
     "output_type": "stream",
     "text": [
      "C:\\Users\\user\\anaconda3\\lib\\site-packages\\sklearn\\linear_model\\_stochastic_gradient.py:574: ConvergenceWarning: Maximum number of iteration reached before convergence. Consider increasing max_iter to improve the fit.\n",
      "  warnings.warn(\"Maximum number of iteration reached before \"\n"
     ]
    }
   ],
   "source": [
    "from utils import model_performace,ml_models_for_bigram_tfidf\n",
    "                \n",
    "# Classifiers Defination\n",
    "ml_models,model_names = ml_models_for_bigram_tfidf() \n",
    "\n",
    "# call model accuracy function and save the metrices into a dictionary\n",
    "accuracy = {f'{model_names[i]}':model_performace(model,X_train,X_test,y_train,y_test) for i,model in enumerate(ml_models)}\n",
    "# Save the performance parameter into json file\n",
    "with open('ml_performance_bigram.json', 'w') as f:\n",
    "    json.dump(accuracy, f)\n"
   ]
  },
  {
   "cell_type": "markdown",
   "metadata": {},
   "source": [
    "### Performance Table"
   ]
  },
  {
   "cell_type": "code",
   "execution_count": 473,
   "metadata": {},
   "outputs": [
    {
     "data": {
      "text/html": [
       "<div>\n",
       "<style scoped>\n",
       "    .dataframe tbody tr th:only-of-type {\n",
       "        vertical-align: middle;\n",
       "    }\n",
       "\n",
       "    .dataframe tbody tr th {\n",
       "        vertical-align: top;\n",
       "    }\n",
       "\n",
       "    .dataframe thead th {\n",
       "        text-align: right;\n",
       "    }\n",
       "</style>\n",
       "<table border=\"1\" class=\"dataframe\">\n",
       "  <thead>\n",
       "    <tr style=\"text-align: right;\">\n",
       "      <th></th>\n",
       "      <th>Accuracy</th>\n",
       "      <th>Precision</th>\n",
       "      <th>Recall</th>\n",
       "      <th>F1 Score</th>\n",
       "    </tr>\n",
       "  </thead>\n",
       "  <tbody>\n",
       "    <tr>\n",
       "      <th>LR</th>\n",
       "      <td>89.33</td>\n",
       "      <td>94.19</td>\n",
       "      <td>83.08</td>\n",
       "      <td>88.28</td>\n",
       "    </tr>\n",
       "    <tr>\n",
       "      <th>DT</th>\n",
       "      <td>80.89</td>\n",
       "      <td>80.10</td>\n",
       "      <td>80.51</td>\n",
       "      <td>80.31</td>\n",
       "    </tr>\n",
       "    <tr>\n",
       "      <th>RF</th>\n",
       "      <td>88.83</td>\n",
       "      <td>93.60</td>\n",
       "      <td>82.56</td>\n",
       "      <td>87.74</td>\n",
       "    </tr>\n",
       "    <tr>\n",
       "      <th>MNB</th>\n",
       "      <td>92.80</td>\n",
       "      <td>89.52</td>\n",
       "      <td>96.41</td>\n",
       "      <td>92.84</td>\n",
       "    </tr>\n",
       "    <tr>\n",
       "      <th>KNN</th>\n",
       "      <td>54.59</td>\n",
       "      <td>100.00</td>\n",
       "      <td>6.15</td>\n",
       "      <td>11.59</td>\n",
       "    </tr>\n",
       "    <tr>\n",
       "      <th>Linear SVM</th>\n",
       "      <td>88.59</td>\n",
       "      <td>96.27</td>\n",
       "      <td>79.49</td>\n",
       "      <td>87.08</td>\n",
       "    </tr>\n",
       "    <tr>\n",
       "      <th>RBF SVM</th>\n",
       "      <td>88.59</td>\n",
       "      <td>96.27</td>\n",
       "      <td>79.49</td>\n",
       "      <td>87.08</td>\n",
       "    </tr>\n",
       "    <tr>\n",
       "      <th>SGD</th>\n",
       "      <td>90.82</td>\n",
       "      <td>93.89</td>\n",
       "      <td>86.67</td>\n",
       "      <td>90.13</td>\n",
       "    </tr>\n",
       "  </tbody>\n",
       "</table>\n",
       "</div>"
      ],
      "text/plain": [
       "            Accuracy  Precision  Recall  F1 Score\n",
       "LR             89.33      94.19   83.08     88.28\n",
       "DT             80.89      80.10   80.51     80.31\n",
       "RF             88.83      93.60   82.56     87.74\n",
       "MNB            92.80      89.52   96.41     92.84\n",
       "KNN            54.59     100.00    6.15     11.59\n",
       "Linear SVM     88.59      96.27   79.49     87.08\n",
       "RBF SVM        88.59      96.27   79.49     87.08\n",
       "SGD            90.82      93.89   86.67     90.13"
      ]
     },
     "execution_count": 473,
     "metadata": {},
     "output_type": "execute_result"
    }
   ],
   "source": [
    "from utils import performance_table\n",
    "\n",
    "# Load the json file\n",
    "accuracy = json.load(open('ml_performance_bigram.json'))\n",
    "table = performance_table(accuracy)\n",
    "table"
   ]
  },
  {
   "cell_type": "code",
   "execution_count": 474,
   "metadata": {},
   "outputs": [
    {
     "name": "stdout",
     "output_type": "stream",
     "text": [
      "Highest Accuracy achieved by MNB at = 92.80000000000001\n",
      "Highest F1-Score achieved by MNB at = 92.84\n",
      "Highest Precision Score achieved by KNN at = 100.0\n",
      "Highest Recall Score achieved by MNB at = 96.41\n"
     ]
    }
   ],
   "source": [
    "print(f\"Highest Accuracy achieved by {table.Accuracy.idxmax(axis = 0)} at = {max(table.Accuracy)}\")\n",
    "print(f\"Highest F1-Score achieved by {table['F1 Score'].idxmax(axis = 0)} at = {max(table['F1 Score'] )}\")\n",
    "print(f\"Highest Precision Score achieved by {table['Precision'].idxmax(axis = 0)} at = {max(table['Precision'] )}\")\n",
    "print(f\"Highest Recall Score achieved by {table['Recall'].idxmax(axis = 0)} at = {max(table['Recall'] )}\")\n"
   ]
  },
  {
   "cell_type": "markdown",
   "metadata": {},
   "source": [
    "### ROC Curve"
   ]
  },
  {
   "cell_type": "code",
   "execution_count": 475,
   "metadata": {},
   "outputs": [
    {
     "name": "stderr",
     "output_type": "stream",
     "text": [
      "C:\\Users\\user\\anaconda3\\lib\\site-packages\\sklearn\\linear_model\\_stochastic_gradient.py:574: ConvergenceWarning: Maximum number of iteration reached before convergence. Consider increasing max_iter to improve the fit.\n",
      "  warnings.warn(\"Maximum number of iteration reached before \"\n"
     ]
    },
    {
     "data": {
      "image/png": "[encoded data removed]",
      "text/plain": [
       "<Figure size 576x432 with 1 Axes>"
      ]
     },
     "metadata": {
      "needs_background": "light"
     },
     "output_type": "display_data"
    }
   ],
   "source": [
    "from utils import plot_roc_curve,ml_models_for_bigram_tfidf\n",
    "## classifiers defination\n",
    "gram_models = ml_models_for_bigram_tfidf()\n",
    "\n",
    "plot_roc_curve(gram_models,X_train,X_test,y_train,y_test,'Bigram')"
   ]
  },
  {
   "cell_type": "markdown",
   "metadata": {},
   "source": [
    "## Precision-Recall Curve"
   ]
  },
  {
   "cell_type": "code",
   "execution_count": 476,
   "metadata": {},
   "outputs": [
    {
     "name": "stderr",
     "output_type": "stream",
     "text": [
      "C:\\Users\\user\\anaconda3\\lib\\site-packages\\sklearn\\linear_model\\_stochastic_gradient.py:574: ConvergenceWarning: Maximum number of iteration reached before convergence. Consider increasing max_iter to improve the fit.\n",
      "  warnings.warn(\"Maximum number of iteration reached before \"\n"
     ]
    },
    {
     "data": {
      "image/png": "[encoded data removed]",
      "text/plain": [
       "<Figure size 576x432 with 1 Axes>"
      ]
     },
     "metadata": {
      "needs_background": "light"
     },
     "output_type": "display_data"
    }
   ],
   "source": [
    "from utils import plot_PR_curve,ml_models_for_bigram_tfidf\n",
    "## classifiers defination\n",
    "gram_models = ml_models_for_bigram_tfidf()\n",
    "\n",
    "plot_PR_curve(gram_models,X_train,X_test,y_train,y_test,'Bigram')"
   ]
  },
  {
   "cell_type": "markdown",
   "metadata": {},
   "source": [
    "## Model Development Using Tri-gram Feature"
   ]
  },
  {
   "cell_type": "markdown",
   "metadata": {},
   "source": [
    "### Tri-gram Tf-idf Feature Extraction, Label Encoding and Splitting"
   ]
  },
  {
   "cell_type": "code",
   "execution_count": 477,
   "metadata": {},
   "outputs": [
    {
     "name": "stdout",
     "output_type": "stream",
     "text": [
      "Feature Size :======> 77325\n",
      "\n",
      "Dataset Distribution:\n",
      "\n",
      "\tSet Name \t\tSize\n",
      "\t========\t\t======\n",
      "\tFull\t\t\t 2011 \n",
      "\tTraining\t\t 1608 \n",
      "\tTest\t\t\t 403\n"
     ]
    }
   ],
   "source": [
    "from utils import label_encoding,dataset_split\n",
    "from utils import calc_trigram_tfidf\n",
    "\n",
    "# calculate the Tri-gram Tf-idf feature\n",
    "cv,feature_vector = calc_trigram_tfidf(data.cleaned) \n",
    "# Encode the labels\n",
    "lables = label_encoding(data.Sentiment,False)\n",
    "# Split the Feature into train and test set\n",
    "X_train,X_test,y_train,y_test = dataset_split(feature_space=feature_vector,sentiment=lables)"
   ]
  },
  {
   "cell_type": "markdown",
   "metadata": {},
   "source": [
    "### Model Defination"
   ]
  },
  {
   "cell_type": "code",
   "execution_count": 478,
   "metadata": {},
   "outputs": [
    {
     "name": "stderr",
     "output_type": "stream",
     "text": [
      "C:\\Users\\user\\anaconda3\\lib\\site-packages\\sklearn\\linear_model\\_stochastic_gradient.py:574: ConvergenceWarning: Maximum number of iteration reached before convergence. Consider increasing max_iter to improve the fit.\n",
      "  warnings.warn(\"Maximum number of iteration reached before \"\n"
     ]
    }
   ],
   "source": [
    "from utils import model_performace,ml_models_for_trigram_tfidf\n",
    "            \n",
    "\n",
    "# Classifiers Defination\n",
    "ml_models,model_names = ml_models_for_trigram_tfidf()             \n",
    "\n",
    "# call model accuracy function and save the metrices into a dictionary\n",
    "accuracy = {f'{model_names[i]}':model_performace(model,X_train,X_test,y_train,y_test) for i,model in enumerate(ml_models)}\n",
    "# Save the performance parameter into json file\n",
    "with open('ml_performance_trigram.json', 'w') as f:\n",
    "    json.dump(accuracy, f)\n"
   ]
  },
  {
   "cell_type": "markdown",
   "metadata": {},
   "source": [
    "### Performance Table"
   ]
  },
  {
   "cell_type": "code",
   "execution_count": 479,
   "metadata": {},
   "outputs": [
    {
     "data": {
      "text/html": [
       "<div>\n",
       "<style scoped>\n",
       "    .dataframe tbody tr th:only-of-type {\n",
       "        vertical-align: middle;\n",
       "    }\n",
       "\n",
       "    .dataframe tbody tr th {\n",
       "        vertical-align: top;\n",
       "    }\n",
       "\n",
       "    .dataframe thead th {\n",
       "        text-align: right;\n",
       "    }\n",
       "</style>\n",
       "<table border=\"1\" class=\"dataframe\">\n",
       "  <thead>\n",
       "    <tr style=\"text-align: right;\">\n",
       "      <th></th>\n",
       "      <th>Accuracy</th>\n",
       "      <th>Precision</th>\n",
       "      <th>Recall</th>\n",
       "      <th>F1 Score</th>\n",
       "    </tr>\n",
       "  </thead>\n",
       "  <tbody>\n",
       "    <tr>\n",
       "      <th>LR</th>\n",
       "      <td>88.34</td>\n",
       "      <td>94.05</td>\n",
       "      <td>81.03</td>\n",
       "      <td>87.05</td>\n",
       "    </tr>\n",
       "    <tr>\n",
       "      <th>DT</th>\n",
       "      <td>79.40</td>\n",
       "      <td>78.28</td>\n",
       "      <td>79.49</td>\n",
       "      <td>78.88</td>\n",
       "    </tr>\n",
       "    <tr>\n",
       "      <th>RF</th>\n",
       "      <td>88.83</td>\n",
       "      <td>93.10</td>\n",
       "      <td>83.08</td>\n",
       "      <td>87.80</td>\n",
       "    </tr>\n",
       "    <tr>\n",
       "      <th>MNB</th>\n",
       "      <td>91.32</td>\n",
       "      <td>87.04</td>\n",
       "      <td>96.41</td>\n",
       "      <td>91.48</td>\n",
       "    </tr>\n",
       "    <tr>\n",
       "      <th>KNN</th>\n",
       "      <td>54.09</td>\n",
       "      <td>100.00</td>\n",
       "      <td>5.13</td>\n",
       "      <td>9.76</td>\n",
       "    </tr>\n",
       "    <tr>\n",
       "      <th>Linear SVM</th>\n",
       "      <td>85.36</td>\n",
       "      <td>95.95</td>\n",
       "      <td>72.82</td>\n",
       "      <td>82.80</td>\n",
       "    </tr>\n",
       "    <tr>\n",
       "      <th>RBF SVM</th>\n",
       "      <td>87.34</td>\n",
       "      <td>95.00</td>\n",
       "      <td>77.95</td>\n",
       "      <td>85.63</td>\n",
       "    </tr>\n",
       "    <tr>\n",
       "      <th>SGD</th>\n",
       "      <td>90.32</td>\n",
       "      <td>94.32</td>\n",
       "      <td>85.13</td>\n",
       "      <td>89.49</td>\n",
       "    </tr>\n",
       "  </tbody>\n",
       "</table>\n",
       "</div>"
      ],
      "text/plain": [
       "            Accuracy  Precision  Recall  F1 Score\n",
       "LR             88.34      94.05   81.03     87.05\n",
       "DT             79.40      78.28   79.49     78.88\n",
       "RF             88.83      93.10   83.08     87.80\n",
       "MNB            91.32      87.04   96.41     91.48\n",
       "KNN            54.09     100.00    5.13      9.76\n",
       "Linear SVM     85.36      95.95   72.82     82.80\n",
       "RBF SVM        87.34      95.00   77.95     85.63\n",
       "SGD            90.32      94.32   85.13     89.49"
      ]
     },
     "execution_count": 479,
     "metadata": {},
     "output_type": "execute_result"
    }
   ],
   "source": [
    "from utils import performance_table\n",
    "\n",
    "# Load the json file\n",
    "accuracy = json.load(open('ml_performance_trigram.json'))\n",
    "table = performance_table(accuracy)\n",
    "table\n"
   ]
  },
  {
   "cell_type": "code",
   "execution_count": 480,
   "metadata": {},
   "outputs": [
    {
     "name": "stdout",
     "output_type": "stream",
     "text": [
      "Highest Accuracy achieved by MNB at = 91.32000000000001\n",
      "Highest F1-Score achieved by MNB at = 91.47999999999999\n",
      "Highest Precision Score achieved by KNN at = 100.0\n",
      "Highest Recall Score achieved by MNB at = 96.41\n"
     ]
    }
   ],
   "source": [
    "print(f\"Highest Accuracy achieved by {table.Accuracy.idxmax(axis = 0)} at = {max(table.Accuracy)}\")\n",
    "print(f\"Highest F1-Score achieved by {table['F1 Score'].idxmax(axis = 0)} at = {max(table['F1 Score'] )}\")\n",
    "print(f\"Highest Precision Score achieved by {table['Precision'].idxmax(axis = 0)} at = {max(table['Precision'] )}\")\n",
    "print(f\"Highest Recall Score achieved by {table['Recall'].idxmax(axis = 0)} at = {max(table['Recall'] )}\")\n"
   ]
  },
  {
   "cell_type": "markdown",
   "metadata": {},
   "source": [
    "### ROC Curve"
   ]
  },
  {
   "cell_type": "code",
   "execution_count": 481,
   "metadata": {},
   "outputs": [
    {
     "name": "stderr",
     "output_type": "stream",
     "text": [
      "C:\\Users\\user\\anaconda3\\lib\\site-packages\\sklearn\\linear_model\\_stochastic_gradient.py:574: ConvergenceWarning: Maximum number of iteration reached before convergence. Consider increasing max_iter to improve the fit.\n",
      "  warnings.warn(\"Maximum number of iteration reached before \"\n"
     ]
    },
    {
     "data": {
      "image/png": "[encoded data removed]",
      "text/plain": [
       "<Figure size 576x432 with 1 Axes>"
      ]
     },
     "metadata": {
      "needs_background": "light"
     },
     "output_type": "display_data"
    }
   ],
   "source": [
    "from utils import plot_roc_curve,ml_models_for_trigram_tfidf\n",
    "## classifiers defination\n",
    "gram_models = ml_models_for_trigram_tfidf()\n",
    "\n",
    "plot_roc_curve(gram_models,X_train,X_test,y_train,y_test,'Trigram')"
   ]
  },
  {
   "cell_type": "markdown",
   "metadata": {},
   "source": [
    "### Precision-Recall"
   ]
  },
  {
   "cell_type": "code",
   "execution_count": 482,
   "metadata": {},
   "outputs": [
    {
     "name": "stderr",
     "output_type": "stream",
     "text": [
      "C:\\Users\\user\\anaconda3\\lib\\site-packages\\sklearn\\linear_model\\_stochastic_gradient.py:574: ConvergenceWarning: Maximum number of iteration reached before convergence. Consider increasing max_iter to improve the fit.\n",
      "  warnings.warn(\"Maximum number of iteration reached before \"\n"
     ]
    },
    {
     "data": {
      "image/png": "[encoded data removed]",
      "text/plain": [
       "<Figure size 576x432 with 1 Axes>"
      ]
     },
     "metadata": {
      "needs_background": "light"
     },
     "output_type": "display_data"
    }
   ],
   "source": [
    "from utils import plot_PR_curve,ml_models_for_trigram_tfidf\n",
    "## classifiers defination\n",
    "gram_models = ml_models_for_trigram_tfidf()\n",
    "\n",
    "plot_PR_curve(gram_models,X_train,X_test,y_train,y_test,'Trigram')"
   ]
  },
  {
   "cell_type": "markdown",
   "metadata": {},
   "source": [
    "## Final Model\n",
    "\n",
    "- Selected Feature: Unigram\n",
    "- Selected Model : Multinomial Naive Bayes"
   ]
  },
  {
   "cell_type": "code",
   "execution_count": 483,
   "metadata": {},
   "outputs": [
    {
     "name": "stdout",
     "output_type": "stream",
     "text": [
      "Feature Size :======> 9224\n",
      "\n",
      "Dataset Distribution:\n",
      "\n",
      "\tSet Name \t\tSize\n",
      "\t========\t\t======\n",
      "\tFull\t\t\t 2011 \n",
      "\tTraining\t\t 1608 \n",
      "\tTest\t\t\t 403\n"
     ]
    }
   ],
   "source": [
    "from sklearn.naive_bayes import MultinomialNB\n",
    "\n",
    "from utils import label_encoding,dataset_split\n",
    "from utils import calc_unigram_tfidf\n",
    "\n",
    "# calculate the Unigram Tf-idf feature\n",
    "cv,feature_vector = calc_unigram_tfidf(data.cleaned) \n",
    "# Encode the labels\n",
    "lables = label_encoding(data.Sentiment,False)\n",
    "# Split the Feature into train and test set\n",
    "X_train,X_test,y_train,y_test = dataset_split(feature_space=feature_vector,sentiment=lables)"
   ]
  },
  {
   "cell_type": "code",
   "execution_count": 484,
   "metadata": {},
   "outputs": [
    {
     "data": {
      "text/plain": [
       "94.04466501240695"
      ]
     },
     "execution_count": 484,
     "metadata": {},
     "output_type": "execute_result"
    }
   ],
   "source": [
    "from sklearn.metrics import accuracy_score\n",
    "mnb_model = MultinomialNB(alpha=0.15)\n",
    "mnb_model.fit(X_train,y_train) \n",
    "y_pred = mnb_model.predict(X_test)\n",
    "accuracy_score(y_true=y_test,y_pred=y_pred)*100"
   ]
  },
  {
   "cell_type": "markdown",
   "metadata": {},
   "source": [
    "### Saved the model for reuse again"
   ]
  },
  {
   "cell_type": "code",
   "execution_count": 487,
   "metadata": {},
   "outputs": [],
   "source": [
    "import pickle\n",
    "# open a file, where you ant to store the data\n",
    "file = open('book_review_mnb.pkl', 'wb')\n",
    "\n",
    "# dump information to that file\n",
    "pickle.dump(mnb_model, file)"
   ]
  },
  {
   "cell_type": "code",
   "execution_count": 488,
   "metadata": {},
   "outputs": [],
   "source": [
    "model = open('book_review_mnb.pkl','rb')\n",
    "nb = pickle.load(model)"
   ]
  },
  {
   "cell_type": "code",
   "execution_count": 489,
   "metadata": {},
   "outputs": [
    {
     "data": {
      "text/plain": [
       "0.9404466501240695"
      ]
     },
     "execution_count": 489,
     "metadata": {},
     "output_type": "execute_result"
    }
   ],
   "source": [
    "y_pred = nb.predict(X_test)\n",
    "accuracy_score(y_test,y_pred)"
   ]
  },
  {
   "cell_type": "markdown",
   "metadata": {},
   "source": [
    "## Check a Review Sentiment using our model"
   ]
  },
  {
   "cell_type": "code",
   "execution_count": 490,
   "metadata": {},
   "outputs": [
    {
     "name": "stdout",
     "output_type": "stream",
     "text": [
      "It is a Negative Review \n"
     ]
    }
   ],
   "source": [
    "# load the model\n",
    "model = open('book_review_mnb.pkl','rb')\n",
    "nb = pickle.load(model)\n",
    "######\n",
    "review = 'aaaasd asd asdasd asd'\n",
    "# Process the reviews\n",
    "processed_review = process_reviews(review,stopwords = stopwords_list,removing_stopwords = True)\n",
    "\n",
    "# calculate the Unigram Tf-idf feature\n",
    "cv,feature_vector = calc_unigram_tfidf(data.cleaned) \n",
    "feature = cv.transform([processed_review]).toarray()\n",
    "\n",
    "sentiment = nb.predict(feature)\n",
    "\n",
    "if (sentiment ==0):\n",
    "    print(f\"It is a Negative Review \")\n",
    "else:\n",
    "    print(f\"It is a Positive Review \")\n"
   ]
  },
  {
   "cell_type": "code",
   "execution_count": 491,
   "metadata": {},
   "outputs": [
    {
     "data": {
      "text/plain": [
       "51.0"
      ]
     },
     "execution_count": 491,
     "metadata": {},
     "output_type": "execute_result"
    }
   ],
   "source": [
    "sentiment = nb.predict_proba(feature)\n",
    "round(max(sentiment.reshape(-1)),2)*100"
   ]
  },
  {
   "cell_type": "code",
   "execution_count": 492,
   "metadata": {},
   "outputs": [
    {
     "data": {
      "text/plain": [
       "''"
      ]
     },
     "execution_count": 492,
     "metadata": {},
     "output_type": "execute_result"
    }
   ],
   "source": [
    "review = 'aaaasd asd asdasd asd'\n",
    "# Process the reviews\n",
    "processed_review = process_reviews(review,stopwords = stopwords_list,removing_stopwords = True)\n",
    "processed_review"
   ]
  },
  {
   "cell_type": "code",
   "execution_count": null,
   "metadata": {},
   "outputs": [],
   "source": []
  }
 ],
 "metadata": {
  "kernelspec": {
   "display_name": "Python 3 (ipykernel)",
   "language": "python",
   "name": "python3"
  },
  "language_info": {
   "codemirror_mode": {
    "name": "ipython",
    "version": 3
   },
   "file_extension": ".py",
   "mimetype": "text/x-python",
   "name": "python",
   "nbconvert_exporter": "python",
   "pygments_lexer": "ipython3",
   "version": "3.9.7"
  },
  "toc": {
   "base_numbering": 1,
   "nav_menu": {},
   "number_sections": true,
   "sideBar": true,
   "skip_h1_title": false,
   "title_cell": "Table of Contents",
   "title_sidebar": "Contents",
   "toc_cell": false,
   "toc_position": {},
   "toc_section_display": true,
   "toc_window_display": false
  }
 },
 "nbformat": 4,
 "nbformat_minor": 2
}
