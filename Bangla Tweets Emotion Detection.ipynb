{
 "cells": [
  {
   "cell_type": "markdown",
   "metadata": {},
   "source": [
    " Project: Sentiment Analysis on Social Media Bangla Tweets\n",
    "\n",
    "In this project we will classify the sentiment of a review either it is positive or negative. To do this, we have created a dataset of *5880* Social Media Tweets. In this dataset  *3016* reviews are annotated as Positive Sentiment and another *2864* reviews as negative sentiment. All the Reviews are collected from different social media platforms.  \n",
    "Here, Negative Reviews are labled as 0 and Positive reviews as 1.\n",
    "\n",
    "**Project Includes:**\n",
    "\n",
    "-   Preprocessing \n",
    "-   Exploratory Analysis\n",
    "-   Feature Extraction using TF-IDF for N-gram\n",
    "-   Machine Learning Model Development\n",
    "-   Evaluation Measure \n",
    "-   Saved the Final Model\n",
    "-   Model Deployment"
   ]
  },
  {
   "cell_type": "markdown",
   "metadata": {},
   "source": [
    "## Import Libraries"
   ]
  },
  {
   "cell_type": "code",
   "execution_count": 2,
   "metadata": {},
   "outputs": [],
   "source": [
    "import numpy as np\n",
    "import pandas as pd\n",
    "from sklearn.model_selection import train_test_split\n",
    "import matplotlib.pyplot as plt\n",
    "%matplotlib inline\n",
    "import seaborn as sns\n",
    "import re,json,nltk\n",
    "from sklearn.preprocessing import LabelEncoder\n",
    "from sklearn.feature_extraction.text import TfidfVectorizer\n",
    "from sklearn.feature_extraction.text import TfidfTransformer\n",
    "from sklearn.model_selection import train_test_split\n",
    "from sklearn.metrics import classification_report,accuracy_score,precision_score,recall_score,f1_score\n",
    "stopwords_list ='D:\\\\CSE 497\\\\497 Done S\\\\Dataset and Notebook\\\\Stopwords.txt'"
   ]
  },
  {
   "cell_type": "markdown",
   "metadata": {},
   "source": [
    "## Importing the Dataset"
   ]
  },
  {
   "cell_type": "code",
   "execution_count": 3,
   "metadata": {},
   "outputs": [],
   "source": [
    "\n",
    "data = pd.read_csv('D:\\\\CSE 497\\\\497 Done S\\\\Dataset and Notebook\\\\Original Data - Copy.csv' )\n"
   ]
  },
  {
   "cell_type": "code",
   "execution_count": 4,
   "metadata": {},
   "outputs": [
    {
     "data": {
      "text/html": [
       "<div>\n",
       "<style scoped>\n",
       "    .dataframe tbody tr th:only-of-type {\n",
       "        vertical-align: middle;\n",
       "    }\n",
       "\n",
       "    .dataframe tbody tr th {\n",
       "        vertical-align: top;\n",
       "    }\n",
       "\n",
       "    .dataframe thead th {\n",
       "        text-align: right;\n",
       "    }\n",
       "</style>\n",
       "<table border=\"1\" class=\"dataframe\">\n",
       "  <thead>\n",
       "    <tr style=\"text-align: right;\">\n",
       "      <th></th>\n",
       "      <th>Review</th>\n",
       "      <th>Sentiment</th>\n",
       "    </tr>\n",
       "  </thead>\n",
       "  <tbody>\n",
       "    <tr>\n",
       "      <th>0</th>\n",
       "      <td>যে দেশে মানুষের মৃত্যুর খবর শুনে মন্ত্রী মহোদয...</td>\n",
       "      <td>1</td>\n",
       "    </tr>\n",
       "    <tr>\n",
       "      <th>1</th>\n",
       "      <td>জনগণের ভোট চুরি করে ক্ষমতায় আসা ওই নিয়ত আমাদ...</td>\n",
       "      <td>0</td>\n",
       "    </tr>\n",
       "    <tr>\n",
       "      <th>2</th>\n",
       "      <td>নিকোটিনের ধোয়ায় সময় কাটে রাতে । রাতটা আমার ...</td>\n",
       "      <td>1</td>\n",
       "    </tr>\n",
       "    <tr>\n",
       "      <th>3</th>\n",
       "      <td>সবথেকে বড় যুদ্ধ হলো নিজের মনের সাথে যুদ্ধ আবেগ</td>\n",
       "      <td>0</td>\n",
       "    </tr>\n",
       "    <tr>\n",
       "      <th>4</th>\n",
       "      <td>কোন সিটিতেই কোন ভোট হিসেব হয়নি যা হচ্ছে হাসিন...</td>\n",
       "      <td>1</td>\n",
       "    </tr>\n",
       "    <tr>\n",
       "      <th>...</th>\n",
       "      <td>...</td>\n",
       "      <td>...</td>\n",
       "    </tr>\n",
       "    <tr>\n",
       "      <th>5875</th>\n",
       "      <td>সুন্দর দু টি বাক্য জ্ঞানী হও তবে অহংকারী হইও ন...</td>\n",
       "      <td>0</td>\n",
       "    </tr>\n",
       "    <tr>\n",
       "      <th>5876</th>\n",
       "      <td>আমি বুঝতে পারছি না যে আমার হৃদয় ভাঙার মানে কি...</td>\n",
       "      <td>1</td>\n",
       "    </tr>\n",
       "    <tr>\n",
       "      <th>5877</th>\n",
       "      <td>আবারও তৃণমূলী দুস্কৃতিদের হাতে হত্যা হতে হলো ব...</td>\n",
       "      <td>0</td>\n",
       "    </tr>\n",
       "    <tr>\n",
       "      <th>5878</th>\n",
       "      <td>ঘুমের জন্য প্রস্তুত কিন্তু ঘুমের সমস্যা হচ্ছে ...</td>\n",
       "      <td>1</td>\n",
       "    </tr>\n",
       "    <tr>\n",
       "      <th>5879</th>\n",
       "      <td>আজি ঝরো ঝরো মুখর বাদলদিনে জানি নে , জানি নে কি...</td>\n",
       "      <td>0</td>\n",
       "    </tr>\n",
       "  </tbody>\n",
       "</table>\n",
       "<p>5880 rows × 2 columns</p>\n",
       "</div>"
      ],
      "text/plain": [
       "                                                 Review  Sentiment\n",
       "0     যে দেশে মানুষের মৃত্যুর খবর শুনে মন্ত্রী মহোদয...          1\n",
       "1     জনগণের ভোট চুরি করে ক্ষমতায় আসা ওই নিয়ত আমাদ...          0\n",
       "2     নিকোটিনের ধোয়ায় সময় কাটে রাতে । রাতটা আমার ...          1\n",
       "3       সবথেকে বড় যুদ্ধ হলো নিজের মনের সাথে যুদ্ধ আবেগ          0\n",
       "4     কোন সিটিতেই কোন ভোট হিসেব হয়নি যা হচ্ছে হাসিন...          1\n",
       "...                                                 ...        ...\n",
       "5875  সুন্দর দু টি বাক্য জ্ঞানী হও তবে অহংকারী হইও ন...          0\n",
       "5876  আমি বুঝতে পারছি না যে আমার হৃদয় ভাঙার মানে কি...          1\n",
       "5877  আবারও তৃণমূলী দুস্কৃতিদের হাতে হত্যা হতে হলো ব...          0\n",
       "5878  ঘুমের জন্য প্রস্তুত কিন্তু ঘুমের সমস্যা হচ্ছে ...          1\n",
       "5879  আজি ঝরো ঝরো মুখর বাদলদিনে জানি নে , জানি নে কি...          0\n",
       "\n",
       "[5880 rows x 2 columns]"
      ]
     },
     "execution_count": 4,
     "metadata": {},
     "output_type": "execute_result"
    }
   ],
   "source": [
    "data"
   ]
  },
  {
   "cell_type": "code",
   "execution_count": 5,
   "metadata": {},
   "outputs": [
    {
     "data": {
      "text/html": [
       "<div>\n",
       "<style scoped>\n",
       "    .dataframe tbody tr th:only-of-type {\n",
       "        vertical-align: middle;\n",
       "    }\n",
       "\n",
       "    .dataframe tbody tr th {\n",
       "        vertical-align: top;\n",
       "    }\n",
       "\n",
       "    .dataframe thead th {\n",
       "        text-align: right;\n",
       "    }\n",
       "</style>\n",
       "<table border=\"1\" class=\"dataframe\">\n",
       "  <thead>\n",
       "    <tr style=\"text-align: right;\">\n",
       "      <th></th>\n",
       "      <th>Review</th>\n",
       "      <th>Sentiment</th>\n",
       "    </tr>\n",
       "  </thead>\n",
       "  <tbody>\n",
       "    <tr>\n",
       "      <th>3592</th>\n",
       "      <td>সেদিন এক মধ্য বয়স্ক পাগলীকে দেখেছিলাম রাস্তায...</td>\n",
       "      <td>1</td>\n",
       "    </tr>\n",
       "    <tr>\n",
       "      <th>3454</th>\n",
       "      <td>ক্যারিয়ারের ব্যর্থতা মানসিকভাবে দূর্বল করে দিয়...</td>\n",
       "      <td>1</td>\n",
       "    </tr>\n",
       "    <tr>\n",
       "      <th>5831</th>\n",
       "      <td>মেদিনীপুরের জনসভায় বক্তব্য রাখছেন মাননীয় মন্...</td>\n",
       "      <td>0</td>\n",
       "    </tr>\n",
       "    <tr>\n",
       "      <th>2751</th>\n",
       "      <td>কাগজের নৌকা কেউ বানিয়েছে তা চুপ চাপ ভাসিয়েছে...</td>\n",
       "      <td>0</td>\n",
       "    </tr>\n",
       "    <tr>\n",
       "      <th>3949</th>\n",
       "      <td>কখনো আয়নার সামনে দাঁড়িয়ে নিজের প্রেমে পড়েছ...</td>\n",
       "      <td>0</td>\n",
       "    </tr>\n",
       "    <tr>\n",
       "      <th>3545</th>\n",
       "      <td>গতকাল হুগলী জেলার রিষড়ার হেস্টিংস জুট মিলের শ...</td>\n",
       "      <td>0</td>\n",
       "    </tr>\n",
       "    <tr>\n",
       "      <th>5178</th>\n",
       "      <td>আকর্ষণীয় শ্লোগান আর ব্যানার নিয়ে ট্রাম্প বির...</td>\n",
       "      <td>1</td>\n",
       "    </tr>\n",
       "    <tr>\n",
       "      <th>3604</th>\n",
       "      <td>আমি অনেকদিন ধরেই বলে আসছি যে বিজেপি আর সংঘী রা...</td>\n",
       "      <td>1</td>\n",
       "    </tr>\n",
       "    <tr>\n",
       "      <th>227</th>\n",
       "      <td>কখনো জুয়া খেলবে না । পরিশ্রমলব্ধ সম্পদ ভোগ কর...</td>\n",
       "      <td>0</td>\n",
       "    </tr>\n",
       "    <tr>\n",
       "      <th>1122</th>\n",
       "      <td>মানসিক চাপ আর নিতে পারছি না</td>\n",
       "      <td>1</td>\n",
       "    </tr>\n",
       "  </tbody>\n",
       "</table>\n",
       "</div>"
      ],
      "text/plain": [
       "                                                 Review  Sentiment\n",
       "3592  সেদিন এক মধ্য বয়স্ক পাগলীকে দেখেছিলাম রাস্তায...          1\n",
       "3454  ক্যারিয়ারের ব্যর্থতা মানসিকভাবে দূর্বল করে দিয়...          1\n",
       "5831  মেদিনীপুরের জনসভায় বক্তব্য রাখছেন মাননীয় মন্...          0\n",
       "2751  কাগজের নৌকা কেউ বানিয়েছে তা চুপ চাপ ভাসিয়েছে...          0\n",
       "3949  কখনো আয়নার সামনে দাঁড়িয়ে নিজের প্রেমে পড়েছ...          0\n",
       "3545  গতকাল হুগলী জেলার রিষড়ার হেস্টিংস জুট মিলের শ...          0\n",
       "5178  আকর্ষণীয় শ্লোগান আর ব্যানার নিয়ে ট্রাম্প বির...          1\n",
       "3604  আমি অনেকদিন ধরেই বলে আসছি যে বিজেপি আর সংঘী রা...          1\n",
       "227   কখনো জুয়া খেলবে না । পরিশ্রমলব্ধ সম্পদ ভোগ কর...          0\n",
       "1122                        মানসিক চাপ আর নিতে পারছি না          1"
      ]
     },
     "execution_count": 5,
     "metadata": {},
     "output_type": "execute_result"
    }
   ],
   "source": [
    "data.sample(10)"
   ]
  },
  {
   "cell_type": "code",
   "execution_count": 6,
   "metadata": {},
   "outputs": [
    {
     "name": "stdout",
     "output_type": "stream",
     "text": [
      "Total Reviews: 5880 \n",
      "Total Positive Reviews: 3016 \n",
      "Total Negative Reviews: 2864\n"
     ]
    }
   ],
   "source": [
    "data.Sentiment = data.Sentiment.replace({1:'Positive',0:'Negative'})\n",
    "print(\"Total Reviews:\",len(data),\n",
    "      \"\\nTotal Positive Reviews:\",len(data[data.Sentiment =='Positive']),\n",
    "      \"\\nTotal Negative Reviews:\",len(data[data.Sentiment=='Negative']))"
   ]
  },
  {
   "cell_type": "code",
   "execution_count": 7,
   "metadata": {},
   "outputs": [
    {
     "name": "stdout",
     "output_type": "stream",
     "text": [
      "Review       object\n",
      "Sentiment    object\n",
      "dtype: object\n"
     ]
    }
   ],
   "source": [
    "print(data.dtypes)"
   ]
  },
  {
   "cell_type": "code",
   "execution_count": 8,
   "metadata": {},
   "outputs": [
    {
     "data": {
      "text/html": [
       "<div>\n",
       "<style scoped>\n",
       "    .dataframe tbody tr th:only-of-type {\n",
       "        vertical-align: middle;\n",
       "    }\n",
       "\n",
       "    .dataframe tbody tr th {\n",
       "        vertical-align: top;\n",
       "    }\n",
       "\n",
       "    .dataframe thead th {\n",
       "        text-align: right;\n",
       "    }\n",
       "</style>\n",
       "<table border=\"1\" class=\"dataframe\">\n",
       "  <thead>\n",
       "    <tr style=\"text-align: right;\">\n",
       "      <th></th>\n",
       "      <th>Review</th>\n",
       "      <th>Sentiment</th>\n",
       "    </tr>\n",
       "  </thead>\n",
       "  <tbody>\n",
       "    <tr>\n",
       "      <th>0</th>\n",
       "      <td>যে দেশে মানুষের মৃত্যুর খবর শুনে মন্ত্রী মহোদয...</td>\n",
       "      <td>Positive</td>\n",
       "    </tr>\n",
       "    <tr>\n",
       "      <th>1</th>\n",
       "      <td>জনগণের ভোট চুরি করে ক্ষমতায় আসা ওই নিয়ত আমাদ...</td>\n",
       "      <td>Negative</td>\n",
       "    </tr>\n",
       "    <tr>\n",
       "      <th>2</th>\n",
       "      <td>নিকোটিনের ধোয়ায় সময় কাটে রাতে । রাতটা আমার ...</td>\n",
       "      <td>Positive</td>\n",
       "    </tr>\n",
       "    <tr>\n",
       "      <th>3</th>\n",
       "      <td>সবথেকে বড় যুদ্ধ হলো নিজের মনের সাথে যুদ্ধ আবেগ</td>\n",
       "      <td>Negative</td>\n",
       "    </tr>\n",
       "    <tr>\n",
       "      <th>4</th>\n",
       "      <td>কোন সিটিতেই কোন ভোট হিসেব হয়নি যা হচ্ছে হাসিন...</td>\n",
       "      <td>Positive</td>\n",
       "    </tr>\n",
       "    <tr>\n",
       "      <th>...</th>\n",
       "      <td>...</td>\n",
       "      <td>...</td>\n",
       "    </tr>\n",
       "    <tr>\n",
       "      <th>5875</th>\n",
       "      <td>সুন্দর দু টি বাক্য জ্ঞানী হও তবে অহংকারী হইও ন...</td>\n",
       "      <td>Negative</td>\n",
       "    </tr>\n",
       "    <tr>\n",
       "      <th>5876</th>\n",
       "      <td>আমি বুঝতে পারছি না যে আমার হৃদয় ভাঙার মানে কি...</td>\n",
       "      <td>Positive</td>\n",
       "    </tr>\n",
       "    <tr>\n",
       "      <th>5877</th>\n",
       "      <td>আবারও তৃণমূলী দুস্কৃতিদের হাতে হত্যা হতে হলো ব...</td>\n",
       "      <td>Negative</td>\n",
       "    </tr>\n",
       "    <tr>\n",
       "      <th>5878</th>\n",
       "      <td>ঘুমের জন্য প্রস্তুত কিন্তু ঘুমের সমস্যা হচ্ছে ...</td>\n",
       "      <td>Positive</td>\n",
       "    </tr>\n",
       "    <tr>\n",
       "      <th>5879</th>\n",
       "      <td>আজি ঝরো ঝরো মুখর বাদলদিনে জানি নে , জানি নে কি...</td>\n",
       "      <td>Negative</td>\n",
       "    </tr>\n",
       "  </tbody>\n",
       "</table>\n",
       "<p>5880 rows × 2 columns</p>\n",
       "</div>"
      ],
      "text/plain": [
       "                                                 Review Sentiment\n",
       "0     যে দেশে মানুষের মৃত্যুর খবর শুনে মন্ত্রী মহোদয...  Positive\n",
       "1     জনগণের ভোট চুরি করে ক্ষমতায় আসা ওই নিয়ত আমাদ...  Negative\n",
       "2     নিকোটিনের ধোয়ায় সময় কাটে রাতে । রাতটা আমার ...  Positive\n",
       "3       সবথেকে বড় যুদ্ধ হলো নিজের মনের সাথে যুদ্ধ আবেগ  Negative\n",
       "4     কোন সিটিতেই কোন ভোট হিসেব হয়নি যা হচ্ছে হাসিন...  Positive\n",
       "...                                                 ...       ...\n",
       "5875  সুন্দর দু টি বাক্য জ্ঞানী হও তবে অহংকারী হইও ন...  Negative\n",
       "5876  আমি বুঝতে পারছি না যে আমার হৃদয় ভাঙার মানে কি...  Positive\n",
       "5877  আবারও তৃণমূলী দুস্কৃতিদের হাতে হত্যা হতে হলো ব...  Negative\n",
       "5878  ঘুমের জন্য প্রস্তুত কিন্তু ঘুমের সমস্যা হচ্ছে ...  Positive\n",
       "5879  আজি ঝরো ঝরো মুখর বাদলদিনে জানি নে , জানি নে কি...  Negative\n",
       "\n",
       "[5880 rows x 2 columns]"
      ]
     },
     "execution_count": 8,
     "metadata": {},
     "output_type": "execute_result"
    }
   ],
   "source": [
    "data"
   ]
  },
  {
   "cell_type": "code",
   "execution_count": null,
   "metadata": {},
   "outputs": [],
   "source": []
  },
  {
   "cell_type": "code",
   "execution_count": 9,
   "metadata": {},
   "outputs": [
    {
     "name": "stdout",
     "output_type": "stream",
     "text": [
      "গতকাল হুগলী জেলার রিষড়ার হেস্টিংস জুট মিলের শ্রমিকদের ট্রাস্টি বোর্ডের বিজেপির অসংগঠিত শ্রমিকদের সংগঠন পাকসু মোর্চা র প্রার্থীদের জয় প্রমান করল পশ্চিমবঙ্গের খেটে খাওয়া গরিব মানুষ আজ প্রধানমন্ত্রী শ্রী নরেন্দ্র মোদী জির পক্ষে । বিজয়ী প্রার্থীদের জানাই আন্তরিক গৈরিক শুভেচ্ছা  \n",
      " Sentiment:--  Negative \n",
      "\n",
      "পেঙ্গুইন যদি মন্ত্রী হয় ! তাহলে কাউয়া র দোষ কি ? সারাটা দিন ট্রমার মধ্যে গেছে , ভিডিও টা দেখার পর ঠিক থাকা অসম্ভব ছিল তখন । কি কপাল ছেলেমেয়ে গুলোর  \n",
      " Sentiment:--  Positive \n",
      "\n",
      "তোমাদের প্রতিযোগিতার ফলাফল হিসেবে আমরা আমাদের মৃত্যু মেনে নিয়েছি !  \n",
      " Sentiment:--  Positive \n",
      "\n",
      "আর ভালো লাগেনা যাইতে ইচ্ছা হয় না কিন্তু যেতে হবে সব রেডি কইরা দিছে বাড়িতে এত আদর সবাইকে মিস করবো  \n",
      " Sentiment:--  Positive \n",
      "\n",
      "আমি নাকি কুফা কোথাও যাইতে চাইলেই বৃষ্টি নামে \n",
      " Sentiment:--  Positive \n",
      "\n",
      "বিয়ের প্রথম বছরঃ জানু দ্বিতীয় বছরঃওগো শুনছ ! তৃতীয় বছরঃকই গো তুমি চতুর্থ বছরঃ বল্টুর বাপ একটু এখানে আসো তো পঞ্চম বছরঃকোথায় মরছ ? ষষ্ঠ বছরঃ আজকে বাসায় আসো তোমার একদিন কি আমার একদিন ! তোমায় বিয়ে করে আমার জীবনটা তেজপাতা হয়ে গেছে ! তোমায় বিয়ে করে কি পাইছি আমি ?  \n",
      " Sentiment:--  Positive \n",
      "\n",
      "চৌকিদার , ঠেকেদার , ভাগীদার নয় সংবিধান সমঝদার একজন প্রধানমন্ত্রী প্রয়োজন  \n",
      " Sentiment:--  Positive \n",
      "\n",
      "সংযুক্ত আরব আমিরাত তে এমন একটি গাছ দেখে দেশের কথা মনে পড়ে গেল  \n",
      " Sentiment:--  Positive \n",
      "\n",
      "এত বৃষ্টি হয়ে কি লাভ যদি কাছে একটা বউ না থাকে \n",
      " Sentiment:--  Positive \n",
      "\n",
      "উড়িবার মন চায় দুটো অপশন আছে , হয় শুরু করা নয় শেষ করা । শুরু অথবা শেষ \n",
      " Sentiment:--  Positive \n",
      "\n",
      "দ্বিতীয় ওয়ানডেতে বাংলাদেশকে ৩ রানে হারিয়ে সিরিজ ১ ১ সমতা করলো কাল্লু মামুরা । নিশ্চিত জয়ী ম্যাচ হাতছাড়া হলো বাংলাদেশ দলের সারারাত ঠিকমতো না ঘুমিয়ে ম্যাচ দেখে শেষ পর্যন্ত বাশঁ মিললো  \n",
      " Sentiment:--  Positive \n",
      "\n",
      "মানব , তোমার কাফনের কাপড় বাজারে এসে গেছে ! আর তুমি এখনো বেখেয়াল ।  \n",
      " Sentiment:--  Positive \n",
      "\n",
      "মধ্য আয়ের দেশে উন্নীত হয়ে , বাংলাদেশ এখন ভাঙ্গাদেশে রুপান্তরিত হয়েছে । ফ্যাক্ট : দেড় ঘন্টার রাস্তার অর্ধেক আসতে লাগে সাড়ে তিন ঘন্টা ।  \n",
      " Sentiment:--  Positive \n",
      "\n",
      "উন্নয়নের জোয়ারে ভাসছে দেশ :  \n",
      " Sentiment:--  Positive \n",
      "\n",
      " দুইটা মাস নষ্ট করলাম। চাকরির বাজার ভাল না, আমাদের যে কি হবে। তোমাকে নিয়ে আর পারলাম না। মর গিয়ে।     \n",
      " Sentiment:--  Positive \n",
      "\n"
     ]
    }
   ],
   "source": [
    "# print some unprocessed reviews\n",
    "sample_data = [17,100,150,200,250,300,350,400,450,500,600,650,700,750,800]\n",
    "for i in sample_data:\n",
    "      print(data.Review[i],'\\n','Sentiment:-- ',data.Sentiment[i],'\\n')  "
   ]
  },
  {
   "cell_type": "markdown",
   "metadata": {},
   "source": [
    "## Data Processing \n",
    "This step includes removal of punctuation mark, numbers, emoji and stopwords from the reviews. We have used a helper functions for cleaning the corpus.\n",
    " "
   ]
  },
  {
   "cell_type": "code",
   "execution_count": 10,
   "metadata": {},
   "outputs": [],
   "source": [
    "from utils import cleaned_reviews,stopwords_info,stopword_removal,process_reviews"
   ]
  },
  {
   "cell_type": "code",
   "execution_count": 11,
   "metadata": {},
   "outputs": [
    {
     "name": "stdout",
     "output_type": "stream",
     "text": [
      "Original:\n",
      " গতকাল হুগলী জেলার রিষড়ার হেস্টিংস জুট মিলের শ্রমিকদের ট্রাস্টি বোর্ডের বিজেপির অসংগঠিত শ্রমিকদের সংগঠন পাকসু মোর্চা র প্রার্থীদের জয় প্রমান করল পশ্চিমবঙ্গের খেটে খাওয়া গরিব মানুষ আজ প্রধানমন্ত্রী শ্রী নরেন্দ্র মোদী জির পক্ষে । বিজয়ী প্রার্থীদের জানাই আন্তরিক গৈরিক শুভেচ্ছা  \n",
      "Cleaned:\n",
      " গতকাল হুগলী জেলার রিষড়ার হেস্টিংস জুট মিলের শ্রমিকদের ট্রাস্টি বোর্ডের বিজেপির অসংগঠিত শ্রমিকদের সংগঠন পাকসু মোর্চা র প্রার্থীদের জয় প্রমান করল পশ্চিমবঙ্গের খেটে খাওয়া গরিব মানুষ আজ প্রধানমন্ত্রী শ্রী নরেন্দ্র মোদী জির পক্ষে বিজয়ী প্রার্থীদের জানাই আন্তরিক গৈরিক শুভেচ্ছা \n",
      " Sentiment:--  Negative \n",
      "\n",
      "Original:\n",
      " পেঙ্গুইন যদি মন্ত্রী হয় ! তাহলে কাউয়া র দোষ কি ? সারাটা দিন ট্রমার মধ্যে গেছে , ভিডিও টা দেখার পর ঠিক থাকা অসম্ভব ছিল তখন । কি কপাল ছেলেমেয়ে গুলোর  \n",
      "Cleaned:\n",
      " পেঙ্গুইন যদি মন্ত্রী হয় তাহলে কাউয়া র দোষ সারাটা দিন ট্রমার মধ্যে গেছে ভিডিও টা দেখার পর ঠিক থাকা অসম্ভব ছিল তখন কপাল ছেলেমেয়ে গুলোর \n",
      " Sentiment:--  Positive \n",
      "\n",
      "Original:\n",
      " তোমাদের প্রতিযোগিতার ফলাফল হিসেবে আমরা আমাদের মৃত্যু মেনে নিয়েছি !  \n",
      "Cleaned:\n",
      " তোমাদের প্রতিযোগিতার ফলাফল হিসেবে আমরা আমাদের মৃত্যু মেনে নিয়েছি \n",
      " Sentiment:--  Positive \n",
      "\n",
      "Original:\n",
      " আর ভালো লাগেনা যাইতে ইচ্ছা হয় না কিন্তু যেতে হবে সব রেডি কইরা দিছে বাড়িতে এত আদর সবাইকে মিস করবো  \n",
      "Cleaned:\n",
      " ভালো লাগেনা যাইতে ইচ্ছা হয় না কিন্তু যেতে হবে সব রেডি কইরা দিছে বাড়িতে এত আদর সবাইকে মিস করবো \n",
      " Sentiment:--  Positive \n",
      "\n",
      "Original:\n",
      " আমি নাকি কুফা কোথাও যাইতে চাইলেই বৃষ্টি নামে \n",
      "Cleaned:\n",
      " নাকি কুফা কোথাও যাইতে চাইলেই বৃষ্টি নামে \n",
      " Sentiment:--  Positive \n",
      "\n",
      "Original:\n",
      " বিয়ের প্রথম বছরঃ জানু দ্বিতীয় বছরঃওগো শুনছ ! তৃতীয় বছরঃকই গো তুমি চতুর্থ বছরঃ বল্টুর বাপ একটু এখানে আসো তো পঞ্চম বছরঃকোথায় মরছ ? ষষ্ঠ বছরঃ আজকে বাসায় আসো তোমার একদিন কি আমার একদিন ! তোমায় বিয়ে করে আমার জীবনটা তেজপাতা হয়ে গেছে ! তোমায় বিয়ে করে কি পাইছি আমি ?  \n",
      "Cleaned:\n",
      " বিয়ের প্রথম বছরঃ জানু দ্বিতীয় বছরঃওগো শুনছ তৃতীয় বছরঃকই গো তুমি চতুর্থ বছরঃ বল্টুর বাপ একটু এখানে আসো তো পঞ্চম বছরঃকোথায় মরছ ষষ্ঠ বছরঃ আজকে বাসায় আসো তোমার একদিন একদিন তোমায় বিয়ে জীবনটা তেজপাতা হয়ে গেছে তোমায় বিয়ে পাইছি \n",
      " Sentiment:--  Positive \n",
      "\n",
      "Original:\n",
      " চৌকিদার , ঠেকেদার , ভাগীদার নয় সংবিধান সমঝদার একজন প্রধানমন্ত্রী প্রয়োজন  \n",
      "Cleaned:\n",
      " চৌকিদার ঠেকেদার ভাগীদার নয় সংবিধান সমঝদার একজন প্রধানমন্ত্রী প্রয়োজন \n",
      " Sentiment:--  Positive \n",
      "\n",
      "Original:\n",
      " সংযুক্ত আরব আমিরাত তে এমন একটি গাছ দেখে দেশের কথা মনে পড়ে গেল  \n",
      "Cleaned:\n",
      " সংযুক্ত আরব আমিরাত তে এমন গাছ দেখে দেশের কথা মনে পড়ে গেল \n",
      " Sentiment:--  Positive \n",
      "\n",
      "Original:\n",
      " এত বৃষ্টি হয়ে কি লাভ যদি কাছে একটা বউ না থাকে \n",
      "Cleaned:\n",
      " এত বৃষ্টি হয়ে লাভ যদি কাছে বউ না থাকে \n",
      " Sentiment:--  Positive \n",
      "\n",
      "Original:\n",
      " উড়িবার মন চায় দুটো অপশন আছে , হয় শুরু করা নয় শেষ করা । শুরু অথবা শেষ \n",
      "Cleaned:\n",
      " উড়িবার মন চায় দুটো অপশন আছে হয় শুরু করা নয় শেষ করা শুরু অথবা শেষ \n",
      " Sentiment:--  Positive \n",
      "\n",
      "Original:\n",
      " দ্বিতীয় ওয়ানডেতে বাংলাদেশকে ৩ রানে হারিয়ে সিরিজ ১ ১ সমতা করলো কাল্লু মামুরা । নিশ্চিত জয়ী ম্যাচ হাতছাড়া হলো বাংলাদেশ দলের সারারাত ঠিকমতো না ঘুমিয়ে ম্যাচ দেখে শেষ পর্যন্ত বাশঁ মিললো  \n",
      "Cleaned:\n",
      " দ্বিতীয় ওয়ানডেতে বাংলাদেশকে ৩ রানে হারিয়ে সিরিজ ১ ১ সমতা করলো কাল্লু মামুরা নিশ্চিত জয়ী ম্যাচ হাতছাড়া হলো বাংলাদেশ দলের সারারাত ঠিকমতো না ঘুমিয়ে ম্যাচ দেখে শেষ পর্যন্ত বাশঁ মিললো \n",
      " Sentiment:--  Positive \n",
      "\n",
      "Original:\n",
      " মানব , তোমার কাফনের কাপড় বাজারে এসে গেছে ! আর তুমি এখনো বেখেয়াল ।  \n",
      "Cleaned:\n",
      " মানব তোমার কাফনের কাপড় বাজারে এসে গেছে তুমি এখনো বেখেয়াল \n",
      " Sentiment:--  Positive \n",
      "\n",
      "Original:\n",
      " মধ্য আয়ের দেশে উন্নীত হয়ে , বাংলাদেশ এখন ভাঙ্গাদেশে রুপান্তরিত হয়েছে । ফ্যাক্ট : দেড় ঘন্টার রাস্তার অর্ধেক আসতে লাগে সাড়ে তিন ঘন্টা ।  \n",
      "Cleaned:\n",
      " মধ্য আয়ের দেশে উন্নীত হয়ে বাংলাদেশ এখন ভাঙ্গাদেশে রুপান্তরিত হয়েছে ফ্যাক্ট দেড় ঘন্টার রাস্তার অর্ধেক আসতে লাগে সাড়ে তিন ঘন্টা \n",
      " Sentiment:--  Positive \n",
      "\n",
      "Original:\n",
      " উন্নয়নের জোয়ারে ভাসছে দেশ :  \n",
      "Cleaned:\n",
      " উন্নয়নের জোয়ারে ভাসছে দেশ \n",
      " Sentiment:--  Positive \n",
      "\n",
      "Original:\n",
      "  দুইটা মাস নষ্ট করলাম। চাকরির বাজার ভাল না, আমাদের যে কি হবে। তোমাকে নিয়ে আর পারলাম না। মর গিয়ে।     \n",
      "Cleaned:\n",
      " দুইটা মাস নষ্ট করলাম চাকরির বাজার ভাল না আমাদের হবে তোমাকে নিয়ে পারলাম না মর গিয়ে \n",
      " Sentiment:--  Positive \n",
      "\n"
     ]
    }
   ],
   "source": [
    "# Apply the function into the dataframe\n",
    "data['cleaned'] = data['Review'].apply(process_reviews,stopwords = stopwords_list,removing_stopwords = True)  \n",
    "\n",
    "# print some cleaned reviews from the dataset\n",
    "sample_data = [17,100,150,200,250,300,350,400,450,500,600,650,700,750,800]\n",
    "for i in sample_data:\n",
    "      print('Original:\\n',data.Review[i],'\\nCleaned:\\n',data.cleaned[i],'\\n','Sentiment:-- ',data.Sentiment[i],'\\n')   "
   ]
  },
  {
   "cell_type": "code",
   "execution_count": 12,
   "metadata": {},
   "outputs": [
    {
     "data": {
      "text/html": [
       "<div>\n",
       "<style scoped>\n",
       "    .dataframe tbody tr th:only-of-type {\n",
       "        vertical-align: middle;\n",
       "    }\n",
       "\n",
       "    .dataframe tbody tr th {\n",
       "        vertical-align: top;\n",
       "    }\n",
       "\n",
       "    .dataframe thead th {\n",
       "        text-align: right;\n",
       "    }\n",
       "</style>\n",
       "<table border=\"1\" class=\"dataframe\">\n",
       "  <thead>\n",
       "    <tr style=\"text-align: right;\">\n",
       "      <th></th>\n",
       "      <th>Review</th>\n",
       "      <th>Sentiment</th>\n",
       "      <th>cleaned</th>\n",
       "    </tr>\n",
       "  </thead>\n",
       "  <tbody>\n",
       "    <tr>\n",
       "      <th>0</th>\n",
       "      <td>যে দেশে মানুষের মৃত্যুর খবর শুনে মন্ত্রী মহোদয...</td>\n",
       "      <td>Positive</td>\n",
       "      <td>দেশে মানুষের মৃত্যুর খবর শুনে মন্ত্রী মহোদয় হ...</td>\n",
       "    </tr>\n",
       "    <tr>\n",
       "      <th>1</th>\n",
       "      <td>জনগণের ভোট চুরি করে ক্ষমতায় আসা ওই নিয়ত আমাদ...</td>\n",
       "      <td>Negative</td>\n",
       "      <td>জনগণের ভোট চুরি ক্ষমতায় আসা ওই নিয়ত আমাদের ন...</td>\n",
       "    </tr>\n",
       "    <tr>\n",
       "      <th>2</th>\n",
       "      <td>নিকোটিনের ধোয়ায় সময় কাটে রাতে । রাতটা আমার ...</td>\n",
       "      <td>Positive</td>\n",
       "      <td>নিকোটিনের ধোয়ায় সময় কাটে রাতে রাতটা দিন দিন...</td>\n",
       "    </tr>\n",
       "    <tr>\n",
       "      <th>3</th>\n",
       "      <td>সবথেকে বড় যুদ্ধ হলো নিজের মনের সাথে যুদ্ধ আবেগ</td>\n",
       "      <td>Negative</td>\n",
       "      <td>সবথেকে বড় যুদ্ধ হলো নিজের মনের সাথে যুদ্ধ আবেগ</td>\n",
       "    </tr>\n",
       "    <tr>\n",
       "      <th>4</th>\n",
       "      <td>কোন সিটিতেই কোন ভোট হিসেব হয়নি যা হচ্ছে হাসিন...</td>\n",
       "      <td>Positive</td>\n",
       "      <td>সিটিতেই ভোট হিসেব হয়নি যা হচ্ছে হাসিনার ইচ্ছে...</td>\n",
       "    </tr>\n",
       "    <tr>\n",
       "      <th>...</th>\n",
       "      <td>...</td>\n",
       "      <td>...</td>\n",
       "      <td>...</td>\n",
       "    </tr>\n",
       "    <tr>\n",
       "      <th>5875</th>\n",
       "      <td>সুন্দর দু টি বাক্য জ্ঞানী হও তবে অহংকারী হইও ন...</td>\n",
       "      <td>Negative</td>\n",
       "      <td>সুন্দর দু টি বাক্য জ্ঞানী হও তবে অহংকারী হইও ন...</td>\n",
       "    </tr>\n",
       "    <tr>\n",
       "      <th>5876</th>\n",
       "      <td>আমি বুঝতে পারছি না যে আমার হৃদয় ভাঙার মানে কি...</td>\n",
       "      <td>Positive</td>\n",
       "      <td>বুঝতে পারছি না হৃদয় ভাঙার মানে বল</td>\n",
       "    </tr>\n",
       "    <tr>\n",
       "      <th>5877</th>\n",
       "      <td>আবারও তৃণমূলী দুস্কৃতিদের হাতে হত্যা হতে হলো ব...</td>\n",
       "      <td>Negative</td>\n",
       "      <td>আবারও তৃণমূলী দুস্কৃতিদের হাতে হত্যা হতে হলো ব...</td>\n",
       "    </tr>\n",
       "    <tr>\n",
       "      <th>5878</th>\n",
       "      <td>ঘুমের জন্য প্রস্তুত কিন্তু ঘুমের সমস্যা হচ্ছে ...</td>\n",
       "      <td>Positive</td>\n",
       "      <td>ঘুমের প্রস্তুত কিন্তু ঘুমের সমস্যা হচ্ছে নামই ...</td>\n",
       "    </tr>\n",
       "    <tr>\n",
       "      <th>5879</th>\n",
       "      <td>আজি ঝরো ঝরো মুখর বাদলদিনে জানি নে , জানি নে কি...</td>\n",
       "      <td>Negative</td>\n",
       "      <td>আজি ঝরো ঝরো মুখর বাদলদিনে জানি নে জানি নে কিছু...</td>\n",
       "    </tr>\n",
       "  </tbody>\n",
       "</table>\n",
       "<p>5880 rows × 3 columns</p>\n",
       "</div>"
      ],
      "text/plain": [
       "                                                 Review Sentiment  \\\n",
       "0     যে দেশে মানুষের মৃত্যুর খবর শুনে মন্ত্রী মহোদয...  Positive   \n",
       "1     জনগণের ভোট চুরি করে ক্ষমতায় আসা ওই নিয়ত আমাদ...  Negative   \n",
       "2     নিকোটিনের ধোয়ায় সময় কাটে রাতে । রাতটা আমার ...  Positive   \n",
       "3       সবথেকে বড় যুদ্ধ হলো নিজের মনের সাথে যুদ্ধ আবেগ  Negative   \n",
       "4     কোন সিটিতেই কোন ভোট হিসেব হয়নি যা হচ্ছে হাসিন...  Positive   \n",
       "...                                                 ...       ...   \n",
       "5875  সুন্দর দু টি বাক্য জ্ঞানী হও তবে অহংকারী হইও ন...  Negative   \n",
       "5876  আমি বুঝতে পারছি না যে আমার হৃদয় ভাঙার মানে কি...  Positive   \n",
       "5877  আবারও তৃণমূলী দুস্কৃতিদের হাতে হত্যা হতে হলো ব...  Negative   \n",
       "5878  ঘুমের জন্য প্রস্তুত কিন্তু ঘুমের সমস্যা হচ্ছে ...  Positive   \n",
       "5879  আজি ঝরো ঝরো মুখর বাদলদিনে জানি নে , জানি নে কি...  Negative   \n",
       "\n",
       "                                                cleaned  \n",
       "0     দেশে মানুষের মৃত্যুর খবর শুনে মন্ত্রী মহোদয় হ...  \n",
       "1     জনগণের ভোট চুরি ক্ষমতায় আসা ওই নিয়ত আমাদের ন...  \n",
       "2     নিকোটিনের ধোয়ায় সময় কাটে রাতে রাতটা দিন দিন...  \n",
       "3       সবথেকে বড় যুদ্ধ হলো নিজের মনের সাথে যুদ্ধ আবেগ  \n",
       "4     সিটিতেই ভোট হিসেব হয়নি যা হচ্ছে হাসিনার ইচ্ছে...  \n",
       "...                                                 ...  \n",
       "5875  সুন্দর দু টি বাক্য জ্ঞানী হও তবে অহংকারী হইও ন...  \n",
       "5876                 বুঝতে পারছি না হৃদয় ভাঙার মানে বল  \n",
       "5877  আবারও তৃণমূলী দুস্কৃতিদের হাতে হত্যা হতে হলো ব...  \n",
       "5878  ঘুমের প্রস্তুত কিন্তু ঘুমের সমস্যা হচ্ছে নামই ...  \n",
       "5879  আজি ঝরো ঝরো মুখর বাদলদিনে জানি নে জানি নে কিছু...  \n",
       "\n",
       "[5880 rows x 3 columns]"
      ]
     },
     "execution_count": 12,
     "metadata": {},
     "output_type": "execute_result"
    }
   ],
   "source": [
    "data"
   ]
  },
  {
   "cell_type": "code",
   "execution_count": 13,
   "metadata": {},
   "outputs": [],
   "source": [
    "data.cleaned.to_excel('clean_reviews.xlsx')"
   ]
  },
  {
   "cell_type": "markdown",
   "metadata": {},
   "source": [
    "##### Processing of a sample review"
   ]
  },
  {
   "cell_type": "code",
   "execution_count": 14,
   "metadata": {},
   "outputs": [
    {
     "data": {
      "text/plain": [
       "'মাঠে গান্ধী জি রবীন্দ্রনাথ নেতাজী স্পর্শ আছে মাঠ বিপ্লবীদের স্পর্শে ধন্য'"
      ]
     },
     "execution_count": 14,
     "metadata": {},
     "output_type": "execute_result"
    }
   ],
   "source": [
    "tweet = 'যে মাঠে গান্ধী জি , রবীন্দ্রনাথ , নেতাজী স্পর্শ আছে , যে মাঠ বিপ্লবীদের স্পর্শে ধন্য'\n",
    "stopwords_list ='D:\\\\CSE 497\\\\497 Done S\\\\Dataset and Notebook\\\\Stopwords.txt'\n",
    "process_reviews(review = tweet, stopwords =stopwords_list,removing_stopwords=True)"
   ]
  },
  {
   "cell_type": "code",
   "execution_count": null,
   "metadata": {},
   "outputs": [],
   "source": []
  },
  {
   "cell_type": "markdown",
   "metadata": {},
   "source": [
    "## Dataset Summary"
   ]
  },
  {
   "cell_type": "code",
   "execution_count": 15,
   "metadata": {},
   "outputs": [
    {
     "name": "stdout",
     "output_type": "stream",
     "text": [
      "\n",
      "Class Name :  Positive\n",
      "Number of Documents:3016\n",
      "Number of Words:54032\n",
      "Number of Unique Words:5059\n",
      "Most Frequent Words:\n",
      "\n",
      "না\t1066\n",
      "নেই\t273\n",
      "নাই\t258\n",
      "কিছু\t251\n",
      "আজ\t234\n",
      "করতে\t232\n",
      "কিন্তু\t222\n",
      "হবে\t221\n",
      "মানুষ\t221\n",
      "হয়\t220\n",
      "\n",
      "Class Name :  Negative\n",
      "Number of Documents:2864\n",
      "Number of Words:53108\n",
      "Number of Unique Words:4781\n",
      "Most Frequent Words:\n",
      "\n",
      "না\t669\n",
      "হয়\t345\n",
      "হবে\t249\n",
      "মানুষ\t229\n",
      "আল্লাহ\t180\n",
      "ভালো\t180\n",
      "কিছু\t179\n",
      "কিন্তু\t178\n",
      "আমাদের\t177\n",
      "যায়\t176\n"
     ]
    }
   ],
   "source": [
    "from utils import data_summary\n",
    "documents,words,u_words,class_names = data_summary(data)"
   ]
  },
  {
   "cell_type": "markdown",
   "metadata": {},
   "source": [
    "### Dataset Summary Visualization"
   ]
  },
  {
   "cell_type": "code",
   "execution_count": 16,
   "metadata": {},
   "outputs": [
    {
     "name": "stdout",
     "output_type": "stream",
     "text": [
      "  Class Names         Category  Values\n",
      "0    Positive  Total Documents    3016\n",
      "1    Negative  Total Documents    2864\n",
      "2    Positive      Total Words   54032\n",
      "3    Negative      Total Words   53108\n",
      "4    Positive     Unique Words    5059\n",
      "5    Negative     Unique Words    4781\n"
     ]
    }
   ],
   "source": [
    "data_matrix = pd.DataFrame({'Total Documents':documents,\n",
    "                            'Total Words':words,\n",
    "                            'Unique Words':u_words,\n",
    "                            'Class Names':class_names})\n",
    "df = pd.melt(data_matrix, id_vars=\"Class Names\", var_name=\"Category\", value_name=\"Values\")\n",
    "print(df)"
   ]
  },
  {
   "cell_type": "code",
   "execution_count": 17,
   "metadata": {},
   "outputs": [
    {
     "data": {
      "text/html": [
       "<div>\n",
       "<style scoped>\n",
       "    .dataframe tbody tr th:only-of-type {\n",
       "        vertical-align: middle;\n",
       "    }\n",
       "\n",
       "    .dataframe tbody tr th {\n",
       "        vertical-align: top;\n",
       "    }\n",
       "\n",
       "    .dataframe thead th {\n",
       "        text-align: right;\n",
       "    }\n",
       "</style>\n",
       "<table border=\"1\" class=\"dataframe\">\n",
       "  <thead>\n",
       "    <tr style=\"text-align: right;\">\n",
       "      <th></th>\n",
       "      <th>Review</th>\n",
       "      <th>Sentiment</th>\n",
       "      <th>cleaned</th>\n",
       "    </tr>\n",
       "  </thead>\n",
       "  <tbody>\n",
       "    <tr>\n",
       "      <th>0</th>\n",
       "      <td>যে দেশে মানুষের মৃত্যুর খবর শুনে মন্ত্রী মহোদয...</td>\n",
       "      <td>Positive</td>\n",
       "      <td>দেশে মানুষের মৃত্যুর খবর শুনে মন্ত্রী মহোদয় হ...</td>\n",
       "    </tr>\n",
       "    <tr>\n",
       "      <th>1</th>\n",
       "      <td>জনগণের ভোট চুরি করে ক্ষমতায় আসা ওই নিয়ত আমাদ...</td>\n",
       "      <td>Negative</td>\n",
       "      <td>জনগণের ভোট চুরি ক্ষমতায় আসা ওই নিয়ত আমাদের ন...</td>\n",
       "    </tr>\n",
       "    <tr>\n",
       "      <th>2</th>\n",
       "      <td>নিকোটিনের ধোয়ায় সময় কাটে রাতে । রাতটা আমার ...</td>\n",
       "      <td>Positive</td>\n",
       "      <td>নিকোটিনের ধোয়ায় সময় কাটে রাতে রাতটা দিন দিন...</td>\n",
       "    </tr>\n",
       "    <tr>\n",
       "      <th>3</th>\n",
       "      <td>সবথেকে বড় যুদ্ধ হলো নিজের মনের সাথে যুদ্ধ আবেগ</td>\n",
       "      <td>Negative</td>\n",
       "      <td>সবথেকে বড় যুদ্ধ হলো নিজের মনের সাথে যুদ্ধ আবেগ</td>\n",
       "    </tr>\n",
       "    <tr>\n",
       "      <th>4</th>\n",
       "      <td>কোন সিটিতেই কোন ভোট হিসেব হয়নি যা হচ্ছে হাসিন...</td>\n",
       "      <td>Positive</td>\n",
       "      <td>সিটিতেই ভোট হিসেব হয়নি যা হচ্ছে হাসিনার ইচ্ছে...</td>\n",
       "    </tr>\n",
       "    <tr>\n",
       "      <th>...</th>\n",
       "      <td>...</td>\n",
       "      <td>...</td>\n",
       "      <td>...</td>\n",
       "    </tr>\n",
       "    <tr>\n",
       "      <th>5875</th>\n",
       "      <td>সুন্দর দু টি বাক্য জ্ঞানী হও তবে অহংকারী হইও ন...</td>\n",
       "      <td>Negative</td>\n",
       "      <td>সুন্দর দু টি বাক্য জ্ঞানী হও তবে অহংকারী হইও ন...</td>\n",
       "    </tr>\n",
       "    <tr>\n",
       "      <th>5876</th>\n",
       "      <td>আমি বুঝতে পারছি না যে আমার হৃদয় ভাঙার মানে কি...</td>\n",
       "      <td>Positive</td>\n",
       "      <td>বুঝতে পারছি না হৃদয় ভাঙার মানে বল</td>\n",
       "    </tr>\n",
       "    <tr>\n",
       "      <th>5877</th>\n",
       "      <td>আবারও তৃণমূলী দুস্কৃতিদের হাতে হত্যা হতে হলো ব...</td>\n",
       "      <td>Negative</td>\n",
       "      <td>আবারও তৃণমূলী দুস্কৃতিদের হাতে হত্যা হতে হলো ব...</td>\n",
       "    </tr>\n",
       "    <tr>\n",
       "      <th>5878</th>\n",
       "      <td>ঘুমের জন্য প্রস্তুত কিন্তু ঘুমের সমস্যা হচ্ছে ...</td>\n",
       "      <td>Positive</td>\n",
       "      <td>ঘুমের প্রস্তুত কিন্তু ঘুমের সমস্যা হচ্ছে নামই ...</td>\n",
       "    </tr>\n",
       "    <tr>\n",
       "      <th>5879</th>\n",
       "      <td>আজি ঝরো ঝরো মুখর বাদলদিনে জানি নে , জানি নে কি...</td>\n",
       "      <td>Negative</td>\n",
       "      <td>আজি ঝরো ঝরো মুখর বাদলদিনে জানি নে জানি নে কিছু...</td>\n",
       "    </tr>\n",
       "  </tbody>\n",
       "</table>\n",
       "<p>5880 rows × 3 columns</p>\n",
       "</div>"
      ],
      "text/plain": [
       "                                                 Review Sentiment  \\\n",
       "0     যে দেশে মানুষের মৃত্যুর খবর শুনে মন্ত্রী মহোদয...  Positive   \n",
       "1     জনগণের ভোট চুরি করে ক্ষমতায় আসা ওই নিয়ত আমাদ...  Negative   \n",
       "2     নিকোটিনের ধোয়ায় সময় কাটে রাতে । রাতটা আমার ...  Positive   \n",
       "3       সবথেকে বড় যুদ্ধ হলো নিজের মনের সাথে যুদ্ধ আবেগ  Negative   \n",
       "4     কোন সিটিতেই কোন ভোট হিসেব হয়নি যা হচ্ছে হাসিন...  Positive   \n",
       "...                                                 ...       ...   \n",
       "5875  সুন্দর দু টি বাক্য জ্ঞানী হও তবে অহংকারী হইও ন...  Negative   \n",
       "5876  আমি বুঝতে পারছি না যে আমার হৃদয় ভাঙার মানে কি...  Positive   \n",
       "5877  আবারও তৃণমূলী দুস্কৃতিদের হাতে হত্যা হতে হলো ব...  Negative   \n",
       "5878  ঘুমের জন্য প্রস্তুত কিন্তু ঘুমের সমস্যা হচ্ছে ...  Positive   \n",
       "5879  আজি ঝরো ঝরো মুখর বাদলদিনে জানি নে , জানি নে কি...  Negative   \n",
       "\n",
       "                                                cleaned  \n",
       "0     দেশে মানুষের মৃত্যুর খবর শুনে মন্ত্রী মহোদয় হ...  \n",
       "1     জনগণের ভোট চুরি ক্ষমতায় আসা ওই নিয়ত আমাদের ন...  \n",
       "2     নিকোটিনের ধোয়ায় সময় কাটে রাতে রাতটা দিন দিন...  \n",
       "3       সবথেকে বড় যুদ্ধ হলো নিজের মনের সাথে যুদ্ধ আবেগ  \n",
       "4     সিটিতেই ভোট হিসেব হয়নি যা হচ্ছে হাসিনার ইচ্ছে...  \n",
       "...                                                 ...  \n",
       "5875  সুন্দর দু টি বাক্য জ্ঞানী হও তবে অহংকারী হইও ন...  \n",
       "5876                 বুঝতে পারছি না হৃদয় ভাঙার মানে বল  \n",
       "5877  আবারও তৃণমূলী দুস্কৃতিদের হাতে হত্যা হতে হলো ব...  \n",
       "5878  ঘুমের প্রস্তুত কিন্তু ঘুমের সমস্যা হচ্ছে নামই ...  \n",
       "5879  আজি ঝরো ঝরো মুখর বাদলদিনে জানি নে জানি নে কিছু...  \n",
       "\n",
       "[5880 rows x 3 columns]"
      ]
     },
     "execution_count": 17,
     "metadata": {},
     "output_type": "execute_result"
    }
   ],
   "source": [
    "data"
   ]
  },
  {
   "cell_type": "code",
   "execution_count": 18,
   "metadata": {},
   "outputs": [
    {
     "data": {
      "image/png": "[encoded data removed]",
      "text/plain": [
       "<Figure size 432x288 with 1 Axes>"
      ]
     },
     "metadata": {
      "needs_background": "light"
     },
     "output_type": "display_data"
    }
   ],
   "source": [
    "plt.figure(figsize=(6, 4))\n",
    "ax = plt.subplot()\n",
    "\n",
    "sns.barplot(data=df,x='Class Names', y='Values' ,hue='Category')\n",
    "ax.set_xlabel('Class Names') \n",
    "ax.set_title('Data Statistics')\n",
    "\n",
    "ax.xaxis.set_ticklabels(class_names, rotation=45);\n",
    "plt.savefig('data_statistics.png',dpi = 600,bbox_inches = 'tight')"
   ]
  },
  {
   "cell_type": "markdown",
   "metadata": {},
   "source": [
    "### Review Length Distribution"
   ]
  },
  {
   "cell_type": "code",
   "execution_count": 19,
   "metadata": {},
   "outputs": [
    {
     "data": {
      "image/png": "[encoded data removed]",
      "text/plain": [
       "<Figure size 432x288 with 1 Axes>"
      ]
     },
     "metadata": {
      "needs_background": "light"
     },
     "output_type": "display_data"
    },
    {
     "name": "stdout",
     "output_type": "stream",
     "text": [
      "Maximum Length of a review: 54\n",
      "Average Length of a reviews: 18.0\n"
     ]
    }
   ],
   "source": [
    "# Calculate the Review of each of the Review\n",
    "data['ReviewLength'] = data.cleaned.apply(lambda x:len(x.split()))\n",
    "frequency = dict()\n",
    "for i in data.ReviewLength:\n",
    "    frequency[i] = frequency.get(i, 0)+1\n",
    "\n",
    "plt.bar(frequency.keys(), frequency.values(), color =\"b\")\n",
    "plt.xlim(1, 100)\n",
    "# in this notbook color is not working but it should work.\n",
    "plt.xlabel('Lenght of the Texts')\n",
    "plt.ylabel('Frequency')\n",
    "plt.title('Length-Frequency Distribution')\n",
    "plt.savefig('length_dist.png',dpi = 600,bbox_inches = 'tight')\n",
    "plt.show()  \n",
    "print(f\"Maximum Length of a review: {max(data.ReviewLength)}\")\n",
    "print(f\"Average Length of a reviews: {round(np.mean(data.ReviewLength),0)}\")\n"
   ]
  },
  {
   "cell_type": "markdown",
   "metadata": {},
   "source": [
    "### Save the cleaned data and stopwords into a pickle file"
   ]
  },
  {
   "cell_type": "code",
   "execution_count": 20,
   "metadata": {},
   "outputs": [],
   "source": [
    "cleaned_data = pd.read_excel('clean_reviews.xlsx')\n",
    "import pickle\n",
    "# open a file, where you want to store the data\n",
    "file = open('D:\\\\CSE 497\\\\497 Done S\\\\Dataset and Notebook\\\\Tweet_review_data.pkl', 'wb')\n",
    "\n",
    "# dump information to that file\n",
    "pickle.dump(cleaned_data, file)"
   ]
  },
  {
   "cell_type": "code",
   "execution_count": 21,
   "metadata": {},
   "outputs": [
    {
     "data": {
      "text/html": [
       "<div>\n",
       "<style scoped>\n",
       "    .dataframe tbody tr th:only-of-type {\n",
       "        vertical-align: middle;\n",
       "    }\n",
       "\n",
       "    .dataframe tbody tr th {\n",
       "        vertical-align: top;\n",
       "    }\n",
       "\n",
       "    .dataframe thead th {\n",
       "        text-align: right;\n",
       "    }\n",
       "</style>\n",
       "<table border=\"1\" class=\"dataframe\">\n",
       "  <thead>\n",
       "    <tr style=\"text-align: right;\">\n",
       "      <th></th>\n",
       "      <th>Review</th>\n",
       "      <th>Sentiment</th>\n",
       "      <th>cleaned</th>\n",
       "      <th>ReviewLength</th>\n",
       "    </tr>\n",
       "  </thead>\n",
       "  <tbody>\n",
       "    <tr>\n",
       "      <th>0</th>\n",
       "      <td>যে দেশে মানুষের মৃত্যুর খবর শুনে মন্ত্রী মহোদয...</td>\n",
       "      <td>Positive</td>\n",
       "      <td>দেশে মানুষের মৃত্যুর খবর শুনে মন্ত্রী মহোদয় হ...</td>\n",
       "      <td>40</td>\n",
       "    </tr>\n",
       "    <tr>\n",
       "      <th>1</th>\n",
       "      <td>জনগণের ভোট চুরি করে ক্ষমতায় আসা ওই নিয়ত আমাদ...</td>\n",
       "      <td>Negative</td>\n",
       "      <td>জনগণের ভোট চুরি ক্ষমতায় আসা ওই নিয়ত আমাদের ন...</td>\n",
       "      <td>28</td>\n",
       "    </tr>\n",
       "    <tr>\n",
       "      <th>2</th>\n",
       "      <td>নিকোটিনের ধোয়ায় সময় কাটে রাতে । রাতটা আমার ...</td>\n",
       "      <td>Positive</td>\n",
       "      <td>নিকোটিনের ধোয়ায় সময় কাটে রাতে রাতটা দিন দিন...</td>\n",
       "      <td>9</td>\n",
       "    </tr>\n",
       "    <tr>\n",
       "      <th>3</th>\n",
       "      <td>সবথেকে বড় যুদ্ধ হলো নিজের মনের সাথে যুদ্ধ আবেগ</td>\n",
       "      <td>Negative</td>\n",
       "      <td>সবথেকে বড় যুদ্ধ হলো নিজের মনের সাথে যুদ্ধ আবেগ</td>\n",
       "      <td>9</td>\n",
       "    </tr>\n",
       "    <tr>\n",
       "      <th>4</th>\n",
       "      <td>কোন সিটিতেই কোন ভোট হিসেব হয়নি যা হচ্ছে হাসিন...</td>\n",
       "      <td>Positive</td>\n",
       "      <td>সিটিতেই ভোট হিসেব হয়নি যা হচ্ছে হাসিনার ইচ্ছে...</td>\n",
       "      <td>35</td>\n",
       "    </tr>\n",
       "    <tr>\n",
       "      <th>...</th>\n",
       "      <td>...</td>\n",
       "      <td>...</td>\n",
       "      <td>...</td>\n",
       "      <td>...</td>\n",
       "    </tr>\n",
       "    <tr>\n",
       "      <th>5875</th>\n",
       "      <td>সুন্দর দু টি বাক্য জ্ঞানী হও তবে অহংকারী হইও ন...</td>\n",
       "      <td>Negative</td>\n",
       "      <td>সুন্দর দু টি বাক্য জ্ঞানী হও তবে অহংকারী হইও ন...</td>\n",
       "      <td>18</td>\n",
       "    </tr>\n",
       "    <tr>\n",
       "      <th>5876</th>\n",
       "      <td>আমি বুঝতে পারছি না যে আমার হৃদয় ভাঙার মানে কি...</td>\n",
       "      <td>Positive</td>\n",
       "      <td>বুঝতে পারছি না হৃদয় ভাঙার মানে বল</td>\n",
       "      <td>7</td>\n",
       "    </tr>\n",
       "    <tr>\n",
       "      <th>5877</th>\n",
       "      <td>আবারও তৃণমূলী দুস্কৃতিদের হাতে হত্যা হতে হলো ব...</td>\n",
       "      <td>Negative</td>\n",
       "      <td>আবারও তৃণমূলী দুস্কৃতিদের হাতে হত্যা হতে হলো ব...</td>\n",
       "      <td>23</td>\n",
       "    </tr>\n",
       "    <tr>\n",
       "      <th>5878</th>\n",
       "      <td>ঘুমের জন্য প্রস্তুত কিন্তু ঘুমের সমস্যা হচ্ছে ...</td>\n",
       "      <td>Positive</td>\n",
       "      <td>ঘুমের প্রস্তুত কিন্তু ঘুমের সমস্যা হচ্ছে নামই ...</td>\n",
       "      <td>8</td>\n",
       "    </tr>\n",
       "    <tr>\n",
       "      <th>5879</th>\n",
       "      <td>আজি ঝরো ঝরো মুখর বাদলদিনে জানি নে , জানি নে কি...</td>\n",
       "      <td>Negative</td>\n",
       "      <td>আজি ঝরো ঝরো মুখর বাদলদিনে জানি নে জানি নে কিছু...</td>\n",
       "      <td>26</td>\n",
       "    </tr>\n",
       "  </tbody>\n",
       "</table>\n",
       "<p>5880 rows × 4 columns</p>\n",
       "</div>"
      ],
      "text/plain": [
       "                                                 Review Sentiment  \\\n",
       "0     যে দেশে মানুষের মৃত্যুর খবর শুনে মন্ত্রী মহোদয...  Positive   \n",
       "1     জনগণের ভোট চুরি করে ক্ষমতায় আসা ওই নিয়ত আমাদ...  Negative   \n",
       "2     নিকোটিনের ধোয়ায় সময় কাটে রাতে । রাতটা আমার ...  Positive   \n",
       "3       সবথেকে বড় যুদ্ধ হলো নিজের মনের সাথে যুদ্ধ আবেগ  Negative   \n",
       "4     কোন সিটিতেই কোন ভোট হিসেব হয়নি যা হচ্ছে হাসিন...  Positive   \n",
       "...                                                 ...       ...   \n",
       "5875  সুন্দর দু টি বাক্য জ্ঞানী হও তবে অহংকারী হইও ন...  Negative   \n",
       "5876  আমি বুঝতে পারছি না যে আমার হৃদয় ভাঙার মানে কি...  Positive   \n",
       "5877  আবারও তৃণমূলী দুস্কৃতিদের হাতে হত্যা হতে হলো ব...  Negative   \n",
       "5878  ঘুমের জন্য প্রস্তুত কিন্তু ঘুমের সমস্যা হচ্ছে ...  Positive   \n",
       "5879  আজি ঝরো ঝরো মুখর বাদলদিনে জানি নে , জানি নে কি...  Negative   \n",
       "\n",
       "                                                cleaned  ReviewLength  \n",
       "0     দেশে মানুষের মৃত্যুর খবর শুনে মন্ত্রী মহোদয় হ...            40  \n",
       "1     জনগণের ভোট চুরি ক্ষমতায় আসা ওই নিয়ত আমাদের ন...            28  \n",
       "2     নিকোটিনের ধোয়ায় সময় কাটে রাতে রাতটা দিন দিন...             9  \n",
       "3       সবথেকে বড় যুদ্ধ হলো নিজের মনের সাথে যুদ্ধ আবেগ             9  \n",
       "4     সিটিতেই ভোট হিসেব হয়নি যা হচ্ছে হাসিনার ইচ্ছে...            35  \n",
       "...                                                 ...           ...  \n",
       "5875  সুন্দর দু টি বাক্য জ্ঞানী হও তবে অহংকারী হইও ন...            18  \n",
       "5876                 বুঝতে পারছি না হৃদয় ভাঙার মানে বল             7  \n",
       "5877  আবারও তৃণমূলী দুস্কৃতিদের হাতে হত্যা হতে হলো ব...            23  \n",
       "5878  ঘুমের প্রস্তুত কিন্তু ঘুমের সমস্যা হচ্ছে নামই ...             8  \n",
       "5879  আজি ঝরো ঝরো মুখর বাদলদিনে জানি নে জানি নে কিছু...            26  \n",
       "\n",
       "[5880 rows x 4 columns]"
      ]
     },
     "execution_count": 21,
     "metadata": {},
     "output_type": "execute_result"
    }
   ],
   "source": [
    "data"
   ]
  },
  {
   "cell_type": "code",
   "execution_count": 22,
   "metadata": {},
   "outputs": [
    {
     "data": {
      "text/html": [
       "<div>\n",
       "<style scoped>\n",
       "    .dataframe tbody tr th:only-of-type {\n",
       "        vertical-align: middle;\n",
       "    }\n",
       "\n",
       "    .dataframe tbody tr th {\n",
       "        vertical-align: top;\n",
       "    }\n",
       "\n",
       "    .dataframe thead th {\n",
       "        text-align: right;\n",
       "    }\n",
       "</style>\n",
       "<table border=\"1\" class=\"dataframe\">\n",
       "  <thead>\n",
       "    <tr style=\"text-align: right;\">\n",
       "      <th></th>\n",
       "      <th>Review</th>\n",
       "      <th>Sentiment</th>\n",
       "      <th>cleaned</th>\n",
       "      <th>ReviewLength</th>\n",
       "    </tr>\n",
       "  </thead>\n",
       "  <tbody>\n",
       "    <tr>\n",
       "      <th>0</th>\n",
       "      <td>যে দেশে মানুষের মৃত্যুর খবর শুনে মন্ত্রী মহোদয...</td>\n",
       "      <td>Positive</td>\n",
       "      <td>দেশে মানুষের মৃত্যুর খবর শুনে মন্ত্রী মহোদয় হ...</td>\n",
       "      <td>40</td>\n",
       "    </tr>\n",
       "    <tr>\n",
       "      <th>1</th>\n",
       "      <td>জনগণের ভোট চুরি করে ক্ষমতায় আসা ওই নিয়ত আমাদ...</td>\n",
       "      <td>Negative</td>\n",
       "      <td>জনগণের ভোট চুরি ক্ষমতায় আসা ওই নিয়ত আমাদের ন...</td>\n",
       "      <td>28</td>\n",
       "    </tr>\n",
       "    <tr>\n",
       "      <th>2</th>\n",
       "      <td>নিকোটিনের ধোয়ায় সময় কাটে রাতে । রাতটা আমার ...</td>\n",
       "      <td>Positive</td>\n",
       "      <td>নিকোটিনের ধোয়ায় সময় কাটে রাতে রাতটা দিন দিন...</td>\n",
       "      <td>9</td>\n",
       "    </tr>\n",
       "    <tr>\n",
       "      <th>3</th>\n",
       "      <td>সবথেকে বড় যুদ্ধ হলো নিজের মনের সাথে যুদ্ধ আবেগ</td>\n",
       "      <td>Negative</td>\n",
       "      <td>সবথেকে বড় যুদ্ধ হলো নিজের মনের সাথে যুদ্ধ আবেগ</td>\n",
       "      <td>9</td>\n",
       "    </tr>\n",
       "    <tr>\n",
       "      <th>4</th>\n",
       "      <td>কোন সিটিতেই কোন ভোট হিসেব হয়নি যা হচ্ছে হাসিন...</td>\n",
       "      <td>Positive</td>\n",
       "      <td>সিটিতেই ভোট হিসেব হয়নি যা হচ্ছে হাসিনার ইচ্ছে...</td>\n",
       "      <td>35</td>\n",
       "    </tr>\n",
       "    <tr>\n",
       "      <th>...</th>\n",
       "      <td>...</td>\n",
       "      <td>...</td>\n",
       "      <td>...</td>\n",
       "      <td>...</td>\n",
       "    </tr>\n",
       "    <tr>\n",
       "      <th>5875</th>\n",
       "      <td>সুন্দর দু টি বাক্য জ্ঞানী হও তবে অহংকারী হইও ন...</td>\n",
       "      <td>Negative</td>\n",
       "      <td>সুন্দর দু টি বাক্য জ্ঞানী হও তবে অহংকারী হইও ন...</td>\n",
       "      <td>18</td>\n",
       "    </tr>\n",
       "    <tr>\n",
       "      <th>5876</th>\n",
       "      <td>আমি বুঝতে পারছি না যে আমার হৃদয় ভাঙার মানে কি...</td>\n",
       "      <td>Positive</td>\n",
       "      <td>বুঝতে পারছি না হৃদয় ভাঙার মানে বল</td>\n",
       "      <td>7</td>\n",
       "    </tr>\n",
       "    <tr>\n",
       "      <th>5877</th>\n",
       "      <td>আবারও তৃণমূলী দুস্কৃতিদের হাতে হত্যা হতে হলো ব...</td>\n",
       "      <td>Negative</td>\n",
       "      <td>আবারও তৃণমূলী দুস্কৃতিদের হাতে হত্যা হতে হলো ব...</td>\n",
       "      <td>23</td>\n",
       "    </tr>\n",
       "    <tr>\n",
       "      <th>5878</th>\n",
       "      <td>ঘুমের জন্য প্রস্তুত কিন্তু ঘুমের সমস্যা হচ্ছে ...</td>\n",
       "      <td>Positive</td>\n",
       "      <td>ঘুমের প্রস্তুত কিন্তু ঘুমের সমস্যা হচ্ছে নামই ...</td>\n",
       "      <td>8</td>\n",
       "    </tr>\n",
       "    <tr>\n",
       "      <th>5879</th>\n",
       "      <td>আজি ঝরো ঝরো মুখর বাদলদিনে জানি নে , জানি নে কি...</td>\n",
       "      <td>Negative</td>\n",
       "      <td>আজি ঝরো ঝরো মুখর বাদলদিনে জানি নে জানি নে কিছু...</td>\n",
       "      <td>26</td>\n",
       "    </tr>\n",
       "  </tbody>\n",
       "</table>\n",
       "<p>5880 rows × 4 columns</p>\n",
       "</div>"
      ],
      "text/plain": [
       "                                                 Review Sentiment  \\\n",
       "0     যে দেশে মানুষের মৃত্যুর খবর শুনে মন্ত্রী মহোদয...  Positive   \n",
       "1     জনগণের ভোট চুরি করে ক্ষমতায় আসা ওই নিয়ত আমাদ...  Negative   \n",
       "2     নিকোটিনের ধোয়ায় সময় কাটে রাতে । রাতটা আমার ...  Positive   \n",
       "3       সবথেকে বড় যুদ্ধ হলো নিজের মনের সাথে যুদ্ধ আবেগ  Negative   \n",
       "4     কোন সিটিতেই কোন ভোট হিসেব হয়নি যা হচ্ছে হাসিন...  Positive   \n",
       "...                                                 ...       ...   \n",
       "5875  সুন্দর দু টি বাক্য জ্ঞানী হও তবে অহংকারী হইও ন...  Negative   \n",
       "5876  আমি বুঝতে পারছি না যে আমার হৃদয় ভাঙার মানে কি...  Positive   \n",
       "5877  আবারও তৃণমূলী দুস্কৃতিদের হাতে হত্যা হতে হলো ব...  Negative   \n",
       "5878  ঘুমের জন্য প্রস্তুত কিন্তু ঘুমের সমস্যা হচ্ছে ...  Positive   \n",
       "5879  আজি ঝরো ঝরো মুখর বাদলদিনে জানি নে , জানি নে কি...  Negative   \n",
       "\n",
       "                                                cleaned  ReviewLength  \n",
       "0     দেশে মানুষের মৃত্যুর খবর শুনে মন্ত্রী মহোদয় হ...            40  \n",
       "1     জনগণের ভোট চুরি ক্ষমতায় আসা ওই নিয়ত আমাদের ন...            28  \n",
       "2     নিকোটিনের ধোয়ায় সময় কাটে রাতে রাতটা দিন দিন...             9  \n",
       "3       সবথেকে বড় যুদ্ধ হলো নিজের মনের সাথে যুদ্ধ আবেগ             9  \n",
       "4     সিটিতেই ভোট হিসেব হয়নি যা হচ্ছে হাসিনার ইচ্ছে...            35  \n",
       "...                                                 ...           ...  \n",
       "5875  সুন্দর দু টি বাক্য জ্ঞানী হও তবে অহংকারী হইও ন...            18  \n",
       "5876                 বুঝতে পারছি না হৃদয় ভাঙার মানে বল             7  \n",
       "5877  আবারও তৃণমূলী দুস্কৃতিদের হাতে হত্যা হতে হলো ব...            23  \n",
       "5878  ঘুমের প্রস্তুত কিন্তু ঘুমের সমস্যা হচ্ছে নামই ...             8  \n",
       "5879  আজি ঝরো ঝরো মুখর বাদলদিনে জানি নে জানি নে কিছু...            26  \n",
       "\n",
       "[5880 rows x 4 columns]"
      ]
     },
     "execution_count": 22,
     "metadata": {},
     "output_type": "execute_result"
    }
   ],
   "source": [
    "data"
   ]
  },
  {
   "cell_type": "code",
   "execution_count": 23,
   "metadata": {},
   "outputs": [],
   "source": [
    "stp = open(stopwords_list,'r', encoding='iso-8859-1').read().split()#encoding='utf-8').read().split()\n",
    "# pickle stopwords\n",
    "import pickle\n",
    "# open a file, where you want to store the data\n",
    "file = open('D:\\\\CSE 497\\\\497 Done S\\\\Dataset and Notebook\\\\Stopwords.pkl', 'wb')\n",
    "\n",
    "# dump information to that file\n",
    "pickle.dump(stp, file)"
   ]
  },
  {
   "cell_type": "code",
   "execution_count": 24,
   "metadata": {},
   "outputs": [
    {
     "data": {
      "text/html": [
       "<div>\n",
       "<style scoped>\n",
       "    .dataframe tbody tr th:only-of-type {\n",
       "        vertical-align: middle;\n",
       "    }\n",
       "\n",
       "    .dataframe tbody tr th {\n",
       "        vertical-align: top;\n",
       "    }\n",
       "\n",
       "    .dataframe thead th {\n",
       "        text-align: right;\n",
       "    }\n",
       "</style>\n",
       "<table border=\"1\" class=\"dataframe\">\n",
       "  <thead>\n",
       "    <tr style=\"text-align: right;\">\n",
       "      <th></th>\n",
       "      <th>Review</th>\n",
       "      <th>Sentiment</th>\n",
       "      <th>cleaned</th>\n",
       "      <th>ReviewLength</th>\n",
       "    </tr>\n",
       "  </thead>\n",
       "  <tbody>\n",
       "    <tr>\n",
       "      <th>0</th>\n",
       "      <td>যে দেশে মানুষের মৃত্যুর খবর শুনে মন্ত্রী মহোদয...</td>\n",
       "      <td>Positive</td>\n",
       "      <td>দেশে মানুষের মৃত্যুর খবর শুনে মন্ত্রী মহোদয় হ...</td>\n",
       "      <td>40</td>\n",
       "    </tr>\n",
       "    <tr>\n",
       "      <th>1</th>\n",
       "      <td>জনগণের ভোট চুরি করে ক্ষমতায় আসা ওই নিয়ত আমাদ...</td>\n",
       "      <td>Negative</td>\n",
       "      <td>জনগণের ভোট চুরি ক্ষমতায় আসা ওই নিয়ত আমাদের ন...</td>\n",
       "      <td>28</td>\n",
       "    </tr>\n",
       "    <tr>\n",
       "      <th>2</th>\n",
       "      <td>নিকোটিনের ধোয়ায় সময় কাটে রাতে । রাতটা আমার ...</td>\n",
       "      <td>Positive</td>\n",
       "      <td>নিকোটিনের ধোয়ায় সময় কাটে রাতে রাতটা দিন দিন...</td>\n",
       "      <td>9</td>\n",
       "    </tr>\n",
       "    <tr>\n",
       "      <th>3</th>\n",
       "      <td>সবথেকে বড় যুদ্ধ হলো নিজের মনের সাথে যুদ্ধ আবেগ</td>\n",
       "      <td>Negative</td>\n",
       "      <td>সবথেকে বড় যুদ্ধ হলো নিজের মনের সাথে যুদ্ধ আবেগ</td>\n",
       "      <td>9</td>\n",
       "    </tr>\n",
       "    <tr>\n",
       "      <th>4</th>\n",
       "      <td>কোন সিটিতেই কোন ভোট হিসেব হয়নি যা হচ্ছে হাসিন...</td>\n",
       "      <td>Positive</td>\n",
       "      <td>সিটিতেই ভোট হিসেব হয়নি যা হচ্ছে হাসিনার ইচ্ছে...</td>\n",
       "      <td>35</td>\n",
       "    </tr>\n",
       "    <tr>\n",
       "      <th>...</th>\n",
       "      <td>...</td>\n",
       "      <td>...</td>\n",
       "      <td>...</td>\n",
       "      <td>...</td>\n",
       "    </tr>\n",
       "    <tr>\n",
       "      <th>5875</th>\n",
       "      <td>সুন্দর দু টি বাক্য জ্ঞানী হও তবে অহংকারী হইও ন...</td>\n",
       "      <td>Negative</td>\n",
       "      <td>সুন্দর দু টি বাক্য জ্ঞানী হও তবে অহংকারী হইও ন...</td>\n",
       "      <td>18</td>\n",
       "    </tr>\n",
       "    <tr>\n",
       "      <th>5876</th>\n",
       "      <td>আমি বুঝতে পারছি না যে আমার হৃদয় ভাঙার মানে কি...</td>\n",
       "      <td>Positive</td>\n",
       "      <td>বুঝতে পারছি না হৃদয় ভাঙার মানে বল</td>\n",
       "      <td>7</td>\n",
       "    </tr>\n",
       "    <tr>\n",
       "      <th>5877</th>\n",
       "      <td>আবারও তৃণমূলী দুস্কৃতিদের হাতে হত্যা হতে হলো ব...</td>\n",
       "      <td>Negative</td>\n",
       "      <td>আবারও তৃণমূলী দুস্কৃতিদের হাতে হত্যা হতে হলো ব...</td>\n",
       "      <td>23</td>\n",
       "    </tr>\n",
       "    <tr>\n",
       "      <th>5878</th>\n",
       "      <td>ঘুমের জন্য প্রস্তুত কিন্তু ঘুমের সমস্যা হচ্ছে ...</td>\n",
       "      <td>Positive</td>\n",
       "      <td>ঘুমের প্রস্তুত কিন্তু ঘুমের সমস্যা হচ্ছে নামই ...</td>\n",
       "      <td>8</td>\n",
       "    </tr>\n",
       "    <tr>\n",
       "      <th>5879</th>\n",
       "      <td>আজি ঝরো ঝরো মুখর বাদলদিনে জানি নে , জানি নে কি...</td>\n",
       "      <td>Negative</td>\n",
       "      <td>আজি ঝরো ঝরো মুখর বাদলদিনে জানি নে জানি নে কিছু...</td>\n",
       "      <td>26</td>\n",
       "    </tr>\n",
       "  </tbody>\n",
       "</table>\n",
       "<p>5880 rows × 4 columns</p>\n",
       "</div>"
      ],
      "text/plain": [
       "                                                 Review Sentiment  \\\n",
       "0     যে দেশে মানুষের মৃত্যুর খবর শুনে মন্ত্রী মহোদয...  Positive   \n",
       "1     জনগণের ভোট চুরি করে ক্ষমতায় আসা ওই নিয়ত আমাদ...  Negative   \n",
       "2     নিকোটিনের ধোয়ায় সময় কাটে রাতে । রাতটা আমার ...  Positive   \n",
       "3       সবথেকে বড় যুদ্ধ হলো নিজের মনের সাথে যুদ্ধ আবেগ  Negative   \n",
       "4     কোন সিটিতেই কোন ভোট হিসেব হয়নি যা হচ্ছে হাসিন...  Positive   \n",
       "...                                                 ...       ...   \n",
       "5875  সুন্দর দু টি বাক্য জ্ঞানী হও তবে অহংকারী হইও ন...  Negative   \n",
       "5876  আমি বুঝতে পারছি না যে আমার হৃদয় ভাঙার মানে কি...  Positive   \n",
       "5877  আবারও তৃণমূলী দুস্কৃতিদের হাতে হত্যা হতে হলো ব...  Negative   \n",
       "5878  ঘুমের জন্য প্রস্তুত কিন্তু ঘুমের সমস্যা হচ্ছে ...  Positive   \n",
       "5879  আজি ঝরো ঝরো মুখর বাদলদিনে জানি নে , জানি নে কি...  Negative   \n",
       "\n",
       "                                                cleaned  ReviewLength  \n",
       "0     দেশে মানুষের মৃত্যুর খবর শুনে মন্ত্রী মহোদয় হ...            40  \n",
       "1     জনগণের ভোট চুরি ক্ষমতায় আসা ওই নিয়ত আমাদের ন...            28  \n",
       "2     নিকোটিনের ধোয়ায় সময় কাটে রাতে রাতটা দিন দিন...             9  \n",
       "3       সবথেকে বড় যুদ্ধ হলো নিজের মনের সাথে যুদ্ধ আবেগ             9  \n",
       "4     সিটিতেই ভোট হিসেব হয়নি যা হচ্ছে হাসিনার ইচ্ছে...            35  \n",
       "...                                                 ...           ...  \n",
       "5875  সুন্দর দু টি বাক্য জ্ঞানী হও তবে অহংকারী হইও ন...            18  \n",
       "5876                 বুঝতে পারছি না হৃদয় ভাঙার মানে বল             7  \n",
       "5877  আবারও তৃণমূলী দুস্কৃতিদের হাতে হত্যা হতে হলো ব...            23  \n",
       "5878  ঘুমের প্রস্তুত কিন্তু ঘুমের সমস্যা হচ্ছে নামই ...             8  \n",
       "5879  আজি ঝরো ঝরো মুখর বাদলদিনে জানি নে জানি নে কিছু...            26  \n",
       "\n",
       "[5880 rows x 4 columns]"
      ]
     },
     "execution_count": 24,
     "metadata": {},
     "output_type": "execute_result"
    }
   ],
   "source": [
    "data"
   ]
  },
  {
   "cell_type": "code",
   "execution_count": 25,
   "metadata": {},
   "outputs": [
    {
     "data": {
      "text/html": [
       "<div>\n",
       "<style scoped>\n",
       "    .dataframe tbody tr th:only-of-type {\n",
       "        vertical-align: middle;\n",
       "    }\n",
       "\n",
       "    .dataframe tbody tr th {\n",
       "        vertical-align: top;\n",
       "    }\n",
       "\n",
       "    .dataframe thead th {\n",
       "        text-align: right;\n",
       "    }\n",
       "</style>\n",
       "<table border=\"1\" class=\"dataframe\">\n",
       "  <thead>\n",
       "    <tr style=\"text-align: right;\">\n",
       "      <th></th>\n",
       "      <th>Review</th>\n",
       "      <th>Sentiment</th>\n",
       "      <th>cleaned</th>\n",
       "      <th>ReviewLength</th>\n",
       "    </tr>\n",
       "  </thead>\n",
       "  <tbody>\n",
       "    <tr>\n",
       "      <th>0</th>\n",
       "      <td>যে দেশে মানুষের মৃত্যুর খবর শুনে মন্ত্রী মহোদয...</td>\n",
       "      <td>Positive</td>\n",
       "      <td>দেশে মানুষের মৃত্যুর খবর শুনে মন্ত্রী মহোদয় হ...</td>\n",
       "      <td>40</td>\n",
       "    </tr>\n",
       "    <tr>\n",
       "      <th>1</th>\n",
       "      <td>জনগণের ভোট চুরি করে ক্ষমতায় আসা ওই নিয়ত আমাদ...</td>\n",
       "      <td>Negative</td>\n",
       "      <td>জনগণের ভোট চুরি ক্ষমতায় আসা ওই নিয়ত আমাদের ন...</td>\n",
       "      <td>28</td>\n",
       "    </tr>\n",
       "    <tr>\n",
       "      <th>2</th>\n",
       "      <td>নিকোটিনের ধোয়ায় সময় কাটে রাতে । রাতটা আমার ...</td>\n",
       "      <td>Positive</td>\n",
       "      <td>নিকোটিনের ধোয়ায় সময় কাটে রাতে রাতটা দিন দিন...</td>\n",
       "      <td>9</td>\n",
       "    </tr>\n",
       "    <tr>\n",
       "      <th>3</th>\n",
       "      <td>সবথেকে বড় যুদ্ধ হলো নিজের মনের সাথে যুদ্ধ আবেগ</td>\n",
       "      <td>Negative</td>\n",
       "      <td>সবথেকে বড় যুদ্ধ হলো নিজের মনের সাথে যুদ্ধ আবেগ</td>\n",
       "      <td>9</td>\n",
       "    </tr>\n",
       "    <tr>\n",
       "      <th>4</th>\n",
       "      <td>কোন সিটিতেই কোন ভোট হিসেব হয়নি যা হচ্ছে হাসিন...</td>\n",
       "      <td>Positive</td>\n",
       "      <td>সিটিতেই ভোট হিসেব হয়নি যা হচ্ছে হাসিনার ইচ্ছে...</td>\n",
       "      <td>35</td>\n",
       "    </tr>\n",
       "    <tr>\n",
       "      <th>...</th>\n",
       "      <td>...</td>\n",
       "      <td>...</td>\n",
       "      <td>...</td>\n",
       "      <td>...</td>\n",
       "    </tr>\n",
       "    <tr>\n",
       "      <th>5875</th>\n",
       "      <td>সুন্দর দু টি বাক্য জ্ঞানী হও তবে অহংকারী হইও ন...</td>\n",
       "      <td>Negative</td>\n",
       "      <td>সুন্দর দু টি বাক্য জ্ঞানী হও তবে অহংকারী হইও ন...</td>\n",
       "      <td>18</td>\n",
       "    </tr>\n",
       "    <tr>\n",
       "      <th>5876</th>\n",
       "      <td>আমি বুঝতে পারছি না যে আমার হৃদয় ভাঙার মানে কি...</td>\n",
       "      <td>Positive</td>\n",
       "      <td>বুঝতে পারছি না হৃদয় ভাঙার মানে বল</td>\n",
       "      <td>7</td>\n",
       "    </tr>\n",
       "    <tr>\n",
       "      <th>5877</th>\n",
       "      <td>আবারও তৃণমূলী দুস্কৃতিদের হাতে হত্যা হতে হলো ব...</td>\n",
       "      <td>Negative</td>\n",
       "      <td>আবারও তৃণমূলী দুস্কৃতিদের হাতে হত্যা হতে হলো ব...</td>\n",
       "      <td>23</td>\n",
       "    </tr>\n",
       "    <tr>\n",
       "      <th>5878</th>\n",
       "      <td>ঘুমের জন্য প্রস্তুত কিন্তু ঘুমের সমস্যা হচ্ছে ...</td>\n",
       "      <td>Positive</td>\n",
       "      <td>ঘুমের প্রস্তুত কিন্তু ঘুমের সমস্যা হচ্ছে নামই ...</td>\n",
       "      <td>8</td>\n",
       "    </tr>\n",
       "    <tr>\n",
       "      <th>5879</th>\n",
       "      <td>আজি ঝরো ঝরো মুখর বাদলদিনে জানি নে , জানি নে কি...</td>\n",
       "      <td>Negative</td>\n",
       "      <td>আজি ঝরো ঝরো মুখর বাদলদিনে জানি নে জানি নে কিছু...</td>\n",
       "      <td>26</td>\n",
       "    </tr>\n",
       "  </tbody>\n",
       "</table>\n",
       "<p>5880 rows × 4 columns</p>\n",
       "</div>"
      ],
      "text/plain": [
       "                                                 Review Sentiment  \\\n",
       "0     যে দেশে মানুষের মৃত্যুর খবর শুনে মন্ত্রী মহোদয...  Positive   \n",
       "1     জনগণের ভোট চুরি করে ক্ষমতায় আসা ওই নিয়ত আমাদ...  Negative   \n",
       "2     নিকোটিনের ধোয়ায় সময় কাটে রাতে । রাতটা আমার ...  Positive   \n",
       "3       সবথেকে বড় যুদ্ধ হলো নিজের মনের সাথে যুদ্ধ আবেগ  Negative   \n",
       "4     কোন সিটিতেই কোন ভোট হিসেব হয়নি যা হচ্ছে হাসিন...  Positive   \n",
       "...                                                 ...       ...   \n",
       "5875  সুন্দর দু টি বাক্য জ্ঞানী হও তবে অহংকারী হইও ন...  Negative   \n",
       "5876  আমি বুঝতে পারছি না যে আমার হৃদয় ভাঙার মানে কি...  Positive   \n",
       "5877  আবারও তৃণমূলী দুস্কৃতিদের হাতে হত্যা হতে হলো ব...  Negative   \n",
       "5878  ঘুমের জন্য প্রস্তুত কিন্তু ঘুমের সমস্যা হচ্ছে ...  Positive   \n",
       "5879  আজি ঝরো ঝরো মুখর বাদলদিনে জানি নে , জানি নে কি...  Negative   \n",
       "\n",
       "                                                cleaned  ReviewLength  \n",
       "0     দেশে মানুষের মৃত্যুর খবর শুনে মন্ত্রী মহোদয় হ...            40  \n",
       "1     জনগণের ভোট চুরি ক্ষমতায় আসা ওই নিয়ত আমাদের ন...            28  \n",
       "2     নিকোটিনের ধোয়ায় সময় কাটে রাতে রাতটা দিন দিন...             9  \n",
       "3       সবথেকে বড় যুদ্ধ হলো নিজের মনের সাথে যুদ্ধ আবেগ             9  \n",
       "4     সিটিতেই ভোট হিসেব হয়নি যা হচ্ছে হাসিনার ইচ্ছে...            35  \n",
       "...                                                 ...           ...  \n",
       "5875  সুন্দর দু টি বাক্য জ্ঞানী হও তবে অহংকারী হইও ন...            18  \n",
       "5876                 বুঝতে পারছি না হৃদয় ভাঙার মানে বল             7  \n",
       "5877  আবারও তৃণমূলী দুস্কৃতিদের হাতে হত্যা হতে হলো ব...            23  \n",
       "5878  ঘুমের প্রস্তুত কিন্তু ঘুমের সমস্যা হচ্ছে নামই ...             8  \n",
       "5879  আজি ঝরো ঝরো মুখর বাদলদিনে জানি নে জানি নে কিছু...            26  \n",
       "\n",
       "[5880 rows x 4 columns]"
      ]
     },
     "execution_count": 25,
     "metadata": {},
     "output_type": "execute_result"
    }
   ],
   "source": [
    "data"
   ]
  },
  {
   "cell_type": "markdown",
   "metadata": {},
   "source": [
    "## Feature Extraction Using TF-IDF"
   ]
  },
  {
   "cell_type": "code",
   "execution_count": 26,
   "metadata": {},
   "outputs": [],
   "source": [
    "from utils import calc_unigram_tfidf,calc_bigram_tfidf,calc_trigram_tfidf,show_tfidf"
   ]
  },
  {
   "cell_type": "code",
   "execution_count": 27,
   "metadata": {},
   "outputs": [
    {
     "name": "stdout",
     "output_type": "stream",
     "text": [
      "Review          object\n",
      "Sentiment       object\n",
      "cleaned         object\n",
      "ReviewLength     int64\n",
      "dtype: object\n"
     ]
    }
   ],
   "source": [
    "print(data.dtypes)"
   ]
  },
  {
   "cell_type": "code",
   "execution_count": 28,
   "metadata": {},
   "outputs": [
    {
     "data": {
      "text/html": [
       "<div>\n",
       "<style scoped>\n",
       "    .dataframe tbody tr th:only-of-type {\n",
       "        vertical-align: middle;\n",
       "    }\n",
       "\n",
       "    .dataframe tbody tr th {\n",
       "        vertical-align: top;\n",
       "    }\n",
       "\n",
       "    .dataframe thead th {\n",
       "        text-align: right;\n",
       "    }\n",
       "</style>\n",
       "<table border=\"1\" class=\"dataframe\">\n",
       "  <thead>\n",
       "    <tr style=\"text-align: right;\">\n",
       "      <th></th>\n",
       "      <th>Review</th>\n",
       "      <th>Sentiment</th>\n",
       "      <th>cleaned</th>\n",
       "      <th>ReviewLength</th>\n",
       "    </tr>\n",
       "  </thead>\n",
       "  <tbody>\n",
       "    <tr>\n",
       "      <th>0</th>\n",
       "      <td>যে দেশে মানুষের মৃত্যুর খবর শুনে মন্ত্রী মহোদয...</td>\n",
       "      <td>Positive</td>\n",
       "      <td>দেশে মানুষের মৃত্যুর খবর শুনে মন্ত্রী মহোদয় হ...</td>\n",
       "      <td>40</td>\n",
       "    </tr>\n",
       "    <tr>\n",
       "      <th>1</th>\n",
       "      <td>জনগণের ভোট চুরি করে ক্ষমতায় আসা ওই নিয়ত আমাদ...</td>\n",
       "      <td>Negative</td>\n",
       "      <td>জনগণের ভোট চুরি ক্ষমতায় আসা ওই নিয়ত আমাদের ন...</td>\n",
       "      <td>28</td>\n",
       "    </tr>\n",
       "    <tr>\n",
       "      <th>2</th>\n",
       "      <td>নিকোটিনের ধোয়ায় সময় কাটে রাতে । রাতটা আমার ...</td>\n",
       "      <td>Positive</td>\n",
       "      <td>নিকোটিনের ধোয়ায় সময় কাটে রাতে রাতটা দিন দিন...</td>\n",
       "      <td>9</td>\n",
       "    </tr>\n",
       "    <tr>\n",
       "      <th>3</th>\n",
       "      <td>সবথেকে বড় যুদ্ধ হলো নিজের মনের সাথে যুদ্ধ আবেগ</td>\n",
       "      <td>Negative</td>\n",
       "      <td>সবথেকে বড় যুদ্ধ হলো নিজের মনের সাথে যুদ্ধ আবেগ</td>\n",
       "      <td>9</td>\n",
       "    </tr>\n",
       "    <tr>\n",
       "      <th>4</th>\n",
       "      <td>কোন সিটিতেই কোন ভোট হিসেব হয়নি যা হচ্ছে হাসিন...</td>\n",
       "      <td>Positive</td>\n",
       "      <td>সিটিতেই ভোট হিসেব হয়নি যা হচ্ছে হাসিনার ইচ্ছে...</td>\n",
       "      <td>35</td>\n",
       "    </tr>\n",
       "    <tr>\n",
       "      <th>...</th>\n",
       "      <td>...</td>\n",
       "      <td>...</td>\n",
       "      <td>...</td>\n",
       "      <td>...</td>\n",
       "    </tr>\n",
       "    <tr>\n",
       "      <th>5875</th>\n",
       "      <td>সুন্দর দু টি বাক্য জ্ঞানী হও তবে অহংকারী হইও ন...</td>\n",
       "      <td>Negative</td>\n",
       "      <td>সুন্দর দু টি বাক্য জ্ঞানী হও তবে অহংকারী হইও ন...</td>\n",
       "      <td>18</td>\n",
       "    </tr>\n",
       "    <tr>\n",
       "      <th>5876</th>\n",
       "      <td>আমি বুঝতে পারছি না যে আমার হৃদয় ভাঙার মানে কি...</td>\n",
       "      <td>Positive</td>\n",
       "      <td>বুঝতে পারছি না হৃদয় ভাঙার মানে বল</td>\n",
       "      <td>7</td>\n",
       "    </tr>\n",
       "    <tr>\n",
       "      <th>5877</th>\n",
       "      <td>আবারও তৃণমূলী দুস্কৃতিদের হাতে হত্যা হতে হলো ব...</td>\n",
       "      <td>Negative</td>\n",
       "      <td>আবারও তৃণমূলী দুস্কৃতিদের হাতে হত্যা হতে হলো ব...</td>\n",
       "      <td>23</td>\n",
       "    </tr>\n",
       "    <tr>\n",
       "      <th>5878</th>\n",
       "      <td>ঘুমের জন্য প্রস্তুত কিন্তু ঘুমের সমস্যা হচ্ছে ...</td>\n",
       "      <td>Positive</td>\n",
       "      <td>ঘুমের প্রস্তুত কিন্তু ঘুমের সমস্যা হচ্ছে নামই ...</td>\n",
       "      <td>8</td>\n",
       "    </tr>\n",
       "    <tr>\n",
       "      <th>5879</th>\n",
       "      <td>আজি ঝরো ঝরো মুখর বাদলদিনে জানি নে , জানি নে কি...</td>\n",
       "      <td>Negative</td>\n",
       "      <td>আজি ঝরো ঝরো মুখর বাদলদিনে জানি নে জানি নে কিছু...</td>\n",
       "      <td>26</td>\n",
       "    </tr>\n",
       "  </tbody>\n",
       "</table>\n",
       "<p>5880 rows × 4 columns</p>\n",
       "</div>"
      ],
      "text/plain": [
       "                                                 Review Sentiment  \\\n",
       "0     যে দেশে মানুষের মৃত্যুর খবর শুনে মন্ত্রী মহোদয...  Positive   \n",
       "1     জনগণের ভোট চুরি করে ক্ষমতায় আসা ওই নিয়ত আমাদ...  Negative   \n",
       "2     নিকোটিনের ধোয়ায় সময় কাটে রাতে । রাতটা আমার ...  Positive   \n",
       "3       সবথেকে বড় যুদ্ধ হলো নিজের মনের সাথে যুদ্ধ আবেগ  Negative   \n",
       "4     কোন সিটিতেই কোন ভোট হিসেব হয়নি যা হচ্ছে হাসিন...  Positive   \n",
       "...                                                 ...       ...   \n",
       "5875  সুন্দর দু টি বাক্য জ্ঞানী হও তবে অহংকারী হইও ন...  Negative   \n",
       "5876  আমি বুঝতে পারছি না যে আমার হৃদয় ভাঙার মানে কি...  Positive   \n",
       "5877  আবারও তৃণমূলী দুস্কৃতিদের হাতে হত্যা হতে হলো ব...  Negative   \n",
       "5878  ঘুমের জন্য প্রস্তুত কিন্তু ঘুমের সমস্যা হচ্ছে ...  Positive   \n",
       "5879  আজি ঝরো ঝরো মুখর বাদলদিনে জানি নে , জানি নে কি...  Negative   \n",
       "\n",
       "                                                cleaned  ReviewLength  \n",
       "0     দেশে মানুষের মৃত্যুর খবর শুনে মন্ত্রী মহোদয় হ...            40  \n",
       "1     জনগণের ভোট চুরি ক্ষমতায় আসা ওই নিয়ত আমাদের ন...            28  \n",
       "2     নিকোটিনের ধোয়ায় সময় কাটে রাতে রাতটা দিন দিন...             9  \n",
       "3       সবথেকে বড় যুদ্ধ হলো নিজের মনের সাথে যুদ্ধ আবেগ             9  \n",
       "4     সিটিতেই ভোট হিসেব হয়নি যা হচ্ছে হাসিনার ইচ্ছে...            35  \n",
       "...                                                 ...           ...  \n",
       "5875  সুন্দর দু টি বাক্য জ্ঞানী হও তবে অহংকারী হইও ন...            18  \n",
       "5876                 বুঝতে পারছি না হৃদয় ভাঙার মানে বল             7  \n",
       "5877  আবারও তৃণমূলী দুস্কৃতিদের হাতে হত্যা হতে হলো ব...            23  \n",
       "5878  ঘুমের প্রস্তুত কিন্তু ঘুমের সমস্যা হচ্ছে নামই ...             8  \n",
       "5879  আজি ঝরো ঝরো মুখর বাদলদিনে জানি নে জানি নে কিছু...            26  \n",
       "\n",
       "[5880 rows x 4 columns]"
      ]
     },
     "execution_count": 28,
     "metadata": {},
     "output_type": "execute_result"
    }
   ],
   "source": [
    "data"
   ]
  },
  {
   "cell_type": "markdown",
   "metadata": {},
   "source": [
    "del data['Unnamed: 0']"
   ]
  },
  {
   "cell_type": "code",
   "execution_count": 29,
   "metadata": {},
   "outputs": [],
   "source": [
    "data.cleaned=data.cleaned.astype(str)"
   ]
  },
  {
   "cell_type": "code",
   "execution_count": 30,
   "metadata": {},
   "outputs": [
    {
     "name": "stdout",
     "output_type": "stream",
     "text": [
      "Review          object\n",
      "Sentiment       object\n",
      "cleaned         object\n",
      "ReviewLength     int64\n",
      "dtype: object\n"
     ]
    }
   ],
   "source": [
    "print(data.dtypes)"
   ]
  },
  {
   "cell_type": "code",
   "execution_count": 31,
   "metadata": {},
   "outputs": [
    {
     "name": "stdout",
     "output_type": "stream",
     "text": [
      "Shape of TF-IDF Corpus =====> (5880, 7826) \n",
      "\n",
      "Sample Review:  যত ধৈর্য্য তত বেশি সফলতা । সমস্যা হলো আমাদের ধৈয্যধারন ক্ষমতা তুলো গোছের\n",
      "              tfidf\n",
      "গোছের      0.354605\n",
      "ধৈয্যধারন  0.354605\n",
      "তুলো       0.354605\n",
      "ধৈর্য্য    0.327355\n",
      "তত         0.310510\n",
      "সফলতা      0.310510\n",
      "সমস্যা     0.268207\n",
      "ক্ষমতা     0.258395\n",
      "যত         0.250346\n",
      "বেশি       0.212677\n",
      "হলো        0.204005\n",
      "আমাদের     0.185864\n",
      "ঃ          0.000000\n"
     ]
    }
   ],
   "source": [
    "tweet= 'যত ধৈর্য্য তত বেশি সফলতা । সমস্যা হলো আমাদের ধৈয্যধারন ক্ষমতা তুলো গোছের'\n",
    "cv,feature_vector = calc_unigram_tfidf(data.cleaned)  \n",
    "print(\"Shape of TF-IDF Corpus =====>\",feature_vector.shape,'\\n')\n",
    "show_tfidf(cv,tweet)\n",
    "#first_vector = tfidf.transform([samp_review]).toarray()"
   ]
  },
  {
   "cell_type": "code",
   "execution_count": 32,
   "metadata": {},
   "outputs": [],
   "source": [
    "#help(calc_unigram_tfidf)"
   ]
  },
  {
   "cell_type": "code",
   "execution_count": 33,
   "metadata": {},
   "outputs": [
    {
     "data": {
      "text/html": [
       "<div>\n",
       "<style scoped>\n",
       "    .dataframe tbody tr th:only-of-type {\n",
       "        vertical-align: middle;\n",
       "    }\n",
       "\n",
       "    .dataframe tbody tr th {\n",
       "        vertical-align: top;\n",
       "    }\n",
       "\n",
       "    .dataframe thead th {\n",
       "        text-align: right;\n",
       "    }\n",
       "</style>\n",
       "<table border=\"1\" class=\"dataframe\">\n",
       "  <thead>\n",
       "    <tr style=\"text-align: right;\">\n",
       "      <th></th>\n",
       "      <th>Review</th>\n",
       "      <th>Sentiment</th>\n",
       "      <th>cleaned</th>\n",
       "      <th>ReviewLength</th>\n",
       "    </tr>\n",
       "  </thead>\n",
       "  <tbody>\n",
       "    <tr>\n",
       "      <th>0</th>\n",
       "      <td>যে দেশে মানুষের মৃত্যুর খবর শুনে মন্ত্রী মহোদয...</td>\n",
       "      <td>Positive</td>\n",
       "      <td>দেশে মানুষের মৃত্যুর খবর শুনে মন্ত্রী মহোদয় হ...</td>\n",
       "      <td>40</td>\n",
       "    </tr>\n",
       "    <tr>\n",
       "      <th>1</th>\n",
       "      <td>জনগণের ভোট চুরি করে ক্ষমতায় আসা ওই নিয়ত আমাদ...</td>\n",
       "      <td>Negative</td>\n",
       "      <td>জনগণের ভোট চুরি ক্ষমতায় আসা ওই নিয়ত আমাদের ন...</td>\n",
       "      <td>28</td>\n",
       "    </tr>\n",
       "    <tr>\n",
       "      <th>2</th>\n",
       "      <td>নিকোটিনের ধোয়ায় সময় কাটে রাতে । রাতটা আমার ...</td>\n",
       "      <td>Positive</td>\n",
       "      <td>নিকোটিনের ধোয়ায় সময় কাটে রাতে রাতটা দিন দিন...</td>\n",
       "      <td>9</td>\n",
       "    </tr>\n",
       "    <tr>\n",
       "      <th>3</th>\n",
       "      <td>সবথেকে বড় যুদ্ধ হলো নিজের মনের সাথে যুদ্ধ আবেগ</td>\n",
       "      <td>Negative</td>\n",
       "      <td>সবথেকে বড় যুদ্ধ হলো নিজের মনের সাথে যুদ্ধ আবেগ</td>\n",
       "      <td>9</td>\n",
       "    </tr>\n",
       "    <tr>\n",
       "      <th>4</th>\n",
       "      <td>কোন সিটিতেই কোন ভোট হিসেব হয়নি যা হচ্ছে হাসিন...</td>\n",
       "      <td>Positive</td>\n",
       "      <td>সিটিতেই ভোট হিসেব হয়নি যা হচ্ছে হাসিনার ইচ্ছে...</td>\n",
       "      <td>35</td>\n",
       "    </tr>\n",
       "    <tr>\n",
       "      <th>...</th>\n",
       "      <td>...</td>\n",
       "      <td>...</td>\n",
       "      <td>...</td>\n",
       "      <td>...</td>\n",
       "    </tr>\n",
       "    <tr>\n",
       "      <th>5875</th>\n",
       "      <td>সুন্দর দু টি বাক্য জ্ঞানী হও তবে অহংকারী হইও ন...</td>\n",
       "      <td>Negative</td>\n",
       "      <td>সুন্দর দু টি বাক্য জ্ঞানী হও তবে অহংকারী হইও ন...</td>\n",
       "      <td>18</td>\n",
       "    </tr>\n",
       "    <tr>\n",
       "      <th>5876</th>\n",
       "      <td>আমি বুঝতে পারছি না যে আমার হৃদয় ভাঙার মানে কি...</td>\n",
       "      <td>Positive</td>\n",
       "      <td>বুঝতে পারছি না হৃদয় ভাঙার মানে বল</td>\n",
       "      <td>7</td>\n",
       "    </tr>\n",
       "    <tr>\n",
       "      <th>5877</th>\n",
       "      <td>আবারও তৃণমূলী দুস্কৃতিদের হাতে হত্যা হতে হলো ব...</td>\n",
       "      <td>Negative</td>\n",
       "      <td>আবারও তৃণমূলী দুস্কৃতিদের হাতে হত্যা হতে হলো ব...</td>\n",
       "      <td>23</td>\n",
       "    </tr>\n",
       "    <tr>\n",
       "      <th>5878</th>\n",
       "      <td>ঘুমের জন্য প্রস্তুত কিন্তু ঘুমের সমস্যা হচ্ছে ...</td>\n",
       "      <td>Positive</td>\n",
       "      <td>ঘুমের প্রস্তুত কিন্তু ঘুমের সমস্যা হচ্ছে নামই ...</td>\n",
       "      <td>8</td>\n",
       "    </tr>\n",
       "    <tr>\n",
       "      <th>5879</th>\n",
       "      <td>আজি ঝরো ঝরো মুখর বাদলদিনে জানি নে , জানি নে কি...</td>\n",
       "      <td>Negative</td>\n",
       "      <td>আজি ঝরো ঝরো মুখর বাদলদিনে জানি নে জানি নে কিছু...</td>\n",
       "      <td>26</td>\n",
       "    </tr>\n",
       "  </tbody>\n",
       "</table>\n",
       "<p>5880 rows × 4 columns</p>\n",
       "</div>"
      ],
      "text/plain": [
       "                                                 Review Sentiment  \\\n",
       "0     যে দেশে মানুষের মৃত্যুর খবর শুনে মন্ত্রী মহোদয...  Positive   \n",
       "1     জনগণের ভোট চুরি করে ক্ষমতায় আসা ওই নিয়ত আমাদ...  Negative   \n",
       "2     নিকোটিনের ধোয়ায় সময় কাটে রাতে । রাতটা আমার ...  Positive   \n",
       "3       সবথেকে বড় যুদ্ধ হলো নিজের মনের সাথে যুদ্ধ আবেগ  Negative   \n",
       "4     কোন সিটিতেই কোন ভোট হিসেব হয়নি যা হচ্ছে হাসিন...  Positive   \n",
       "...                                                 ...       ...   \n",
       "5875  সুন্দর দু টি বাক্য জ্ঞানী হও তবে অহংকারী হইও ন...  Negative   \n",
       "5876  আমি বুঝতে পারছি না যে আমার হৃদয় ভাঙার মানে কি...  Positive   \n",
       "5877  আবারও তৃণমূলী দুস্কৃতিদের হাতে হত্যা হতে হলো ব...  Negative   \n",
       "5878  ঘুমের জন্য প্রস্তুত কিন্তু ঘুমের সমস্যা হচ্ছে ...  Positive   \n",
       "5879  আজি ঝরো ঝরো মুখর বাদলদিনে জানি নে , জানি নে কি...  Negative   \n",
       "\n",
       "                                                cleaned  ReviewLength  \n",
       "0     দেশে মানুষের মৃত্যুর খবর শুনে মন্ত্রী মহোদয় হ...            40  \n",
       "1     জনগণের ভোট চুরি ক্ষমতায় আসা ওই নিয়ত আমাদের ন...            28  \n",
       "2     নিকোটিনের ধোয়ায় সময় কাটে রাতে রাতটা দিন দিন...             9  \n",
       "3       সবথেকে বড় যুদ্ধ হলো নিজের মনের সাথে যুদ্ধ আবেগ             9  \n",
       "4     সিটিতেই ভোট হিসেব হয়নি যা হচ্ছে হাসিনার ইচ্ছে...            35  \n",
       "...                                                 ...           ...  \n",
       "5875  সুন্দর দু টি বাক্য জ্ঞানী হও তবে অহংকারী হইও ন...            18  \n",
       "5876                 বুঝতে পারছি না হৃদয় ভাঙার মানে বল             7  \n",
       "5877  আবারও তৃণমূলী দুস্কৃতিদের হাতে হত্যা হতে হলো ব...            23  \n",
       "5878  ঘুমের প্রস্তুত কিন্তু ঘুমের সমস্যা হচ্ছে নামই ...             8  \n",
       "5879  আজি ঝরো ঝরো মুখর বাদলদিনে জানি নে জানি নে কিছু...            26  \n",
       "\n",
       "[5880 rows x 4 columns]"
      ]
     },
     "execution_count": 33,
     "metadata": {},
     "output_type": "execute_result"
    }
   ],
   "source": [
    "data"
   ]
  },
  {
   "cell_type": "code",
   "execution_count": 34,
   "metadata": {},
   "outputs": [],
   "source": [
    "X = data.drop('Sentiment', axis=1)\n",
    "y = data['Sentiment']\n"
   ]
  },
  {
   "cell_type": "markdown",
   "metadata": {},
   "source": [
    "## ML Model Development Using Unigram Feature"
   ]
  },
  {
   "cell_type": "markdown",
   "metadata": {},
   "source": [
    "### Unigram Tf-idf Feature Extraction, Label Encoding and Splitting"
   ]
  },
  {
   "cell_type": "code",
   "execution_count": 35,
   "metadata": {},
   "outputs": [],
   "source": [
    "from utils import label_encoding,dataset_split\n",
    "from utils import calc_unigram_tfidf\n",
    "\n",
    "# calculate the Unigram Tf-idf feature\n",
    "cv,feature_vector = calc_unigram_tfidf(data.cleaned) \n",
    "# Encode the labels\n",
    "lables = label_encoding(data.Sentiment,False)\n",
    "# Split the Feature into train and test set\n",
    "#X_train,X_test,y_train,y_test = dataset_split(feature_space=feature_vector,sentiment=lables)\n",
    "\n",
    "# Spliting train & test\n",
    "X_train, X_test, y_train, y_test = train_test_split(feature_vector, lables, \n",
    "                                                    test_size=0.3, \n",
    "                                                    random_state=70,\n",
    "                                                    shuffle=True)\n"
   ]
  },
  {
   "cell_type": "markdown",
   "metadata": {},
   "source": [
    "### Model Defination"
   ]
  },
  {
   "cell_type": "code",
   "execution_count": 36,
   "metadata": {},
   "outputs": [
    {
     "name": "stderr",
     "output_type": "stream",
     "text": [
      "C:\\Users\\user\\anaconda3\\lib\\site-packages\\sklearn\\linear_model\\_stochastic_gradient.py:574: ConvergenceWarning: Maximum number of iteration reached before convergence. Consider increasing max_iter to improve the fit.\n",
      "  warnings.warn(\"Maximum number of iteration reached before \"\n"
     ]
    }
   ],
   "source": [
    "from utils import model_performace,ml_models_for_unigram_tfidf\n",
    "\n",
    "## classifiers defination\n",
    "ml_models,model_names = ml_models_for_unigram_tfidf() \n",
    "\n",
    "# call model accuracy function and save the metrices into a dictionary\n",
    "accuracy = {f'{model_names[i]}':model_performace(model,X_train,X_test,y_train,y_test) for i,model in enumerate(ml_models)}\n",
    "# Save the performance parameter into json file\n",
    "with open('ml_performance_unigram.json', 'w') as f:\n",
    "    json.dump(accuracy, f)\n"
   ]
  },
  {
   "cell_type": "markdown",
   "metadata": {},
   "source": [
    "### Performance Table  "
   ]
  },
  {
   "cell_type": "code",
   "execution_count": 37,
   "metadata": {},
   "outputs": [
    {
     "data": {
      "text/html": [
       "<div>\n",
       "<style scoped>\n",
       "    .dataframe tbody tr th:only-of-type {\n",
       "        vertical-align: middle;\n",
       "    }\n",
       "\n",
       "    .dataframe tbody tr th {\n",
       "        vertical-align: top;\n",
       "    }\n",
       "\n",
       "    .dataframe thead th {\n",
       "        text-align: right;\n",
       "    }\n",
       "</style>\n",
       "<table border=\"1\" class=\"dataframe\">\n",
       "  <thead>\n",
       "    <tr style=\"text-align: right;\">\n",
       "      <th></th>\n",
       "      <th>Accuracy</th>\n",
       "      <th>Precision</th>\n",
       "      <th>Recall</th>\n",
       "      <th>F1 Score</th>\n",
       "    </tr>\n",
       "  </thead>\n",
       "  <tbody>\n",
       "    <tr>\n",
       "      <th>LR</th>\n",
       "      <td>96.83</td>\n",
       "      <td>96.90</td>\n",
       "      <td>96.90</td>\n",
       "      <td>96.90</td>\n",
       "    </tr>\n",
       "    <tr>\n",
       "      <th>DT</th>\n",
       "      <td>98.87</td>\n",
       "      <td>100.00</td>\n",
       "      <td>97.79</td>\n",
       "      <td>98.88</td>\n",
       "    </tr>\n",
       "    <tr>\n",
       "      <th>RF</th>\n",
       "      <td>98.70</td>\n",
       "      <td>99.66</td>\n",
       "      <td>97.79</td>\n",
       "      <td>98.71</td>\n",
       "    </tr>\n",
       "    <tr>\n",
       "      <th>MNB</th>\n",
       "      <td>97.62</td>\n",
       "      <td>97.05</td>\n",
       "      <td>98.34</td>\n",
       "      <td>97.69</td>\n",
       "    </tr>\n",
       "    <tr>\n",
       "      <th>KNN</th>\n",
       "      <td>95.86</td>\n",
       "      <td>97.05</td>\n",
       "      <td>94.80</td>\n",
       "      <td>95.91</td>\n",
       "    </tr>\n",
       "    <tr>\n",
       "      <th>Linear SVM</th>\n",
       "      <td>93.37</td>\n",
       "      <td>92.53</td>\n",
       "      <td>94.68</td>\n",
       "      <td>93.60</td>\n",
       "    </tr>\n",
       "    <tr>\n",
       "      <th>RBF SVM</th>\n",
       "      <td>95.41</td>\n",
       "      <td>94.67</td>\n",
       "      <td>96.46</td>\n",
       "      <td>95.56</td>\n",
       "    </tr>\n",
       "    <tr>\n",
       "      <th>SGD</th>\n",
       "      <td>98.13</td>\n",
       "      <td>98.01</td>\n",
       "      <td>98.34</td>\n",
       "      <td>98.18</td>\n",
       "    </tr>\n",
       "  </tbody>\n",
       "</table>\n",
       "</div>"
      ],
      "text/plain": [
       "            Accuracy  Precision  Recall  F1 Score\n",
       "LR             96.83      96.90   96.90     96.90\n",
       "DT             98.87     100.00   97.79     98.88\n",
       "RF             98.70      99.66   97.79     98.71\n",
       "MNB            97.62      97.05   98.34     97.69\n",
       "KNN            95.86      97.05   94.80     95.91\n",
       "Linear SVM     93.37      92.53   94.68     93.60\n",
       "RBF SVM        95.41      94.67   96.46     95.56\n",
       "SGD            98.13      98.01   98.34     98.18"
      ]
     },
     "execution_count": 37,
     "metadata": {},
     "output_type": "execute_result"
    }
   ],
   "source": [
    "from utils import performance_table\n",
    "\n",
    "# Load the json file\n",
    "accuracy = json.load(open('ml_performance_unigram.json'))\n",
    "table = performance_table(accuracy)\n",
    "table"
   ]
  },
  {
   "cell_type": "code",
   "execution_count": 38,
   "metadata": {},
   "outputs": [
    {
     "name": "stdout",
     "output_type": "stream",
     "text": [
      "Highest Accuracy achieved by DT at = 98.87\n",
      "Highest F1-Score achieved by DT at = 98.88\n",
      "Highest Precision Score achieved by DT at = 100.0\n",
      "Highest Recall Score achieved by MNB at = 98.34\n"
     ]
    }
   ],
   "source": [
    "print(f\"Highest Accuracy achieved by {table.Accuracy.idxmax(axis = 0)} at = {max(table.Accuracy)}\")\n",
    "print(f\"Highest F1-Score achieved by {table['F1 Score'].idxmax(axis = 0)} at = {max(table['F1 Score'] )}\")\n",
    "print(f\"Highest Precision Score achieved by {table['Precision'].idxmax(axis = 0)} at = {max(table['Precision'] )}\")\n",
    "print(f\"Highest Recall Score achieved by {table['Recall'].idxmax(axis = 0)} at = {max(table['Recall'] )}\")\n"
   ]
  },
  {
   "cell_type": "markdown",
   "metadata": {},
   "source": [
    "### ROC Curve"
   ]
  },
  {
   "cell_type": "code",
   "execution_count": 39,
   "metadata": {},
   "outputs": [
    {
     "name": "stderr",
     "output_type": "stream",
     "text": [
      "C:\\Users\\user\\anaconda3\\lib\\site-packages\\sklearn\\linear_model\\_stochastic_gradient.py:574: ConvergenceWarning: Maximum number of iteration reached before convergence. Consider increasing max_iter to improve the fit.\n",
      "  warnings.warn(\"Maximum number of iteration reached before \"\n"
     ]
    },
    {
     "data": {
      "image/png": "[encoded data removed]",
      "text/plain": [
       "<Figure size 576x432 with 1 Axes>"
      ]
     },
     "metadata": {
      "needs_background": "light"
     },
     "output_type": "display_data"
    }
   ],
   "source": [
    "from utils import plot_roc_curve,ml_models_for_unigram_tfidf\n",
    "## classifiers defination\n",
    "gram_models = ml_models_for_unigram_tfidf() \n",
    "\n",
    "plot_roc_curve(gram_models,X_train,X_test,y_train,y_test,'Unigram')"
   ]
  },
  {
   "cell_type": "markdown",
   "metadata": {},
   "source": [
    "### Precision-Recall Curve"
   ]
  },
  {
   "cell_type": "code",
   "execution_count": 40,
   "metadata": {},
   "outputs": [
    {
     "name": "stderr",
     "output_type": "stream",
     "text": [
      "C:\\Users\\user\\anaconda3\\lib\\site-packages\\sklearn\\linear_model\\_stochastic_gradient.py:574: ConvergenceWarning: Maximum number of iteration reached before convergence. Consider increasing max_iter to improve the fit.\n",
      "  warnings.warn(\"Maximum number of iteration reached before \"\n"
     ]
    },
    {
     "data": {
      "image/png": "[encoded data removed]",
      "text/plain": [
       "<Figure size 576x432 with 1 Axes>"
      ]
     },
     "metadata": {
      "needs_background": "light"
     },
     "output_type": "display_data"
    }
   ],
   "source": [
    "from utils import plot_PR_curve,ml_models_for_unigram_tfidf\n",
    "\n",
    "gram_models = ml_models_for_unigram_tfidf()\n",
    "\n",
    "plot_PR_curve(gram_models,X_train,X_test,y_train,y_test,'Unigram')"
   ]
  },
  {
   "cell_type": "markdown",
   "metadata": {},
   "source": [
    "## Model Development Using Bigram Feature"
   ]
  },
  {
   "cell_type": "markdown",
   "metadata": {},
   "source": [
    "### Bi-gram Tf-idf Feature Extraction, Label Encoding and Splitting"
   ]
  },
  {
   "cell_type": "code",
   "execution_count": 41,
   "metadata": {},
   "outputs": [],
   "source": [
    "from utils import label_encoding,dataset_split\n",
    "from utils import calc_bigram_tfidf\n",
    "\n",
    "# calculate the Bigram Tf-idf feature\n",
    "cv,feature_vector = calc_bigram_tfidf(data.cleaned) \n",
    "# Encode the labels\n",
    "lables = label_encoding(data.Sentiment,False)\n",
    "# Split the Feature into train and test set\n",
    "#X_train,X_test,y_train,y_test = dataset_split(feature_space=feature_vector,sentiment=lables)\n",
    "\n",
    "# Spliting train & test\n",
    "X_train, X_test, y_train, y_test = train_test_split(feature_vector, lables, \n",
    "                                                    test_size=0.3, \n",
    "                                                    random_state=70,\n",
    "                                                    shuffle=True)\n"
   ]
  },
  {
   "cell_type": "markdown",
   "metadata": {},
   "source": [
    "### Model Defination"
   ]
  },
  {
   "cell_type": "code",
   "execution_count": 42,
   "metadata": {},
   "outputs": [
    {
     "name": "stderr",
     "output_type": "stream",
     "text": [
      "C:\\Users\\user\\anaconda3\\lib\\site-packages\\sklearn\\linear_model\\_stochastic_gradient.py:574: ConvergenceWarning: Maximum number of iteration reached before convergence. Consider increasing max_iter to improve the fit.\n",
      "  warnings.warn(\"Maximum number of iteration reached before \"\n"
     ]
    }
   ],
   "source": [
    "from utils import model_performace,ml_models_for_bigram_tfidf\n",
    "                \n",
    "# Classifiers Defination\n",
    "ml_models,model_names = ml_models_for_bigram_tfidf() \n",
    "\n",
    "# call model accuracy function and save the metrices into a dictionary\n",
    "accuracy = {f'{model_names[i]}':model_performace(model,X_train,X_test,y_train,y_test) for i,model in enumerate(ml_models)}\n",
    "# Save the performance parameter into json file\n",
    "with open('ml_performance_bigram.json', 'w') as f:\n",
    "    json.dump(accuracy, f)\n"
   ]
  },
  {
   "cell_type": "markdown",
   "metadata": {},
   "source": [
    "### Performance Table"
   ]
  },
  {
   "cell_type": "code",
   "execution_count": 43,
   "metadata": {},
   "outputs": [
    {
     "data": {
      "text/html": [
       "<div>\n",
       "<style scoped>\n",
       "    .dataframe tbody tr th:only-of-type {\n",
       "        vertical-align: middle;\n",
       "    }\n",
       "\n",
       "    .dataframe tbody tr th {\n",
       "        vertical-align: top;\n",
       "    }\n",
       "\n",
       "    .dataframe thead th {\n",
       "        text-align: right;\n",
       "    }\n",
       "</style>\n",
       "<table border=\"1\" class=\"dataframe\">\n",
       "  <thead>\n",
       "    <tr style=\"text-align: right;\">\n",
       "      <th></th>\n",
       "      <th>Accuracy</th>\n",
       "      <th>Precision</th>\n",
       "      <th>Recall</th>\n",
       "      <th>F1 Score</th>\n",
       "    </tr>\n",
       "  </thead>\n",
       "  <tbody>\n",
       "    <tr>\n",
       "      <th>LR</th>\n",
       "      <td>98.53</td>\n",
       "      <td>98.78</td>\n",
       "      <td>98.34</td>\n",
       "      <td>98.56</td>\n",
       "    </tr>\n",
       "    <tr>\n",
       "      <th>DT</th>\n",
       "      <td>98.58</td>\n",
       "      <td>99.44</td>\n",
       "      <td>97.79</td>\n",
       "      <td>98.60</td>\n",
       "    </tr>\n",
       "    <tr>\n",
       "      <th>RF</th>\n",
       "      <td>98.53</td>\n",
       "      <td>98.78</td>\n",
       "      <td>98.34</td>\n",
       "      <td>98.56</td>\n",
       "    </tr>\n",
       "    <tr>\n",
       "      <th>MNB</th>\n",
       "      <td>98.19</td>\n",
       "      <td>98.66</td>\n",
       "      <td>97.79</td>\n",
       "      <td>98.22</td>\n",
       "    </tr>\n",
       "    <tr>\n",
       "      <th>KNN</th>\n",
       "      <td>97.79</td>\n",
       "      <td>100.00</td>\n",
       "      <td>95.68</td>\n",
       "      <td>97.79</td>\n",
       "    </tr>\n",
       "    <tr>\n",
       "      <th>Linear SVM</th>\n",
       "      <td>98.07</td>\n",
       "      <td>98.33</td>\n",
       "      <td>97.90</td>\n",
       "      <td>98.11</td>\n",
       "    </tr>\n",
       "    <tr>\n",
       "      <th>RBF SVM</th>\n",
       "      <td>97.96</td>\n",
       "      <td>98.11</td>\n",
       "      <td>97.90</td>\n",
       "      <td>98.00</td>\n",
       "    </tr>\n",
       "    <tr>\n",
       "      <th>SGD</th>\n",
       "      <td>98.81</td>\n",
       "      <td>99.33</td>\n",
       "      <td>98.34</td>\n",
       "      <td>98.83</td>\n",
       "    </tr>\n",
       "  </tbody>\n",
       "</table>\n",
       "</div>"
      ],
      "text/plain": [
       "            Accuracy  Precision  Recall  F1 Score\n",
       "LR             98.53      98.78   98.34     98.56\n",
       "DT             98.58      99.44   97.79     98.60\n",
       "RF             98.53      98.78   98.34     98.56\n",
       "MNB            98.19      98.66   97.79     98.22\n",
       "KNN            97.79     100.00   95.68     97.79\n",
       "Linear SVM     98.07      98.33   97.90     98.11\n",
       "RBF SVM        97.96      98.11   97.90     98.00\n",
       "SGD            98.81      99.33   98.34     98.83"
      ]
     },
     "execution_count": 43,
     "metadata": {},
     "output_type": "execute_result"
    }
   ],
   "source": [
    "from utils import performance_table\n",
    "\n",
    "# Load the json file\n",
    "accuracy = json.load(open('ml_performance_bigram.json'))\n",
    "table = performance_table(accuracy)\n",
    "table"
   ]
  },
  {
   "cell_type": "code",
   "execution_count": 44,
   "metadata": {},
   "outputs": [
    {
     "name": "stdout",
     "output_type": "stream",
     "text": [
      "Highest Accuracy achieved by SGD at = 98.81\n",
      "Highest F1-Score achieved by SGD at = 98.83\n",
      "Highest Precision Score achieved by KNN at = 100.0\n",
      "Highest Recall Score achieved by LR at = 98.34\n"
     ]
    }
   ],
   "source": [
    "print(f\"Highest Accuracy achieved by {table.Accuracy.idxmax(axis = 0)} at = {max(table.Accuracy)}\")\n",
    "print(f\"Highest F1-Score achieved by {table['F1 Score'].idxmax(axis = 0)} at = {max(table['F1 Score'] )}\")\n",
    "print(f\"Highest Precision Score achieved by {table['Precision'].idxmax(axis = 0)} at = {max(table['Precision'] )}\")\n",
    "print(f\"Highest Recall Score achieved by {table['Recall'].idxmax(axis = 0)} at = {max(table['Recall'] )}\")\n"
   ]
  },
  {
   "cell_type": "markdown",
   "metadata": {},
   "source": [
    "### ROC Curve"
   ]
  },
  {
   "cell_type": "code",
   "execution_count": 45,
   "metadata": {},
   "outputs": [
    {
     "name": "stderr",
     "output_type": "stream",
     "text": [
      "C:\\Users\\user\\anaconda3\\lib\\site-packages\\sklearn\\linear_model\\_stochastic_gradient.py:574: ConvergenceWarning: Maximum number of iteration reached before convergence. Consider increasing max_iter to improve the fit.\n",
      "  warnings.warn(\"Maximum number of iteration reached before \"\n"
     ]
    },
    {
     "data": {
      "image/png": "[encoded data removed]",
      "text/plain": [
       "<Figure size 576x432 with 1 Axes>"
      ]
     },
     "metadata": {
      "needs_background": "light"
     },
     "output_type": "display_data"
    }
   ],
   "source": [
    "from utils import plot_roc_curve,ml_models_for_bigram_tfidf\n",
    "## classifiers defination\n",
    "gram_models = ml_models_for_bigram_tfidf()\n",
    "\n",
    "plot_roc_curve(gram_models,X_train,X_test,y_train,y_test,'Bigram')"
   ]
  },
  {
   "cell_type": "markdown",
   "metadata": {},
   "source": [
    "## Precision-Recall Curve"
   ]
  },
  {
   "cell_type": "code",
   "execution_count": 46,
   "metadata": {},
   "outputs": [
    {
     "name": "stderr",
     "output_type": "stream",
     "text": [
      "C:\\Users\\user\\anaconda3\\lib\\site-packages\\sklearn\\linear_model\\_stochastic_gradient.py:574: ConvergenceWarning: Maximum number of iteration reached before convergence. Consider increasing max_iter to improve the fit.\n",
      "  warnings.warn(\"Maximum number of iteration reached before \"\n"
     ]
    },
    {
     "data": {
      "image/png": "[encoded data removed]",
      "text/plain": [
       "<Figure size 576x432 with 1 Axes>"
      ]
     },
     "metadata": {
      "needs_background": "light"
     },
     "output_type": "display_data"
    }
   ],
   "source": [
    "from utils import plot_PR_curve,ml_models_for_bigram_tfidf\n",
    "## classifiers defination\n",
    "gram_models = ml_models_for_bigram_tfidf()\n",
    "\n",
    "plot_PR_curve(gram_models,X_train,X_test,y_train,y_test,'Bigram')"
   ]
  },
  {
   "cell_type": "markdown",
   "metadata": {},
   "source": [
    "## Model Development Using Tri-gram Feature"
   ]
  },
  {
   "cell_type": "markdown",
   "metadata": {},
   "source": [
    "### Tri-gram Tf-idf Feature Extraction, Label Encoding and Splitting"
   ]
  },
  {
   "cell_type": "code",
   "execution_count": 47,
   "metadata": {},
   "outputs": [],
   "source": [
    "from utils import label_encoding,dataset_split\n",
    "from utils import calc_trigram_tfidf\n",
    "\n",
    "# calculate the Tri-gram Tf-idf feature\n",
    "cv,feature_vector = calc_trigram_tfidf(data.cleaned) \n",
    "# Encode the labels\n",
    "lables = label_encoding(data.Sentiment,False)\n",
    "# Split the Feature into train and test set\n",
    "#X_train,X_test,y_train,y_test = dataset_split(feature_space=feature_vector,sentiment=lables)\n",
    "\n",
    "# Spliting train & test\n",
    "X_train, X_test, y_train, y_test = train_test_split(feature_vector, lables, \n",
    "                                                    test_size=0.3, \n",
    "                                                    random_state=70,\n",
    "                                                    shuffle=True)\n"
   ]
  },
  {
   "cell_type": "markdown",
   "metadata": {},
   "source": [
    "### Model Defination"
   ]
  },
  {
   "cell_type": "code",
   "execution_count": 48,
   "metadata": {},
   "outputs": [
    {
     "name": "stderr",
     "output_type": "stream",
     "text": [
      "C:\\Users\\user\\anaconda3\\lib\\site-packages\\sklearn\\linear_model\\_stochastic_gradient.py:574: ConvergenceWarning: Maximum number of iteration reached before convergence. Consider increasing max_iter to improve the fit.\n",
      "  warnings.warn(\"Maximum number of iteration reached before \"\n"
     ]
    }
   ],
   "source": [
    "from utils import model_performace,ml_models_for_trigram_tfidf\n",
    "            \n",
    "\n",
    "# Classifiers Defination\n",
    "ml_models,model_names = ml_models_for_trigram_tfidf()             \n",
    "\n",
    "# call model accuracy function and save the metrices into a dictionary\n",
    "accuracy = {f'{model_names[i]}':model_performace(model,X_train,X_test,y_train,y_test) for i,model in enumerate(ml_models)}\n",
    "# Save the performance parameter into json file\n",
    "with open('ml_performance_trigram.json', 'w') as f:\n",
    "    json.dump(accuracy, f)\n"
   ]
  },
  {
   "cell_type": "markdown",
   "metadata": {},
   "source": [
    "### Performance Table"
   ]
  },
  {
   "cell_type": "code",
   "execution_count": 49,
   "metadata": {},
   "outputs": [
    {
     "data": {
      "text/html": [
       "<div>\n",
       "<style scoped>\n",
       "    .dataframe tbody tr th:only-of-type {\n",
       "        vertical-align: middle;\n",
       "    }\n",
       "\n",
       "    .dataframe tbody tr th {\n",
       "        vertical-align: top;\n",
       "    }\n",
       "\n",
       "    .dataframe thead th {\n",
       "        text-align: right;\n",
       "    }\n",
       "</style>\n",
       "<table border=\"1\" class=\"dataframe\">\n",
       "  <thead>\n",
       "    <tr style=\"text-align: right;\">\n",
       "      <th></th>\n",
       "      <th>Accuracy</th>\n",
       "      <th>Precision</th>\n",
       "      <th>Recall</th>\n",
       "      <th>F1 Score</th>\n",
       "    </tr>\n",
       "  </thead>\n",
       "  <tbody>\n",
       "    <tr>\n",
       "      <th>LR</th>\n",
       "      <td>98.30</td>\n",
       "      <td>98.34</td>\n",
       "      <td>98.34</td>\n",
       "      <td>98.34</td>\n",
       "    </tr>\n",
       "    <tr>\n",
       "      <th>DT</th>\n",
       "      <td>98.87</td>\n",
       "      <td>99.44</td>\n",
       "      <td>98.34</td>\n",
       "      <td>98.89</td>\n",
       "    </tr>\n",
       "    <tr>\n",
       "      <th>RF</th>\n",
       "      <td>98.53</td>\n",
       "      <td>98.78</td>\n",
       "      <td>98.34</td>\n",
       "      <td>98.56</td>\n",
       "    </tr>\n",
       "    <tr>\n",
       "      <th>MNB</th>\n",
       "      <td>98.19</td>\n",
       "      <td>98.66</td>\n",
       "      <td>97.79</td>\n",
       "      <td>98.22</td>\n",
       "    </tr>\n",
       "    <tr>\n",
       "      <th>KNN</th>\n",
       "      <td>97.51</td>\n",
       "      <td>99.42</td>\n",
       "      <td>95.68</td>\n",
       "      <td>97.52</td>\n",
       "    </tr>\n",
       "    <tr>\n",
       "      <th>Linear SVM</th>\n",
       "      <td>98.24</td>\n",
       "      <td>98.23</td>\n",
       "      <td>98.34</td>\n",
       "      <td>98.28</td>\n",
       "    </tr>\n",
       "    <tr>\n",
       "      <th>RBF SVM</th>\n",
       "      <td>98.75</td>\n",
       "      <td>99.22</td>\n",
       "      <td>98.34</td>\n",
       "      <td>98.78</td>\n",
       "    </tr>\n",
       "    <tr>\n",
       "      <th>SGD</th>\n",
       "      <td>98.36</td>\n",
       "      <td>98.45</td>\n",
       "      <td>98.34</td>\n",
       "      <td>98.39</td>\n",
       "    </tr>\n",
       "  </tbody>\n",
       "</table>\n",
       "</div>"
      ],
      "text/plain": [
       "            Accuracy  Precision  Recall  F1 Score\n",
       "LR             98.30      98.34   98.34     98.34\n",
       "DT             98.87      99.44   98.34     98.89\n",
       "RF             98.53      98.78   98.34     98.56\n",
       "MNB            98.19      98.66   97.79     98.22\n",
       "KNN            97.51      99.42   95.68     97.52\n",
       "Linear SVM     98.24      98.23   98.34     98.28\n",
       "RBF SVM        98.75      99.22   98.34     98.78\n",
       "SGD            98.36      98.45   98.34     98.39"
      ]
     },
     "execution_count": 49,
     "metadata": {},
     "output_type": "execute_result"
    }
   ],
   "source": [
    "from utils import performance_table\n",
    "\n",
    "# Load the json file\n",
    "accuracy = json.load(open('ml_performance_trigram.json'))\n",
    "table = performance_table(accuracy)\n",
    "table\n"
   ]
  },
  {
   "cell_type": "code",
   "execution_count": 50,
   "metadata": {},
   "outputs": [
    {
     "name": "stdout",
     "output_type": "stream",
     "text": [
      "Highest Accuracy achieved by DT at = 98.87\n",
      "Highest F1-Score achieved by DT at = 98.89\n",
      "Highest Precision Score achieved by DT at = 99.44\n",
      "Highest Recall Score achieved by LR at = 98.34\n"
     ]
    }
   ],
   "source": [
    "print(f\"Highest Accuracy achieved by {table.Accuracy.idxmax(axis = 0)} at = {max(table.Accuracy)}\")\n",
    "print(f\"Highest F1-Score achieved by {table['F1 Score'].idxmax(axis = 0)} at = {max(table['F1 Score'] )}\")\n",
    "print(f\"Highest Precision Score achieved by {table['Precision'].idxmax(axis = 0)} at = {max(table['Precision'] )}\")\n",
    "print(f\"Highest Recall Score achieved by {table['Recall'].idxmax(axis = 0)} at = {max(table['Recall'] )}\")\n"
   ]
  },
  {
   "cell_type": "markdown",
   "metadata": {},
   "source": [
    "### ROC Curve"
   ]
  },
  {
   "cell_type": "code",
   "execution_count": 51,
   "metadata": {},
   "outputs": [
    {
     "name": "stderr",
     "output_type": "stream",
     "text": [
      "C:\\Users\\user\\anaconda3\\lib\\site-packages\\sklearn\\linear_model\\_stochastic_gradient.py:574: ConvergenceWarning: Maximum number of iteration reached before convergence. Consider increasing max_iter to improve the fit.\n",
      "  warnings.warn(\"Maximum number of iteration reached before \"\n"
     ]
    },
    {
     "data": {
      "image/png": "[encoded data removed]",
      "text/plain": [
       "<Figure size 576x432 with 1 Axes>"
      ]
     },
     "metadata": {
      "needs_background": "light"
     },
     "output_type": "display_data"
    }
   ],
   "source": [
    "from utils import plot_roc_curve,ml_models_for_trigram_tfidf\n",
    "## classifiers defination\n",
    "gram_models = ml_models_for_trigram_tfidf()\n",
    "\n",
    "plot_roc_curve(gram_models,X_train,X_test,y_train,y_test,'Trigram')"
   ]
  },
  {
   "cell_type": "markdown",
   "metadata": {},
   "source": [
    "### Precision-Recall"
   ]
  },
  {
   "cell_type": "code",
   "execution_count": 52,
   "metadata": {},
   "outputs": [
    {
     "name": "stderr",
     "output_type": "stream",
     "text": [
      "C:\\Users\\user\\anaconda3\\lib\\site-packages\\sklearn\\linear_model\\_stochastic_gradient.py:574: ConvergenceWarning: Maximum number of iteration reached before convergence. Consider increasing max_iter to improve the fit.\n",
      "  warnings.warn(\"Maximum number of iteration reached before \"\n"
     ]
    },
    {
     "data": {
      "image/png": "[encoded data removed]",
      "text/plain": [
       "<Figure size 576x432 with 1 Axes>"
      ]
     },
     "metadata": {
      "needs_background": "light"
     },
     "output_type": "display_data"
    }
   ],
   "source": [
    "from utils import plot_PR_curve,ml_models_for_trigram_tfidf\n",
    "## classifiers defination\n",
    "gram_models = ml_models_for_trigram_tfidf()\n",
    "\n",
    "plot_PR_curve(gram_models,X_train,X_test,y_train,y_test,'Trigram')"
   ]
  },
  {
   "cell_type": "markdown",
   "metadata": {},
   "source": [
    "## Final Model\n",
    "\n",
    "- Selected Feature: Unigram\n",
    "- Selected Model : Multinomial Naive Bayes"
   ]
  },
  {
   "cell_type": "code",
   "execution_count": 53,
   "metadata": {},
   "outputs": [],
   "source": [
    "from sklearn.naive_bayes import MultinomialNB\n",
    "\n",
    "from utils import label_encoding,dataset_split\n",
    "from utils import calc_unigram_tfidf\n",
    "\n",
    "# calculate the Unigram Tf-idf feature\n",
    "cv,feature_vector = calc_unigram_tfidf(data.cleaned) \n",
    "# Encode the labels\n",
    "lables = label_encoding(data.Sentiment,False)\n",
    "# Split the Feature into train and test set\n",
    "#X_train,X_test,y_train,y_test = dataset_split(feature_space=feature_vector,sentiment=lables)\n",
    "\n",
    "X_train, X_test, y_train, y_test = train_test_split(feature_vector, lables, \n",
    "                                                    test_size=0.3, \n",
    "                                                    random_state=70,\n",
    "                                                    shuffle=True)\n"
   ]
  },
  {
   "cell_type": "code",
   "execution_count": 54,
   "metadata": {},
   "outputs": [
    {
     "data": {
      "text/plain": [
       "97.61904761904762"
      ]
     },
     "execution_count": 54,
     "metadata": {},
     "output_type": "execute_result"
    }
   ],
   "source": [
    "from sklearn.metrics import accuracy_score\n",
    "mnb_model = MultinomialNB(alpha=0.15)\n",
    "mnb_model.fit(X_train,y_train) \n",
    "y_pred = mnb_model.predict(X_test)\n",
    "accuracy_score(y_true=y_test,y_pred=y_pred)*100"
   ]
  },
  {
   "cell_type": "markdown",
   "metadata": {},
   "source": [
    "### Saved the model for reuse again"
   ]
  },
  {
   "cell_type": "code",
   "execution_count": 59,
   "metadata": {},
   "outputs": [],
   "source": [
    "import pickle\n",
    "# open a file, where you want to store the data\n",
    "file = open('book_review_mnb.pkl', 'wb')\n",
    "\n",
    "# dump information to that file\n",
    "pickle.dump(mnb_model, file)"
   ]
  },
  {
   "cell_type": "code",
   "execution_count": 60,
   "metadata": {},
   "outputs": [],
   "source": [
    "model = open('book_review_mnb.pkl','rb')\n",
    "nb = pickle.load(model)"
   ]
  },
  {
   "cell_type": "code",
   "execution_count": 61,
   "metadata": {},
   "outputs": [
    {
     "data": {
      "text/plain": [
       "0.9761904761904762"
      ]
     },
     "execution_count": 61,
     "metadata": {},
     "output_type": "execute_result"
    }
   ],
   "source": [
    "y_pred = nb.predict(X_test)\n",
    "accuracy_score(y_test,y_pred)"
   ]
  },
  {
   "cell_type": "code",
   "execution_count": null,
   "metadata": {},
   "outputs": [],
   "source": []
  },
  {
   "cell_type": "code",
   "execution_count": null,
   "metadata": {},
   "outputs": [],
   "source": []
  }
 ],
 "metadata": {
  "kernelspec": {
   "display_name": "Python 3 (ipykernel)",
   "language": "python",
   "name": "python3"
  },
  "language_info": {
   "codemirror_mode": {
    "name": "ipython",
    "version": 3
   },
   "file_extension": ".py",
   "mimetype": "text/x-python",
   "name": "python",
   "nbconvert_exporter": "python",
   "pygments_lexer": "ipython3",
   "version": "3.9.7"
  },
  "toc": {
   "base_numbering": 1,
   "nav_menu": {},
   "number_sections": true,
   "sideBar": true,
   "skip_h1_title": false,
   "title_cell": "Table of Contents",
   "title_sidebar": "Contents",
   "toc_cell": false,
   "toc_position": {},
   "toc_section_display": true,
   "toc_window_display": false
  }
 },
 "nbformat": 4,
 "nbformat_minor": 2
}
