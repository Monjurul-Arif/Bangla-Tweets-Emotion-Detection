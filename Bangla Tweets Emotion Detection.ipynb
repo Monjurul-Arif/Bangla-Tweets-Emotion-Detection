{
 "cells": [
  {
   "cell_type": "markdown",
   "metadata": {},
   "source": [
    "# Project: Sentiment Analysis on Bengali Book Reviews\n",
    "\n",
    "In this project we will classify the sentiment of a review either it is positive or negative. To do this, we have created a dataset of $1000$ bengali book reviews. In this dataset  $528$ reviews are annotated as Positive Sentiment and another $472$ reviews as negative sentiment. All the Reviews are collected from different online book shops and then manually annotated by two native bengali speaker.  \n",
    "Here, Negative Reviews are labled as 0 and Positive reviews as 1.\n",
    "\n",
    "**Project Includes:**\n",
    "\n",
    "-   Preprocessing \n",
    "-   Exploratory Analysis\n",
    "-   Feature Extraction using TF-IDF for N-gram\n",
    "-   Machine Learning Model Development\n",
    "-   Evaluation Measure \n",
    "-   Saved the Final Model\n",
    "-   Model Deployment"
   ]
  },
  {
   "cell_type": "markdown",
   "metadata": {},
   "source": [
    "## Import Libraries"
   ]
  },
  {
   "cell_type": "code",
   "execution_count": 289,
   "metadata": {},
   "outputs": [],
   "source": [
    "import numpy as np\n",
    "import pandas as pd\n",
    "from sklearn.model_selection import train_test_split\n",
    "import matplotlib.pyplot as plt\n",
    "%matplotlib inline\n",
    "import seaborn as sns\n",
    "import re,json,nltk\n",
    "from sklearn.preprocessing import LabelEncoder\n",
    "from sklearn.feature_extraction.text import TfidfVectorizer\n",
    "from sklearn.feature_extraction.text import TfidfTransformer\n",
    "from sklearn.model_selection import train_test_split\n",
    "from sklearn.metrics import classification_report,accuracy_score,precision_score,recall_score,f1_score\n",
    "stopwords_list ='D:\\\\CSE 497\\\\497 Done S\\\\Dataset and Notebook\\\\book_stopwords.txt'"
   ]
  },
  {
   "cell_type": "markdown",
   "metadata": {},
   "source": [
    "## Importing the Dataset"
   ]
  },
  {
   "cell_type": "code",
   "execution_count": 290,
   "metadata": {},
   "outputs": [],
   "source": [
    "# Read the data and take only 1000 Reviews\n",
    "#data = pd.read_excel('D:\\\\CSE 497\\\\Bengali-Book-Reviews-master\\\\Dataset and Notebook\\\\bookReviews_2000.xlsx', 'rU', encoding='windows-1252')\n",
    "#data = pd.read_excel('D:\\\\CSE 497\\\\Bengali-Book-Reviews-master\\\\Dataset and Notebook\\\\bookReviews_2000.xlsx', 'rU', encoding='iso-8859-1')\n",
    "#data = pd.read_excel('D:\\\\CSE 497\\\\Bengali-Book-Reviews-master\\\\Dataset and Notebook\\\\bookReviews_2000.xlsx', )#,encoding='iso-8859-1')\n",
    "data = pd.read_csv('D:\\\\CSE 497\\\\497 Done S\\\\Dataset and Notebook\\\\Original Data.csv', )\n",
    "\n",
    "#data = pd.read_csv('D:\\CSE 497\\Bengali-Book-Reviews-master\\Dataset and Notebook\\bookReviews_2000.csv')\n",
    "#data = pd.read_csv('D:\\\\CSE 497\\Bengali-Book-Reviews-master\\\\Dataset and Notebook\\\\bookReviews_2000.csv')\n"
   ]
  },
  {
   "cell_type": "code",
   "execution_count": null,
   "metadata": {},
   "outputs": [],
   "source": []
  },
  {
   "cell_type": "code",
   "execution_count": 291,
   "metadata": {},
   "outputs": [
    {
     "data": {
      "text/html": [
       "<div>\n",
       "<style scoped>\n",
       "    .dataframe tbody tr th:only-of-type {\n",
       "        vertical-align: middle;\n",
       "    }\n",
       "\n",
       "    .dataframe tbody tr th {\n",
       "        vertical-align: top;\n",
       "    }\n",
       "\n",
       "    .dataframe thead th {\n",
       "        text-align: right;\n",
       "    }\n",
       "</style>\n",
       "<table border=\"1\" class=\"dataframe\">\n",
       "  <thead>\n",
       "    <tr style=\"text-align: right;\">\n",
       "      <th></th>\n",
       "      <th>Review</th>\n",
       "      <th>Sentiment</th>\n",
       "    </tr>\n",
       "  </thead>\n",
       "  <tbody>\n",
       "    <tr>\n",
       "      <th>0</th>\n",
       "      <td>যে দেশে মানুষের মৃত্যুর খবর শুনে মন্ত্রী মহোদয...</td>\n",
       "      <td>1</td>\n",
       "    </tr>\n",
       "    <tr>\n",
       "      <th>1</th>\n",
       "      <td>জনগণের ভোট চুরি করে ক্ষমতায় আসা ওই নিয়ত আমাদ...</td>\n",
       "      <td>0</td>\n",
       "    </tr>\n",
       "    <tr>\n",
       "      <th>2</th>\n",
       "      <td>নিকোটিনের ধোয়ায় সময় কাটে রাতে । রাতটা আমার ...</td>\n",
       "      <td>1</td>\n",
       "    </tr>\n",
       "    <tr>\n",
       "      <th>3</th>\n",
       "      <td>সবথেকে বড় যুদ্ধ হলো নিজের মনের সাথে যুদ্ধ আবেগ</td>\n",
       "      <td>0</td>\n",
       "    </tr>\n",
       "    <tr>\n",
       "      <th>4</th>\n",
       "      <td>কোন সিটিতেই কোন ভোট হিসেব হয়নি যা হচ্ছে হাসিন...</td>\n",
       "      <td>1</td>\n",
       "    </tr>\n",
       "    <tr>\n",
       "      <th>...</th>\n",
       "      <td>...</td>\n",
       "      <td>...</td>\n",
       "    </tr>\n",
       "    <tr>\n",
       "      <th>5875</th>\n",
       "      <td>সুন্দর দু টি বাক্য জ্ঞানী হও তবে অহংকারী হইও ন...</td>\n",
       "      <td>0</td>\n",
       "    </tr>\n",
       "    <tr>\n",
       "      <th>5876</th>\n",
       "      <td>আমি বুঝতে পারছি না যে আমার হৃদয় ভাঙার মানে কি...</td>\n",
       "      <td>1</td>\n",
       "    </tr>\n",
       "    <tr>\n",
       "      <th>5877</th>\n",
       "      <td>আবারও তৃণমূলী দুস্কৃতিদের হাতে হত্যা হতে হলো ব...</td>\n",
       "      <td>0</td>\n",
       "    </tr>\n",
       "    <tr>\n",
       "      <th>5878</th>\n",
       "      <td>ঘুমের জন্য প্রস্তুত কিন্তু ঘুমের সমস্যা হচ্ছে ...</td>\n",
       "      <td>1</td>\n",
       "    </tr>\n",
       "    <tr>\n",
       "      <th>5879</th>\n",
       "      <td>আজি ঝরো ঝরো মুখর বাদলদিনে জানি নে , জানি নে কি...</td>\n",
       "      <td>0</td>\n",
       "    </tr>\n",
       "  </tbody>\n",
       "</table>\n",
       "<p>5880 rows × 2 columns</p>\n",
       "</div>"
      ],
      "text/plain": [
       "                                                 Review  Sentiment\n",
       "0     যে দেশে মানুষের মৃত্যুর খবর শুনে মন্ত্রী মহোদয...          1\n",
       "1     জনগণের ভোট চুরি করে ক্ষমতায় আসা ওই নিয়ত আমাদ...          0\n",
       "2     নিকোটিনের ধোয়ায় সময় কাটে রাতে । রাতটা আমার ...          1\n",
       "3       সবথেকে বড় যুদ্ধ হলো নিজের মনের সাথে যুদ্ধ আবেগ          0\n",
       "4     কোন সিটিতেই কোন ভোট হিসেব হয়নি যা হচ্ছে হাসিন...          1\n",
       "...                                                 ...        ...\n",
       "5875  সুন্দর দু টি বাক্য জ্ঞানী হও তবে অহংকারী হইও ন...          0\n",
       "5876  আমি বুঝতে পারছি না যে আমার হৃদয় ভাঙার মানে কি...          1\n",
       "5877  আবারও তৃণমূলী দুস্কৃতিদের হাতে হত্যা হতে হলো ব...          0\n",
       "5878  ঘুমের জন্য প্রস্তুত কিন্তু ঘুমের সমস্যা হচ্ছে ...          1\n",
       "5879  আজি ঝরো ঝরো মুখর বাদলদিনে জানি নে , জানি নে কি...          0\n",
       "\n",
       "[5880 rows x 2 columns]"
      ]
     },
     "execution_count": 291,
     "metadata": {},
     "output_type": "execute_result"
    }
   ],
   "source": [
    "data"
   ]
  },
  {
   "cell_type": "code",
   "execution_count": 292,
   "metadata": {},
   "outputs": [],
   "source": [
    "#del data['Unnamed: 0']"
   ]
  },
  {
   "cell_type": "code",
   "execution_count": 293,
   "metadata": {},
   "outputs": [
    {
     "data": {
      "text/html": [
       "<div>\n",
       "<style scoped>\n",
       "    .dataframe tbody tr th:only-of-type {\n",
       "        vertical-align: middle;\n",
       "    }\n",
       "\n",
       "    .dataframe tbody tr th {\n",
       "        vertical-align: top;\n",
       "    }\n",
       "\n",
       "    .dataframe thead th {\n",
       "        text-align: right;\n",
       "    }\n",
       "</style>\n",
       "<table border=\"1\" class=\"dataframe\">\n",
       "  <thead>\n",
       "    <tr style=\"text-align: right;\">\n",
       "      <th></th>\n",
       "      <th>Review</th>\n",
       "      <th>Sentiment</th>\n",
       "    </tr>\n",
       "  </thead>\n",
       "  <tbody>\n",
       "    <tr>\n",
       "      <th>4026</th>\n",
       "      <td>যায় দিন যায় রাত থাকি দিশেহারা তরে ছাড়া বড় ...</td>\n",
       "      <td>1</td>\n",
       "    </tr>\n",
       "    <tr>\n",
       "      <th>3906</th>\n",
       "      <td>সু প্রভাত এখনো কে কে দাঁত ব্রাশ করেননি</td>\n",
       "      <td>1</td>\n",
       "    </tr>\n",
       "    <tr>\n",
       "      <th>250</th>\n",
       "      <td>আমি নাকি কুফা কোথাও যাইতে চাইলেই বৃষ্টি নামে</td>\n",
       "      <td>1</td>\n",
       "    </tr>\n",
       "    <tr>\n",
       "      <th>3122</th>\n",
       "      <td>ভবিষ্যৎ নিয়ে যেমন কনফিজড, অতীত নিয়ে মাঝে মাঝে ...</td>\n",
       "      <td>1</td>\n",
       "    </tr>\n",
       "    <tr>\n",
       "      <th>84</th>\n",
       "      <td>সবাই ডিশের লাইন কেটে দিয়ে বিটিভি দেখুন । এ বছ...</td>\n",
       "      <td>1</td>\n",
       "    </tr>\n",
       "    <tr>\n",
       "      <th>840</th>\n",
       "      <td>ধিক তোর মত মানুষকে।</td>\n",
       "      <td>1</td>\n",
       "    </tr>\n",
       "    <tr>\n",
       "      <th>1256</th>\n",
       "      <td>স্বার্থক জন্ম মা গো জন্মেছি এই দেশে গাড়ীর চাপ...</td>\n",
       "      <td>1</td>\n",
       "    </tr>\n",
       "    <tr>\n",
       "      <th>3709</th>\n",
       "      <td>ব্যস্ততার মাঝে যাচ্ছে জীবন</td>\n",
       "      <td>0</td>\n",
       "    </tr>\n",
       "    <tr>\n",
       "      <th>5408</th>\n",
       "      <td>দ্যা বেস্ট প্লেয়ার ২০১৮ সবার নাম থাকলেও তালিক...</td>\n",
       "      <td>1</td>\n",
       "    </tr>\n",
       "    <tr>\n",
       "      <th>1772</th>\n",
       "      <td>আমরাই একমাত্র দেশ যারা গত বছরে একের পর এক যুদ্...</td>\n",
       "      <td>1</td>\n",
       "    </tr>\n",
       "  </tbody>\n",
       "</table>\n",
       "</div>"
      ],
      "text/plain": [
       "                                                 Review  Sentiment\n",
       "4026  যায় দিন যায় রাত থাকি দিশেহারা তরে ছাড়া বড় ...          1\n",
       "3906            সু প্রভাত এখনো কে কে দাঁত ব্রাশ করেননি           1\n",
       "250        আমি নাকি কুফা কোথাও যাইতে চাইলেই বৃষ্টি নামে          1\n",
       "3122  ভবিষ্যৎ নিয়ে যেমন কনফিজড, অতীত নিয়ে মাঝে মাঝে ...          1\n",
       "84    সবাই ডিশের লাইন কেটে দিয়ে বিটিভি দেখুন । এ বছ...          1\n",
       "840                                 ধিক তোর মত মানুষকে।          1\n",
       "1256  স্বার্থক জন্ম মা গো জন্মেছি এই দেশে গাড়ীর চাপ...          1\n",
       "3709                        ব্যস্ততার মাঝে যাচ্ছে জীবন           0\n",
       "5408  দ্যা বেস্ট প্লেয়ার ২০১৮ সবার নাম থাকলেও তালিক...          1\n",
       "1772  আমরাই একমাত্র দেশ যারা গত বছরে একের পর এক যুদ্...          1"
      ]
     },
     "execution_count": 293,
     "metadata": {},
     "output_type": "execute_result"
    }
   ],
   "source": [
    "data.sample(10)"
   ]
  },
  {
   "cell_type": "code",
   "execution_count": 294,
   "metadata": {},
   "outputs": [
    {
     "name": "stdout",
     "output_type": "stream",
     "text": [
      "Total Reviews: 5880 \n",
      "Total Positive Reviews: 2940 \n",
      "Total Negative Reviews: 2940\n"
     ]
    }
   ],
   "source": [
    "data.Sentiment = data.Sentiment.replace({1:'Positive',0:'Negative'})\n",
    "print(\"Total Reviews:\",len(data),\n",
    "      \"\\nTotal Positive Reviews:\",len(data[data.Sentiment =='Positive']),\n",
    "      \"\\nTotal Negative Reviews:\",len(data[data.Sentiment=='Negative']))"
   ]
  },
  {
   "cell_type": "code",
   "execution_count": 295,
   "metadata": {},
   "outputs": [
    {
     "name": "stdout",
     "output_type": "stream",
     "text": [
      "Review       object\n",
      "Sentiment    object\n",
      "dtype: object\n"
     ]
    }
   ],
   "source": [
    "print(data.dtypes)"
   ]
  },
  {
   "cell_type": "code",
   "execution_count": 296,
   "metadata": {},
   "outputs": [
    {
     "data": {
      "text/html": [
       "<div>\n",
       "<style scoped>\n",
       "    .dataframe tbody tr th:only-of-type {\n",
       "        vertical-align: middle;\n",
       "    }\n",
       "\n",
       "    .dataframe tbody tr th {\n",
       "        vertical-align: top;\n",
       "    }\n",
       "\n",
       "    .dataframe thead th {\n",
       "        text-align: right;\n",
       "    }\n",
       "</style>\n",
       "<table border=\"1\" class=\"dataframe\">\n",
       "  <thead>\n",
       "    <tr style=\"text-align: right;\">\n",
       "      <th></th>\n",
       "      <th>Review</th>\n",
       "      <th>Sentiment</th>\n",
       "    </tr>\n",
       "  </thead>\n",
       "  <tbody>\n",
       "    <tr>\n",
       "      <th>0</th>\n",
       "      <td>যে দেশে মানুষের মৃত্যুর খবর শুনে মন্ত্রী মহোদয...</td>\n",
       "      <td>Positive</td>\n",
       "    </tr>\n",
       "    <tr>\n",
       "      <th>1</th>\n",
       "      <td>জনগণের ভোট চুরি করে ক্ষমতায় আসা ওই নিয়ত আমাদ...</td>\n",
       "      <td>Negative</td>\n",
       "    </tr>\n",
       "    <tr>\n",
       "      <th>2</th>\n",
       "      <td>নিকোটিনের ধোয়ায় সময় কাটে রাতে । রাতটা আমার ...</td>\n",
       "      <td>Positive</td>\n",
       "    </tr>\n",
       "    <tr>\n",
       "      <th>3</th>\n",
       "      <td>সবথেকে বড় যুদ্ধ হলো নিজের মনের সাথে যুদ্ধ আবেগ</td>\n",
       "      <td>Negative</td>\n",
       "    </tr>\n",
       "    <tr>\n",
       "      <th>4</th>\n",
       "      <td>কোন সিটিতেই কোন ভোট হিসেব হয়নি যা হচ্ছে হাসিন...</td>\n",
       "      <td>Positive</td>\n",
       "    </tr>\n",
       "    <tr>\n",
       "      <th>...</th>\n",
       "      <td>...</td>\n",
       "      <td>...</td>\n",
       "    </tr>\n",
       "    <tr>\n",
       "      <th>5875</th>\n",
       "      <td>সুন্দর দু টি বাক্য জ্ঞানী হও তবে অহংকারী হইও ন...</td>\n",
       "      <td>Negative</td>\n",
       "    </tr>\n",
       "    <tr>\n",
       "      <th>5876</th>\n",
       "      <td>আমি বুঝতে পারছি না যে আমার হৃদয় ভাঙার মানে কি...</td>\n",
       "      <td>Positive</td>\n",
       "    </tr>\n",
       "    <tr>\n",
       "      <th>5877</th>\n",
       "      <td>আবারও তৃণমূলী দুস্কৃতিদের হাতে হত্যা হতে হলো ব...</td>\n",
       "      <td>Negative</td>\n",
       "    </tr>\n",
       "    <tr>\n",
       "      <th>5878</th>\n",
       "      <td>ঘুমের জন্য প্রস্তুত কিন্তু ঘুমের সমস্যা হচ্ছে ...</td>\n",
       "      <td>Positive</td>\n",
       "    </tr>\n",
       "    <tr>\n",
       "      <th>5879</th>\n",
       "      <td>আজি ঝরো ঝরো মুখর বাদলদিনে জানি নে , জানি নে কি...</td>\n",
       "      <td>Negative</td>\n",
       "    </tr>\n",
       "  </tbody>\n",
       "</table>\n",
       "<p>5880 rows × 2 columns</p>\n",
       "</div>"
      ],
      "text/plain": [
       "                                                 Review Sentiment\n",
       "0     যে দেশে মানুষের মৃত্যুর খবর শুনে মন্ত্রী মহোদয...  Positive\n",
       "1     জনগণের ভোট চুরি করে ক্ষমতায় আসা ওই নিয়ত আমাদ...  Negative\n",
       "2     নিকোটিনের ধোয়ায় সময় কাটে রাতে । রাতটা আমার ...  Positive\n",
       "3       সবথেকে বড় যুদ্ধ হলো নিজের মনের সাথে যুদ্ধ আবেগ  Negative\n",
       "4     কোন সিটিতেই কোন ভোট হিসেব হয়নি যা হচ্ছে হাসিন...  Positive\n",
       "...                                                 ...       ...\n",
       "5875  সুন্দর দু টি বাক্য জ্ঞানী হও তবে অহংকারী হইও ন...  Negative\n",
       "5876  আমি বুঝতে পারছি না যে আমার হৃদয় ভাঙার মানে কি...  Positive\n",
       "5877  আবারও তৃণমূলী দুস্কৃতিদের হাতে হত্যা হতে হলো ব...  Negative\n",
       "5878  ঘুমের জন্য প্রস্তুত কিন্তু ঘুমের সমস্যা হচ্ছে ...  Positive\n",
       "5879  আজি ঝরো ঝরো মুখর বাদলদিনে জানি নে , জানি নে কি...  Negative\n",
       "\n",
       "[5880 rows x 2 columns]"
      ]
     },
     "execution_count": 296,
     "metadata": {},
     "output_type": "execute_result"
    }
   ],
   "source": [
    "data"
   ]
  },
  {
   "cell_type": "code",
   "execution_count": null,
   "metadata": {},
   "outputs": [],
   "source": []
  },
  {
   "cell_type": "code",
   "execution_count": 297,
   "metadata": {},
   "outputs": [
    {
     "name": "stdout",
     "output_type": "stream",
     "text": [
      "জামায়াত কেন্ যে রাজশাহী অার বরিশালে তাদের প্রার্থী দিলো না তাহলে নিশ্চিত বিএনপি অারো ২টি মেয়র পেতেন  \n",
      " Sentiment:--  Positive \n",
      "\n",
      "পেঙ্গুইন যদি মন্ত্রী হয় ! তাহলে কাউয়া র দোষ কি ? সারাটা দিন ট্রমার মধ্যে গেছে , ভিডিও টা দেখার পর ঠিক থাকা অসম্ভব ছিল তখন । কি কপাল ছেলেমেয়ে গুলোর  \n",
      " Sentiment:--  Positive \n",
      "\n",
      "তোমাদের প্রতিযোগিতার ফলাফল হিসেবে আমরা আমাদের মৃত্যু মেনে নিয়েছি !  \n",
      " Sentiment:--  Positive \n",
      "\n",
      "আর ভালো লাগেনা যাইতে ইচ্ছা হয় না কিন্তু যেতে হবে সব রেডি কইরা দিছে বাড়িতে এত আদর সবাইকে মিস করবো  \n",
      " Sentiment:--  Positive \n",
      "\n",
      "আমি নাকি কুফা কোথাও যাইতে চাইলেই বৃষ্টি নামে \n",
      " Sentiment:--  Positive \n",
      "\n",
      "বিয়ের প্রথম বছরঃ জানু দ্বিতীয় বছরঃওগো শুনছ ! তৃতীয় বছরঃকই গো তুমি চতুর্থ বছরঃ বল্টুর বাপ একটু এখানে আসো তো পঞ্চম বছরঃকোথায় মরছ ? ষষ্ঠ বছরঃ আজকে বাসায় আসো তোমার একদিন কি আমার একদিন ! তোমায় বিয়ে করে আমার জীবনটা তেজপাতা হয়ে গেছে ! তোমায় বিয়ে করে কি পাইছি আমি ?  \n",
      " Sentiment:--  Positive \n",
      "\n",
      "চৌকিদার , ঠেকেদার , ভাগীদার নয় সংবিধান সমঝদার একজন প্রধানমন্ত্রী প্রয়োজন  \n",
      " Sentiment:--  Positive \n",
      "\n",
      "সংযুক্ত আরব আমিরাত তে এমন একটি গাছ দেখে দেশের কথা মনে পড়ে গেল  \n",
      " Sentiment:--  Positive \n",
      "\n",
      "এত বৃষ্টি হয়ে কি লাভ যদি কাছে একটা বউ না থাকে \n",
      " Sentiment:--  Positive \n",
      "\n",
      "উড়িবার মন চায় দুটো অপশন আছে , হয় শুরু করা নয় শেষ করা । শুরু অথবা শেষ \n",
      " Sentiment:--  Positive \n",
      "\n",
      "দ্বিতীয় ওয়ানডেতে বাংলাদেশকে ৩ রানে হারিয়ে সিরিজ ১ ১ সমতা করলো কাল্লু মামুরা । নিশ্চিত জয়ী ম্যাচ হাতছাড়া হলো বাংলাদেশ দলের সারারাত ঠিকমতো না ঘুমিয়ে ম্যাচ দেখে শেষ পর্যন্ত বাশঁ মিললো  \n",
      " Sentiment:--  Positive \n",
      "\n",
      "মানব , তোমার কাফনের কাপড় বাজারে এসে গেছে ! আর তুমি এখনো বেখেয়াল ।  \n",
      " Sentiment:--  Positive \n",
      "\n",
      "মধ্য আয়ের দেশে উন্নীত হয়ে , বাংলাদেশ এখন ভাঙ্গাদেশে রুপান্তরিত হয়েছে । ফ্যাক্ট : দেড় ঘন্টার রাস্তার অর্ধেক আসতে লাগে সাড়ে তিন ঘন্টা ।  \n",
      " Sentiment:--  Positive \n",
      "\n",
      "উন্নয়নের জোয়ারে ভাসছে দেশ :  \n",
      " Sentiment:--  Positive \n",
      "\n",
      " দুইটা মাস নষ্ট করলাম। চাকরির বাজার ভাল না, আমাদের যে কি হবে। তোমাকে নিয়ে আর পারলাম না। মর গিয়ে।     \n",
      " Sentiment:--  Positive \n",
      "\n"
     ]
    }
   ],
   "source": [
    "# print some unprocessed reviews\n",
    "sample_data = [10,100,150,200,250,300,350,400,450,500,600,650,700,750,800]\n",
    "for i in sample_data:\n",
    "      print(data.Review[i],'\\n','Sentiment:-- ',data.Sentiment[i],'\\n')  "
   ]
  },
  {
   "cell_type": "markdown",
   "metadata": {},
   "source": [
    "## Data Processing \n",
    "This step includes removal of punctuation mark, numbers, emoji and stopwords from the reviews. We have used a helper functions for cleaning the corpus.\n",
    " "
   ]
  },
  {
   "cell_type": "code",
   "execution_count": 298,
   "metadata": {},
   "outputs": [],
   "source": [
    "from utils import cleaned_reviews,stopwords_info,stopword_removal,process_reviews"
   ]
  },
  {
   "cell_type": "code",
   "execution_count": 299,
   "metadata": {},
   "outputs": [
    {
     "name": "stdout",
     "output_type": "stream",
     "text": [
      "Original:\n",
      " জামায়াত কেন্ যে রাজশাহী অার বরিশালে তাদের প্রার্থী দিলো না তাহলে নিশ্চিত বিএনপি অারো ২টি মেয়র পেতেন  \n",
      "Cleaned:\n",
      " জামায়াত কেন্ রাজশাহী অার বরিশালে তাদের প্রার্থী দিলো না তাহলে নিশ্চিত বিএনপি অারো ২টি মেয়র পেতেন \n",
      " Sentiment:--  Positive \n",
      "\n",
      "Original:\n",
      " পেঙ্গুইন যদি মন্ত্রী হয় ! তাহলে কাউয়া র দোষ কি ? সারাটা দিন ট্রমার মধ্যে গেছে , ভিডিও টা দেখার পর ঠিক থাকা অসম্ভব ছিল তখন । কি কপাল ছেলেমেয়ে গুলোর  \n",
      "Cleaned:\n",
      " পেঙ্গুইন যদি মন্ত্রী হয় তাহলে কাউয়া র দোষ সারাটা দিন ট্রমার মধ্যে গেছে ভিডিও টা দেখার পর ঠিক থাকা অসম্ভব ছিল তখন কপাল ছেলেমেয়ে গুলোর \n",
      " Sentiment:--  Positive \n",
      "\n",
      "Original:\n",
      " তোমাদের প্রতিযোগিতার ফলাফল হিসেবে আমরা আমাদের মৃত্যু মেনে নিয়েছি !  \n",
      "Cleaned:\n",
      " তোমাদের প্রতিযোগিতার ফলাফল হিসেবে আমরা আমাদের মৃত্যু মেনে নিয়েছি \n",
      " Sentiment:--  Positive \n",
      "\n",
      "Original:\n",
      " আর ভালো লাগেনা যাইতে ইচ্ছা হয় না কিন্তু যেতে হবে সব রেডি কইরা দিছে বাড়িতে এত আদর সবাইকে মিস করবো  \n",
      "Cleaned:\n",
      " ভালো লাগেনা যাইতে ইচ্ছা হয় না কিন্তু যেতে হবে সব রেডি কইরা দিছে বাড়িতে এত আদর সবাইকে মিস করবো \n",
      " Sentiment:--  Positive \n",
      "\n",
      "Original:\n",
      " আমি নাকি কুফা কোথাও যাইতে চাইলেই বৃষ্টি নামে \n",
      "Cleaned:\n",
      " নাকি কুফা কোথাও যাইতে চাইলেই বৃষ্টি নামে \n",
      " Sentiment:--  Positive \n",
      "\n",
      "Original:\n",
      " বিয়ের প্রথম বছরঃ জানু দ্বিতীয় বছরঃওগো শুনছ ! তৃতীয় বছরঃকই গো তুমি চতুর্থ বছরঃ বল্টুর বাপ একটু এখানে আসো তো পঞ্চম বছরঃকোথায় মরছ ? ষষ্ঠ বছরঃ আজকে বাসায় আসো তোমার একদিন কি আমার একদিন ! তোমায় বিয়ে করে আমার জীবনটা তেজপাতা হয়ে গেছে ! তোমায় বিয়ে করে কি পাইছি আমি ?  \n",
      "Cleaned:\n",
      " বিয়ের প্রথম বছরঃ জানু দ্বিতীয় বছরঃওগো শুনছ তৃতীয় বছরঃকই গো তুমি চতুর্থ বছরঃ বল্টুর বাপ একটু এখানে আসো তো পঞ্চম বছরঃকোথায় মরছ ষষ্ঠ বছরঃ আজকে বাসায় আসো তোমার একদিন একদিন তোমায় বিয়ে জীবনটা তেজপাতা হয়ে গেছে তোমায় বিয়ে পাইছি \n",
      " Sentiment:--  Positive \n",
      "\n",
      "Original:\n",
      " চৌকিদার , ঠেকেদার , ভাগীদার নয় সংবিধান সমঝদার একজন প্রধানমন্ত্রী প্রয়োজন  \n",
      "Cleaned:\n",
      " চৌকিদার ঠেকেদার ভাগীদার নয় সংবিধান সমঝদার একজন প্রধানমন্ত্রী প্রয়োজন \n",
      " Sentiment:--  Positive \n",
      "\n",
      "Original:\n",
      " সংযুক্ত আরব আমিরাত তে এমন একটি গাছ দেখে দেশের কথা মনে পড়ে গেল  \n",
      "Cleaned:\n",
      " সংযুক্ত আরব আমিরাত তে এমন গাছ দেখে দেশের কথা মনে পড়ে গেল \n",
      " Sentiment:--  Positive \n",
      "\n",
      "Original:\n",
      " এত বৃষ্টি হয়ে কি লাভ যদি কাছে একটা বউ না থাকে \n",
      "Cleaned:\n",
      " এত বৃষ্টি হয়ে লাভ যদি কাছে বউ না থাকে \n",
      " Sentiment:--  Positive \n",
      "\n",
      "Original:\n",
      " উড়িবার মন চায় দুটো অপশন আছে , হয় শুরু করা নয় শেষ করা । শুরু অথবা শেষ \n",
      "Cleaned:\n",
      " উড়িবার মন চায় দুটো অপশন আছে হয় শুরু করা নয় শেষ করা শুরু অথবা শেষ \n",
      " Sentiment:--  Positive \n",
      "\n",
      "Original:\n",
      " দ্বিতীয় ওয়ানডেতে বাংলাদেশকে ৩ রানে হারিয়ে সিরিজ ১ ১ সমতা করলো কাল্লু মামুরা । নিশ্চিত জয়ী ম্যাচ হাতছাড়া হলো বাংলাদেশ দলের সারারাত ঠিকমতো না ঘুমিয়ে ম্যাচ দেখে শেষ পর্যন্ত বাশঁ মিললো  \n",
      "Cleaned:\n",
      " দ্বিতীয় ওয়ানডেতে বাংলাদেশকে ৩ রানে হারিয়ে সিরিজ ১ ১ সমতা করলো কাল্লু মামুরা নিশ্চিত জয়ী ম্যাচ হাতছাড়া হলো বাংলাদেশ দলের সারারাত ঠিকমতো না ঘুমিয়ে ম্যাচ দেখে শেষ পর্যন্ত বাশঁ মিললো \n",
      " Sentiment:--  Positive \n",
      "\n",
      "Original:\n",
      " মানব , তোমার কাফনের কাপড় বাজারে এসে গেছে ! আর তুমি এখনো বেখেয়াল ।  \n",
      "Cleaned:\n",
      " মানব তোমার কাফনের কাপড় বাজারে এসে গেছে তুমি এখনো বেখেয়াল \n",
      " Sentiment:--  Positive \n",
      "\n",
      "Original:\n",
      " মধ্য আয়ের দেশে উন্নীত হয়ে , বাংলাদেশ এখন ভাঙ্গাদেশে রুপান্তরিত হয়েছে । ফ্যাক্ট : দেড় ঘন্টার রাস্তার অর্ধেক আসতে লাগে সাড়ে তিন ঘন্টা ।  \n",
      "Cleaned:\n",
      " মধ্য আয়ের দেশে উন্নীত হয়ে বাংলাদেশ এখন ভাঙ্গাদেশে রুপান্তরিত হয়েছে ফ্যাক্ট দেড় ঘন্টার রাস্তার অর্ধেক আসতে লাগে সাড়ে তিন ঘন্টা \n",
      " Sentiment:--  Positive \n",
      "\n",
      "Original:\n",
      " উন্নয়নের জোয়ারে ভাসছে দেশ :  \n",
      "Cleaned:\n",
      " উন্নয়নের জোয়ারে ভাসছে দেশ \n",
      " Sentiment:--  Positive \n",
      "\n",
      "Original:\n",
      "  দুইটা মাস নষ্ট করলাম। চাকরির বাজার ভাল না, আমাদের যে কি হবে। তোমাকে নিয়ে আর পারলাম না। মর গিয়ে।     \n",
      "Cleaned:\n",
      " দুইটা মাস নষ্ট করলাম চাকরির বাজার ভাল না আমাদের হবে তোমাকে নিয়ে পারলাম না মর গিয়ে \n",
      " Sentiment:--  Positive \n",
      "\n"
     ]
    }
   ],
   "source": [
    "# Apply the function into the dataframe\n",
    "data['cleaned'] = data['Review'].apply(process_reviews,stopwords = stopwords_list,removing_stopwords = True)  \n",
    "\n",
    "# print some cleaned reviews from the dataset\n",
    "sample_data = [10,100,150,200,250,300,350,400,450,500,600,650,700,750,800]\n",
    "for i in sample_data:\n",
    "      print('Original:\\n',data.Review[i],'\\nCleaned:\\n',data.cleaned[i],'\\n','Sentiment:-- ',data.Sentiment[i],'\\n')   "
   ]
  },
  {
   "cell_type": "code",
   "execution_count": 300,
   "metadata": {},
   "outputs": [
    {
     "data": {
      "text/html": [
       "<div>\n",
       "<style scoped>\n",
       "    .dataframe tbody tr th:only-of-type {\n",
       "        vertical-align: middle;\n",
       "    }\n",
       "\n",
       "    .dataframe tbody tr th {\n",
       "        vertical-align: top;\n",
       "    }\n",
       "\n",
       "    .dataframe thead th {\n",
       "        text-align: right;\n",
       "    }\n",
       "</style>\n",
       "<table border=\"1\" class=\"dataframe\">\n",
       "  <thead>\n",
       "    <tr style=\"text-align: right;\">\n",
       "      <th></th>\n",
       "      <th>Review</th>\n",
       "      <th>Sentiment</th>\n",
       "      <th>cleaned</th>\n",
       "    </tr>\n",
       "  </thead>\n",
       "  <tbody>\n",
       "    <tr>\n",
       "      <th>0</th>\n",
       "      <td>যে দেশে মানুষের মৃত্যুর খবর শুনে মন্ত্রী মহোদয...</td>\n",
       "      <td>Positive</td>\n",
       "      <td>দেশে মানুষের মৃত্যুর খবর শুনে মন্ত্রী মহোদয় হ...</td>\n",
       "    </tr>\n",
       "    <tr>\n",
       "      <th>1</th>\n",
       "      <td>জনগণের ভোট চুরি করে ক্ষমতায় আসা ওই নিয়ত আমাদ...</td>\n",
       "      <td>Negative</td>\n",
       "      <td>জনগণের ভোট চুরি ক্ষমতায় আসা ওই নিয়ত আমাদের ন...</td>\n",
       "    </tr>\n",
       "    <tr>\n",
       "      <th>2</th>\n",
       "      <td>নিকোটিনের ধোয়ায় সময় কাটে রাতে । রাতটা আমার ...</td>\n",
       "      <td>Positive</td>\n",
       "      <td>নিকোটিনের ধোয়ায় সময় কাটে রাতে রাতটা দিন দিন...</td>\n",
       "    </tr>\n",
       "    <tr>\n",
       "      <th>3</th>\n",
       "      <td>সবথেকে বড় যুদ্ধ হলো নিজের মনের সাথে যুদ্ধ আবেগ</td>\n",
       "      <td>Negative</td>\n",
       "      <td>সবথেকে বড় যুদ্ধ হলো নিজের মনের সাথে যুদ্ধ আবেগ</td>\n",
       "    </tr>\n",
       "    <tr>\n",
       "      <th>4</th>\n",
       "      <td>কোন সিটিতেই কোন ভোট হিসেব হয়নি যা হচ্ছে হাসিন...</td>\n",
       "      <td>Positive</td>\n",
       "      <td>সিটিতেই ভোট হিসেব হয়নি যা হচ্ছে হাসিনার ইচ্ছে...</td>\n",
       "    </tr>\n",
       "    <tr>\n",
       "      <th>...</th>\n",
       "      <td>...</td>\n",
       "      <td>...</td>\n",
       "      <td>...</td>\n",
       "    </tr>\n",
       "    <tr>\n",
       "      <th>5875</th>\n",
       "      <td>সুন্দর দু টি বাক্য জ্ঞানী হও তবে অহংকারী হইও ন...</td>\n",
       "      <td>Negative</td>\n",
       "      <td>সুন্দর দু টি বাক্য জ্ঞানী হও তবে অহংকারী হইও ন...</td>\n",
       "    </tr>\n",
       "    <tr>\n",
       "      <th>5876</th>\n",
       "      <td>আমি বুঝতে পারছি না যে আমার হৃদয় ভাঙার মানে কি...</td>\n",
       "      <td>Positive</td>\n",
       "      <td>বুঝতে পারছি না হৃদয় ভাঙার মানে বল</td>\n",
       "    </tr>\n",
       "    <tr>\n",
       "      <th>5877</th>\n",
       "      <td>আবারও তৃণমূলী দুস্কৃতিদের হাতে হত্যা হতে হলো ব...</td>\n",
       "      <td>Negative</td>\n",
       "      <td>আবারও তৃণমূলী দুস্কৃতিদের হাতে হত্যা হতে হলো ব...</td>\n",
       "    </tr>\n",
       "    <tr>\n",
       "      <th>5878</th>\n",
       "      <td>ঘুমের জন্য প্রস্তুত কিন্তু ঘুমের সমস্যা হচ্ছে ...</td>\n",
       "      <td>Positive</td>\n",
       "      <td>ঘুমের প্রস্তুত কিন্তু ঘুমের সমস্যা হচ্ছে নামই ...</td>\n",
       "    </tr>\n",
       "    <tr>\n",
       "      <th>5879</th>\n",
       "      <td>আজি ঝরো ঝরো মুখর বাদলদিনে জানি নে , জানি নে কি...</td>\n",
       "      <td>Negative</td>\n",
       "      <td>আজি ঝরো ঝরো মুখর বাদলদিনে জানি নে জানি নে কিছু...</td>\n",
       "    </tr>\n",
       "  </tbody>\n",
       "</table>\n",
       "<p>5880 rows × 3 columns</p>\n",
       "</div>"
      ],
      "text/plain": [
       "                                                 Review Sentiment  \\\n",
       "0     যে দেশে মানুষের মৃত্যুর খবর শুনে মন্ত্রী মহোদয...  Positive   \n",
       "1     জনগণের ভোট চুরি করে ক্ষমতায় আসা ওই নিয়ত আমাদ...  Negative   \n",
       "2     নিকোটিনের ধোয়ায় সময় কাটে রাতে । রাতটা আমার ...  Positive   \n",
       "3       সবথেকে বড় যুদ্ধ হলো নিজের মনের সাথে যুদ্ধ আবেগ  Negative   \n",
       "4     কোন সিটিতেই কোন ভোট হিসেব হয়নি যা হচ্ছে হাসিন...  Positive   \n",
       "...                                                 ...       ...   \n",
       "5875  সুন্দর দু টি বাক্য জ্ঞানী হও তবে অহংকারী হইও ন...  Negative   \n",
       "5876  আমি বুঝতে পারছি না যে আমার হৃদয় ভাঙার মানে কি...  Positive   \n",
       "5877  আবারও তৃণমূলী দুস্কৃতিদের হাতে হত্যা হতে হলো ব...  Negative   \n",
       "5878  ঘুমের জন্য প্রস্তুত কিন্তু ঘুমের সমস্যা হচ্ছে ...  Positive   \n",
       "5879  আজি ঝরো ঝরো মুখর বাদলদিনে জানি নে , জানি নে কি...  Negative   \n",
       "\n",
       "                                                cleaned  \n",
       "0     দেশে মানুষের মৃত্যুর খবর শুনে মন্ত্রী মহোদয় হ...  \n",
       "1     জনগণের ভোট চুরি ক্ষমতায় আসা ওই নিয়ত আমাদের ন...  \n",
       "2     নিকোটিনের ধোয়ায় সময় কাটে রাতে রাতটা দিন দিন...  \n",
       "3       সবথেকে বড় যুদ্ধ হলো নিজের মনের সাথে যুদ্ধ আবেগ  \n",
       "4     সিটিতেই ভোট হিসেব হয়নি যা হচ্ছে হাসিনার ইচ্ছে...  \n",
       "...                                                 ...  \n",
       "5875  সুন্দর দু টি বাক্য জ্ঞানী হও তবে অহংকারী হইও ন...  \n",
       "5876                 বুঝতে পারছি না হৃদয় ভাঙার মানে বল  \n",
       "5877  আবারও তৃণমূলী দুস্কৃতিদের হাতে হত্যা হতে হলো ব...  \n",
       "5878  ঘুমের প্রস্তুত কিন্তু ঘুমের সমস্যা হচ্ছে নামই ...  \n",
       "5879  আজি ঝরো ঝরো মুখর বাদলদিনে জানি নে জানি নে কিছু...  \n",
       "\n",
       "[5880 rows x 3 columns]"
      ]
     },
     "execution_count": 300,
     "metadata": {},
     "output_type": "execute_result"
    }
   ],
   "source": [
    "data"
   ]
  },
  {
   "cell_type": "code",
   "execution_count": 301,
   "metadata": {},
   "outputs": [],
   "source": [
    "data.cleaned.to_excel('clean_reviews.xlsx')"
   ]
  },
  {
   "cell_type": "markdown",
   "metadata": {},
   "source": [
    "##### Processing of a sample review"
   ]
  },
  {
   "cell_type": "code",
   "execution_count": 302,
   "metadata": {},
   "outputs": [
    {
     "data": {
      "text/plain": [
       "'অনুবাদ মান আরো ভালো করা উচিত ছিল'"
      ]
     },
     "execution_count": 302,
     "metadata": {},
     "output_type": "execute_result"
    }
   ],
   "source": [
    "tweet = 'অনুবাদ এর মান আরো ভালো করা উচিত ছিল।😔'\n",
    "stopwords_list ='D:\\\\CSE 497\\\\497 Done S\\\\Dataset and Notebook\\\\book_stopwords.txt'\n",
    "process_reviews(review = tweet, stopwords =stopwords_list,removing_stopwords=True)"
   ]
  },
  {
   "cell_type": "markdown",
   "metadata": {},
   "source": [
    "## Dataset Summary"
   ]
  },
  {
   "cell_type": "code",
   "execution_count": 303,
   "metadata": {},
   "outputs": [
    {
     "name": "stdout",
     "output_type": "stream",
     "text": [
      "\n",
      "Class Name :  Positive\n",
      "Number of Documents:2940\n",
      "Number of Words:52755\n",
      "Number of Unique Words:4681\n",
      "Most Frequent Words:\n",
      "\n",
      "না\t1040\n",
      "নেই\t270\n",
      "নাই\t255\n",
      "কিছু\t250\n",
      "আজ\t230\n",
      "করতে\t225\n",
      "কিন্তু\t215\n",
      "হবে\t210\n",
      "এক\t210\n",
      "মানুষ\t210\n",
      "\n",
      "Class Name :  Negative\n",
      "Number of Documents:2940\n",
      "Number of Words:54385\n",
      "Number of Unique Words:4781\n",
      "Most Frequent Words:\n",
      "\n",
      "না\t695\n",
      "হয়\t365\n",
      "হবে\t260\n",
      "মানুষ\t240\n",
      "কিন্তু\t185\n",
      "ভালো\t185\n",
      "যায়\t185\n",
      "আমাদের\t180\n",
      "আল্লাহ\t180\n",
      "কিছু\t180\n"
     ]
    }
   ],
   "source": [
    "from utils import data_summary\n",
    "documents,words,u_words,class_names = data_summary(data)"
   ]
  },
  {
   "cell_type": "markdown",
   "metadata": {},
   "source": [
    "### Dataset Summary Visualization"
   ]
  },
  {
   "cell_type": "code",
   "execution_count": 304,
   "metadata": {},
   "outputs": [
    {
     "name": "stdout",
     "output_type": "stream",
     "text": [
      "  Class Names         Category  Values\n",
      "0    Positive  Total Documents    2940\n",
      "1    Negative  Total Documents    2940\n",
      "2    Positive      Total Words   52755\n",
      "3    Negative      Total Words   54385\n",
      "4    Positive     Unique Words    4681\n",
      "5    Negative     Unique Words    4781\n"
     ]
    }
   ],
   "source": [
    "data_matrix = pd.DataFrame({'Total Documents':documents,\n",
    "                            'Total Words':words,\n",
    "                            'Unique Words':u_words,\n",
    "                            'Class Names':class_names})\n",
    "df = pd.melt(data_matrix, id_vars=\"Class Names\", var_name=\"Category\", value_name=\"Values\")\n",
    "print(df)"
   ]
  },
  {
   "cell_type": "code",
   "execution_count": 305,
   "metadata": {},
   "outputs": [
    {
     "data": {
      "text/html": [
       "<div>\n",
       "<style scoped>\n",
       "    .dataframe tbody tr th:only-of-type {\n",
       "        vertical-align: middle;\n",
       "    }\n",
       "\n",
       "    .dataframe tbody tr th {\n",
       "        vertical-align: top;\n",
       "    }\n",
       "\n",
       "    .dataframe thead th {\n",
       "        text-align: right;\n",
       "    }\n",
       "</style>\n",
       "<table border=\"1\" class=\"dataframe\">\n",
       "  <thead>\n",
       "    <tr style=\"text-align: right;\">\n",
       "      <th></th>\n",
       "      <th>Review</th>\n",
       "      <th>Sentiment</th>\n",
       "      <th>cleaned</th>\n",
       "    </tr>\n",
       "  </thead>\n",
       "  <tbody>\n",
       "    <tr>\n",
       "      <th>0</th>\n",
       "      <td>যে দেশে মানুষের মৃত্যুর খবর শুনে মন্ত্রী মহোদয...</td>\n",
       "      <td>Positive</td>\n",
       "      <td>দেশে মানুষের মৃত্যুর খবর শুনে মন্ত্রী মহোদয় হ...</td>\n",
       "    </tr>\n",
       "    <tr>\n",
       "      <th>1</th>\n",
       "      <td>জনগণের ভোট চুরি করে ক্ষমতায় আসা ওই নিয়ত আমাদ...</td>\n",
       "      <td>Negative</td>\n",
       "      <td>জনগণের ভোট চুরি ক্ষমতায় আসা ওই নিয়ত আমাদের ন...</td>\n",
       "    </tr>\n",
       "    <tr>\n",
       "      <th>2</th>\n",
       "      <td>নিকোটিনের ধোয়ায় সময় কাটে রাতে । রাতটা আমার ...</td>\n",
       "      <td>Positive</td>\n",
       "      <td>নিকোটিনের ধোয়ায় সময় কাটে রাতে রাতটা দিন দিন...</td>\n",
       "    </tr>\n",
       "    <tr>\n",
       "      <th>3</th>\n",
       "      <td>সবথেকে বড় যুদ্ধ হলো নিজের মনের সাথে যুদ্ধ আবেগ</td>\n",
       "      <td>Negative</td>\n",
       "      <td>সবথেকে বড় যুদ্ধ হলো নিজের মনের সাথে যুদ্ধ আবেগ</td>\n",
       "    </tr>\n",
       "    <tr>\n",
       "      <th>4</th>\n",
       "      <td>কোন সিটিতেই কোন ভোট হিসেব হয়নি যা হচ্ছে হাসিন...</td>\n",
       "      <td>Positive</td>\n",
       "      <td>সিটিতেই ভোট হিসেব হয়নি যা হচ্ছে হাসিনার ইচ্ছে...</td>\n",
       "    </tr>\n",
       "    <tr>\n",
       "      <th>...</th>\n",
       "      <td>...</td>\n",
       "      <td>...</td>\n",
       "      <td>...</td>\n",
       "    </tr>\n",
       "    <tr>\n",
       "      <th>5875</th>\n",
       "      <td>সুন্দর দু টি বাক্য জ্ঞানী হও তবে অহংকারী হইও ন...</td>\n",
       "      <td>Negative</td>\n",
       "      <td>সুন্দর দু টি বাক্য জ্ঞানী হও তবে অহংকারী হইও ন...</td>\n",
       "    </tr>\n",
       "    <tr>\n",
       "      <th>5876</th>\n",
       "      <td>আমি বুঝতে পারছি না যে আমার হৃদয় ভাঙার মানে কি...</td>\n",
       "      <td>Positive</td>\n",
       "      <td>বুঝতে পারছি না হৃদয় ভাঙার মানে বল</td>\n",
       "    </tr>\n",
       "    <tr>\n",
       "      <th>5877</th>\n",
       "      <td>আবারও তৃণমূলী দুস্কৃতিদের হাতে হত্যা হতে হলো ব...</td>\n",
       "      <td>Negative</td>\n",
       "      <td>আবারও তৃণমূলী দুস্কৃতিদের হাতে হত্যা হতে হলো ব...</td>\n",
       "    </tr>\n",
       "    <tr>\n",
       "      <th>5878</th>\n",
       "      <td>ঘুমের জন্য প্রস্তুত কিন্তু ঘুমের সমস্যা হচ্ছে ...</td>\n",
       "      <td>Positive</td>\n",
       "      <td>ঘুমের প্রস্তুত কিন্তু ঘুমের সমস্যা হচ্ছে নামই ...</td>\n",
       "    </tr>\n",
       "    <tr>\n",
       "      <th>5879</th>\n",
       "      <td>আজি ঝরো ঝরো মুখর বাদলদিনে জানি নে , জানি নে কি...</td>\n",
       "      <td>Negative</td>\n",
       "      <td>আজি ঝরো ঝরো মুখর বাদলদিনে জানি নে জানি নে কিছু...</td>\n",
       "    </tr>\n",
       "  </tbody>\n",
       "</table>\n",
       "<p>5880 rows × 3 columns</p>\n",
       "</div>"
      ],
      "text/plain": [
       "                                                 Review Sentiment  \\\n",
       "0     যে দেশে মানুষের মৃত্যুর খবর শুনে মন্ত্রী মহোদয...  Positive   \n",
       "1     জনগণের ভোট চুরি করে ক্ষমতায় আসা ওই নিয়ত আমাদ...  Negative   \n",
       "2     নিকোটিনের ধোয়ায় সময় কাটে রাতে । রাতটা আমার ...  Positive   \n",
       "3       সবথেকে বড় যুদ্ধ হলো নিজের মনের সাথে যুদ্ধ আবেগ  Negative   \n",
       "4     কোন সিটিতেই কোন ভোট হিসেব হয়নি যা হচ্ছে হাসিন...  Positive   \n",
       "...                                                 ...       ...   \n",
       "5875  সুন্দর দু টি বাক্য জ্ঞানী হও তবে অহংকারী হইও ন...  Negative   \n",
       "5876  আমি বুঝতে পারছি না যে আমার হৃদয় ভাঙার মানে কি...  Positive   \n",
       "5877  আবারও তৃণমূলী দুস্কৃতিদের হাতে হত্যা হতে হলো ব...  Negative   \n",
       "5878  ঘুমের জন্য প্রস্তুত কিন্তু ঘুমের সমস্যা হচ্ছে ...  Positive   \n",
       "5879  আজি ঝরো ঝরো মুখর বাদলদিনে জানি নে , জানি নে কি...  Negative   \n",
       "\n",
       "                                                cleaned  \n",
       "0     দেশে মানুষের মৃত্যুর খবর শুনে মন্ত্রী মহোদয় হ...  \n",
       "1     জনগণের ভোট চুরি ক্ষমতায় আসা ওই নিয়ত আমাদের ন...  \n",
       "2     নিকোটিনের ধোয়ায় সময় কাটে রাতে রাতটা দিন দিন...  \n",
       "3       সবথেকে বড় যুদ্ধ হলো নিজের মনের সাথে যুদ্ধ আবেগ  \n",
       "4     সিটিতেই ভোট হিসেব হয়নি যা হচ্ছে হাসিনার ইচ্ছে...  \n",
       "...                                                 ...  \n",
       "5875  সুন্দর দু টি বাক্য জ্ঞানী হও তবে অহংকারী হইও ন...  \n",
       "5876                 বুঝতে পারছি না হৃদয় ভাঙার মানে বল  \n",
       "5877  আবারও তৃণমূলী দুস্কৃতিদের হাতে হত্যা হতে হলো ব...  \n",
       "5878  ঘুমের প্রস্তুত কিন্তু ঘুমের সমস্যা হচ্ছে নামই ...  \n",
       "5879  আজি ঝরো ঝরো মুখর বাদলদিনে জানি নে জানি নে কিছু...  \n",
       "\n",
       "[5880 rows x 3 columns]"
      ]
     },
     "execution_count": 305,
     "metadata": {},
     "output_type": "execute_result"
    }
   ],
   "source": [
    "data"
   ]
  },
  {
   "cell_type": "code",
   "execution_count": 306,
   "metadata": {},
   "outputs": [
    {
     "data": {
      "image/png": "[encoded data removed]",
      "text/plain": [
       "<Figure size 432x288 with 1 Axes>"
      ]
     },
     "metadata": {
      "needs_background": "light"
     },
     "output_type": "display_data"
    }
   ],
   "source": [
    "plt.figure(figsize=(6, 4))\n",
    "ax = plt.subplot()\n",
    "\n",
    "sns.barplot(data=df,x='Class Names', y='Values' ,hue='Category')\n",
    "ax.set_xlabel('Class Names') \n",
    "ax.set_title('Data Statistics')\n",
    "\n",
    "ax.xaxis.set_ticklabels(class_names, rotation=45);\n",
    "plt.savefig('data_statistics.png',dpi = 600,bbox_inches = 'tight')"
   ]
  },
  {
   "cell_type": "markdown",
   "metadata": {},
   "source": [
    "### Review Length Distribution"
   ]
  },
  {
   "cell_type": "code",
   "execution_count": 307,
   "metadata": {},
   "outputs": [
    {
     "data": {
      "image/png": "[encoded data removed]",
      "text/plain": [
       "<Figure size 432x288 with 1 Axes>"
      ]
     },
     "metadata": {
      "needs_background": "light"
     },
     "output_type": "display_data"
    },
    {
     "name": "stdout",
     "output_type": "stream",
     "text": [
      "Maximum Length of a review: 54\n",
      "Average Length of a reviews: 18.0\n"
     ]
    }
   ],
   "source": [
    "# Calculate the Review of each of the Review\n",
    "data['ReviewLength'] = data.cleaned.apply(lambda x:len(x.split()))\n",
    "frequency = dict()\n",
    "for i in data.ReviewLength:\n",
    "    frequency[i] = frequency.get(i, 0)+1\n",
    "\n",
    "plt.bar(frequency.keys(), frequency.values(), color =\"b\")\n",
    "plt.xlim(1, 100)\n",
    "# in this notbook color is not working but it should work.\n",
    "plt.xlabel('Lenght of the Texts')\n",
    "plt.ylabel('Frequency')\n",
    "plt.title('Length-Frequency Distribution')\n",
    "plt.savefig('length_dist.png',dpi = 600,bbox_inches = 'tight')\n",
    "plt.show()  \n",
    "print(f\"Maximum Length of a review: {max(data.ReviewLength)}\")\n",
    "print(f\"Average Length of a reviews: {round(np.mean(data.ReviewLength),0)}\")\n"
   ]
  },
  {
   "cell_type": "markdown",
   "metadata": {},
   "source": [
    "### Save the cleaned data and stopwords into a pickle file"
   ]
  },
  {
   "cell_type": "code",
   "execution_count": 308,
   "metadata": {},
   "outputs": [],
   "source": [
    "cleaned_data = pd.read_excel('clean_reviews.xlsx')\n",
    "import pickle\n",
    "# open a file, where you ant to store the data\n",
    "file = open('D:\\\\CSE 497\\\\497 Done S\\\\Dataset and Notebook\\\\book_review_data.pkl', 'wb')\n",
    "\n",
    "# dump information to that file\n",
    "pickle.dump(cleaned_data, file)"
   ]
  },
  {
   "cell_type": "code",
   "execution_count": 309,
   "metadata": {},
   "outputs": [
    {
     "data": {
      "text/html": [
       "<div>\n",
       "<style scoped>\n",
       "    .dataframe tbody tr th:only-of-type {\n",
       "        vertical-align: middle;\n",
       "    }\n",
       "\n",
       "    .dataframe tbody tr th {\n",
       "        vertical-align: top;\n",
       "    }\n",
       "\n",
       "    .dataframe thead th {\n",
       "        text-align: right;\n",
       "    }\n",
       "</style>\n",
       "<table border=\"1\" class=\"dataframe\">\n",
       "  <thead>\n",
       "    <tr style=\"text-align: right;\">\n",
       "      <th></th>\n",
       "      <th>Review</th>\n",
       "      <th>Sentiment</th>\n",
       "      <th>cleaned</th>\n",
       "      <th>ReviewLength</th>\n",
       "    </tr>\n",
       "  </thead>\n",
       "  <tbody>\n",
       "    <tr>\n",
       "      <th>0</th>\n",
       "      <td>যে দেশে মানুষের মৃত্যুর খবর শুনে মন্ত্রী মহোদয...</td>\n",
       "      <td>Positive</td>\n",
       "      <td>দেশে মানুষের মৃত্যুর খবর শুনে মন্ত্রী মহোদয় হ...</td>\n",
       "      <td>40</td>\n",
       "    </tr>\n",
       "    <tr>\n",
       "      <th>1</th>\n",
       "      <td>জনগণের ভোট চুরি করে ক্ষমতায় আসা ওই নিয়ত আমাদ...</td>\n",
       "      <td>Negative</td>\n",
       "      <td>জনগণের ভোট চুরি ক্ষমতায় আসা ওই নিয়ত আমাদের ন...</td>\n",
       "      <td>28</td>\n",
       "    </tr>\n",
       "    <tr>\n",
       "      <th>2</th>\n",
       "      <td>নিকোটিনের ধোয়ায় সময় কাটে রাতে । রাতটা আমার ...</td>\n",
       "      <td>Positive</td>\n",
       "      <td>নিকোটিনের ধোয়ায় সময় কাটে রাতে রাতটা দিন দিন...</td>\n",
       "      <td>9</td>\n",
       "    </tr>\n",
       "    <tr>\n",
       "      <th>3</th>\n",
       "      <td>সবথেকে বড় যুদ্ধ হলো নিজের মনের সাথে যুদ্ধ আবেগ</td>\n",
       "      <td>Negative</td>\n",
       "      <td>সবথেকে বড় যুদ্ধ হলো নিজের মনের সাথে যুদ্ধ আবেগ</td>\n",
       "      <td>9</td>\n",
       "    </tr>\n",
       "    <tr>\n",
       "      <th>4</th>\n",
       "      <td>কোন সিটিতেই কোন ভোট হিসেব হয়নি যা হচ্ছে হাসিন...</td>\n",
       "      <td>Positive</td>\n",
       "      <td>সিটিতেই ভোট হিসেব হয়নি যা হচ্ছে হাসিনার ইচ্ছে...</td>\n",
       "      <td>35</td>\n",
       "    </tr>\n",
       "    <tr>\n",
       "      <th>...</th>\n",
       "      <td>...</td>\n",
       "      <td>...</td>\n",
       "      <td>...</td>\n",
       "      <td>...</td>\n",
       "    </tr>\n",
       "    <tr>\n",
       "      <th>5875</th>\n",
       "      <td>সুন্দর দু টি বাক্য জ্ঞানী হও তবে অহংকারী হইও ন...</td>\n",
       "      <td>Negative</td>\n",
       "      <td>সুন্দর দু টি বাক্য জ্ঞানী হও তবে অহংকারী হইও ন...</td>\n",
       "      <td>18</td>\n",
       "    </tr>\n",
       "    <tr>\n",
       "      <th>5876</th>\n",
       "      <td>আমি বুঝতে পারছি না যে আমার হৃদয় ভাঙার মানে কি...</td>\n",
       "      <td>Positive</td>\n",
       "      <td>বুঝতে পারছি না হৃদয় ভাঙার মানে বল</td>\n",
       "      <td>7</td>\n",
       "    </tr>\n",
       "    <tr>\n",
       "      <th>5877</th>\n",
       "      <td>আবারও তৃণমূলী দুস্কৃতিদের হাতে হত্যা হতে হলো ব...</td>\n",
       "      <td>Negative</td>\n",
       "      <td>আবারও তৃণমূলী দুস্কৃতিদের হাতে হত্যা হতে হলো ব...</td>\n",
       "      <td>23</td>\n",
       "    </tr>\n",
       "    <tr>\n",
       "      <th>5878</th>\n",
       "      <td>ঘুমের জন্য প্রস্তুত কিন্তু ঘুমের সমস্যা হচ্ছে ...</td>\n",
       "      <td>Positive</td>\n",
       "      <td>ঘুমের প্রস্তুত কিন্তু ঘুমের সমস্যা হচ্ছে নামই ...</td>\n",
       "      <td>8</td>\n",
       "    </tr>\n",
       "    <tr>\n",
       "      <th>5879</th>\n",
       "      <td>আজি ঝরো ঝরো মুখর বাদলদিনে জানি নে , জানি নে কি...</td>\n",
       "      <td>Negative</td>\n",
       "      <td>আজি ঝরো ঝরো মুখর বাদলদিনে জানি নে জানি নে কিছু...</td>\n",
       "      <td>26</td>\n",
       "    </tr>\n",
       "  </tbody>\n",
       "</table>\n",
       "<p>5880 rows × 4 columns</p>\n",
       "</div>"
      ],
      "text/plain": [
       "                                                 Review Sentiment  \\\n",
       "0     যে দেশে মানুষের মৃত্যুর খবর শুনে মন্ত্রী মহোদয...  Positive   \n",
       "1     জনগণের ভোট চুরি করে ক্ষমতায় আসা ওই নিয়ত আমাদ...  Negative   \n",
       "2     নিকোটিনের ধোয়ায় সময় কাটে রাতে । রাতটা আমার ...  Positive   \n",
       "3       সবথেকে বড় যুদ্ধ হলো নিজের মনের সাথে যুদ্ধ আবেগ  Negative   \n",
       "4     কোন সিটিতেই কোন ভোট হিসেব হয়নি যা হচ্ছে হাসিন...  Positive   \n",
       "...                                                 ...       ...   \n",
       "5875  সুন্দর দু টি বাক্য জ্ঞানী হও তবে অহংকারী হইও ন...  Negative   \n",
       "5876  আমি বুঝতে পারছি না যে আমার হৃদয় ভাঙার মানে কি...  Positive   \n",
       "5877  আবারও তৃণমূলী দুস্কৃতিদের হাতে হত্যা হতে হলো ব...  Negative   \n",
       "5878  ঘুমের জন্য প্রস্তুত কিন্তু ঘুমের সমস্যা হচ্ছে ...  Positive   \n",
       "5879  আজি ঝরো ঝরো মুখর বাদলদিনে জানি নে , জানি নে কি...  Negative   \n",
       "\n",
       "                                                cleaned  ReviewLength  \n",
       "0     দেশে মানুষের মৃত্যুর খবর শুনে মন্ত্রী মহোদয় হ...            40  \n",
       "1     জনগণের ভোট চুরি ক্ষমতায় আসা ওই নিয়ত আমাদের ন...            28  \n",
       "2     নিকোটিনের ধোয়ায় সময় কাটে রাতে রাতটা দিন দিন...             9  \n",
       "3       সবথেকে বড় যুদ্ধ হলো নিজের মনের সাথে যুদ্ধ আবেগ             9  \n",
       "4     সিটিতেই ভোট হিসেব হয়নি যা হচ্ছে হাসিনার ইচ্ছে...            35  \n",
       "...                                                 ...           ...  \n",
       "5875  সুন্দর দু টি বাক্য জ্ঞানী হও তবে অহংকারী হইও ন...            18  \n",
       "5876                 বুঝতে পারছি না হৃদয় ভাঙার মানে বল             7  \n",
       "5877  আবারও তৃণমূলী দুস্কৃতিদের হাতে হত্যা হতে হলো ব...            23  \n",
       "5878  ঘুমের প্রস্তুত কিন্তু ঘুমের সমস্যা হচ্ছে নামই ...             8  \n",
       "5879  আজি ঝরো ঝরো মুখর বাদলদিনে জানি নে জানি নে কিছু...            26  \n",
       "\n",
       "[5880 rows x 4 columns]"
      ]
     },
     "execution_count": 309,
     "metadata": {},
     "output_type": "execute_result"
    }
   ],
   "source": [
    "data"
   ]
  },
  {
   "cell_type": "code",
   "execution_count": 310,
   "metadata": {},
   "outputs": [],
   "source": [
    "#data = open('D:\\\\CSE 497\\\\Bengali-Book-Reviews-master\\\\book_review_data.pkl','rb')\n",
    "#data = pickle.load(data)\n"
   ]
  },
  {
   "cell_type": "code",
   "execution_count": 311,
   "metadata": {},
   "outputs": [
    {
     "data": {
      "text/html": [
       "<div>\n",
       "<style scoped>\n",
       "    .dataframe tbody tr th:only-of-type {\n",
       "        vertical-align: middle;\n",
       "    }\n",
       "\n",
       "    .dataframe tbody tr th {\n",
       "        vertical-align: top;\n",
       "    }\n",
       "\n",
       "    .dataframe thead th {\n",
       "        text-align: right;\n",
       "    }\n",
       "</style>\n",
       "<table border=\"1\" class=\"dataframe\">\n",
       "  <thead>\n",
       "    <tr style=\"text-align: right;\">\n",
       "      <th></th>\n",
       "      <th>Review</th>\n",
       "      <th>Sentiment</th>\n",
       "      <th>cleaned</th>\n",
       "      <th>ReviewLength</th>\n",
       "    </tr>\n",
       "  </thead>\n",
       "  <tbody>\n",
       "    <tr>\n",
       "      <th>0</th>\n",
       "      <td>যে দেশে মানুষের মৃত্যুর খবর শুনে মন্ত্রী মহোদয...</td>\n",
       "      <td>Positive</td>\n",
       "      <td>দেশে মানুষের মৃত্যুর খবর শুনে মন্ত্রী মহোদয় হ...</td>\n",
       "      <td>40</td>\n",
       "    </tr>\n",
       "    <tr>\n",
       "      <th>1</th>\n",
       "      <td>জনগণের ভোট চুরি করে ক্ষমতায় আসা ওই নিয়ত আমাদ...</td>\n",
       "      <td>Negative</td>\n",
       "      <td>জনগণের ভোট চুরি ক্ষমতায় আসা ওই নিয়ত আমাদের ন...</td>\n",
       "      <td>28</td>\n",
       "    </tr>\n",
       "    <tr>\n",
       "      <th>2</th>\n",
       "      <td>নিকোটিনের ধোয়ায় সময় কাটে রাতে । রাতটা আমার ...</td>\n",
       "      <td>Positive</td>\n",
       "      <td>নিকোটিনের ধোয়ায় সময় কাটে রাতে রাতটা দিন দিন...</td>\n",
       "      <td>9</td>\n",
       "    </tr>\n",
       "    <tr>\n",
       "      <th>3</th>\n",
       "      <td>সবথেকে বড় যুদ্ধ হলো নিজের মনের সাথে যুদ্ধ আবেগ</td>\n",
       "      <td>Negative</td>\n",
       "      <td>সবথেকে বড় যুদ্ধ হলো নিজের মনের সাথে যুদ্ধ আবেগ</td>\n",
       "      <td>9</td>\n",
       "    </tr>\n",
       "    <tr>\n",
       "      <th>4</th>\n",
       "      <td>কোন সিটিতেই কোন ভোট হিসেব হয়নি যা হচ্ছে হাসিন...</td>\n",
       "      <td>Positive</td>\n",
       "      <td>সিটিতেই ভোট হিসেব হয়নি যা হচ্ছে হাসিনার ইচ্ছে...</td>\n",
       "      <td>35</td>\n",
       "    </tr>\n",
       "    <tr>\n",
       "      <th>...</th>\n",
       "      <td>...</td>\n",
       "      <td>...</td>\n",
       "      <td>...</td>\n",
       "      <td>...</td>\n",
       "    </tr>\n",
       "    <tr>\n",
       "      <th>5875</th>\n",
       "      <td>সুন্দর দু টি বাক্য জ্ঞানী হও তবে অহংকারী হইও ন...</td>\n",
       "      <td>Negative</td>\n",
       "      <td>সুন্দর দু টি বাক্য জ্ঞানী হও তবে অহংকারী হইও ন...</td>\n",
       "      <td>18</td>\n",
       "    </tr>\n",
       "    <tr>\n",
       "      <th>5876</th>\n",
       "      <td>আমি বুঝতে পারছি না যে আমার হৃদয় ভাঙার মানে কি...</td>\n",
       "      <td>Positive</td>\n",
       "      <td>বুঝতে পারছি না হৃদয় ভাঙার মানে বল</td>\n",
       "      <td>7</td>\n",
       "    </tr>\n",
       "    <tr>\n",
       "      <th>5877</th>\n",
       "      <td>আবারও তৃণমূলী দুস্কৃতিদের হাতে হত্যা হতে হলো ব...</td>\n",
       "      <td>Negative</td>\n",
       "      <td>আবারও তৃণমূলী দুস্কৃতিদের হাতে হত্যা হতে হলো ব...</td>\n",
       "      <td>23</td>\n",
       "    </tr>\n",
       "    <tr>\n",
       "      <th>5878</th>\n",
       "      <td>ঘুমের জন্য প্রস্তুত কিন্তু ঘুমের সমস্যা হচ্ছে ...</td>\n",
       "      <td>Positive</td>\n",
       "      <td>ঘুমের প্রস্তুত কিন্তু ঘুমের সমস্যা হচ্ছে নামই ...</td>\n",
       "      <td>8</td>\n",
       "    </tr>\n",
       "    <tr>\n",
       "      <th>5879</th>\n",
       "      <td>আজি ঝরো ঝরো মুখর বাদলদিনে জানি নে , জানি নে কি...</td>\n",
       "      <td>Negative</td>\n",
       "      <td>আজি ঝরো ঝরো মুখর বাদলদিনে জানি নে জানি নে কিছু...</td>\n",
       "      <td>26</td>\n",
       "    </tr>\n",
       "  </tbody>\n",
       "</table>\n",
       "<p>5880 rows × 4 columns</p>\n",
       "</div>"
      ],
      "text/plain": [
       "                                                 Review Sentiment  \\\n",
       "0     যে দেশে মানুষের মৃত্যুর খবর শুনে মন্ত্রী মহোদয...  Positive   \n",
       "1     জনগণের ভোট চুরি করে ক্ষমতায় আসা ওই নিয়ত আমাদ...  Negative   \n",
       "2     নিকোটিনের ধোয়ায় সময় কাটে রাতে । রাতটা আমার ...  Positive   \n",
       "3       সবথেকে বড় যুদ্ধ হলো নিজের মনের সাথে যুদ্ধ আবেগ  Negative   \n",
       "4     কোন সিটিতেই কোন ভোট হিসেব হয়নি যা হচ্ছে হাসিন...  Positive   \n",
       "...                                                 ...       ...   \n",
       "5875  সুন্দর দু টি বাক্য জ্ঞানী হও তবে অহংকারী হইও ন...  Negative   \n",
       "5876  আমি বুঝতে পারছি না যে আমার হৃদয় ভাঙার মানে কি...  Positive   \n",
       "5877  আবারও তৃণমূলী দুস্কৃতিদের হাতে হত্যা হতে হলো ব...  Negative   \n",
       "5878  ঘুমের জন্য প্রস্তুত কিন্তু ঘুমের সমস্যা হচ্ছে ...  Positive   \n",
       "5879  আজি ঝরো ঝরো মুখর বাদলদিনে জানি নে , জানি নে কি...  Negative   \n",
       "\n",
       "                                                cleaned  ReviewLength  \n",
       "0     দেশে মানুষের মৃত্যুর খবর শুনে মন্ত্রী মহোদয় হ...            40  \n",
       "1     জনগণের ভোট চুরি ক্ষমতায় আসা ওই নিয়ত আমাদের ন...            28  \n",
       "2     নিকোটিনের ধোয়ায় সময় কাটে রাতে রাতটা দিন দিন...             9  \n",
       "3       সবথেকে বড় যুদ্ধ হলো নিজের মনের সাথে যুদ্ধ আবেগ             9  \n",
       "4     সিটিতেই ভোট হিসেব হয়নি যা হচ্ছে হাসিনার ইচ্ছে...            35  \n",
       "...                                                 ...           ...  \n",
       "5875  সুন্দর দু টি বাক্য জ্ঞানী হও তবে অহংকারী হইও ন...            18  \n",
       "5876                 বুঝতে পারছি না হৃদয় ভাঙার মানে বল             7  \n",
       "5877  আবারও তৃণমূলী দুস্কৃতিদের হাতে হত্যা হতে হলো ব...            23  \n",
       "5878  ঘুমের প্রস্তুত কিন্তু ঘুমের সমস্যা হচ্ছে নামই ...             8  \n",
       "5879  আজি ঝরো ঝরো মুখর বাদলদিনে জানি নে জানি নে কিছু...            26  \n",
       "\n",
       "[5880 rows x 4 columns]"
      ]
     },
     "execution_count": 311,
     "metadata": {},
     "output_type": "execute_result"
    }
   ],
   "source": [
    "data"
   ]
  },
  {
   "cell_type": "code",
   "execution_count": 315,
   "metadata": {},
   "outputs": [],
   "source": [
    "stp = open(stopwords_list,'r', encoding='iso-8859-1').read().split()#encoding='utf-8').read().split()\n",
    "# pickle stopwords\n",
    "import pickle\n",
    "# open a file, where you ant to store the data\n",
    "file = open('D:\\\\CSE 497\\\\497 Done S\\\\Dataset and Notebook\\\\book_stopwords.pkl', 'wb')\n",
    "\n",
    "# dump information to that file\n",
    "pickle.dump(stp, file)"
   ]
  },
  {
   "cell_type": "code",
   "execution_count": 316,
   "metadata": {},
   "outputs": [
    {
     "data": {
      "text/html": [
       "<div>\n",
       "<style scoped>\n",
       "    .dataframe tbody tr th:only-of-type {\n",
       "        vertical-align: middle;\n",
       "    }\n",
       "\n",
       "    .dataframe tbody tr th {\n",
       "        vertical-align: top;\n",
       "    }\n",
       "\n",
       "    .dataframe thead th {\n",
       "        text-align: right;\n",
       "    }\n",
       "</style>\n",
       "<table border=\"1\" class=\"dataframe\">\n",
       "  <thead>\n",
       "    <tr style=\"text-align: right;\">\n",
       "      <th></th>\n",
       "      <th>Review</th>\n",
       "      <th>Sentiment</th>\n",
       "      <th>cleaned</th>\n",
       "      <th>ReviewLength</th>\n",
       "    </tr>\n",
       "  </thead>\n",
       "  <tbody>\n",
       "    <tr>\n",
       "      <th>0</th>\n",
       "      <td>যে দেশে মানুষের মৃত্যুর খবর শুনে মন্ত্রী মহোদয...</td>\n",
       "      <td>Positive</td>\n",
       "      <td>দেশে মানুষের মৃত্যুর খবর শুনে মন্ত্রী মহোদয় হ...</td>\n",
       "      <td>40</td>\n",
       "    </tr>\n",
       "    <tr>\n",
       "      <th>1</th>\n",
       "      <td>জনগণের ভোট চুরি করে ক্ষমতায় আসা ওই নিয়ত আমাদ...</td>\n",
       "      <td>Negative</td>\n",
       "      <td>জনগণের ভোট চুরি ক্ষমতায় আসা ওই নিয়ত আমাদের ন...</td>\n",
       "      <td>28</td>\n",
       "    </tr>\n",
       "    <tr>\n",
       "      <th>2</th>\n",
       "      <td>নিকোটিনের ধোয়ায় সময় কাটে রাতে । রাতটা আমার ...</td>\n",
       "      <td>Positive</td>\n",
       "      <td>নিকোটিনের ধোয়ায় সময় কাটে রাতে রাতটা দিন দিন...</td>\n",
       "      <td>9</td>\n",
       "    </tr>\n",
       "    <tr>\n",
       "      <th>3</th>\n",
       "      <td>সবথেকে বড় যুদ্ধ হলো নিজের মনের সাথে যুদ্ধ আবেগ</td>\n",
       "      <td>Negative</td>\n",
       "      <td>সবথেকে বড় যুদ্ধ হলো নিজের মনের সাথে যুদ্ধ আবেগ</td>\n",
       "      <td>9</td>\n",
       "    </tr>\n",
       "    <tr>\n",
       "      <th>4</th>\n",
       "      <td>কোন সিটিতেই কোন ভোট হিসেব হয়নি যা হচ্ছে হাসিন...</td>\n",
       "      <td>Positive</td>\n",
       "      <td>সিটিতেই ভোট হিসেব হয়নি যা হচ্ছে হাসিনার ইচ্ছে...</td>\n",
       "      <td>35</td>\n",
       "    </tr>\n",
       "    <tr>\n",
       "      <th>...</th>\n",
       "      <td>...</td>\n",
       "      <td>...</td>\n",
       "      <td>...</td>\n",
       "      <td>...</td>\n",
       "    </tr>\n",
       "    <tr>\n",
       "      <th>5875</th>\n",
       "      <td>সুন্দর দু টি বাক্য জ্ঞানী হও তবে অহংকারী হইও ন...</td>\n",
       "      <td>Negative</td>\n",
       "      <td>সুন্দর দু টি বাক্য জ্ঞানী হও তবে অহংকারী হইও ন...</td>\n",
       "      <td>18</td>\n",
       "    </tr>\n",
       "    <tr>\n",
       "      <th>5876</th>\n",
       "      <td>আমি বুঝতে পারছি না যে আমার হৃদয় ভাঙার মানে কি...</td>\n",
       "      <td>Positive</td>\n",
       "      <td>বুঝতে পারছি না হৃদয় ভাঙার মানে বল</td>\n",
       "      <td>7</td>\n",
       "    </tr>\n",
       "    <tr>\n",
       "      <th>5877</th>\n",
       "      <td>আবারও তৃণমূলী দুস্কৃতিদের হাতে হত্যা হতে হলো ব...</td>\n",
       "      <td>Negative</td>\n",
       "      <td>আবারও তৃণমূলী দুস্কৃতিদের হাতে হত্যা হতে হলো ব...</td>\n",
       "      <td>23</td>\n",
       "    </tr>\n",
       "    <tr>\n",
       "      <th>5878</th>\n",
       "      <td>ঘুমের জন্য প্রস্তুত কিন্তু ঘুমের সমস্যা হচ্ছে ...</td>\n",
       "      <td>Positive</td>\n",
       "      <td>ঘুমের প্রস্তুত কিন্তু ঘুমের সমস্যা হচ্ছে নামই ...</td>\n",
       "      <td>8</td>\n",
       "    </tr>\n",
       "    <tr>\n",
       "      <th>5879</th>\n",
       "      <td>আজি ঝরো ঝরো মুখর বাদলদিনে জানি নে , জানি নে কি...</td>\n",
       "      <td>Negative</td>\n",
       "      <td>আজি ঝরো ঝরো মুখর বাদলদিনে জানি নে জানি নে কিছু...</td>\n",
       "      <td>26</td>\n",
       "    </tr>\n",
       "  </tbody>\n",
       "</table>\n",
       "<p>5880 rows × 4 columns</p>\n",
       "</div>"
      ],
      "text/plain": [
       "                                                 Review Sentiment  \\\n",
       "0     যে দেশে মানুষের মৃত্যুর খবর শুনে মন্ত্রী মহোদয...  Positive   \n",
       "1     জনগণের ভোট চুরি করে ক্ষমতায় আসা ওই নিয়ত আমাদ...  Negative   \n",
       "2     নিকোটিনের ধোয়ায় সময় কাটে রাতে । রাতটা আমার ...  Positive   \n",
       "3       সবথেকে বড় যুদ্ধ হলো নিজের মনের সাথে যুদ্ধ আবেগ  Negative   \n",
       "4     কোন সিটিতেই কোন ভোট হিসেব হয়নি যা হচ্ছে হাসিন...  Positive   \n",
       "...                                                 ...       ...   \n",
       "5875  সুন্দর দু টি বাক্য জ্ঞানী হও তবে অহংকারী হইও ন...  Negative   \n",
       "5876  আমি বুঝতে পারছি না যে আমার হৃদয় ভাঙার মানে কি...  Positive   \n",
       "5877  আবারও তৃণমূলী দুস্কৃতিদের হাতে হত্যা হতে হলো ব...  Negative   \n",
       "5878  ঘুমের জন্য প্রস্তুত কিন্তু ঘুমের সমস্যা হচ্ছে ...  Positive   \n",
       "5879  আজি ঝরো ঝরো মুখর বাদলদিনে জানি নে , জানি নে কি...  Negative   \n",
       "\n",
       "                                                cleaned  ReviewLength  \n",
       "0     দেশে মানুষের মৃত্যুর খবর শুনে মন্ত্রী মহোদয় হ...            40  \n",
       "1     জনগণের ভোট চুরি ক্ষমতায় আসা ওই নিয়ত আমাদের ন...            28  \n",
       "2     নিকোটিনের ধোয়ায় সময় কাটে রাতে রাতটা দিন দিন...             9  \n",
       "3       সবথেকে বড় যুদ্ধ হলো নিজের মনের সাথে যুদ্ধ আবেগ             9  \n",
       "4     সিটিতেই ভোট হিসেব হয়নি যা হচ্ছে হাসিনার ইচ্ছে...            35  \n",
       "...                                                 ...           ...  \n",
       "5875  সুন্দর দু টি বাক্য জ্ঞানী হও তবে অহংকারী হইও ন...            18  \n",
       "5876                 বুঝতে পারছি না হৃদয় ভাঙার মানে বল             7  \n",
       "5877  আবারও তৃণমূলী দুস্কৃতিদের হাতে হত্যা হতে হলো ব...            23  \n",
       "5878  ঘুমের প্রস্তুত কিন্তু ঘুমের সমস্যা হচ্ছে নামই ...             8  \n",
       "5879  আজি ঝরো ঝরো মুখর বাদলদিনে জানি নে জানি নে কিছু...            26  \n",
       "\n",
       "[5880 rows x 4 columns]"
      ]
     },
     "execution_count": 316,
     "metadata": {},
     "output_type": "execute_result"
    }
   ],
   "source": [
    "data"
   ]
  },
  {
   "cell_type": "code",
   "execution_count": 317,
   "metadata": {},
   "outputs": [],
   "source": [
    "data1 = open('D:\\\\CSE 497\\\\497 Done S\\\\Dataset and Notebook\\\\book_stopwords.pkl','rb')\n",
    "#data1 = pickle.load(data1)\n",
    "data1 = pickle.load(data1)\n",
    "\n",
    "#while True: #check for end of file\n",
    "    #try:\n",
    "       # data1.append(pickle.load(data1)) # append record from file to end of list\n",
    "    #except EOFError:\n",
    "     #   break\n",
    "#data1.close()\n"
   ]
  },
  {
   "cell_type": "code",
   "execution_count": 318,
   "metadata": {},
   "outputs": [
    {
     "data": {
      "text/html": [
       "<div>\n",
       "<style scoped>\n",
       "    .dataframe tbody tr th:only-of-type {\n",
       "        vertical-align: middle;\n",
       "    }\n",
       "\n",
       "    .dataframe tbody tr th {\n",
       "        vertical-align: top;\n",
       "    }\n",
       "\n",
       "    .dataframe thead th {\n",
       "        text-align: right;\n",
       "    }\n",
       "</style>\n",
       "<table border=\"1\" class=\"dataframe\">\n",
       "  <thead>\n",
       "    <tr style=\"text-align: right;\">\n",
       "      <th></th>\n",
       "      <th>Review</th>\n",
       "      <th>Sentiment</th>\n",
       "      <th>cleaned</th>\n",
       "      <th>ReviewLength</th>\n",
       "    </tr>\n",
       "  </thead>\n",
       "  <tbody>\n",
       "    <tr>\n",
       "      <th>0</th>\n",
       "      <td>যে দেশে মানুষের মৃত্যুর খবর শুনে মন্ত্রী মহোদয...</td>\n",
       "      <td>Positive</td>\n",
       "      <td>দেশে মানুষের মৃত্যুর খবর শুনে মন্ত্রী মহোদয় হ...</td>\n",
       "      <td>40</td>\n",
       "    </tr>\n",
       "    <tr>\n",
       "      <th>1</th>\n",
       "      <td>জনগণের ভোট চুরি করে ক্ষমতায় আসা ওই নিয়ত আমাদ...</td>\n",
       "      <td>Negative</td>\n",
       "      <td>জনগণের ভোট চুরি ক্ষমতায় আসা ওই নিয়ত আমাদের ন...</td>\n",
       "      <td>28</td>\n",
       "    </tr>\n",
       "    <tr>\n",
       "      <th>2</th>\n",
       "      <td>নিকোটিনের ধোয়ায় সময় কাটে রাতে । রাতটা আমার ...</td>\n",
       "      <td>Positive</td>\n",
       "      <td>নিকোটিনের ধোয়ায় সময় কাটে রাতে রাতটা দিন দিন...</td>\n",
       "      <td>9</td>\n",
       "    </tr>\n",
       "    <tr>\n",
       "      <th>3</th>\n",
       "      <td>সবথেকে বড় যুদ্ধ হলো নিজের মনের সাথে যুদ্ধ আবেগ</td>\n",
       "      <td>Negative</td>\n",
       "      <td>সবথেকে বড় যুদ্ধ হলো নিজের মনের সাথে যুদ্ধ আবেগ</td>\n",
       "      <td>9</td>\n",
       "    </tr>\n",
       "    <tr>\n",
       "      <th>4</th>\n",
       "      <td>কোন সিটিতেই কোন ভোট হিসেব হয়নি যা হচ্ছে হাসিন...</td>\n",
       "      <td>Positive</td>\n",
       "      <td>সিটিতেই ভোট হিসেব হয়নি যা হচ্ছে হাসিনার ইচ্ছে...</td>\n",
       "      <td>35</td>\n",
       "    </tr>\n",
       "    <tr>\n",
       "      <th>...</th>\n",
       "      <td>...</td>\n",
       "      <td>...</td>\n",
       "      <td>...</td>\n",
       "      <td>...</td>\n",
       "    </tr>\n",
       "    <tr>\n",
       "      <th>5875</th>\n",
       "      <td>সুন্দর দু টি বাক্য জ্ঞানী হও তবে অহংকারী হইও ন...</td>\n",
       "      <td>Negative</td>\n",
       "      <td>সুন্দর দু টি বাক্য জ্ঞানী হও তবে অহংকারী হইও ন...</td>\n",
       "      <td>18</td>\n",
       "    </tr>\n",
       "    <tr>\n",
       "      <th>5876</th>\n",
       "      <td>আমি বুঝতে পারছি না যে আমার হৃদয় ভাঙার মানে কি...</td>\n",
       "      <td>Positive</td>\n",
       "      <td>বুঝতে পারছি না হৃদয় ভাঙার মানে বল</td>\n",
       "      <td>7</td>\n",
       "    </tr>\n",
       "    <tr>\n",
       "      <th>5877</th>\n",
       "      <td>আবারও তৃণমূলী দুস্কৃতিদের হাতে হত্যা হতে হলো ব...</td>\n",
       "      <td>Negative</td>\n",
       "      <td>আবারও তৃণমূলী দুস্কৃতিদের হাতে হত্যা হতে হলো ব...</td>\n",
       "      <td>23</td>\n",
       "    </tr>\n",
       "    <tr>\n",
       "      <th>5878</th>\n",
       "      <td>ঘুমের জন্য প্রস্তুত কিন্তু ঘুমের সমস্যা হচ্ছে ...</td>\n",
       "      <td>Positive</td>\n",
       "      <td>ঘুমের প্রস্তুত কিন্তু ঘুমের সমস্যা হচ্ছে নামই ...</td>\n",
       "      <td>8</td>\n",
       "    </tr>\n",
       "    <tr>\n",
       "      <th>5879</th>\n",
       "      <td>আজি ঝরো ঝরো মুখর বাদলদিনে জানি নে , জানি নে কি...</td>\n",
       "      <td>Negative</td>\n",
       "      <td>আজি ঝরো ঝরো মুখর বাদলদিনে জানি নে জানি নে কিছু...</td>\n",
       "      <td>26</td>\n",
       "    </tr>\n",
       "  </tbody>\n",
       "</table>\n",
       "<p>5880 rows × 4 columns</p>\n",
       "</div>"
      ],
      "text/plain": [
       "                                                 Review Sentiment  \\\n",
       "0     যে দেশে মানুষের মৃত্যুর খবর শুনে মন্ত্রী মহোদয...  Positive   \n",
       "1     জনগণের ভোট চুরি করে ক্ষমতায় আসা ওই নিয়ত আমাদ...  Negative   \n",
       "2     নিকোটিনের ধোয়ায় সময় কাটে রাতে । রাতটা আমার ...  Positive   \n",
       "3       সবথেকে বড় যুদ্ধ হলো নিজের মনের সাথে যুদ্ধ আবেগ  Negative   \n",
       "4     কোন সিটিতেই কোন ভোট হিসেব হয়নি যা হচ্ছে হাসিন...  Positive   \n",
       "...                                                 ...       ...   \n",
       "5875  সুন্দর দু টি বাক্য জ্ঞানী হও তবে অহংকারী হইও ন...  Negative   \n",
       "5876  আমি বুঝতে পারছি না যে আমার হৃদয় ভাঙার মানে কি...  Positive   \n",
       "5877  আবারও তৃণমূলী দুস্কৃতিদের হাতে হত্যা হতে হলো ব...  Negative   \n",
       "5878  ঘুমের জন্য প্রস্তুত কিন্তু ঘুমের সমস্যা হচ্ছে ...  Positive   \n",
       "5879  আজি ঝরো ঝরো মুখর বাদলদিনে জানি নে , জানি নে কি...  Negative   \n",
       "\n",
       "                                                cleaned  ReviewLength  \n",
       "0     দেশে মানুষের মৃত্যুর খবর শুনে মন্ত্রী মহোদয় হ...            40  \n",
       "1     জনগণের ভোট চুরি ক্ষমতায় আসা ওই নিয়ত আমাদের ন...            28  \n",
       "2     নিকোটিনের ধোয়ায় সময় কাটে রাতে রাতটা দিন দিন...             9  \n",
       "3       সবথেকে বড় যুদ্ধ হলো নিজের মনের সাথে যুদ্ধ আবেগ             9  \n",
       "4     সিটিতেই ভোট হিসেব হয়নি যা হচ্ছে হাসিনার ইচ্ছে...            35  \n",
       "...                                                 ...           ...  \n",
       "5875  সুন্দর দু টি বাক্য জ্ঞানী হও তবে অহংকারী হইও ন...            18  \n",
       "5876                 বুঝতে পারছি না হৃদয় ভাঙার মানে বল             7  \n",
       "5877  আবারও তৃণমূলী দুস্কৃতিদের হাতে হত্যা হতে হলো ব...            23  \n",
       "5878  ঘুমের প্রস্তুত কিন্তু ঘুমের সমস্যা হচ্ছে নামই ...             8  \n",
       "5879  আজি ঝরো ঝরো মুখর বাদলদিনে জানি নে জানি নে কিছু...            26  \n",
       "\n",
       "[5880 rows x 4 columns]"
      ]
     },
     "execution_count": 318,
     "metadata": {},
     "output_type": "execute_result"
    }
   ],
   "source": [
    "data"
   ]
  },
  {
   "cell_type": "markdown",
   "metadata": {},
   "source": [
    "## Feature Extraction Using TF-IDF"
   ]
  },
  {
   "cell_type": "code",
   "execution_count": 319,
   "metadata": {},
   "outputs": [],
   "source": [
    "from utils import calc_unigram_tfidf,calc_bigram_tfidf,calc_trigram_tfidf,show_tfidf"
   ]
  },
  {
   "cell_type": "code",
   "execution_count": 320,
   "metadata": {},
   "outputs": [
    {
     "name": "stdout",
     "output_type": "stream",
     "text": [
      "Review          object\n",
      "Sentiment       object\n",
      "cleaned         object\n",
      "ReviewLength     int64\n",
      "dtype: object\n"
     ]
    }
   ],
   "source": [
    "print(data.dtypes)"
   ]
  },
  {
   "cell_type": "code",
   "execution_count": 321,
   "metadata": {},
   "outputs": [
    {
     "data": {
      "text/html": [
       "<div>\n",
       "<style scoped>\n",
       "    .dataframe tbody tr th:only-of-type {\n",
       "        vertical-align: middle;\n",
       "    }\n",
       "\n",
       "    .dataframe tbody tr th {\n",
       "        vertical-align: top;\n",
       "    }\n",
       "\n",
       "    .dataframe thead th {\n",
       "        text-align: right;\n",
       "    }\n",
       "</style>\n",
       "<table border=\"1\" class=\"dataframe\">\n",
       "  <thead>\n",
       "    <tr style=\"text-align: right;\">\n",
       "      <th></th>\n",
       "      <th>Review</th>\n",
       "      <th>Sentiment</th>\n",
       "      <th>cleaned</th>\n",
       "      <th>ReviewLength</th>\n",
       "    </tr>\n",
       "  </thead>\n",
       "  <tbody>\n",
       "    <tr>\n",
       "      <th>0</th>\n",
       "      <td>যে দেশে মানুষের মৃত্যুর খবর শুনে মন্ত্রী মহোদয...</td>\n",
       "      <td>Positive</td>\n",
       "      <td>দেশে মানুষের মৃত্যুর খবর শুনে মন্ত্রী মহোদয় হ...</td>\n",
       "      <td>40</td>\n",
       "    </tr>\n",
       "    <tr>\n",
       "      <th>1</th>\n",
       "      <td>জনগণের ভোট চুরি করে ক্ষমতায় আসা ওই নিয়ত আমাদ...</td>\n",
       "      <td>Negative</td>\n",
       "      <td>জনগণের ভোট চুরি ক্ষমতায় আসা ওই নিয়ত আমাদের ন...</td>\n",
       "      <td>28</td>\n",
       "    </tr>\n",
       "    <tr>\n",
       "      <th>2</th>\n",
       "      <td>নিকোটিনের ধোয়ায় সময় কাটে রাতে । রাতটা আমার ...</td>\n",
       "      <td>Positive</td>\n",
       "      <td>নিকোটিনের ধোয়ায় সময় কাটে রাতে রাতটা দিন দিন...</td>\n",
       "      <td>9</td>\n",
       "    </tr>\n",
       "    <tr>\n",
       "      <th>3</th>\n",
       "      <td>সবথেকে বড় যুদ্ধ হলো নিজের মনের সাথে যুদ্ধ আবেগ</td>\n",
       "      <td>Negative</td>\n",
       "      <td>সবথেকে বড় যুদ্ধ হলো নিজের মনের সাথে যুদ্ধ আবেগ</td>\n",
       "      <td>9</td>\n",
       "    </tr>\n",
       "    <tr>\n",
       "      <th>4</th>\n",
       "      <td>কোন সিটিতেই কোন ভোট হিসেব হয়নি যা হচ্ছে হাসিন...</td>\n",
       "      <td>Positive</td>\n",
       "      <td>সিটিতেই ভোট হিসেব হয়নি যা হচ্ছে হাসিনার ইচ্ছে...</td>\n",
       "      <td>35</td>\n",
       "    </tr>\n",
       "    <tr>\n",
       "      <th>...</th>\n",
       "      <td>...</td>\n",
       "      <td>...</td>\n",
       "      <td>...</td>\n",
       "      <td>...</td>\n",
       "    </tr>\n",
       "    <tr>\n",
       "      <th>5875</th>\n",
       "      <td>সুন্দর দু টি বাক্য জ্ঞানী হও তবে অহংকারী হইও ন...</td>\n",
       "      <td>Negative</td>\n",
       "      <td>সুন্দর দু টি বাক্য জ্ঞানী হও তবে অহংকারী হইও ন...</td>\n",
       "      <td>18</td>\n",
       "    </tr>\n",
       "    <tr>\n",
       "      <th>5876</th>\n",
       "      <td>আমি বুঝতে পারছি না যে আমার হৃদয় ভাঙার মানে কি...</td>\n",
       "      <td>Positive</td>\n",
       "      <td>বুঝতে পারছি না হৃদয় ভাঙার মানে বল</td>\n",
       "      <td>7</td>\n",
       "    </tr>\n",
       "    <tr>\n",
       "      <th>5877</th>\n",
       "      <td>আবারও তৃণমূলী দুস্কৃতিদের হাতে হত্যা হতে হলো ব...</td>\n",
       "      <td>Negative</td>\n",
       "      <td>আবারও তৃণমূলী দুস্কৃতিদের হাতে হত্যা হতে হলো ব...</td>\n",
       "      <td>23</td>\n",
       "    </tr>\n",
       "    <tr>\n",
       "      <th>5878</th>\n",
       "      <td>ঘুমের জন্য প্রস্তুত কিন্তু ঘুমের সমস্যা হচ্ছে ...</td>\n",
       "      <td>Positive</td>\n",
       "      <td>ঘুমের প্রস্তুত কিন্তু ঘুমের সমস্যা হচ্ছে নামই ...</td>\n",
       "      <td>8</td>\n",
       "    </tr>\n",
       "    <tr>\n",
       "      <th>5879</th>\n",
       "      <td>আজি ঝরো ঝরো মুখর বাদলদিনে জানি নে , জানি নে কি...</td>\n",
       "      <td>Negative</td>\n",
       "      <td>আজি ঝরো ঝরো মুখর বাদলদিনে জানি নে জানি নে কিছু...</td>\n",
       "      <td>26</td>\n",
       "    </tr>\n",
       "  </tbody>\n",
       "</table>\n",
       "<p>5880 rows × 4 columns</p>\n",
       "</div>"
      ],
      "text/plain": [
       "                                                 Review Sentiment  \\\n",
       "0     যে দেশে মানুষের মৃত্যুর খবর শুনে মন্ত্রী মহোদয...  Positive   \n",
       "1     জনগণের ভোট চুরি করে ক্ষমতায় আসা ওই নিয়ত আমাদ...  Negative   \n",
       "2     নিকোটিনের ধোয়ায় সময় কাটে রাতে । রাতটা আমার ...  Positive   \n",
       "3       সবথেকে বড় যুদ্ধ হলো নিজের মনের সাথে যুদ্ধ আবেগ  Negative   \n",
       "4     কোন সিটিতেই কোন ভোট হিসেব হয়নি যা হচ্ছে হাসিন...  Positive   \n",
       "...                                                 ...       ...   \n",
       "5875  সুন্দর দু টি বাক্য জ্ঞানী হও তবে অহংকারী হইও ন...  Negative   \n",
       "5876  আমি বুঝতে পারছি না যে আমার হৃদয় ভাঙার মানে কি...  Positive   \n",
       "5877  আবারও তৃণমূলী দুস্কৃতিদের হাতে হত্যা হতে হলো ব...  Negative   \n",
       "5878  ঘুমের জন্য প্রস্তুত কিন্তু ঘুমের সমস্যা হচ্ছে ...  Positive   \n",
       "5879  আজি ঝরো ঝরো মুখর বাদলদিনে জানি নে , জানি নে কি...  Negative   \n",
       "\n",
       "                                                cleaned  ReviewLength  \n",
       "0     দেশে মানুষের মৃত্যুর খবর শুনে মন্ত্রী মহোদয় হ...            40  \n",
       "1     জনগণের ভোট চুরি ক্ষমতায় আসা ওই নিয়ত আমাদের ন...            28  \n",
       "2     নিকোটিনের ধোয়ায় সময় কাটে রাতে রাতটা দিন দিন...             9  \n",
       "3       সবথেকে বড় যুদ্ধ হলো নিজের মনের সাথে যুদ্ধ আবেগ             9  \n",
       "4     সিটিতেই ভোট হিসেব হয়নি যা হচ্ছে হাসিনার ইচ্ছে...            35  \n",
       "...                                                 ...           ...  \n",
       "5875  সুন্দর দু টি বাক্য জ্ঞানী হও তবে অহংকারী হইও ন...            18  \n",
       "5876                 বুঝতে পারছি না হৃদয় ভাঙার মানে বল             7  \n",
       "5877  আবারও তৃণমূলী দুস্কৃতিদের হাতে হত্যা হতে হলো ব...            23  \n",
       "5878  ঘুমের প্রস্তুত কিন্তু ঘুমের সমস্যা হচ্ছে নামই ...             8  \n",
       "5879  আজি ঝরো ঝরো মুখর বাদলদিনে জানি নে জানি নে কিছু...            26  \n",
       "\n",
       "[5880 rows x 4 columns]"
      ]
     },
     "execution_count": 321,
     "metadata": {},
     "output_type": "execute_result"
    }
   ],
   "source": [
    "data"
   ]
  },
  {
   "cell_type": "markdown",
   "metadata": {},
   "source": [
    "del data['Unnamed: 0']"
   ]
  },
  {
   "cell_type": "code",
   "execution_count": 322,
   "metadata": {},
   "outputs": [],
   "source": [
    "data.cleaned=data.cleaned.astype(str)"
   ]
  },
  {
   "cell_type": "code",
   "execution_count": 323,
   "metadata": {},
   "outputs": [
    {
     "name": "stdout",
     "output_type": "stream",
     "text": [
      "Review          object\n",
      "Sentiment       object\n",
      "cleaned         object\n",
      "ReviewLength     int64\n",
      "dtype: object\n"
     ]
    }
   ],
   "source": [
    "print(data.dtypes)"
   ]
  },
  {
   "cell_type": "code",
   "execution_count": 324,
   "metadata": {},
   "outputs": [
    {
     "name": "stdout",
     "output_type": "stream",
     "text": [
      "Shape of TF-IDF Corpus =====> (5880, 7826) \n",
      "\n",
      "Sample Review:  বইটা ফালতু\n",
      "      tfidf\n",
      "বইটা    1.0\n",
      "ঃ       0.0\n"
     ]
    }
   ],
   "source": [
    "tweet= 'বইটা ফালতু'\n",
    "cv,feature_vector = calc_unigram_tfidf(data.cleaned)  \n",
    "print(\"Shape of TF-IDF Corpus =====>\",feature_vector.shape,'\\n')\n",
    "show_tfidf(cv,tweet)\n",
    "#first_vector = tfidf.transform([samp_review]).toarray()"
   ]
  },
  {
   "cell_type": "code",
   "execution_count": 325,
   "metadata": {},
   "outputs": [],
   "source": [
    "#help(calc_unigram_tfidf)"
   ]
  },
  {
   "cell_type": "code",
   "execution_count": 326,
   "metadata": {},
   "outputs": [
    {
     "data": {
      "text/html": [
       "<div>\n",
       "<style scoped>\n",
       "    .dataframe tbody tr th:only-of-type {\n",
       "        vertical-align: middle;\n",
       "    }\n",
       "\n",
       "    .dataframe tbody tr th {\n",
       "        vertical-align: top;\n",
       "    }\n",
       "\n",
       "    .dataframe thead th {\n",
       "        text-align: right;\n",
       "    }\n",
       "</style>\n",
       "<table border=\"1\" class=\"dataframe\">\n",
       "  <thead>\n",
       "    <tr style=\"text-align: right;\">\n",
       "      <th></th>\n",
       "      <th>Review</th>\n",
       "      <th>Sentiment</th>\n",
       "      <th>cleaned</th>\n",
       "      <th>ReviewLength</th>\n",
       "    </tr>\n",
       "  </thead>\n",
       "  <tbody>\n",
       "    <tr>\n",
       "      <th>0</th>\n",
       "      <td>যে দেশে মানুষের মৃত্যুর খবর শুনে মন্ত্রী মহোদয...</td>\n",
       "      <td>Positive</td>\n",
       "      <td>দেশে মানুষের মৃত্যুর খবর শুনে মন্ত্রী মহোদয় হ...</td>\n",
       "      <td>40</td>\n",
       "    </tr>\n",
       "    <tr>\n",
       "      <th>1</th>\n",
       "      <td>জনগণের ভোট চুরি করে ক্ষমতায় আসা ওই নিয়ত আমাদ...</td>\n",
       "      <td>Negative</td>\n",
       "      <td>জনগণের ভোট চুরি ক্ষমতায় আসা ওই নিয়ত আমাদের ন...</td>\n",
       "      <td>28</td>\n",
       "    </tr>\n",
       "    <tr>\n",
       "      <th>2</th>\n",
       "      <td>নিকোটিনের ধোয়ায় সময় কাটে রাতে । রাতটা আমার ...</td>\n",
       "      <td>Positive</td>\n",
       "      <td>নিকোটিনের ধোয়ায় সময় কাটে রাতে রাতটা দিন দিন...</td>\n",
       "      <td>9</td>\n",
       "    </tr>\n",
       "    <tr>\n",
       "      <th>3</th>\n",
       "      <td>সবথেকে বড় যুদ্ধ হলো নিজের মনের সাথে যুদ্ধ আবেগ</td>\n",
       "      <td>Negative</td>\n",
       "      <td>সবথেকে বড় যুদ্ধ হলো নিজের মনের সাথে যুদ্ধ আবেগ</td>\n",
       "      <td>9</td>\n",
       "    </tr>\n",
       "    <tr>\n",
       "      <th>4</th>\n",
       "      <td>কোন সিটিতেই কোন ভোট হিসেব হয়নি যা হচ্ছে হাসিন...</td>\n",
       "      <td>Positive</td>\n",
       "      <td>সিটিতেই ভোট হিসেব হয়নি যা হচ্ছে হাসিনার ইচ্ছে...</td>\n",
       "      <td>35</td>\n",
       "    </tr>\n",
       "    <tr>\n",
       "      <th>...</th>\n",
       "      <td>...</td>\n",
       "      <td>...</td>\n",
       "      <td>...</td>\n",
       "      <td>...</td>\n",
       "    </tr>\n",
       "    <tr>\n",
       "      <th>5875</th>\n",
       "      <td>সুন্দর দু টি বাক্য জ্ঞানী হও তবে অহংকারী হইও ন...</td>\n",
       "      <td>Negative</td>\n",
       "      <td>সুন্দর দু টি বাক্য জ্ঞানী হও তবে অহংকারী হইও ন...</td>\n",
       "      <td>18</td>\n",
       "    </tr>\n",
       "    <tr>\n",
       "      <th>5876</th>\n",
       "      <td>আমি বুঝতে পারছি না যে আমার হৃদয় ভাঙার মানে কি...</td>\n",
       "      <td>Positive</td>\n",
       "      <td>বুঝতে পারছি না হৃদয় ভাঙার মানে বল</td>\n",
       "      <td>7</td>\n",
       "    </tr>\n",
       "    <tr>\n",
       "      <th>5877</th>\n",
       "      <td>আবারও তৃণমূলী দুস্কৃতিদের হাতে হত্যা হতে হলো ব...</td>\n",
       "      <td>Negative</td>\n",
       "      <td>আবারও তৃণমূলী দুস্কৃতিদের হাতে হত্যা হতে হলো ব...</td>\n",
       "      <td>23</td>\n",
       "    </tr>\n",
       "    <tr>\n",
       "      <th>5878</th>\n",
       "      <td>ঘুমের জন্য প্রস্তুত কিন্তু ঘুমের সমস্যা হচ্ছে ...</td>\n",
       "      <td>Positive</td>\n",
       "      <td>ঘুমের প্রস্তুত কিন্তু ঘুমের সমস্যা হচ্ছে নামই ...</td>\n",
       "      <td>8</td>\n",
       "    </tr>\n",
       "    <tr>\n",
       "      <th>5879</th>\n",
       "      <td>আজি ঝরো ঝরো মুখর বাদলদিনে জানি নে , জানি নে কি...</td>\n",
       "      <td>Negative</td>\n",
       "      <td>আজি ঝরো ঝরো মুখর বাদলদিনে জানি নে জানি নে কিছু...</td>\n",
       "      <td>26</td>\n",
       "    </tr>\n",
       "  </tbody>\n",
       "</table>\n",
       "<p>5880 rows × 4 columns</p>\n",
       "</div>"
      ],
      "text/plain": [
       "                                                 Review Sentiment  \\\n",
       "0     যে দেশে মানুষের মৃত্যুর খবর শুনে মন্ত্রী মহোদয...  Positive   \n",
       "1     জনগণের ভোট চুরি করে ক্ষমতায় আসা ওই নিয়ত আমাদ...  Negative   \n",
       "2     নিকোটিনের ধোয়ায় সময় কাটে রাতে । রাতটা আমার ...  Positive   \n",
       "3       সবথেকে বড় যুদ্ধ হলো নিজের মনের সাথে যুদ্ধ আবেগ  Negative   \n",
       "4     কোন সিটিতেই কোন ভোট হিসেব হয়নি যা হচ্ছে হাসিন...  Positive   \n",
       "...                                                 ...       ...   \n",
       "5875  সুন্দর দু টি বাক্য জ্ঞানী হও তবে অহংকারী হইও ন...  Negative   \n",
       "5876  আমি বুঝতে পারছি না যে আমার হৃদয় ভাঙার মানে কি...  Positive   \n",
       "5877  আবারও তৃণমূলী দুস্কৃতিদের হাতে হত্যা হতে হলো ব...  Negative   \n",
       "5878  ঘুমের জন্য প্রস্তুত কিন্তু ঘুমের সমস্যা হচ্ছে ...  Positive   \n",
       "5879  আজি ঝরো ঝরো মুখর বাদলদিনে জানি নে , জানি নে কি...  Negative   \n",
       "\n",
       "                                                cleaned  ReviewLength  \n",
       "0     দেশে মানুষের মৃত্যুর খবর শুনে মন্ত্রী মহোদয় হ...            40  \n",
       "1     জনগণের ভোট চুরি ক্ষমতায় আসা ওই নিয়ত আমাদের ন...            28  \n",
       "2     নিকোটিনের ধোয়ায় সময় কাটে রাতে রাতটা দিন দিন...             9  \n",
       "3       সবথেকে বড় যুদ্ধ হলো নিজের মনের সাথে যুদ্ধ আবেগ             9  \n",
       "4     সিটিতেই ভোট হিসেব হয়নি যা হচ্ছে হাসিনার ইচ্ছে...            35  \n",
       "...                                                 ...           ...  \n",
       "5875  সুন্দর দু টি বাক্য জ্ঞানী হও তবে অহংকারী হইও ন...            18  \n",
       "5876                 বুঝতে পারছি না হৃদয় ভাঙার মানে বল             7  \n",
       "5877  আবারও তৃণমূলী দুস্কৃতিদের হাতে হত্যা হতে হলো ব...            23  \n",
       "5878  ঘুমের প্রস্তুত কিন্তু ঘুমের সমস্যা হচ্ছে নামই ...             8  \n",
       "5879  আজি ঝরো ঝরো মুখর বাদলদিনে জানি নে জানি নে কিছু...            26  \n",
       "\n",
       "[5880 rows x 4 columns]"
      ]
     },
     "execution_count": 326,
     "metadata": {},
     "output_type": "execute_result"
    }
   ],
   "source": [
    "data"
   ]
  },
  {
   "cell_type": "code",
   "execution_count": null,
   "metadata": {},
   "outputs": [],
   "source": []
  },
  {
   "cell_type": "markdown",
   "metadata": {},
   "source": [
    "## ML Model Development Using Unigram Feature"
   ]
  },
  {
   "cell_type": "markdown",
   "metadata": {},
   "source": [
    "### Unigram Tf-idf Feature Extraction, Label Encoding and Splitting"
   ]
  },
  {
   "cell_type": "code",
   "execution_count": 329,
   "metadata": {},
   "outputs": [],
   "source": [
    "from utils import label_encoding,dataset_split\n",
    "from utils import calc_unigram_tfidf\n",
    "\n",
    "# calculate the Unigram Tf-idf feature\n",
    "cv,feature_vector = calc_unigram_tfidf(data.cleaned) \n",
    "# Encode the labels\n",
    "lables = label_encoding(data.Sentiment,False)\n",
    "# Split the Feature into train and test set\n",
    "#X_train,X_test,y_train,y_test = dataset_split(feature_space=feature_vector,sentiment=lables)\n",
    "#X_train,X_test,y_train,y_test = dataset_split(test_size=0.3,feature_space=feature_vector,sentiment=lables)\n",
    "X = data.drop('Sentiment', axis=1)\n",
    "y = data['Sentiment']\n",
    "\n",
    "# Spliting train & test\n",
    "X_train, X_test, y_train, y_test = train_test_split(feature_vector, lables, \n",
    "                                                    test_size=0.3, \n",
    "                                                    random_state=70,\n",
    "                                                    shuffle=True)\n"
   ]
  },
  {
   "cell_type": "markdown",
   "metadata": {},
   "source": [
    "### Model Defination"
   ]
  },
  {
   "cell_type": "code",
   "execution_count": 330,
   "metadata": {},
   "outputs": [
    {
     "name": "stderr",
     "output_type": "stream",
     "text": [
      "C:\\Users\\user\\anaconda3\\lib\\site-packages\\sklearn\\linear_model\\_stochastic_gradient.py:574: ConvergenceWarning: Maximum number of iteration reached before convergence. Consider increasing max_iter to improve the fit.\n",
      "  warnings.warn(\"Maximum number of iteration reached before \"\n"
     ]
    }
   ],
   "source": [
    "from utils import model_performace,ml_models_for_unigram_tfidf\n",
    "\n",
    "## classifiers defination\n",
    "ml_models,model_names = ml_models_for_unigram_tfidf() \n",
    "\n",
    "# call model accuracy function and save the metrices into a dictionary\n",
    "accuracy = {f'{model_names[i]}':model_performace(model,X_train,X_test,y_train,y_test) for i,model in enumerate(ml_models)}\n",
    "# Save the performance parameter into json file\n",
    "with open('ml_performance_unigram.json', 'w') as f:\n",
    "    json.dump(accuracy, f)\n"
   ]
  },
  {
   "cell_type": "markdown",
   "metadata": {},
   "source": [
    "### Performance Table  "
   ]
  },
  {
   "cell_type": "code",
   "execution_count": 333,
   "metadata": {},
   "outputs": [
    {
     "data": {
      "text/html": [
       "<div>\n",
       "<style scoped>\n",
       "    .dataframe tbody tr th:only-of-type {\n",
       "        vertical-align: middle;\n",
       "    }\n",
       "\n",
       "    .dataframe tbody tr th {\n",
       "        vertical-align: top;\n",
       "    }\n",
       "\n",
       "    .dataframe thead th {\n",
       "        text-align: right;\n",
       "    }\n",
       "</style>\n",
       "<table border=\"1\" class=\"dataframe\">\n",
       "  <thead>\n",
       "    <tr style=\"text-align: right;\">\n",
       "      <th></th>\n",
       "      <th>Accuracy</th>\n",
       "      <th>Precision</th>\n",
       "      <th>Recall</th>\n",
       "      <th>F1 Score</th>\n",
       "    </tr>\n",
       "  </thead>\n",
       "  <tbody>\n",
       "    <tr>\n",
       "      <th>LR</th>\n",
       "      <td>98.75</td>\n",
       "      <td>99.09</td>\n",
       "      <td>98.42</td>\n",
       "      <td>98.76</td>\n",
       "    </tr>\n",
       "    <tr>\n",
       "      <th>DT</th>\n",
       "      <td>99.72</td>\n",
       "      <td>100.00</td>\n",
       "      <td>99.44</td>\n",
       "      <td>99.72</td>\n",
       "    </tr>\n",
       "    <tr>\n",
       "      <th>RF</th>\n",
       "      <td>100.00</td>\n",
       "      <td>100.00</td>\n",
       "      <td>100.00</td>\n",
       "      <td>100.00</td>\n",
       "    </tr>\n",
       "    <tr>\n",
       "      <th>MNB</th>\n",
       "      <td>99.09</td>\n",
       "      <td>98.23</td>\n",
       "      <td>100.00</td>\n",
       "      <td>99.11</td>\n",
       "    </tr>\n",
       "    <tr>\n",
       "      <th>KNN</th>\n",
       "      <td>97.05</td>\n",
       "      <td>97.72</td>\n",
       "      <td>96.40</td>\n",
       "      <td>97.05</td>\n",
       "    </tr>\n",
       "    <tr>\n",
       "      <th>Linear SVM</th>\n",
       "      <td>95.24</td>\n",
       "      <td>95.07</td>\n",
       "      <td>95.50</td>\n",
       "      <td>95.28</td>\n",
       "    </tr>\n",
       "    <tr>\n",
       "      <th>RBF SVM</th>\n",
       "      <td>96.60</td>\n",
       "      <td>96.10</td>\n",
       "      <td>97.18</td>\n",
       "      <td>96.64</td>\n",
       "    </tr>\n",
       "    <tr>\n",
       "      <th>SGD</th>\n",
       "      <td>99.66</td>\n",
       "      <td>99.33</td>\n",
       "      <td>100.00</td>\n",
       "      <td>99.66</td>\n",
       "    </tr>\n",
       "  </tbody>\n",
       "</table>\n",
       "</div>"
      ],
      "text/plain": [
       "            Accuracy  Precision  Recall  F1 Score\n",
       "LR             98.75      99.09   98.42     98.76\n",
       "DT             99.72     100.00   99.44     99.72\n",
       "RF            100.00     100.00  100.00    100.00\n",
       "MNB            99.09      98.23  100.00     99.11\n",
       "KNN            97.05      97.72   96.40     97.05\n",
       "Linear SVM     95.24      95.07   95.50     95.28\n",
       "RBF SVM        96.60      96.10   97.18     96.64\n",
       "SGD            99.66      99.33  100.00     99.66"
      ]
     },
     "execution_count": 333,
     "metadata": {},
     "output_type": "execute_result"
    }
   ],
   "source": [
    "from utils import performance_table\n",
    "\n",
    "# Load the json file\n",
    "accuracy = json.load(open('ml_performance_unigram.json'))\n",
    "table = performance_table(accuracy)\n",
    "table"
   ]
  },
  {
   "cell_type": "code",
   "execution_count": 334,
   "metadata": {},
   "outputs": [
    {
     "name": "stdout",
     "output_type": "stream",
     "text": [
      "Highest Accuracy achieved by RF at = 100.0\n",
      "Highest F1-Score achieved by RF at = 100.0\n",
      "Highest Precision Score achieved by DT at = 100.0\n",
      "Highest Recall Score achieved by RF at = 100.0\n"
     ]
    }
   ],
   "source": [
    "print(f\"Highest Accuracy achieved by {table.Accuracy.idxmax(axis = 0)} at = {max(table.Accuracy)}\")\n",
    "print(f\"Highest F1-Score achieved by {table['F1 Score'].idxmax(axis = 0)} at = {max(table['F1 Score'] )}\")\n",
    "print(f\"Highest Precision Score achieved by {table['Precision'].idxmax(axis = 0)} at = {max(table['Precision'] )}\")\n",
    "print(f\"Highest Recall Score achieved by {table['Recall'].idxmax(axis = 0)} at = {max(table['Recall'] )}\")\n"
   ]
  },
  {
   "cell_type": "markdown",
   "metadata": {},
   "source": [
    "### ROC Curve"
   ]
  },
  {
   "cell_type": "code",
   "execution_count": 335,
   "metadata": {},
   "outputs": [
    {
     "name": "stderr",
     "output_type": "stream",
     "text": [
      "C:\\Users\\user\\anaconda3\\lib\\site-packages\\sklearn\\linear_model\\_stochastic_gradient.py:574: ConvergenceWarning: Maximum number of iteration reached before convergence. Consider increasing max_iter to improve the fit.\n",
      "  warnings.warn(\"Maximum number of iteration reached before \"\n"
     ]
    },
    {
     "data": {
      "image/png": "[encoded data removed]",
      "text/plain": [
       "<Figure size 576x432 with 1 Axes>"
      ]
     },
     "metadata": {
      "needs_background": "light"
     },
     "output_type": "display_data"
    }
   ],
   "source": [
    "from utils import plot_roc_curve,ml_models_for_unigram_tfidf\n",
    "## classifiers defination\n",
    "gram_models = ml_models_for_unigram_tfidf() \n",
    "\n",
    "plot_roc_curve(gram_models,X_train,X_test,y_train,y_test,'Unigram')"
   ]
  },
  {
   "cell_type": "markdown",
   "metadata": {},
   "source": [
    "### Precision-Recall Curve"
   ]
  },
  {
   "cell_type": "code",
   "execution_count": 336,
   "metadata": {},
   "outputs": [
    {
     "name": "stderr",
     "output_type": "stream",
     "text": [
      "C:\\Users\\user\\anaconda3\\lib\\site-packages\\sklearn\\linear_model\\_stochastic_gradient.py:574: ConvergenceWarning: Maximum number of iteration reached before convergence. Consider increasing max_iter to improve the fit.\n",
      "  warnings.warn(\"Maximum number of iteration reached before \"\n"
     ]
    },
    {
     "data": {
      "image/png": "[encoded data removed]",
      "text/plain": [
       "<Figure size 576x432 with 1 Axes>"
      ]
     },
     "metadata": {
      "needs_background": "light"
     },
     "output_type": "display_data"
    }
   ],
   "source": [
    "from utils import plot_PR_curve,ml_models_for_unigram_tfidf\n",
    "\n",
    "gram_models = ml_models_for_unigram_tfidf()\n",
    "\n",
    "plot_PR_curve(gram_models,X_train,X_test,y_train,y_test,'Unigram')"
   ]
  },
  {
   "cell_type": "markdown",
   "metadata": {},
   "source": [
    "## Model Development Using Bigram Feature"
   ]
  },
  {
   "cell_type": "markdown",
   "metadata": {},
   "source": [
    "### Bi-gram Tf-idf Feature Extraction, Label Encoding and Splitting"
   ]
  },
  {
   "cell_type": "code",
   "execution_count": 337,
   "metadata": {},
   "outputs": [],
   "source": [
    "from utils import label_encoding,dataset_split\n",
    "from utils import calc_bigram_tfidf\n",
    "\n",
    "# calculate the Bigram Tf-idf feature\n",
    "cv,feature_vector = calc_bigram_tfidf(data.cleaned) \n",
    "# Encode the labels\n",
    "lables = label_encoding(data.Sentiment,False)\n",
    "# Split the Feature into train and test set\n",
    "#X_train,X_test,y_train,y_test = dataset_split(feature_space=feature_vector,sentiment=lables)\n",
    "X_train, X_test, y_train, y_test = train_test_split(feature_vector, lables, \n",
    "                                                    test_size=0.3, \n",
    "                                                    random_state=70,\n",
    "                                                    shuffle=True)\n"
   ]
  },
  {
   "cell_type": "markdown",
   "metadata": {},
   "source": [
    "### Model Defination"
   ]
  },
  {
   "cell_type": "code",
   "execution_count": 338,
   "metadata": {},
   "outputs": [
    {
     "name": "stderr",
     "output_type": "stream",
     "text": [
      "C:\\Users\\user\\anaconda3\\lib\\site-packages\\sklearn\\linear_model\\_stochastic_gradient.py:574: ConvergenceWarning: Maximum number of iteration reached before convergence. Consider increasing max_iter to improve the fit.\n",
      "  warnings.warn(\"Maximum number of iteration reached before \"\n"
     ]
    }
   ],
   "source": [
    "from utils import model_performace,ml_models_for_bigram_tfidf\n",
    "                \n",
    "# Classifiers Defination\n",
    "ml_models,model_names = ml_models_for_bigram_tfidf() \n",
    "\n",
    "# call model accuracy function and save the metrices into a dictionary\n",
    "accuracy = {f'{model_names[i]}':model_performace(model,X_train,X_test,y_train,y_test) for i,model in enumerate(ml_models)}\n",
    "# Save the performance parameter into json file\n",
    "with open('ml_performance_bigram.json', 'w') as f:\n",
    "    json.dump(accuracy, f)\n"
   ]
  },
  {
   "cell_type": "markdown",
   "metadata": {},
   "source": [
    "### Performance Table"
   ]
  },
  {
   "cell_type": "code",
   "execution_count": 339,
   "metadata": {},
   "outputs": [
    {
     "data": {
      "text/html": [
       "<div>\n",
       "<style scoped>\n",
       "    .dataframe tbody tr th:only-of-type {\n",
       "        vertical-align: middle;\n",
       "    }\n",
       "\n",
       "    .dataframe tbody tr th {\n",
       "        vertical-align: top;\n",
       "    }\n",
       "\n",
       "    .dataframe thead th {\n",
       "        text-align: right;\n",
       "    }\n",
       "</style>\n",
       "<table border=\"1\" class=\"dataframe\">\n",
       "  <thead>\n",
       "    <tr style=\"text-align: right;\">\n",
       "      <th></th>\n",
       "      <th>Accuracy</th>\n",
       "      <th>Precision</th>\n",
       "      <th>Recall</th>\n",
       "      <th>F1 Score</th>\n",
       "    </tr>\n",
       "  </thead>\n",
       "  <tbody>\n",
       "    <tr>\n",
       "      <th>LR</th>\n",
       "      <td>99.94</td>\n",
       "      <td>99.89</td>\n",
       "      <td>100.00</td>\n",
       "      <td>99.94</td>\n",
       "    </tr>\n",
       "    <tr>\n",
       "      <th>DT</th>\n",
       "      <td>99.43</td>\n",
       "      <td>99.44</td>\n",
       "      <td>99.44</td>\n",
       "      <td>99.44</td>\n",
       "    </tr>\n",
       "    <tr>\n",
       "      <th>RF</th>\n",
       "      <td>100.00</td>\n",
       "      <td>100.00</td>\n",
       "      <td>100.00</td>\n",
       "      <td>100.00</td>\n",
       "    </tr>\n",
       "    <tr>\n",
       "      <th>MNB</th>\n",
       "      <td>99.43</td>\n",
       "      <td>99.44</td>\n",
       "      <td>99.44</td>\n",
       "      <td>99.44</td>\n",
       "    </tr>\n",
       "    <tr>\n",
       "      <th>KNN</th>\n",
       "      <td>98.64</td>\n",
       "      <td>100.00</td>\n",
       "      <td>97.30</td>\n",
       "      <td>98.63</td>\n",
       "    </tr>\n",
       "    <tr>\n",
       "      <th>Linear SVM</th>\n",
       "      <td>99.72</td>\n",
       "      <td>99.89</td>\n",
       "      <td>99.55</td>\n",
       "      <td>99.72</td>\n",
       "    </tr>\n",
       "    <tr>\n",
       "      <th>RBF SVM</th>\n",
       "      <td>99.72</td>\n",
       "      <td>99.89</td>\n",
       "      <td>99.55</td>\n",
       "      <td>99.72</td>\n",
       "    </tr>\n",
       "    <tr>\n",
       "      <th>SGD</th>\n",
       "      <td>100.00</td>\n",
       "      <td>100.00</td>\n",
       "      <td>100.00</td>\n",
       "      <td>100.00</td>\n",
       "    </tr>\n",
       "  </tbody>\n",
       "</table>\n",
       "</div>"
      ],
      "text/plain": [
       "            Accuracy  Precision  Recall  F1 Score\n",
       "LR             99.94      99.89  100.00     99.94\n",
       "DT             99.43      99.44   99.44     99.44\n",
       "RF            100.00     100.00  100.00    100.00\n",
       "MNB            99.43      99.44   99.44     99.44\n",
       "KNN            98.64     100.00   97.30     98.63\n",
       "Linear SVM     99.72      99.89   99.55     99.72\n",
       "RBF SVM        99.72      99.89   99.55     99.72\n",
       "SGD           100.00     100.00  100.00    100.00"
      ]
     },
     "execution_count": 339,
     "metadata": {},
     "output_type": "execute_result"
    }
   ],
   "source": [
    "from utils import performance_table\n",
    "\n",
    "# Load the json file\n",
    "accuracy = json.load(open('ml_performance_bigram.json'))\n",
    "table = performance_table(accuracy)\n",
    "table"
   ]
  },
  {
   "cell_type": "code",
   "execution_count": 340,
   "metadata": {},
   "outputs": [
    {
     "name": "stdout",
     "output_type": "stream",
     "text": [
      "Highest Accuracy achieved by RF at = 100.0\n",
      "Highest F1-Score achieved by RF at = 100.0\n",
      "Highest Precision Score achieved by RF at = 100.0\n",
      "Highest Recall Score achieved by LR at = 100.0\n"
     ]
    }
   ],
   "source": [
    "print(f\"Highest Accuracy achieved by {table.Accuracy.idxmax(axis = 0)} at = {max(table.Accuracy)}\")\n",
    "print(f\"Highest F1-Score achieved by {table['F1 Score'].idxmax(axis = 0)} at = {max(table['F1 Score'] )}\")\n",
    "print(f\"Highest Precision Score achieved by {table['Precision'].idxmax(axis = 0)} at = {max(table['Precision'] )}\")\n",
    "print(f\"Highest Recall Score achieved by {table['Recall'].idxmax(axis = 0)} at = {max(table['Recall'] )}\")\n"
   ]
  },
  {
   "cell_type": "markdown",
   "metadata": {},
   "source": [
    "### ROC Curve"
   ]
  },
  {
   "cell_type": "code",
   "execution_count": 341,
   "metadata": {},
   "outputs": [
    {
     "name": "stderr",
     "output_type": "stream",
     "text": [
      "C:\\Users\\user\\anaconda3\\lib\\site-packages\\sklearn\\linear_model\\_stochastic_gradient.py:574: ConvergenceWarning: Maximum number of iteration reached before convergence. Consider increasing max_iter to improve the fit.\n",
      "  warnings.warn(\"Maximum number of iteration reached before \"\n"
     ]
    },
    {
     "data": {
      "image/png": "[encoded data removed]",
      "text/plain": [
       "<Figure size 576x432 with 1 Axes>"
      ]
     },
     "metadata": {
      "needs_background": "light"
     },
     "output_type": "display_data"
    }
   ],
   "source": [
    "from utils import plot_roc_curve,ml_models_for_bigram_tfidf\n",
    "## classifiers defination\n",
    "gram_models = ml_models_for_bigram_tfidf()\n",
    "\n",
    "plot_roc_curve(gram_models,X_train,X_test,y_train,y_test,'Bigram')"
   ]
  },
  {
   "cell_type": "markdown",
   "metadata": {},
   "source": [
    "## Precision-Recall Curve"
   ]
  },
  {
   "cell_type": "code",
   "execution_count": 342,
   "metadata": {},
   "outputs": [
    {
     "name": "stderr",
     "output_type": "stream",
     "text": [
      "C:\\Users\\user\\anaconda3\\lib\\site-packages\\sklearn\\linear_model\\_stochastic_gradient.py:574: ConvergenceWarning: Maximum number of iteration reached before convergence. Consider increasing max_iter to improve the fit.\n",
      "  warnings.warn(\"Maximum number of iteration reached before \"\n"
     ]
    },
    {
     "data": {
      "image/png": "[encoded data removed]",
      "text/plain": [
       "<Figure size 576x432 with 1 Axes>"
      ]
     },
     "metadata": {
      "needs_background": "light"
     },
     "output_type": "display_data"
    }
   ],
   "source": [
    "from utils import plot_PR_curve,ml_models_for_bigram_tfidf\n",
    "## classifiers defination\n",
    "gram_models = ml_models_for_bigram_tfidf()\n",
    "\n",
    "plot_PR_curve(gram_models,X_train,X_test,y_train,y_test,'Bigram')"
   ]
  },
  {
   "cell_type": "markdown",
   "metadata": {},
   "source": [
    "## Model Development Using Tri-gram Feature"
   ]
  },
  {
   "cell_type": "markdown",
   "metadata": {},
   "source": [
    "### Tri-gram Tf-idf Feature Extraction, Label Encoding and Splitting"
   ]
  },
  {
   "cell_type": "code",
   "execution_count": 344,
   "metadata": {},
   "outputs": [],
   "source": [
    "from utils import label_encoding,dataset_split\n",
    "from utils import calc_trigram_tfidf\n",
    "\n",
    "# calculate the Tri-gram Tf-idf feature\n",
    "cv,feature_vector = calc_trigram_tfidf(data.cleaned) \n",
    "# Encode the labels\n",
    "lables = label_encoding(data.Sentiment,False)\n",
    "# Split the Feature into train and test set\n",
    "#X_train,X_test,y_train,y_test = dataset_split(feature_space=feature_vector,sentiment=lables)\n",
    "X_train, X_test, y_train, y_test = train_test_split(feature_vector, lables, \n",
    "                                                    test_size=0.3, \n",
    "                                                    random_state=70,\n",
    "                                                    shuffle=True)\n"
   ]
  },
  {
   "cell_type": "markdown",
   "metadata": {},
   "source": [
    "### Model Defination"
   ]
  },
  {
   "cell_type": "code",
   "execution_count": 345,
   "metadata": {},
   "outputs": [
    {
     "name": "stderr",
     "output_type": "stream",
     "text": [
      "C:\\Users\\user\\anaconda3\\lib\\site-packages\\sklearn\\linear_model\\_stochastic_gradient.py:574: ConvergenceWarning: Maximum number of iteration reached before convergence. Consider increasing max_iter to improve the fit.\n",
      "  warnings.warn(\"Maximum number of iteration reached before \"\n"
     ]
    }
   ],
   "source": [
    "from utils import model_performace,ml_models_for_trigram_tfidf\n",
    "            \n",
    "\n",
    "# Classifiers Defination\n",
    "ml_models,model_names = ml_models_for_trigram_tfidf()             \n",
    "\n",
    "# call model accuracy function and save the metrices into a dictionary\n",
    "accuracy = {f'{model_names[i]}':model_performace(model,X_train,X_test,y_train,y_test) for i,model in enumerate(ml_models)}\n",
    "# Save the performance parameter into json file\n",
    "with open('ml_performance_trigram.json', 'w') as f:\n",
    "    json.dump(accuracy, f)\n"
   ]
  },
  {
   "cell_type": "markdown",
   "metadata": {},
   "source": [
    "### Performance Table"
   ]
  },
  {
   "cell_type": "code",
   "execution_count": 346,
   "metadata": {},
   "outputs": [
    {
     "data": {
      "text/html": [
       "<div>\n",
       "<style scoped>\n",
       "    .dataframe tbody tr th:only-of-type {\n",
       "        vertical-align: middle;\n",
       "    }\n",
       "\n",
       "    .dataframe tbody tr th {\n",
       "        vertical-align: top;\n",
       "    }\n",
       "\n",
       "    .dataframe thead th {\n",
       "        text-align: right;\n",
       "    }\n",
       "</style>\n",
       "<table border=\"1\" class=\"dataframe\">\n",
       "  <thead>\n",
       "    <tr style=\"text-align: right;\">\n",
       "      <th></th>\n",
       "      <th>Accuracy</th>\n",
       "      <th>Precision</th>\n",
       "      <th>Recall</th>\n",
       "      <th>F1 Score</th>\n",
       "    </tr>\n",
       "  </thead>\n",
       "  <tbody>\n",
       "    <tr>\n",
       "      <th>LR</th>\n",
       "      <td>100.00</td>\n",
       "      <td>100.00</td>\n",
       "      <td>100.00</td>\n",
       "      <td>100.00</td>\n",
       "    </tr>\n",
       "    <tr>\n",
       "      <th>DT</th>\n",
       "      <td>99.43</td>\n",
       "      <td>99.44</td>\n",
       "      <td>99.44</td>\n",
       "      <td>99.44</td>\n",
       "    </tr>\n",
       "    <tr>\n",
       "      <th>RF</th>\n",
       "      <td>99.72</td>\n",
       "      <td>99.44</td>\n",
       "      <td>100.00</td>\n",
       "      <td>99.72</td>\n",
       "    </tr>\n",
       "    <tr>\n",
       "      <th>MNB</th>\n",
       "      <td>99.43</td>\n",
       "      <td>99.44</td>\n",
       "      <td>99.44</td>\n",
       "      <td>99.44</td>\n",
       "    </tr>\n",
       "    <tr>\n",
       "      <th>KNN</th>\n",
       "      <td>98.36</td>\n",
       "      <td>99.42</td>\n",
       "      <td>97.30</td>\n",
       "      <td>98.35</td>\n",
       "    </tr>\n",
       "    <tr>\n",
       "      <th>Linear SVM</th>\n",
       "      <td>99.94</td>\n",
       "      <td>99.89</td>\n",
       "      <td>100.00</td>\n",
       "      <td>99.94</td>\n",
       "    </tr>\n",
       "    <tr>\n",
       "      <th>RBF SVM</th>\n",
       "      <td>100.00</td>\n",
       "      <td>100.00</td>\n",
       "      <td>100.00</td>\n",
       "      <td>100.00</td>\n",
       "    </tr>\n",
       "    <tr>\n",
       "      <th>SGD</th>\n",
       "      <td>100.00</td>\n",
       "      <td>100.00</td>\n",
       "      <td>100.00</td>\n",
       "      <td>100.00</td>\n",
       "    </tr>\n",
       "  </tbody>\n",
       "</table>\n",
       "</div>"
      ],
      "text/plain": [
       "            Accuracy  Precision  Recall  F1 Score\n",
       "LR            100.00     100.00  100.00    100.00\n",
       "DT             99.43      99.44   99.44     99.44\n",
       "RF             99.72      99.44  100.00     99.72\n",
       "MNB            99.43      99.44   99.44     99.44\n",
       "KNN            98.36      99.42   97.30     98.35\n",
       "Linear SVM     99.94      99.89  100.00     99.94\n",
       "RBF SVM       100.00     100.00  100.00    100.00\n",
       "SGD           100.00     100.00  100.00    100.00"
      ]
     },
     "execution_count": 346,
     "metadata": {},
     "output_type": "execute_result"
    }
   ],
   "source": [
    "from utils import performance_table\n",
    "\n",
    "# Load the json file\n",
    "accuracy = json.load(open('ml_performance_trigram.json'))\n",
    "table = performance_table(accuracy)\n",
    "table\n"
   ]
  },
  {
   "cell_type": "code",
   "execution_count": 347,
   "metadata": {},
   "outputs": [
    {
     "name": "stdout",
     "output_type": "stream",
     "text": [
      "Highest Accuracy achieved by LR at = 100.0\n",
      "Highest F1-Score achieved by LR at = 100.0\n",
      "Highest Precision Score achieved by LR at = 100.0\n",
      "Highest Recall Score achieved by LR at = 100.0\n"
     ]
    }
   ],
   "source": [
    "print(f\"Highest Accuracy achieved by {table.Accuracy.idxmax(axis = 0)} at = {max(table.Accuracy)}\")\n",
    "print(f\"Highest F1-Score achieved by {table['F1 Score'].idxmax(axis = 0)} at = {max(table['F1 Score'] )}\")\n",
    "print(f\"Highest Precision Score achieved by {table['Precision'].idxmax(axis = 0)} at = {max(table['Precision'] )}\")\n",
    "print(f\"Highest Recall Score achieved by {table['Recall'].idxmax(axis = 0)} at = {max(table['Recall'] )}\")\n"
   ]
  },
  {
   "cell_type": "markdown",
   "metadata": {},
   "source": [
    "### ROC Curve"
   ]
  },
  {
   "cell_type": "code",
   "execution_count": 348,
   "metadata": {},
   "outputs": [
    {
     "name": "stderr",
     "output_type": "stream",
     "text": [
      "C:\\Users\\user\\anaconda3\\lib\\site-packages\\sklearn\\linear_model\\_stochastic_gradient.py:574: ConvergenceWarning: Maximum number of iteration reached before convergence. Consider increasing max_iter to improve the fit.\n",
      "  warnings.warn(\"Maximum number of iteration reached before \"\n"
     ]
    },
    {
     "data": {
      "image/png": "[encoded data removed]",
      "text/plain": [
       "<Figure size 576x432 with 1 Axes>"
      ]
     },
     "metadata": {
      "needs_background": "light"
     },
     "output_type": "display_data"
    }
   ],
   "source": [
    "from utils import plot_roc_curve,ml_models_for_trigram_tfidf\n",
    "## classifiers defination\n",
    "gram_models = ml_models_for_trigram_tfidf()\n",
    "\n",
    "plot_roc_curve(gram_models,X_train,X_test,y_train,y_test,'Trigram')"
   ]
  },
  {
   "cell_type": "markdown",
   "metadata": {},
   "source": [
    "### Precision-Recall"
   ]
  },
  {
   "cell_type": "code",
   "execution_count": 349,
   "metadata": {},
   "outputs": [
    {
     "name": "stderr",
     "output_type": "stream",
     "text": [
      "C:\\Users\\user\\anaconda3\\lib\\site-packages\\sklearn\\linear_model\\_stochastic_gradient.py:574: ConvergenceWarning: Maximum number of iteration reached before convergence. Consider increasing max_iter to improve the fit.\n",
      "  warnings.warn(\"Maximum number of iteration reached before \"\n"
     ]
    },
    {
     "data": {
      "image/png": "[encoded data removed]",
      "text/plain": [
       "<Figure size 576x432 with 1 Axes>"
      ]
     },
     "metadata": {
      "needs_background": "light"
     },
     "output_type": "display_data"
    }
   ],
   "source": [
    "from utils import plot_PR_curve,ml_models_for_trigram_tfidf\n",
    "## classifiers defination\n",
    "gram_models = ml_models_for_trigram_tfidf()\n",
    "\n",
    "plot_PR_curve(gram_models,X_train,X_test,y_train,y_test,'Trigram')"
   ]
  },
  {
   "cell_type": "markdown",
   "metadata": {},
   "source": [
    "## Final Model\n",
    "\n",
    "- Selected Feature: Unigram\n",
    "- Selected Model : Multinomial Naive Bayes"
   ]
  },
  {
   "cell_type": "code",
   "execution_count": 350,
   "metadata": {},
   "outputs": [],
   "source": [
    "from sklearn.naive_bayes import MultinomialNB\n",
    "\n",
    "from utils import label_encoding,dataset_split\n",
    "from utils import calc_unigram_tfidf\n",
    "\n",
    "# calculate the Unigram Tf-idf feature\n",
    "cv,feature_vector = calc_unigram_tfidf(data.cleaned) \n",
    "# Encode the labels\n",
    "lables = label_encoding(data.Sentiment,False)\n",
    "# Split the Feature into train and test set\n",
    "#X_train,X_test,y_train,y_test = dataset_split(feature_space=feature_vector,sentiment=lables)\n",
    "X_train, X_test, y_train, y_test = train_test_split(feature_vector, lables, \n",
    "                                                    test_size=0.3, \n",
    "                                                    random_state=70,\n",
    "                                                    shuffle=True)\n"
   ]
  },
  {
   "cell_type": "code",
   "execution_count": 351,
   "metadata": {},
   "outputs": [
    {
     "data": {
      "text/plain": [
       "99.09297052154194"
      ]
     },
     "execution_count": 351,
     "metadata": {},
     "output_type": "execute_result"
    }
   ],
   "source": [
    "from sklearn.metrics import accuracy_score\n",
    "mnb_model = MultinomialNB(alpha=0.15)\n",
    "mnb_model.fit(X_train,y_train) \n",
    "y_pred = mnb_model.predict(X_test)\n",
    "accuracy_score(y_true=y_test,y_pred=y_pred)*100"
   ]
  },
  {
   "cell_type": "markdown",
   "metadata": {},
   "source": [
    "### Saved the model for reuse again"
   ]
  },
  {
   "cell_type": "code",
   "execution_count": 354,
   "metadata": {},
   "outputs": [],
   "source": [
    "import pickle\n",
    "# open a file, where you ant to store the data\n",
    "file = open('book_review_mnb.pkl', 'wb')\n",
    "\n",
    "# dump information to that file\n",
    "pickle.dump(mnb_model, file)"
   ]
  },
  {
   "cell_type": "code",
   "execution_count": 355,
   "metadata": {},
   "outputs": [],
   "source": [
    "model = open('book_review_mnb.pkl','rb')\n",
    "nb = pickle.load(model)"
   ]
  },
  {
   "cell_type": "code",
   "execution_count": 356,
   "metadata": {},
   "outputs": [
    {
     "data": {
      "text/plain": [
       "0.9909297052154195"
      ]
     },
     "execution_count": 356,
     "metadata": {},
     "output_type": "execute_result"
    }
   ],
   "source": [
    "y_pred = nb.predict(X_test)\n",
    "accuracy_score(y_test,y_pred)"
   ]
  },
  {
   "cell_type": "markdown",
   "metadata": {},
   "source": [
    "## Check a Review Sentiment using our model"
   ]
  },
  {
   "cell_type": "code",
   "execution_count": 357,
   "metadata": {},
   "outputs": [
    {
     "name": "stdout",
     "output_type": "stream",
     "text": [
      "It is a Negative Review \n"
     ]
    }
   ],
   "source": [
    "# load the model\n",
    "model = open('book_review_mnb.pkl','rb')\n",
    "nb = pickle.load(model)\n",
    "######\n",
    "review = 'aaaasd asd asdasd asd'\n",
    "# Process the reviews\n",
    "processed_review = process_reviews(review,stopwords = stopwords_list,removing_stopwords = True)\n",
    "\n",
    "# calculate the Unigram Tf-idf feature\n",
    "cv,feature_vector = calc_unigram_tfidf(data.cleaned) \n",
    "feature = cv.transform([processed_review]).toarray()\n",
    "\n",
    "sentiment = nb.predict(feature)\n",
    "\n",
    "if (sentiment ==0):\n",
    "    print(f\"It is a Negative Review \")\n",
    "else:\n",
    "    print(f\"It is a Positive Review \")\n"
   ]
  },
  {
   "cell_type": "code",
   "execution_count": 358,
   "metadata": {},
   "outputs": [
    {
     "data": {
      "text/plain": [
       "50.0"
      ]
     },
     "execution_count": 358,
     "metadata": {},
     "output_type": "execute_result"
    }
   ],
   "source": [
    "sentiment = nb.predict_proba(feature)\n",
    "round(max(sentiment.reshape(-1)),2)*100"
   ]
  },
  {
   "cell_type": "code",
   "execution_count": 359,
   "metadata": {},
   "outputs": [
    {
     "data": {
      "text/plain": [
       "''"
      ]
     },
     "execution_count": 359,
     "metadata": {},
     "output_type": "execute_result"
    }
   ],
   "source": [
    "review = 'aaaasd asd asdasd asd'\n",
    "# Process the reviews\n",
    "processed_review = process_reviews(review,stopwords = stopwords_list,removing_stopwords = True)\n",
    "processed_review"
   ]
  },
  {
   "cell_type": "code",
   "execution_count": null,
   "metadata": {},
   "outputs": [],
   "source": []
  }
 ],
 "metadata": {
  "kernelspec": {
   "display_name": "Python 3 (ipykernel)",
   "language": "python",
   "name": "python3"
  },
  "language_info": {
   "codemirror_mode": {
    "name": "ipython",
    "version": 3
   },
   "file_extension": ".py",
   "mimetype": "text/x-python",
   "name": "python",
   "nbconvert_exporter": "python",
   "pygments_lexer": "ipython3",
   "version": "3.9.7"
  },
  "toc": {
   "base_numbering": 1,
   "nav_menu": {},
   "number_sections": true,
   "sideBar": true,
   "skip_h1_title": false,
   "title_cell": "Table of Contents",
   "title_sidebar": "Contents",
   "toc_cell": false,
   "toc_position": {},
   "toc_section_display": true,
   "toc_window_display": false
  }
 },
 "nbformat": 4,
 "nbformat_minor": 2
}
